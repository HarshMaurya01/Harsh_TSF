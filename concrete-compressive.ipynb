{
 "cells": [
  {
   "cell_type": "code",
   "execution_count": 1,
   "id": "alleged-print",
   "metadata": {
    "_cell_guid": "b1076dfc-b9ad-4769-8c92-a6c4dae69d19",
    "_uuid": "8f2839f25d086af736a60e9eeb907d3b93b6e0e5",
    "execution": {
     "iopub.execute_input": "2021-05-10T10:51:28.215972Z",
     "iopub.status.busy": "2021-05-10T10:51:28.215256Z",
     "iopub.status.idle": "2021-05-10T10:51:28.229243Z",
     "shell.execute_reply": "2021-05-10T10:51:28.228455Z"
    },
    "papermill": {
     "duration": 0.063507,
     "end_time": "2021-05-10T10:51:28.229444",
     "exception": false,
     "start_time": "2021-05-10T10:51:28.165937",
     "status": "completed"
    },
    "tags": []
   },
   "outputs": [
    {
     "name": "stdout",
     "output_type": "stream",
     "text": [
      "/kaggle/input/concrete-compressive-strength/Concrete Compressive Strength.csv\n"
     ]
    }
   ],
   "source": [
    "# This Python 3 environment comes with many helpful analytics libraries installed\n",
    "# It is defined by the kaggle/python Docker image: https://github.com/kaggle/docker-python\n",
    "# For example, here's several helpful packages to load\n",
    "\n",
    "import numpy as np # linear algebra\n",
    "import pandas as pd # data processing, CSV file I/O (e.g. pd.read_csv)\n",
    "\n",
    "# Input data files are available in the read-only \"../input/\" directory\n",
    "# For example, running this (by clicking run or pressing Shift+Enter) will list all files under the input directory\n",
    "\n",
    "import os\n",
    "for dirname, _, filenames in os.walk('/kaggle/input'):\n",
    "    for filename in filenames:\n",
    "        print(os.path.join(dirname, filename))\n",
    "\n",
    "# You can write up to 20GB to the current directory (/kaggle/working/) that gets preserved as output when you create a version using \"Save & Run All\" \n",
    "# You can also write temporary files to /kaggle/temp/, but they won't be saved outside of the current session"
   ]
  },
  {
   "cell_type": "code",
   "execution_count": 2,
   "id": "known-peripheral",
   "metadata": {
    "execution": {
     "iopub.execute_input": "2021-05-10T10:51:28.309237Z",
     "iopub.status.busy": "2021-05-10T10:51:28.308479Z",
     "iopub.status.idle": "2021-05-10T10:51:30.384066Z",
     "shell.execute_reply": "2021-05-10T10:51:30.383459Z"
    },
    "papermill": {
     "duration": 2.117815,
     "end_time": "2021-05-10T10:51:30.384231",
     "exception": false,
     "start_time": "2021-05-10T10:51:28.266416",
     "status": "completed"
    },
    "tags": []
   },
   "outputs": [],
   "source": [
    "import numpy as np\n",
    "import pandas as pd\n",
    "import matplotlib.pyplot as plt\n",
    "import seaborn as sns\n",
    "import statsmodels.api as sm"
   ]
  },
  {
   "cell_type": "code",
   "execution_count": 3,
   "id": "gross-wildlife",
   "metadata": {
    "execution": {
     "iopub.execute_input": "2021-05-10T10:51:30.464823Z",
     "iopub.status.busy": "2021-05-10T10:51:30.464140Z",
     "iopub.status.idle": "2021-05-10T10:51:30.485493Z",
     "shell.execute_reply": "2021-05-10T10:51:30.484268Z"
    },
    "papermill": {
     "duration": 0.0647,
     "end_time": "2021-05-10T10:51:30.485643",
     "exception": false,
     "start_time": "2021-05-10T10:51:30.420943",
     "status": "completed"
    },
    "tags": []
   },
   "outputs": [],
   "source": [
    "df = pd.read_csv('../input/concrete-compressive-strength/Concrete Compressive Strength.csv')"
   ]
  },
  {
   "cell_type": "code",
   "execution_count": 4,
   "id": "instrumental-colony",
   "metadata": {
    "execution": {
     "iopub.execute_input": "2021-05-10T10:51:30.575492Z",
     "iopub.status.busy": "2021-05-10T10:51:30.574438Z",
     "iopub.status.idle": "2021-05-10T10:51:30.603863Z",
     "shell.execute_reply": "2021-05-10T10:51:30.604367Z"
    },
    "papermill": {
     "duration": 0.082683,
     "end_time": "2021-05-10T10:51:30.604568",
     "exception": false,
     "start_time": "2021-05-10T10:51:30.521885",
     "status": "completed"
    },
    "tags": []
   },
   "outputs": [
    {
     "data": {
      "text/html": [
       "<div>\n",
       "<style scoped>\n",
       "    .dataframe tbody tr th:only-of-type {\n",
       "        vertical-align: middle;\n",
       "    }\n",
       "\n",
       "    .dataframe tbody tr th {\n",
       "        vertical-align: top;\n",
       "    }\n",
       "\n",
       "    .dataframe thead th {\n",
       "        text-align: right;\n",
       "    }\n",
       "</style>\n",
       "<table border=\"1\" class=\"dataframe\">\n",
       "  <thead>\n",
       "    <tr style=\"text-align: right;\">\n",
       "      <th></th>\n",
       "      <th>Cement (component 1)(kg in a m^3 mixture)</th>\n",
       "      <th>Blast Furnace Slag (component 2)(kg in a m^3 mixture)</th>\n",
       "      <th>Fly Ash (component 3)(kg in a m^3 mixture)</th>\n",
       "      <th>Water  (component 4)(kg in a m^3 mixture)</th>\n",
       "      <th>Superplasticizer (component 5)(kg in a m^3 mixture)</th>\n",
       "      <th>Coarse Aggregate  (component 6)(kg in a m^3 mixture)</th>\n",
       "      <th>Fine Aggregate (component 7)(kg in a m^3 mixture)</th>\n",
       "      <th>Age (day)</th>\n",
       "      <th>Concrete compressive strength(MPa, megapascals)</th>\n",
       "    </tr>\n",
       "  </thead>\n",
       "  <tbody>\n",
       "    <tr>\n",
       "      <th>0</th>\n",
       "      <td>540.0</td>\n",
       "      <td>0.0</td>\n",
       "      <td>0.0</td>\n",
       "      <td>162.0</td>\n",
       "      <td>2.5</td>\n",
       "      <td>1040.0</td>\n",
       "      <td>676.0</td>\n",
       "      <td>28</td>\n",
       "      <td>79.986111</td>\n",
       "    </tr>\n",
       "    <tr>\n",
       "      <th>1</th>\n",
       "      <td>540.0</td>\n",
       "      <td>0.0</td>\n",
       "      <td>0.0</td>\n",
       "      <td>162.0</td>\n",
       "      <td>2.5</td>\n",
       "      <td>1055.0</td>\n",
       "      <td>676.0</td>\n",
       "      <td>28</td>\n",
       "      <td>61.887366</td>\n",
       "    </tr>\n",
       "    <tr>\n",
       "      <th>2</th>\n",
       "      <td>332.5</td>\n",
       "      <td>142.5</td>\n",
       "      <td>0.0</td>\n",
       "      <td>228.0</td>\n",
       "      <td>0.0</td>\n",
       "      <td>932.0</td>\n",
       "      <td>594.0</td>\n",
       "      <td>270</td>\n",
       "      <td>40.269535</td>\n",
       "    </tr>\n",
       "    <tr>\n",
       "      <th>3</th>\n",
       "      <td>332.5</td>\n",
       "      <td>142.5</td>\n",
       "      <td>0.0</td>\n",
       "      <td>228.0</td>\n",
       "      <td>0.0</td>\n",
       "      <td>932.0</td>\n",
       "      <td>594.0</td>\n",
       "      <td>365</td>\n",
       "      <td>41.052780</td>\n",
       "    </tr>\n",
       "    <tr>\n",
       "      <th>4</th>\n",
       "      <td>198.6</td>\n",
       "      <td>132.4</td>\n",
       "      <td>0.0</td>\n",
       "      <td>192.0</td>\n",
       "      <td>0.0</td>\n",
       "      <td>978.4</td>\n",
       "      <td>825.5</td>\n",
       "      <td>360</td>\n",
       "      <td>44.296075</td>\n",
       "    </tr>\n",
       "    <tr>\n",
       "      <th>...</th>\n",
       "      <td>...</td>\n",
       "      <td>...</td>\n",
       "      <td>...</td>\n",
       "      <td>...</td>\n",
       "      <td>...</td>\n",
       "      <td>...</td>\n",
       "      <td>...</td>\n",
       "      <td>...</td>\n",
       "      <td>...</td>\n",
       "    </tr>\n",
       "    <tr>\n",
       "      <th>1025</th>\n",
       "      <td>276.4</td>\n",
       "      <td>116.0</td>\n",
       "      <td>90.3</td>\n",
       "      <td>179.6</td>\n",
       "      <td>8.9</td>\n",
       "      <td>870.1</td>\n",
       "      <td>768.3</td>\n",
       "      <td>28</td>\n",
       "      <td>44.284354</td>\n",
       "    </tr>\n",
       "    <tr>\n",
       "      <th>1026</th>\n",
       "      <td>322.2</td>\n",
       "      <td>0.0</td>\n",
       "      <td>115.6</td>\n",
       "      <td>196.0</td>\n",
       "      <td>10.4</td>\n",
       "      <td>817.9</td>\n",
       "      <td>813.4</td>\n",
       "      <td>28</td>\n",
       "      <td>31.178794</td>\n",
       "    </tr>\n",
       "    <tr>\n",
       "      <th>1027</th>\n",
       "      <td>148.5</td>\n",
       "      <td>139.4</td>\n",
       "      <td>108.6</td>\n",
       "      <td>192.7</td>\n",
       "      <td>6.1</td>\n",
       "      <td>892.4</td>\n",
       "      <td>780.0</td>\n",
       "      <td>28</td>\n",
       "      <td>23.696601</td>\n",
       "    </tr>\n",
       "    <tr>\n",
       "      <th>1028</th>\n",
       "      <td>159.1</td>\n",
       "      <td>186.7</td>\n",
       "      <td>0.0</td>\n",
       "      <td>175.6</td>\n",
       "      <td>11.3</td>\n",
       "      <td>989.6</td>\n",
       "      <td>788.9</td>\n",
       "      <td>28</td>\n",
       "      <td>32.768036</td>\n",
       "    </tr>\n",
       "    <tr>\n",
       "      <th>1029</th>\n",
       "      <td>260.9</td>\n",
       "      <td>100.5</td>\n",
       "      <td>78.3</td>\n",
       "      <td>200.6</td>\n",
       "      <td>8.6</td>\n",
       "      <td>864.5</td>\n",
       "      <td>761.5</td>\n",
       "      <td>28</td>\n",
       "      <td>32.401235</td>\n",
       "    </tr>\n",
       "  </tbody>\n",
       "</table>\n",
       "<p>1030 rows × 9 columns</p>\n",
       "</div>"
      ],
      "text/plain": [
       "      Cement (component 1)(kg in a m^3 mixture)  \\\n",
       "0                                         540.0   \n",
       "1                                         540.0   \n",
       "2                                         332.5   \n",
       "3                                         332.5   \n",
       "4                                         198.6   \n",
       "...                                         ...   \n",
       "1025                                      276.4   \n",
       "1026                                      322.2   \n",
       "1027                                      148.5   \n",
       "1028                                      159.1   \n",
       "1029                                      260.9   \n",
       "\n",
       "      Blast Furnace Slag (component 2)(kg in a m^3 mixture)  \\\n",
       "0                                                   0.0       \n",
       "1                                                   0.0       \n",
       "2                                                 142.5       \n",
       "3                                                 142.5       \n",
       "4                                                 132.4       \n",
       "...                                                 ...       \n",
       "1025                                              116.0       \n",
       "1026                                                0.0       \n",
       "1027                                              139.4       \n",
       "1028                                              186.7       \n",
       "1029                                              100.5       \n",
       "\n",
       "      Fly Ash (component 3)(kg in a m^3 mixture)  \\\n",
       "0                                            0.0   \n",
       "1                                            0.0   \n",
       "2                                            0.0   \n",
       "3                                            0.0   \n",
       "4                                            0.0   \n",
       "...                                          ...   \n",
       "1025                                        90.3   \n",
       "1026                                       115.6   \n",
       "1027                                       108.6   \n",
       "1028                                         0.0   \n",
       "1029                                        78.3   \n",
       "\n",
       "      Water  (component 4)(kg in a m^3 mixture)  \\\n",
       "0                                         162.0   \n",
       "1                                         162.0   \n",
       "2                                         228.0   \n",
       "3                                         228.0   \n",
       "4                                         192.0   \n",
       "...                                         ...   \n",
       "1025                                      179.6   \n",
       "1026                                      196.0   \n",
       "1027                                      192.7   \n",
       "1028                                      175.6   \n",
       "1029                                      200.6   \n",
       "\n",
       "      Superplasticizer (component 5)(kg in a m^3 mixture)  \\\n",
       "0                                                   2.5     \n",
       "1                                                   2.5     \n",
       "2                                                   0.0     \n",
       "3                                                   0.0     \n",
       "4                                                   0.0     \n",
       "...                                                 ...     \n",
       "1025                                                8.9     \n",
       "1026                                               10.4     \n",
       "1027                                                6.1     \n",
       "1028                                               11.3     \n",
       "1029                                                8.6     \n",
       "\n",
       "      Coarse Aggregate  (component 6)(kg in a m^3 mixture)  \\\n",
       "0                                                1040.0      \n",
       "1                                                1055.0      \n",
       "2                                                 932.0      \n",
       "3                                                 932.0      \n",
       "4                                                 978.4      \n",
       "...                                                 ...      \n",
       "1025                                              870.1      \n",
       "1026                                              817.9      \n",
       "1027                                              892.4      \n",
       "1028                                              989.6      \n",
       "1029                                              864.5      \n",
       "\n",
       "      Fine Aggregate (component 7)(kg in a m^3 mixture)  Age (day)  \\\n",
       "0                                                 676.0         28   \n",
       "1                                                 676.0         28   \n",
       "2                                                 594.0        270   \n",
       "3                                                 594.0        365   \n",
       "4                                                 825.5        360   \n",
       "...                                                 ...        ...   \n",
       "1025                                              768.3         28   \n",
       "1026                                              813.4         28   \n",
       "1027                                              780.0         28   \n",
       "1028                                              788.9         28   \n",
       "1029                                              761.5         28   \n",
       "\n",
       "      Concrete compressive strength(MPa, megapascals)   \n",
       "0                                            79.986111  \n",
       "1                                            61.887366  \n",
       "2                                            40.269535  \n",
       "3                                            41.052780  \n",
       "4                                            44.296075  \n",
       "...                                                ...  \n",
       "1025                                         44.284354  \n",
       "1026                                         31.178794  \n",
       "1027                                         23.696601  \n",
       "1028                                         32.768036  \n",
       "1029                                         32.401235  \n",
       "\n",
       "[1030 rows x 9 columns]"
      ]
     },
     "execution_count": 4,
     "metadata": {},
     "output_type": "execute_result"
    }
   ],
   "source": [
    "df"
   ]
  },
  {
   "cell_type": "code",
   "execution_count": 5,
   "id": "architectural-rocket",
   "metadata": {
    "execution": {
     "iopub.execute_input": "2021-05-10T10:51:30.683195Z",
     "iopub.status.busy": "2021-05-10T10:51:30.682197Z",
     "iopub.status.idle": "2021-05-10T10:51:30.704794Z",
     "shell.execute_reply": "2021-05-10T10:51:30.705767Z"
    },
    "papermill": {
     "duration": 0.064537,
     "end_time": "2021-05-10T10:51:30.706163",
     "exception": false,
     "start_time": "2021-05-10T10:51:30.641626",
     "status": "completed"
    },
    "tags": []
   },
   "outputs": [
    {
     "name": "stdout",
     "output_type": "stream",
     "text": [
      "<class 'pandas.core.frame.DataFrame'>\n",
      "RangeIndex: 1030 entries, 0 to 1029\n",
      "Data columns (total 9 columns):\n",
      " #   Column                                                 Non-Null Count  Dtype  \n",
      "---  ------                                                 --------------  -----  \n",
      " 0   Cement (component 1)(kg in a m^3 mixture)              1030 non-null   float64\n",
      " 1   Blast Furnace Slag (component 2)(kg in a m^3 mixture)  1030 non-null   float64\n",
      " 2   Fly Ash (component 3)(kg in a m^3 mixture)             1030 non-null   float64\n",
      " 3   Water  (component 4)(kg in a m^3 mixture)              1030 non-null   float64\n",
      " 4   Superplasticizer (component 5)(kg in a m^3 mixture)    1030 non-null   float64\n",
      " 5   Coarse Aggregate  (component 6)(kg in a m^3 mixture)   1030 non-null   float64\n",
      " 6   Fine Aggregate (component 7)(kg in a m^3 mixture)      1030 non-null   float64\n",
      " 7   Age (day)                                              1030 non-null   int64  \n",
      " 8   Concrete compressive strength(MPa, megapascals)        1030 non-null   float64\n",
      "dtypes: float64(8), int64(1)\n",
      "memory usage: 72.5 KB\n"
     ]
    }
   ],
   "source": [
    "df.info()"
   ]
  },
  {
   "cell_type": "code",
   "execution_count": 6,
   "id": "humanitarian-palestine",
   "metadata": {
    "execution": {
     "iopub.execute_input": "2021-05-10T10:51:30.791776Z",
     "iopub.status.busy": "2021-05-10T10:51:30.790844Z",
     "iopub.status.idle": "2021-05-10T10:51:30.795583Z",
     "shell.execute_reply": "2021-05-10T10:51:30.795029Z"
    },
    "papermill": {
     "duration": 0.051169,
     "end_time": "2021-05-10T10:51:30.795721",
     "exception": false,
     "start_time": "2021-05-10T10:51:30.744552",
     "status": "completed"
    },
    "tags": []
   },
   "outputs": [
    {
     "data": {
      "text/plain": [
       "Cement (component 1)(kg in a m^3 mixture)                0\n",
       "Blast Furnace Slag (component 2)(kg in a m^3 mixture)    0\n",
       "Fly Ash (component 3)(kg in a m^3 mixture)               0\n",
       "Water  (component 4)(kg in a m^3 mixture)                0\n",
       "Superplasticizer (component 5)(kg in a m^3 mixture)      0\n",
       "Coarse Aggregate  (component 6)(kg in a m^3 mixture)     0\n",
       "Fine Aggregate (component 7)(kg in a m^3 mixture)        0\n",
       "Age (day)                                                0\n",
       "Concrete compressive strength(MPa, megapascals)          0\n",
       "dtype: int64"
      ]
     },
     "execution_count": 6,
     "metadata": {},
     "output_type": "execute_result"
    }
   ],
   "source": [
    "df.isnull().sum()"
   ]
  },
  {
   "cell_type": "code",
   "execution_count": 7,
   "id": "popular-processor",
   "metadata": {
    "execution": {
     "iopub.execute_input": "2021-05-10T10:51:30.883483Z",
     "iopub.status.busy": "2021-05-10T10:51:30.882768Z",
     "iopub.status.idle": "2021-05-10T10:51:30.925065Z",
     "shell.execute_reply": "2021-05-10T10:51:30.924374Z"
    },
    "papermill": {
     "duration": 0.090736,
     "end_time": "2021-05-10T10:51:30.925223",
     "exception": false,
     "start_time": "2021-05-10T10:51:30.834487",
     "status": "completed"
    },
    "tags": []
   },
   "outputs": [
    {
     "data": {
      "text/html": [
       "<div>\n",
       "<style scoped>\n",
       "    .dataframe tbody tr th:only-of-type {\n",
       "        vertical-align: middle;\n",
       "    }\n",
       "\n",
       "    .dataframe tbody tr th {\n",
       "        vertical-align: top;\n",
       "    }\n",
       "\n",
       "    .dataframe thead th {\n",
       "        text-align: right;\n",
       "    }\n",
       "</style>\n",
       "<table border=\"1\" class=\"dataframe\">\n",
       "  <thead>\n",
       "    <tr style=\"text-align: right;\">\n",
       "      <th></th>\n",
       "      <th>Cement (component 1)(kg in a m^3 mixture)</th>\n",
       "      <th>Blast Furnace Slag (component 2)(kg in a m^3 mixture)</th>\n",
       "      <th>Fly Ash (component 3)(kg in a m^3 mixture)</th>\n",
       "      <th>Water  (component 4)(kg in a m^3 mixture)</th>\n",
       "      <th>Superplasticizer (component 5)(kg in a m^3 mixture)</th>\n",
       "      <th>Coarse Aggregate  (component 6)(kg in a m^3 mixture)</th>\n",
       "      <th>Fine Aggregate (component 7)(kg in a m^3 mixture)</th>\n",
       "      <th>Age (day)</th>\n",
       "      <th>Concrete compressive strength(MPa, megapascals)</th>\n",
       "    </tr>\n",
       "  </thead>\n",
       "  <tbody>\n",
       "    <tr>\n",
       "      <th>count</th>\n",
       "      <td>1030.000000</td>\n",
       "      <td>1030.000000</td>\n",
       "      <td>1030.000000</td>\n",
       "      <td>1030.000000</td>\n",
       "      <td>1030.000000</td>\n",
       "      <td>1030.000000</td>\n",
       "      <td>1030.000000</td>\n",
       "      <td>1030.000000</td>\n",
       "      <td>1030.000000</td>\n",
       "    </tr>\n",
       "    <tr>\n",
       "      <th>mean</th>\n",
       "      <td>281.165631</td>\n",
       "      <td>73.895485</td>\n",
       "      <td>54.187136</td>\n",
       "      <td>181.566359</td>\n",
       "      <td>6.203112</td>\n",
       "      <td>972.918592</td>\n",
       "      <td>773.578883</td>\n",
       "      <td>45.662136</td>\n",
       "      <td>35.817836</td>\n",
       "    </tr>\n",
       "    <tr>\n",
       "      <th>std</th>\n",
       "      <td>104.507142</td>\n",
       "      <td>86.279104</td>\n",
       "      <td>63.996469</td>\n",
       "      <td>21.355567</td>\n",
       "      <td>5.973492</td>\n",
       "      <td>77.753818</td>\n",
       "      <td>80.175427</td>\n",
       "      <td>63.169912</td>\n",
       "      <td>16.705679</td>\n",
       "    </tr>\n",
       "    <tr>\n",
       "      <th>min</th>\n",
       "      <td>102.000000</td>\n",
       "      <td>0.000000</td>\n",
       "      <td>0.000000</td>\n",
       "      <td>121.750000</td>\n",
       "      <td>0.000000</td>\n",
       "      <td>801.000000</td>\n",
       "      <td>594.000000</td>\n",
       "      <td>1.000000</td>\n",
       "      <td>2.331808</td>\n",
       "    </tr>\n",
       "    <tr>\n",
       "      <th>25%</th>\n",
       "      <td>192.375000</td>\n",
       "      <td>0.000000</td>\n",
       "      <td>0.000000</td>\n",
       "      <td>164.900000</td>\n",
       "      <td>0.000000</td>\n",
       "      <td>932.000000</td>\n",
       "      <td>730.950000</td>\n",
       "      <td>7.000000</td>\n",
       "      <td>23.707115</td>\n",
       "    </tr>\n",
       "    <tr>\n",
       "      <th>50%</th>\n",
       "      <td>272.900000</td>\n",
       "      <td>22.000000</td>\n",
       "      <td>0.000000</td>\n",
       "      <td>185.000000</td>\n",
       "      <td>6.350000</td>\n",
       "      <td>968.000000</td>\n",
       "      <td>779.510000</td>\n",
       "      <td>28.000000</td>\n",
       "      <td>34.442774</td>\n",
       "    </tr>\n",
       "    <tr>\n",
       "      <th>75%</th>\n",
       "      <td>350.000000</td>\n",
       "      <td>142.950000</td>\n",
       "      <td>118.270000</td>\n",
       "      <td>192.000000</td>\n",
       "      <td>10.160000</td>\n",
       "      <td>1029.400000</td>\n",
       "      <td>824.000000</td>\n",
       "      <td>56.000000</td>\n",
       "      <td>46.136287</td>\n",
       "    </tr>\n",
       "    <tr>\n",
       "      <th>max</th>\n",
       "      <td>540.000000</td>\n",
       "      <td>359.400000</td>\n",
       "      <td>200.100000</td>\n",
       "      <td>247.000000</td>\n",
       "      <td>32.200000</td>\n",
       "      <td>1145.000000</td>\n",
       "      <td>992.600000</td>\n",
       "      <td>365.000000</td>\n",
       "      <td>82.599225</td>\n",
       "    </tr>\n",
       "  </tbody>\n",
       "</table>\n",
       "</div>"
      ],
      "text/plain": [
       "       Cement (component 1)(kg in a m^3 mixture)  \\\n",
       "count                                1030.000000   \n",
       "mean                                  281.165631   \n",
       "std                                   104.507142   \n",
       "min                                   102.000000   \n",
       "25%                                   192.375000   \n",
       "50%                                   272.900000   \n",
       "75%                                   350.000000   \n",
       "max                                   540.000000   \n",
       "\n",
       "       Blast Furnace Slag (component 2)(kg in a m^3 mixture)  \\\n",
       "count                                        1030.000000       \n",
       "mean                                           73.895485       \n",
       "std                                            86.279104       \n",
       "min                                             0.000000       \n",
       "25%                                             0.000000       \n",
       "50%                                            22.000000       \n",
       "75%                                           142.950000       \n",
       "max                                           359.400000       \n",
       "\n",
       "       Fly Ash (component 3)(kg in a m^3 mixture)  \\\n",
       "count                                 1030.000000   \n",
       "mean                                    54.187136   \n",
       "std                                     63.996469   \n",
       "min                                      0.000000   \n",
       "25%                                      0.000000   \n",
       "50%                                      0.000000   \n",
       "75%                                    118.270000   \n",
       "max                                    200.100000   \n",
       "\n",
       "       Water  (component 4)(kg in a m^3 mixture)  \\\n",
       "count                                1030.000000   \n",
       "mean                                  181.566359   \n",
       "std                                    21.355567   \n",
       "min                                   121.750000   \n",
       "25%                                   164.900000   \n",
       "50%                                   185.000000   \n",
       "75%                                   192.000000   \n",
       "max                                   247.000000   \n",
       "\n",
       "       Superplasticizer (component 5)(kg in a m^3 mixture)  \\\n",
       "count                                        1030.000000     \n",
       "mean                                            6.203112     \n",
       "std                                             5.973492     \n",
       "min                                             0.000000     \n",
       "25%                                             0.000000     \n",
       "50%                                             6.350000     \n",
       "75%                                            10.160000     \n",
       "max                                            32.200000     \n",
       "\n",
       "       Coarse Aggregate  (component 6)(kg in a m^3 mixture)  \\\n",
       "count                                        1030.000000      \n",
       "mean                                          972.918592      \n",
       "std                                            77.753818      \n",
       "min                                           801.000000      \n",
       "25%                                           932.000000      \n",
       "50%                                           968.000000      \n",
       "75%                                          1029.400000      \n",
       "max                                          1145.000000      \n",
       "\n",
       "       Fine Aggregate (component 7)(kg in a m^3 mixture)    Age (day)  \\\n",
       "count                                        1030.000000  1030.000000   \n",
       "mean                                          773.578883    45.662136   \n",
       "std                                            80.175427    63.169912   \n",
       "min                                           594.000000     1.000000   \n",
       "25%                                           730.950000     7.000000   \n",
       "50%                                           779.510000    28.000000   \n",
       "75%                                           824.000000    56.000000   \n",
       "max                                           992.600000   365.000000   \n",
       "\n",
       "       Concrete compressive strength(MPa, megapascals)   \n",
       "count                                       1030.000000  \n",
       "mean                                          35.817836  \n",
       "std                                           16.705679  \n",
       "min                                            2.331808  \n",
       "25%                                           23.707115  \n",
       "50%                                           34.442774  \n",
       "75%                                           46.136287  \n",
       "max                                           82.599225  "
      ]
     },
     "execution_count": 7,
     "metadata": {},
     "output_type": "execute_result"
    }
   ],
   "source": [
    "df.describe()"
   ]
  },
  {
   "cell_type": "code",
   "execution_count": 8,
   "id": "coordinate-apparatus",
   "metadata": {
    "execution": {
     "iopub.execute_input": "2021-05-10T10:51:31.011109Z",
     "iopub.status.busy": "2021-05-10T10:51:31.010179Z",
     "iopub.status.idle": "2021-05-10T10:51:31.015480Z",
     "shell.execute_reply": "2021-05-10T10:51:31.014913Z"
    },
    "papermill": {
     "duration": 0.050738,
     "end_time": "2021-05-10T10:51:31.015622",
     "exception": false,
     "start_time": "2021-05-10T10:51:30.964884",
     "status": "completed"
    },
    "tags": []
   },
   "outputs": [
    {
     "data": {
      "text/plain": [
       "Index(['Cement (component 1)(kg in a m^3 mixture)',\n",
       "       'Blast Furnace Slag (component 2)(kg in a m^3 mixture)',\n",
       "       'Fly Ash (component 3)(kg in a m^3 mixture)',\n",
       "       'Water  (component 4)(kg in a m^3 mixture)',\n",
       "       'Superplasticizer (component 5)(kg in a m^3 mixture)',\n",
       "       'Coarse Aggregate  (component 6)(kg in a m^3 mixture)',\n",
       "       'Fine Aggregate (component 7)(kg in a m^3 mixture)', 'Age (day)',\n",
       "       'Concrete compressive strength(MPa, megapascals) '],\n",
       "      dtype='object')"
      ]
     },
     "execution_count": 8,
     "metadata": {},
     "output_type": "execute_result"
    }
   ],
   "source": [
    "df.columns"
   ]
  },
  {
   "cell_type": "code",
   "execution_count": 9,
   "id": "sized-journey",
   "metadata": {
    "execution": {
     "iopub.execute_input": "2021-05-10T10:51:31.102988Z",
     "iopub.status.busy": "2021-05-10T10:51:31.102184Z",
     "iopub.status.idle": "2021-05-10T10:51:31.105462Z",
     "shell.execute_reply": "2021-05-10T10:51:31.104940Z"
    },
    "papermill": {
     "duration": 0.049675,
     "end_time": "2021-05-10T10:51:31.105610",
     "exception": false,
     "start_time": "2021-05-10T10:51:31.055935",
     "status": "completed"
    },
    "tags": []
   },
   "outputs": [],
   "source": [
    "df = df.rename(columns={'Cement (component 1)(kg in a m^3 mixture)':'Cement',\n",
    "       'Blast Furnace Slag (component 2)(kg in a m^3 mixture)':'Blast Furnance Slag',\n",
    "       'Fly Ash (component 3)(kg in a m^3 mixture)':'Fly Ash',\n",
    "       'Water  (component 4)(kg in a m^3 mixture)':'Water',\n",
    "       'Superplasticizer (component 5)(kg in a m^3 mixture)':'Superplasticizer',\n",
    "       'Coarse Aggregate  (component 6)(kg in a m^3 mixture)':'Coarse Aggregate',\n",
    "       'Fine Aggregate (component 7)(kg in a m^3 mixture)':'Fine Aggregate', 'Age (day)':'day',\n",
    "       'Concrete compressive strength(MPa, megapascals) ':'Concrete compressive strength'})"
   ]
  },
  {
   "cell_type": "code",
   "execution_count": 10,
   "id": "international-garbage",
   "metadata": {
    "execution": {
     "iopub.execute_input": "2021-05-10T10:51:31.211299Z",
     "iopub.status.busy": "2021-05-10T10:51:31.210338Z",
     "iopub.status.idle": "2021-05-10T10:51:31.214367Z",
     "shell.execute_reply": "2021-05-10T10:51:31.214858Z"
    },
    "papermill": {
     "duration": 0.07021,
     "end_time": "2021-05-10T10:51:31.215049",
     "exception": false,
     "start_time": "2021-05-10T10:51:31.144839",
     "status": "completed"
    },
    "tags": []
   },
   "outputs": [
    {
     "data": {
      "text/html": [
       "<div>\n",
       "<style scoped>\n",
       "    .dataframe tbody tr th:only-of-type {\n",
       "        vertical-align: middle;\n",
       "    }\n",
       "\n",
       "    .dataframe tbody tr th {\n",
       "        vertical-align: top;\n",
       "    }\n",
       "\n",
       "    .dataframe thead th {\n",
       "        text-align: right;\n",
       "    }\n",
       "</style>\n",
       "<table border=\"1\" class=\"dataframe\">\n",
       "  <thead>\n",
       "    <tr style=\"text-align: right;\">\n",
       "      <th></th>\n",
       "      <th>Cement</th>\n",
       "      <th>Blast Furnance Slag</th>\n",
       "      <th>Fly Ash</th>\n",
       "      <th>Water</th>\n",
       "      <th>Superplasticizer</th>\n",
       "      <th>Coarse Aggregate</th>\n",
       "      <th>Fine Aggregate</th>\n",
       "      <th>day</th>\n",
       "      <th>Concrete compressive strength</th>\n",
       "    </tr>\n",
       "  </thead>\n",
       "  <tbody>\n",
       "    <tr>\n",
       "      <th>0</th>\n",
       "      <td>540.0</td>\n",
       "      <td>0.0</td>\n",
       "      <td>0.0</td>\n",
       "      <td>162.0</td>\n",
       "      <td>2.5</td>\n",
       "      <td>1040.0</td>\n",
       "      <td>676.0</td>\n",
       "      <td>28</td>\n",
       "      <td>79.986111</td>\n",
       "    </tr>\n",
       "    <tr>\n",
       "      <th>1</th>\n",
       "      <td>540.0</td>\n",
       "      <td>0.0</td>\n",
       "      <td>0.0</td>\n",
       "      <td>162.0</td>\n",
       "      <td>2.5</td>\n",
       "      <td>1055.0</td>\n",
       "      <td>676.0</td>\n",
       "      <td>28</td>\n",
       "      <td>61.887366</td>\n",
       "    </tr>\n",
       "    <tr>\n",
       "      <th>2</th>\n",
       "      <td>332.5</td>\n",
       "      <td>142.5</td>\n",
       "      <td>0.0</td>\n",
       "      <td>228.0</td>\n",
       "      <td>0.0</td>\n",
       "      <td>932.0</td>\n",
       "      <td>594.0</td>\n",
       "      <td>270</td>\n",
       "      <td>40.269535</td>\n",
       "    </tr>\n",
       "    <tr>\n",
       "      <th>3</th>\n",
       "      <td>332.5</td>\n",
       "      <td>142.5</td>\n",
       "      <td>0.0</td>\n",
       "      <td>228.0</td>\n",
       "      <td>0.0</td>\n",
       "      <td>932.0</td>\n",
       "      <td>594.0</td>\n",
       "      <td>365</td>\n",
       "      <td>41.052780</td>\n",
       "    </tr>\n",
       "    <tr>\n",
       "      <th>4</th>\n",
       "      <td>198.6</td>\n",
       "      <td>132.4</td>\n",
       "      <td>0.0</td>\n",
       "      <td>192.0</td>\n",
       "      <td>0.0</td>\n",
       "      <td>978.4</td>\n",
       "      <td>825.5</td>\n",
       "      <td>360</td>\n",
       "      <td>44.296075</td>\n",
       "    </tr>\n",
       "    <tr>\n",
       "      <th>...</th>\n",
       "      <td>...</td>\n",
       "      <td>...</td>\n",
       "      <td>...</td>\n",
       "      <td>...</td>\n",
       "      <td>...</td>\n",
       "      <td>...</td>\n",
       "      <td>...</td>\n",
       "      <td>...</td>\n",
       "      <td>...</td>\n",
       "    </tr>\n",
       "    <tr>\n",
       "      <th>1025</th>\n",
       "      <td>276.4</td>\n",
       "      <td>116.0</td>\n",
       "      <td>90.3</td>\n",
       "      <td>179.6</td>\n",
       "      <td>8.9</td>\n",
       "      <td>870.1</td>\n",
       "      <td>768.3</td>\n",
       "      <td>28</td>\n",
       "      <td>44.284354</td>\n",
       "    </tr>\n",
       "    <tr>\n",
       "      <th>1026</th>\n",
       "      <td>322.2</td>\n",
       "      <td>0.0</td>\n",
       "      <td>115.6</td>\n",
       "      <td>196.0</td>\n",
       "      <td>10.4</td>\n",
       "      <td>817.9</td>\n",
       "      <td>813.4</td>\n",
       "      <td>28</td>\n",
       "      <td>31.178794</td>\n",
       "    </tr>\n",
       "    <tr>\n",
       "      <th>1027</th>\n",
       "      <td>148.5</td>\n",
       "      <td>139.4</td>\n",
       "      <td>108.6</td>\n",
       "      <td>192.7</td>\n",
       "      <td>6.1</td>\n",
       "      <td>892.4</td>\n",
       "      <td>780.0</td>\n",
       "      <td>28</td>\n",
       "      <td>23.696601</td>\n",
       "    </tr>\n",
       "    <tr>\n",
       "      <th>1028</th>\n",
       "      <td>159.1</td>\n",
       "      <td>186.7</td>\n",
       "      <td>0.0</td>\n",
       "      <td>175.6</td>\n",
       "      <td>11.3</td>\n",
       "      <td>989.6</td>\n",
       "      <td>788.9</td>\n",
       "      <td>28</td>\n",
       "      <td>32.768036</td>\n",
       "    </tr>\n",
       "    <tr>\n",
       "      <th>1029</th>\n",
       "      <td>260.9</td>\n",
       "      <td>100.5</td>\n",
       "      <td>78.3</td>\n",
       "      <td>200.6</td>\n",
       "      <td>8.6</td>\n",
       "      <td>864.5</td>\n",
       "      <td>761.5</td>\n",
       "      <td>28</td>\n",
       "      <td>32.401235</td>\n",
       "    </tr>\n",
       "  </tbody>\n",
       "</table>\n",
       "<p>1030 rows × 9 columns</p>\n",
       "</div>"
      ],
      "text/plain": [
       "      Cement  Blast Furnance Slag  Fly Ash  Water  Superplasticizer  \\\n",
       "0      540.0                  0.0      0.0  162.0               2.5   \n",
       "1      540.0                  0.0      0.0  162.0               2.5   \n",
       "2      332.5                142.5      0.0  228.0               0.0   \n",
       "3      332.5                142.5      0.0  228.0               0.0   \n",
       "4      198.6                132.4      0.0  192.0               0.0   \n",
       "...      ...                  ...      ...    ...               ...   \n",
       "1025   276.4                116.0     90.3  179.6               8.9   \n",
       "1026   322.2                  0.0    115.6  196.0              10.4   \n",
       "1027   148.5                139.4    108.6  192.7               6.1   \n",
       "1028   159.1                186.7      0.0  175.6              11.3   \n",
       "1029   260.9                100.5     78.3  200.6               8.6   \n",
       "\n",
       "      Coarse Aggregate  Fine Aggregate  day  Concrete compressive strength  \n",
       "0               1040.0           676.0   28                      79.986111  \n",
       "1               1055.0           676.0   28                      61.887366  \n",
       "2                932.0           594.0  270                      40.269535  \n",
       "3                932.0           594.0  365                      41.052780  \n",
       "4                978.4           825.5  360                      44.296075  \n",
       "...                ...             ...  ...                            ...  \n",
       "1025             870.1           768.3   28                      44.284354  \n",
       "1026             817.9           813.4   28                      31.178794  \n",
       "1027             892.4           780.0   28                      23.696601  \n",
       "1028             989.6           788.9   28                      32.768036  \n",
       "1029             864.5           761.5   28                      32.401235  \n",
       "\n",
       "[1030 rows x 9 columns]"
      ]
     },
     "execution_count": 10,
     "metadata": {},
     "output_type": "execute_result"
    }
   ],
   "source": [
    "df"
   ]
  },
  {
   "cell_type": "code",
   "execution_count": 11,
   "id": "turned-sociology",
   "metadata": {
    "execution": {
     "iopub.execute_input": "2021-05-10T10:51:31.300679Z",
     "iopub.status.busy": "2021-05-10T10:51:31.299692Z",
     "iopub.status.idle": "2021-05-10T10:51:31.320832Z",
     "shell.execute_reply": "2021-05-10T10:51:31.321357Z"
    },
    "papermill": {
     "duration": 0.065744,
     "end_time": "2021-05-10T10:51:31.321548",
     "exception": false,
     "start_time": "2021-05-10T10:51:31.255804",
     "status": "completed"
    },
    "tags": []
   },
   "outputs": [
    {
     "data": {
      "text/html": [
       "<div>\n",
       "<style scoped>\n",
       "    .dataframe tbody tr th:only-of-type {\n",
       "        vertical-align: middle;\n",
       "    }\n",
       "\n",
       "    .dataframe tbody tr th {\n",
       "        vertical-align: top;\n",
       "    }\n",
       "\n",
       "    .dataframe thead th {\n",
       "        text-align: right;\n",
       "    }\n",
       "</style>\n",
       "<table border=\"1\" class=\"dataframe\">\n",
       "  <thead>\n",
       "    <tr style=\"text-align: right;\">\n",
       "      <th></th>\n",
       "      <th>Cement</th>\n",
       "      <th>Blast Furnance Slag</th>\n",
       "      <th>Fly Ash</th>\n",
       "      <th>Water</th>\n",
       "      <th>Superplasticizer</th>\n",
       "      <th>Coarse Aggregate</th>\n",
       "      <th>Fine Aggregate</th>\n",
       "      <th>day</th>\n",
       "      <th>Concrete compressive strength</th>\n",
       "    </tr>\n",
       "  </thead>\n",
       "  <tbody>\n",
       "    <tr>\n",
       "      <th>Cement</th>\n",
       "      <td>1.000000</td>\n",
       "      <td>-0.275193</td>\n",
       "      <td>-0.397475</td>\n",
       "      <td>-0.081544</td>\n",
       "      <td>0.092771</td>\n",
       "      <td>-0.109356</td>\n",
       "      <td>-0.222720</td>\n",
       "      <td>0.081947</td>\n",
       "      <td>0.497833</td>\n",
       "    </tr>\n",
       "    <tr>\n",
       "      <th>Blast Furnance Slag</th>\n",
       "      <td>-0.275193</td>\n",
       "      <td>1.000000</td>\n",
       "      <td>-0.323569</td>\n",
       "      <td>0.107286</td>\n",
       "      <td>0.043376</td>\n",
       "      <td>-0.283998</td>\n",
       "      <td>-0.281593</td>\n",
       "      <td>-0.044246</td>\n",
       "      <td>0.134824</td>\n",
       "    </tr>\n",
       "    <tr>\n",
       "      <th>Fly Ash</th>\n",
       "      <td>-0.397475</td>\n",
       "      <td>-0.323569</td>\n",
       "      <td>1.000000</td>\n",
       "      <td>-0.257044</td>\n",
       "      <td>0.377340</td>\n",
       "      <td>-0.009977</td>\n",
       "      <td>0.079076</td>\n",
       "      <td>-0.154370</td>\n",
       "      <td>-0.105753</td>\n",
       "    </tr>\n",
       "    <tr>\n",
       "      <th>Water</th>\n",
       "      <td>-0.081544</td>\n",
       "      <td>0.107286</td>\n",
       "      <td>-0.257044</td>\n",
       "      <td>1.000000</td>\n",
       "      <td>-0.657464</td>\n",
       "      <td>-0.182312</td>\n",
       "      <td>-0.450635</td>\n",
       "      <td>0.277604</td>\n",
       "      <td>-0.289613</td>\n",
       "    </tr>\n",
       "    <tr>\n",
       "      <th>Superplasticizer</th>\n",
       "      <td>0.092771</td>\n",
       "      <td>0.043376</td>\n",
       "      <td>0.377340</td>\n",
       "      <td>-0.657464</td>\n",
       "      <td>1.000000</td>\n",
       "      <td>-0.266303</td>\n",
       "      <td>0.222501</td>\n",
       "      <td>-0.192717</td>\n",
       "      <td>0.366102</td>\n",
       "    </tr>\n",
       "    <tr>\n",
       "      <th>Coarse Aggregate</th>\n",
       "      <td>-0.109356</td>\n",
       "      <td>-0.283998</td>\n",
       "      <td>-0.009977</td>\n",
       "      <td>-0.182312</td>\n",
       "      <td>-0.266303</td>\n",
       "      <td>1.000000</td>\n",
       "      <td>-0.178506</td>\n",
       "      <td>-0.003016</td>\n",
       "      <td>-0.164928</td>\n",
       "    </tr>\n",
       "    <tr>\n",
       "      <th>Fine Aggregate</th>\n",
       "      <td>-0.222720</td>\n",
       "      <td>-0.281593</td>\n",
       "      <td>0.079076</td>\n",
       "      <td>-0.450635</td>\n",
       "      <td>0.222501</td>\n",
       "      <td>-0.178506</td>\n",
       "      <td>1.000000</td>\n",
       "      <td>-0.156094</td>\n",
       "      <td>-0.167249</td>\n",
       "    </tr>\n",
       "    <tr>\n",
       "      <th>day</th>\n",
       "      <td>0.081947</td>\n",
       "      <td>-0.044246</td>\n",
       "      <td>-0.154370</td>\n",
       "      <td>0.277604</td>\n",
       "      <td>-0.192717</td>\n",
       "      <td>-0.003016</td>\n",
       "      <td>-0.156094</td>\n",
       "      <td>1.000000</td>\n",
       "      <td>0.328877</td>\n",
       "    </tr>\n",
       "    <tr>\n",
       "      <th>Concrete compressive strength</th>\n",
       "      <td>0.497833</td>\n",
       "      <td>0.134824</td>\n",
       "      <td>-0.105753</td>\n",
       "      <td>-0.289613</td>\n",
       "      <td>0.366102</td>\n",
       "      <td>-0.164928</td>\n",
       "      <td>-0.167249</td>\n",
       "      <td>0.328877</td>\n",
       "      <td>1.000000</td>\n",
       "    </tr>\n",
       "  </tbody>\n",
       "</table>\n",
       "</div>"
      ],
      "text/plain": [
       "                                 Cement  Blast Furnance Slag   Fly Ash  \\\n",
       "Cement                         1.000000            -0.275193 -0.397475   \n",
       "Blast Furnance Slag           -0.275193             1.000000 -0.323569   \n",
       "Fly Ash                       -0.397475            -0.323569  1.000000   \n",
       "Water                         -0.081544             0.107286 -0.257044   \n",
       "Superplasticizer               0.092771             0.043376  0.377340   \n",
       "Coarse Aggregate              -0.109356            -0.283998 -0.009977   \n",
       "Fine Aggregate                -0.222720            -0.281593  0.079076   \n",
       "day                            0.081947            -0.044246 -0.154370   \n",
       "Concrete compressive strength  0.497833             0.134824 -0.105753   \n",
       "\n",
       "                                  Water  Superplasticizer  Coarse Aggregate  \\\n",
       "Cement                        -0.081544          0.092771         -0.109356   \n",
       "Blast Furnance Slag            0.107286          0.043376         -0.283998   \n",
       "Fly Ash                       -0.257044          0.377340         -0.009977   \n",
       "Water                          1.000000         -0.657464         -0.182312   \n",
       "Superplasticizer              -0.657464          1.000000         -0.266303   \n",
       "Coarse Aggregate              -0.182312         -0.266303          1.000000   \n",
       "Fine Aggregate                -0.450635          0.222501         -0.178506   \n",
       "day                            0.277604         -0.192717         -0.003016   \n",
       "Concrete compressive strength -0.289613          0.366102         -0.164928   \n",
       "\n",
       "                               Fine Aggregate       day  \\\n",
       "Cement                              -0.222720  0.081947   \n",
       "Blast Furnance Slag                 -0.281593 -0.044246   \n",
       "Fly Ash                              0.079076 -0.154370   \n",
       "Water                               -0.450635  0.277604   \n",
       "Superplasticizer                     0.222501 -0.192717   \n",
       "Coarse Aggregate                    -0.178506 -0.003016   \n",
       "Fine Aggregate                       1.000000 -0.156094   \n",
       "day                                 -0.156094  1.000000   \n",
       "Concrete compressive strength       -0.167249  0.328877   \n",
       "\n",
       "                               Concrete compressive strength  \n",
       "Cement                                              0.497833  \n",
       "Blast Furnance Slag                                 0.134824  \n",
       "Fly Ash                                            -0.105753  \n",
       "Water                                              -0.289613  \n",
       "Superplasticizer                                    0.366102  \n",
       "Coarse Aggregate                                   -0.164928  \n",
       "Fine Aggregate                                     -0.167249  \n",
       "day                                                 0.328877  \n",
       "Concrete compressive strength                       1.000000  "
      ]
     },
     "execution_count": 11,
     "metadata": {},
     "output_type": "execute_result"
    }
   ],
   "source": [
    "df.corr()"
   ]
  },
  {
   "cell_type": "code",
   "execution_count": 12,
   "id": "equal-supplier",
   "metadata": {
    "execution": {
     "iopub.execute_input": "2021-05-10T10:51:31.407846Z",
     "iopub.status.busy": "2021-05-10T10:51:31.407191Z",
     "iopub.status.idle": "2021-05-10T10:51:31.412692Z",
     "shell.execute_reply": "2021-05-10T10:51:31.413270Z"
    },
    "papermill": {
     "duration": 0.050395,
     "end_time": "2021-05-10T10:51:31.413449",
     "exception": false,
     "start_time": "2021-05-10T10:51:31.363054",
     "status": "completed"
    },
    "tags": []
   },
   "outputs": [],
   "source": [
    "X = df.drop(['Concrete compressive strength'],axis=1)\n",
    "y = df['Concrete compressive strength']"
   ]
  },
  {
   "cell_type": "code",
   "execution_count": 13,
   "id": "modular-screening",
   "metadata": {
    "execution": {
     "iopub.execute_input": "2021-05-10T10:51:31.500690Z",
     "iopub.status.busy": "2021-05-10T10:51:31.500061Z",
     "iopub.status.idle": "2021-05-10T10:51:31.510184Z",
     "shell.execute_reply": "2021-05-10T10:51:31.509475Z"
    },
    "papermill": {
     "duration": 0.054738,
     "end_time": "2021-05-10T10:51:31.510329",
     "exception": false,
     "start_time": "2021-05-10T10:51:31.455591",
     "status": "completed"
    },
    "tags": []
   },
   "outputs": [],
   "source": [
    "X = sm.add_constant(X)"
   ]
  },
  {
   "cell_type": "code",
   "execution_count": 14,
   "id": "unique-wallet",
   "metadata": {
    "execution": {
     "iopub.execute_input": "2021-05-10T10:51:31.599746Z",
     "iopub.status.busy": "2021-05-10T10:51:31.599066Z",
     "iopub.status.idle": "2021-05-10T10:51:31.637277Z",
     "shell.execute_reply": "2021-05-10T10:51:31.637825Z"
    },
    "papermill": {
     "duration": 0.086056,
     "end_time": "2021-05-10T10:51:31.638042",
     "exception": false,
     "start_time": "2021-05-10T10:51:31.551986",
     "status": "completed"
    },
    "tags": []
   },
   "outputs": [
    {
     "data": {
      "text/html": [
       "<div>\n",
       "<style scoped>\n",
       "    .dataframe tbody tr th:only-of-type {\n",
       "        vertical-align: middle;\n",
       "    }\n",
       "\n",
       "    .dataframe tbody tr th {\n",
       "        vertical-align: top;\n",
       "    }\n",
       "\n",
       "    .dataframe thead th {\n",
       "        text-align: right;\n",
       "    }\n",
       "</style>\n",
       "<table border=\"1\" class=\"dataframe\">\n",
       "  <thead>\n",
       "    <tr style=\"text-align: right;\">\n",
       "      <th></th>\n",
       "      <th>VIF FACTOR</th>\n",
       "      <th>features</th>\n",
       "    </tr>\n",
       "  </thead>\n",
       "  <tbody>\n",
       "    <tr>\n",
       "      <th>0</th>\n",
       "      <td>6732.373793</td>\n",
       "      <td>const</td>\n",
       "    </tr>\n",
       "    <tr>\n",
       "      <th>1</th>\n",
       "      <td>7.488657</td>\n",
       "      <td>Cement</td>\n",
       "    </tr>\n",
       "    <tr>\n",
       "      <th>2</th>\n",
       "      <td>7.276529</td>\n",
       "      <td>Blast Furnance Slag</td>\n",
       "    </tr>\n",
       "    <tr>\n",
       "      <th>3</th>\n",
       "      <td>6.171455</td>\n",
       "      <td>Fly Ash</td>\n",
       "    </tr>\n",
       "    <tr>\n",
       "      <th>4</th>\n",
       "      <td>7.004663</td>\n",
       "      <td>Water</td>\n",
       "    </tr>\n",
       "    <tr>\n",
       "      <th>5</th>\n",
       "      <td>2.965297</td>\n",
       "      <td>Superplasticizer</td>\n",
       "    </tr>\n",
       "    <tr>\n",
       "      <th>6</th>\n",
       "      <td>5.076044</td>\n",
       "      <td>Coarse Aggregate</td>\n",
       "    </tr>\n",
       "    <tr>\n",
       "      <th>7</th>\n",
       "      <td>7.005346</td>\n",
       "      <td>Fine Aggregate</td>\n",
       "    </tr>\n",
       "    <tr>\n",
       "      <th>8</th>\n",
       "      <td>1.118357</td>\n",
       "      <td>day</td>\n",
       "    </tr>\n",
       "  </tbody>\n",
       "</table>\n",
       "</div>"
      ],
      "text/plain": [
       "    VIF FACTOR             features\n",
       "0  6732.373793                const\n",
       "1     7.488657               Cement\n",
       "2     7.276529  Blast Furnance Slag\n",
       "3     6.171455              Fly Ash\n",
       "4     7.004663                Water\n",
       "5     2.965297     Superplasticizer\n",
       "6     5.076044     Coarse Aggregate\n",
       "7     7.005346       Fine Aggregate\n",
       "8     1.118357                  day"
      ]
     },
     "execution_count": 14,
     "metadata": {},
     "output_type": "execute_result"
    }
   ],
   "source": [
    "#VIF\n",
    "from statsmodels.stats.outliers_influence import variance_inflation_factor\n",
    "vif = pd.DataFrame()\n",
    "vif['VIF FACTOR'] = [variance_inflation_factor(X.values,i)\n",
    "                    for i in range(X.shape[1])]\n",
    "vif['features'] = X.columns\n",
    "vif"
   ]
  },
  {
   "cell_type": "code",
   "execution_count": 15,
   "id": "corrected-sponsorship",
   "metadata": {
    "execution": {
     "iopub.execute_input": "2021-05-10T10:51:31.739708Z",
     "iopub.status.busy": "2021-05-10T10:51:31.738627Z",
     "iopub.status.idle": "2021-05-10T10:51:31.742970Z",
     "shell.execute_reply": "2021-05-10T10:51:31.743488Z"
    },
    "papermill": {
     "duration": 0.062351,
     "end_time": "2021-05-10T10:51:31.743677",
     "exception": false,
     "start_time": "2021-05-10T10:51:31.681326",
     "status": "completed"
    },
    "tags": []
   },
   "outputs": [
    {
     "data": {
      "text/html": [
       "<div>\n",
       "<style scoped>\n",
       "    .dataframe tbody tr th:only-of-type {\n",
       "        vertical-align: middle;\n",
       "    }\n",
       "\n",
       "    .dataframe tbody tr th {\n",
       "        vertical-align: top;\n",
       "    }\n",
       "\n",
       "    .dataframe thead th {\n",
       "        text-align: right;\n",
       "    }\n",
       "</style>\n",
       "<table border=\"1\" class=\"dataframe\">\n",
       "  <thead>\n",
       "    <tr style=\"text-align: right;\">\n",
       "      <th></th>\n",
       "      <th>0</th>\n",
       "      <th>1</th>\n",
       "      <th>2</th>\n",
       "      <th>3</th>\n",
       "      <th>4</th>\n",
       "      <th>5</th>\n",
       "      <th>6</th>\n",
       "      <th>7</th>\n",
       "      <th>8</th>\n",
       "    </tr>\n",
       "  </thead>\n",
       "  <tbody>\n",
       "    <tr>\n",
       "      <th>VIF FACTOR</th>\n",
       "      <td>6732.373793</td>\n",
       "      <td>7.488657</td>\n",
       "      <td>7.276529</td>\n",
       "      <td>6.171455</td>\n",
       "      <td>7.004663</td>\n",
       "      <td>2.965297</td>\n",
       "      <td>5.076044</td>\n",
       "      <td>7.005346</td>\n",
       "      <td>1.118357</td>\n",
       "    </tr>\n",
       "    <tr>\n",
       "      <th>features</th>\n",
       "      <td>const</td>\n",
       "      <td>Cement</td>\n",
       "      <td>Blast Furnance Slag</td>\n",
       "      <td>Fly Ash</td>\n",
       "      <td>Water</td>\n",
       "      <td>Superplasticizer</td>\n",
       "      <td>Coarse Aggregate</td>\n",
       "      <td>Fine Aggregate</td>\n",
       "      <td>day</td>\n",
       "    </tr>\n",
       "  </tbody>\n",
       "</table>\n",
       "</div>"
      ],
      "text/plain": [
       "                      0         1                    2         3         4  \\\n",
       "VIF FACTOR  6732.373793  7.488657             7.276529  6.171455  7.004663   \n",
       "features          const    Cement  Blast Furnance Slag   Fly Ash     Water   \n",
       "\n",
       "                           5                 6               7         8  \n",
       "VIF FACTOR          2.965297          5.076044        7.005346  1.118357  \n",
       "features    Superplasticizer  Coarse Aggregate  Fine Aggregate       day  "
      ]
     },
     "execution_count": 15,
     "metadata": {},
     "output_type": "execute_result"
    }
   ],
   "source": [
    "vif.transpose()"
   ]
  },
  {
   "cell_type": "code",
   "execution_count": 16,
   "id": "advisory-request",
   "metadata": {
    "execution": {
     "iopub.execute_input": "2021-05-10T10:51:31.836777Z",
     "iopub.status.busy": "2021-05-10T10:51:31.835612Z",
     "iopub.status.idle": "2021-05-10T10:51:31.878885Z",
     "shell.execute_reply": "2021-05-10T10:51:31.879787Z"
    },
    "papermill": {
     "duration": 0.092968,
     "end_time": "2021-05-10T10:51:31.880081",
     "exception": false,
     "start_time": "2021-05-10T10:51:31.787113",
     "status": "completed"
    },
    "tags": []
   },
   "outputs": [
    {
     "data": {
      "text/html": [
       "<table class=\"simpletable\">\n",
       "<caption>OLS Regression Results</caption>\n",
       "<tr>\n",
       "  <th>Dep. Variable:</th>    <td>Concrete compressive strength</td> <th>  R-squared:         </th> <td>   0.615</td> \n",
       "</tr>\n",
       "<tr>\n",
       "  <th>Model:</th>                         <td>OLS</td>              <th>  Adj. R-squared:    </th> <td>   0.612</td> \n",
       "</tr>\n",
       "<tr>\n",
       "  <th>Method:</th>                   <td>Least Squares</td>         <th>  F-statistic:       </th> <td>   204.3</td> \n",
       "</tr>\n",
       "<tr>\n",
       "  <th>Date:</th>                   <td>Mon, 10 May 2021</td>        <th>  Prob (F-statistic):</th> <td>6.76e-206</td>\n",
       "</tr>\n",
       "<tr>\n",
       "  <th>Time:</th>                       <td>10:51:31</td>            <th>  Log-Likelihood:    </th> <td> -3869.0</td> \n",
       "</tr>\n",
       "<tr>\n",
       "  <th>No. Observations:</th>            <td>  1030</td>             <th>  AIC:               </th> <td>   7756.</td> \n",
       "</tr>\n",
       "<tr>\n",
       "  <th>Df Residuals:</th>                <td>  1021</td>             <th>  BIC:               </th> <td>   7800.</td> \n",
       "</tr>\n",
       "<tr>\n",
       "  <th>Df Model:</th>                    <td>     8</td>             <th>                     </th>     <td> </td>    \n",
       "</tr>\n",
       "<tr>\n",
       "  <th>Covariance Type:</th>            <td>nonrobust</td>           <th>                     </th>     <td> </td>    \n",
       "</tr>\n",
       "</table>\n",
       "<table class=\"simpletable\">\n",
       "<tr>\n",
       "           <td></td>              <th>coef</th>     <th>std err</th>      <th>t</th>      <th>P>|t|</th>  <th>[0.025</th>    <th>0.975]</th>  \n",
       "</tr>\n",
       "<tr>\n",
       "  <th>const</th>               <td>  -23.1638</td> <td>   26.588</td> <td>   -0.871</td> <td> 0.384</td> <td>  -75.338</td> <td>   29.010</td>\n",
       "</tr>\n",
       "<tr>\n",
       "  <th>Cement</th>              <td>    0.1198</td> <td>    0.008</td> <td>   14.110</td> <td> 0.000</td> <td>    0.103</td> <td>    0.136</td>\n",
       "</tr>\n",
       "<tr>\n",
       "  <th>Blast Furnance Slag</th> <td>    0.1038</td> <td>    0.010</td> <td>   10.245</td> <td> 0.000</td> <td>    0.084</td> <td>    0.124</td>\n",
       "</tr>\n",
       "<tr>\n",
       "  <th>Fly Ash</th>             <td>    0.0879</td> <td>    0.013</td> <td>    6.988</td> <td> 0.000</td> <td>    0.063</td> <td>    0.113</td>\n",
       "</tr>\n",
       "<tr>\n",
       "  <th>Water</th>               <td>   -0.1503</td> <td>    0.040</td> <td>   -3.741</td> <td> 0.000</td> <td>   -0.229</td> <td>   -0.071</td>\n",
       "</tr>\n",
       "<tr>\n",
       "  <th>Superplasticizer</th>    <td>    0.2907</td> <td>    0.093</td> <td>    3.110</td> <td> 0.002</td> <td>    0.107</td> <td>    0.474</td>\n",
       "</tr>\n",
       "<tr>\n",
       "  <th>Coarse Aggregate</th>    <td>    0.0180</td> <td>    0.009</td> <td>    1.919</td> <td> 0.055</td> <td>   -0.000</td> <td>    0.036</td>\n",
       "</tr>\n",
       "<tr>\n",
       "  <th>Fine Aggregate</th>      <td>    0.0202</td> <td>    0.011</td> <td>    1.883</td> <td> 0.060</td> <td>   -0.001</td> <td>    0.041</td>\n",
       "</tr>\n",
       "<tr>\n",
       "  <th>day</th>                 <td>    0.1142</td> <td>    0.005</td> <td>   21.046</td> <td> 0.000</td> <td>    0.104</td> <td>    0.125</td>\n",
       "</tr>\n",
       "</table>\n",
       "<table class=\"simpletable\">\n",
       "<tr>\n",
       "  <th>Omnibus:</th>       <td> 5.379</td> <th>  Durbin-Watson:     </th> <td>   1.281</td>\n",
       "</tr>\n",
       "<tr>\n",
       "  <th>Prob(Omnibus):</th> <td> 0.068</td> <th>  Jarque-Bera (JB):  </th> <td>   5.305</td>\n",
       "</tr>\n",
       "<tr>\n",
       "  <th>Skew:</th>          <td>-0.174</td> <th>  Prob(JB):          </th> <td>  0.0705</td>\n",
       "</tr>\n",
       "<tr>\n",
       "  <th>Kurtosis:</th>      <td> 3.045</td> <th>  Cond. No.          </th> <td>1.06e+05</td>\n",
       "</tr>\n",
       "</table><br/><br/>Notes:<br/>[1] Standard Errors assume that the covariance matrix of the errors is correctly specified.<br/>[2] The condition number is large, 1.06e+05. This might indicate that there are<br/>strong multicollinearity or other numerical problems."
      ],
      "text/plain": [
       "<class 'statsmodels.iolib.summary.Summary'>\n",
       "\"\"\"\n",
       "                                  OLS Regression Results                                 \n",
       "=========================================================================================\n",
       "Dep. Variable:     Concrete compressive strength   R-squared:                       0.615\n",
       "Model:                                       OLS   Adj. R-squared:                  0.612\n",
       "Method:                            Least Squares   F-statistic:                     204.3\n",
       "Date:                           Mon, 10 May 2021   Prob (F-statistic):          6.76e-206\n",
       "Time:                                   10:51:31   Log-Likelihood:                -3869.0\n",
       "No. Observations:                           1030   AIC:                             7756.\n",
       "Df Residuals:                               1021   BIC:                             7800.\n",
       "Df Model:                                      8                                         \n",
       "Covariance Type:                       nonrobust                                         \n",
       "=======================================================================================\n",
       "                          coef    std err          t      P>|t|      [0.025      0.975]\n",
       "---------------------------------------------------------------------------------------\n",
       "const                 -23.1638     26.588     -0.871      0.384     -75.338      29.010\n",
       "Cement                  0.1198      0.008     14.110      0.000       0.103       0.136\n",
       "Blast Furnance Slag     0.1038      0.010     10.245      0.000       0.084       0.124\n",
       "Fly Ash                 0.0879      0.013      6.988      0.000       0.063       0.113\n",
       "Water                  -0.1503      0.040     -3.741      0.000      -0.229      -0.071\n",
       "Superplasticizer        0.2907      0.093      3.110      0.002       0.107       0.474\n",
       "Coarse Aggregate        0.0180      0.009      1.919      0.055      -0.000       0.036\n",
       "Fine Aggregate          0.0202      0.011      1.883      0.060      -0.001       0.041\n",
       "day                     0.1142      0.005     21.046      0.000       0.104       0.125\n",
       "==============================================================================\n",
       "Omnibus:                        5.379   Durbin-Watson:                   1.281\n",
       "Prob(Omnibus):                  0.068   Jarque-Bera (JB):                5.305\n",
       "Skew:                          -0.174   Prob(JB):                       0.0705\n",
       "Kurtosis:                       3.045   Cond. No.                     1.06e+05\n",
       "==============================================================================\n",
       "\n",
       "Notes:\n",
       "[1] Standard Errors assume that the covariance matrix of the errors is correctly specified.\n",
       "[2] The condition number is large, 1.06e+05. This might indicate that there are\n",
       "strong multicollinearity or other numerical problems.\n",
       "\"\"\""
      ]
     },
     "execution_count": 16,
     "metadata": {},
     "output_type": "execute_result"
    }
   ],
   "source": [
    "#all dependent variable are relevent to the model\n",
    "result = sm.OLS(y,X).fit()\n",
    "result.summary()"
   ]
  },
  {
   "cell_type": "code",
   "execution_count": 17,
   "id": "optimum-helena",
   "metadata": {
    "execution": {
     "iopub.execute_input": "2021-05-10T10:51:32.011644Z",
     "iopub.status.busy": "2021-05-10T10:51:32.010531Z",
     "iopub.status.idle": "2021-05-10T10:51:32.443871Z",
     "shell.execute_reply": "2021-05-10T10:51:32.443034Z"
    },
    "papermill": {
     "duration": 0.48515,
     "end_time": "2021-05-10T10:51:32.444059",
     "exception": false,
     "start_time": "2021-05-10T10:51:31.958909",
     "status": "completed"
    },
    "tags": []
   },
   "outputs": [
    {
     "name": "stderr",
     "output_type": "stream",
     "text": [
      "/opt/conda/lib/python3.7/site-packages/statsmodels/graphics/gofplots.py:993: UserWarning: marker is redundantly defined by the 'marker' keyword argument and the fmt string \"bo\" (-> marker='o'). The keyword argument will take precedence.\n",
      "  ax.plot(x, y, fmt, **plot_style)\n"
     ]
    },
    {
     "data": {
      "image/png": "[encoded data removed]",
      "text/plain": [
       "<Figure size 432x288 with 1 Axes>"
      ]
     },
     "execution_count": 17,
     "metadata": {},
     "output_type": "execute_result"
    },
    {
     "data": {
      "image/png": "[encoded data removed]",
      "text/plain": [
       "<Figure size 432x288 with 1 Axes>"
      ]
     },
     "metadata": {
      "needs_background": "light"
     },
     "output_type": "display_data"
    }
   ],
   "source": [
    "residual = result.resid\n",
    "probplot = sm.ProbPlot(residual)\n",
    "probplot.ppplot(line='45')"
   ]
  },
  {
   "cell_type": "code",
   "execution_count": 18,
   "id": "adequate-prototype",
   "metadata": {
    "execution": {
     "iopub.execute_input": "2021-05-10T10:51:32.541190Z",
     "iopub.status.busy": "2021-05-10T10:51:32.540322Z",
     "iopub.status.idle": "2021-05-10T10:51:32.706312Z",
     "shell.execute_reply": "2021-05-10T10:51:32.705715Z"
    },
    "papermill": {
     "duration": 0.216511,
     "end_time": "2021-05-10T10:51:32.706469",
     "exception": false,
     "start_time": "2021-05-10T10:51:32.489958",
     "status": "completed"
    },
    "tags": []
   },
   "outputs": [],
   "source": [
    "from sklearn.model_selection import train_test_split"
   ]
  },
  {
   "cell_type": "code",
   "execution_count": 19,
   "id": "false-footwear",
   "metadata": {
    "execution": {
     "iopub.execute_input": "2021-05-10T10:51:32.806525Z",
     "iopub.status.busy": "2021-05-10T10:51:32.805773Z",
     "iopub.status.idle": "2021-05-10T10:51:32.808683Z",
     "shell.execute_reply": "2021-05-10T10:51:32.808080Z"
    },
    "papermill": {
     "duration": 0.056283,
     "end_time": "2021-05-10T10:51:32.808829",
     "exception": false,
     "start_time": "2021-05-10T10:51:32.752546",
     "status": "completed"
    },
    "tags": []
   },
   "outputs": [],
   "source": [
    "X_train, X_test, y_train, y_test = train_test_split(X, y, test_size=0.2, random_state=42)"
   ]
  },
  {
   "cell_type": "code",
   "execution_count": 20,
   "id": "experimental-anger",
   "metadata": {
    "execution": {
     "iopub.execute_input": "2021-05-10T10:51:32.904202Z",
     "iopub.status.busy": "2021-05-10T10:51:32.903552Z",
     "iopub.status.idle": "2021-05-10T10:51:33.022793Z",
     "shell.execute_reply": "2021-05-10T10:51:33.022130Z"
    },
    "papermill": {
     "duration": 0.168036,
     "end_time": "2021-05-10T10:51:33.022934",
     "exception": false,
     "start_time": "2021-05-10T10:51:32.854898",
     "status": "completed"
    },
    "tags": []
   },
   "outputs": [],
   "source": [
    "from sklearn.linear_model import LinearRegression"
   ]
  },
  {
   "cell_type": "code",
   "execution_count": 21,
   "id": "correct-fault",
   "metadata": {
    "execution": {
     "iopub.execute_input": "2021-05-10T10:51:33.129825Z",
     "iopub.status.busy": "2021-05-10T10:51:33.123196Z",
     "iopub.status.idle": "2021-05-10T10:51:33.145518Z",
     "shell.execute_reply": "2021-05-10T10:51:33.146044Z"
    },
    "papermill": {
     "duration": 0.077189,
     "end_time": "2021-05-10T10:51:33.146257",
     "exception": false,
     "start_time": "2021-05-10T10:51:33.069068",
     "status": "completed"
    },
    "tags": []
   },
   "outputs": [
    {
     "data": {
      "text/plain": [
       "LinearRegression()"
      ]
     },
     "execution_count": 21,
     "metadata": {},
     "output_type": "execute_result"
    }
   ],
   "source": [
    "lr = LinearRegression()\n",
    "lr.fit(X_train,y_train)"
   ]
  },
  {
   "cell_type": "code",
   "execution_count": 22,
   "id": "multiple-charles",
   "metadata": {
    "execution": {
     "iopub.execute_input": "2021-05-10T10:51:33.245055Z",
     "iopub.status.busy": "2021-05-10T10:51:33.244188Z",
     "iopub.status.idle": "2021-05-10T10:51:33.250559Z",
     "shell.execute_reply": "2021-05-10T10:51:33.251129Z"
    },
    "papermill": {
     "duration": 0.057652,
     "end_time": "2021-05-10T10:51:33.251344",
     "exception": false,
     "start_time": "2021-05-10T10:51:33.193692",
     "status": "completed"
    },
    "tags": []
   },
   "outputs": [],
   "source": [
    "pred = lr.predict(X_test)"
   ]
  },
  {
   "cell_type": "code",
   "execution_count": 23,
   "id": "premium-steal",
   "metadata": {
    "execution": {
     "iopub.execute_input": "2021-05-10T10:51:33.351218Z",
     "iopub.status.busy": "2021-05-10T10:51:33.350364Z",
     "iopub.status.idle": "2021-05-10T10:51:33.358383Z",
     "shell.execute_reply": "2021-05-10T10:51:33.358916Z"
    },
    "papermill": {
     "duration": 0.060169,
     "end_time": "2021-05-10T10:51:33.359115",
     "exception": false,
     "start_time": "2021-05-10T10:51:33.298946",
     "status": "completed"
    },
    "tags": []
   },
   "outputs": [
    {
     "data": {
      "text/plain": [
       "0.610459352793959"
      ]
     },
     "execution_count": 23,
     "metadata": {},
     "output_type": "execute_result"
    }
   ],
   "source": [
    "lr.score(X_train,y_train)"
   ]
  },
  {
   "cell_type": "code",
   "execution_count": 24,
   "id": "exact-triple",
   "metadata": {
    "execution": {
     "iopub.execute_input": "2021-05-10T10:51:33.457210Z",
     "iopub.status.busy": "2021-05-10T10:51:33.456158Z",
     "iopub.status.idle": "2021-05-10T10:51:33.460693Z",
     "shell.execute_reply": "2021-05-10T10:51:33.461308Z"
    },
    "papermill": {
     "duration": 0.055364,
     "end_time": "2021-05-10T10:51:33.461492",
     "exception": false,
     "start_time": "2021-05-10T10:51:33.406128",
     "status": "completed"
    },
    "tags": []
   },
   "outputs": [],
   "source": [
    "from sklearn.metrics import confusion_matrix, classification_report"
   ]
  },
  {
   "cell_type": "code",
   "execution_count": null,
   "id": "immediate-communications",
   "metadata": {
    "papermill": {
     "duration": 0.046942,
     "end_time": "2021-05-10T10:51:33.556026",
     "exception": false,
     "start_time": "2021-05-10T10:51:33.509084",
     "status": "completed"
    },
    "tags": []
   },
   "outputs": [],
   "source": []
  },
  {
   "cell_type": "code",
   "execution_count": 25,
   "id": "seven-option",
   "metadata": {
    "execution": {
     "iopub.execute_input": "2021-05-10T10:51:33.654790Z",
     "iopub.status.busy": "2021-05-10T10:51:33.653826Z",
     "iopub.status.idle": "2021-05-10T10:51:33.658133Z",
     "shell.execute_reply": "2021-05-10T10:51:33.658682Z"
    },
    "papermill": {
     "duration": 0.054911,
     "end_time": "2021-05-10T10:51:33.658860",
     "exception": false,
     "start_time": "2021-05-10T10:51:33.603949",
     "status": "completed"
    },
    "tags": []
   },
   "outputs": [],
   "source": [
    "from sklearn.linear_model import Ridge"
   ]
  },
  {
   "cell_type": "code",
   "execution_count": 26,
   "id": "touched-geometry",
   "metadata": {
    "execution": {
     "iopub.execute_input": "2021-05-10T10:51:33.757426Z",
     "iopub.status.busy": "2021-05-10T10:51:33.756414Z",
     "iopub.status.idle": "2021-05-10T10:51:33.771410Z",
     "shell.execute_reply": "2021-05-10T10:51:33.772257Z"
    },
    "papermill": {
     "duration": 0.066169,
     "end_time": "2021-05-10T10:51:33.772551",
     "exception": false,
     "start_time": "2021-05-10T10:51:33.706382",
     "status": "completed"
    },
    "tags": []
   },
   "outputs": [
    {
     "data": {
      "text/plain": [
       "Ridge()"
      ]
     },
     "execution_count": 26,
     "metadata": {},
     "output_type": "execute_result"
    }
   ],
   "source": [
    "rdg = Ridge()\n",
    "rdg.fit(X_train,y_train)"
   ]
  },
  {
   "cell_type": "code",
   "execution_count": 27,
   "id": "diverse-pocket",
   "metadata": {
    "execution": {
     "iopub.execute_input": "2021-05-10T10:51:33.889545Z",
     "iopub.status.busy": "2021-05-10T10:51:33.888607Z",
     "iopub.status.idle": "2021-05-10T10:51:33.892189Z",
     "shell.execute_reply": "2021-05-10T10:51:33.892716Z"
    },
    "papermill": {
     "duration": 0.064576,
     "end_time": "2021-05-10T10:51:33.892885",
     "exception": false,
     "start_time": "2021-05-10T10:51:33.828309",
     "status": "completed"
    },
    "tags": []
   },
   "outputs": [
    {
     "data": {
      "text/plain": [
       "array([59.65712203, 52.03709643, 63.51961273, 51.57131863, 17.22015466,\n",
       "       39.86890245, 26.70148459, 44.71998595, 29.35811067, 38.19405927,\n",
       "       27.75950529, 19.81911818, 66.86529372, 52.2785367 , 29.97499009,\n",
       "       44.46989321, 29.22747744, 26.53671675, 31.97273518, 32.03281962,\n",
       "       36.8308633 , 31.78863269, 38.06321582, 25.12709684, 33.1026701 ,\n",
       "       33.84677513, 14.24402555, 40.33013005, 41.87339169, 21.33728207,\n",
       "       35.72345111, 30.97450335, 43.88008615, 45.52716816, 30.76258941,\n",
       "       29.59134072, 28.90854165, 38.84991782, 20.35383068, 38.45362213,\n",
       "       21.16917531, 15.89014833, 31.06603476, 50.70857397, 20.27772458,\n",
       "       57.6426175 , 50.89330136, 60.97171645, 20.00501215, 19.22518582,\n",
       "       40.48414238, 36.24375107, 30.01371174, 33.43495548, 46.67051067,\n",
       "       51.47106163, 27.72788837, 15.69890743, 29.68923534, 18.12662668,\n",
       "       38.63280056, 20.53822469, 31.57283627, 55.47745719, 22.94020927,\n",
       "       21.34032519, 32.26814474, 16.70633791, 25.39344901, 25.5466081 ,\n",
       "       17.84161037, 18.51794618, 13.06164732, 27.70971209, 28.60701954,\n",
       "       19.95922129, 60.05450185, 44.6452187 , 54.61938161, 23.51127344,\n",
       "       43.65616336, 48.70133832, 32.25965232, 28.06165229, 68.8331205 ,\n",
       "       51.57131863, 34.71493265, 33.44142392, 26.65505355, 21.55861353,\n",
       "       26.86528461, 60.9167666 , 23.85028539, 42.19582192, 39.66816119,\n",
       "       47.8001396 , 27.87509502, 28.03671883, 27.38863586, 28.94949259,\n",
       "       30.40612744, 39.73145249, 46.29744763, 28.94352911, 77.11240536,\n",
       "       14.21653891, 41.42700852, 29.54759782, 33.48939126, 50.41617178,\n",
       "       64.61616443, 39.11427733, 27.14600726, 33.97827923, 47.05237584,\n",
       "       55.99114753, 22.25994033, 40.99649247, 42.74950149, 39.70484516,\n",
       "       34.38552984, 23.1923145 , 37.61516293, 27.9657184 , 25.84461973,\n",
       "       31.54572047, 48.54235794, 55.05711591, 36.27685115, 32.15074552,\n",
       "       15.56319015, 34.22361042, 14.35306632, 60.29522359, 14.57566667,\n",
       "       57.77089772, 25.95240375, 33.10069716, 32.18169162, 33.51306826,\n",
       "       29.3005039 , 33.0796091 , 28.69410114, 26.71034029, 47.25468686,\n",
       "       36.86248742, 27.77778105, 18.68503218, 19.88805288, 19.70618401,\n",
       "       35.85383272, 25.3782411 , 47.42665002, 27.67028159, 38.14767733,\n",
       "       33.7454325 , 27.64240851, 67.8721367 , 52.03709643, 40.32247468,\n",
       "       21.40114538, 58.51647541, 33.17254891, 49.78703871, 54.59133811,\n",
       "       52.75815391, 37.8043462 , 25.36138511, 50.28536946, 33.42487427,\n",
       "       36.20158274, 25.86278699, 23.09834481, 34.46018935, 39.73369483,\n",
       "       20.27702877, 23.38233868, 39.52166288, 40.53208142, 41.94794979,\n",
       "       36.17322146, 26.39505824, 50.30667977, 42.40483025, 37.14316773,\n",
       "       48.99227907, 21.22929042, 31.18279942, 46.62717812, 20.99369172,\n",
       "       46.96087222, 37.68450433, 35.70960105, 48.49391746, 55.21453836,\n",
       "       31.41278579, 40.40361234, 25.49151355, 22.41526198, 22.26445164,\n",
       "       37.9736456 , 56.00040868, 17.48677793, 49.0875934 , 54.19969553,\n",
       "       31.46794925])"
      ]
     },
     "execution_count": 27,
     "metadata": {},
     "output_type": "execute_result"
    }
   ],
   "source": [
    "rdg.predict(X_test)"
   ]
  },
  {
   "cell_type": "code",
   "execution_count": 28,
   "id": "alert-notification",
   "metadata": {
    "execution": {
     "iopub.execute_input": "2021-05-10T10:51:33.995759Z",
     "iopub.status.busy": "2021-05-10T10:51:33.995132Z",
     "iopub.status.idle": "2021-05-10T10:51:34.004272Z",
     "shell.execute_reply": "2021-05-10T10:51:34.003551Z"
    },
    "papermill": {
     "duration": 0.061509,
     "end_time": "2021-05-10T10:51:34.004437",
     "exception": false,
     "start_time": "2021-05-10T10:51:33.942928",
     "status": "completed"
    },
    "tags": []
   },
   "outputs": [
    {
     "data": {
      "text/plain": [
       "0.6104593527614837"
      ]
     },
     "execution_count": 28,
     "metadata": {},
     "output_type": "execute_result"
    }
   ],
   "source": [
    "rdg.score(X_train,y_train)"
   ]
  },
  {
   "cell_type": "code",
   "execution_count": 29,
   "id": "undefined-haiti",
   "metadata": {
    "execution": {
     "iopub.execute_input": "2021-05-10T10:51:34.108516Z",
     "iopub.status.busy": "2021-05-10T10:51:34.107759Z",
     "iopub.status.idle": "2021-05-10T10:51:34.274801Z",
     "shell.execute_reply": "2021-05-10T10:51:34.275637Z"
    },
    "papermill": {
     "duration": 0.221257,
     "end_time": "2021-05-10T10:51:34.275850",
     "exception": false,
     "start_time": "2021-05-10T10:51:34.054593",
     "status": "completed"
    },
    "tags": []
   },
   "outputs": [],
   "source": [
    "from sklearn.ensemble import RandomForestRegressor"
   ]
  },
  {
   "cell_type": "code",
   "execution_count": 30,
   "id": "green-owner",
   "metadata": {
    "execution": {
     "iopub.execute_input": "2021-05-10T10:51:34.383952Z",
     "iopub.status.busy": "2021-05-10T10:51:34.382854Z",
     "iopub.status.idle": "2021-05-10T10:51:34.826933Z",
     "shell.execute_reply": "2021-05-10T10:51:34.827506Z"
    },
    "papermill": {
     "duration": 0.501988,
     "end_time": "2021-05-10T10:51:34.827687",
     "exception": false,
     "start_time": "2021-05-10T10:51:34.325699",
     "status": "completed"
    },
    "tags": []
   },
   "outputs": [],
   "source": [
    "rfc = RandomForestRegressor()\n",
    "rfc.fit(X_train,y_train)\n",
    "predict = rfc.predict(X_test)"
   ]
  },
  {
   "cell_type": "code",
   "execution_count": 31,
   "id": "critical-baker",
   "metadata": {
    "execution": {
     "iopub.execute_input": "2021-05-10T10:51:34.930498Z",
     "iopub.status.busy": "2021-05-10T10:51:34.929480Z",
     "iopub.status.idle": "2021-05-10T10:51:34.960742Z",
     "shell.execute_reply": "2021-05-10T10:51:34.961214Z"
    },
    "papermill": {
     "duration": 0.084556,
     "end_time": "2021-05-10T10:51:34.961413",
     "exception": false,
     "start_time": "2021-05-10T10:51:34.876857",
     "status": "completed"
    },
    "tags": []
   },
   "outputs": [
    {
     "data": {
      "text/plain": [
       "0.9867380746330513"
      ]
     },
     "execution_count": 31,
     "metadata": {},
     "output_type": "execute_result"
    }
   ],
   "source": [
    "rfc.score(X_train,y_train)"
   ]
  },
  {
   "cell_type": "code",
   "execution_count": 32,
   "id": "tight-leone",
   "metadata": {
    "execution": {
     "iopub.execute_input": "2021-05-10T10:51:35.067320Z",
     "iopub.status.busy": "2021-05-10T10:51:35.066343Z",
     "iopub.status.idle": "2021-05-10T10:51:35.072166Z",
     "shell.execute_reply": "2021-05-10T10:51:35.071573Z"
    },
    "papermill": {
     "duration": 0.061391,
     "end_time": "2021-05-10T10:51:35.072339",
     "exception": false,
     "start_time": "2021-05-10T10:51:35.010948",
     "status": "completed"
    },
    "tags": []
   },
   "outputs": [],
   "source": [
    "from sklearn.metrics import confusion_matrix, classification_report"
   ]
  },
  {
   "cell_type": "code",
   "execution_count": null,
   "id": "alien-boating",
   "metadata": {
    "papermill": {
     "duration": 0.049506,
     "end_time": "2021-05-10T10:51:35.171808",
     "exception": false,
     "start_time": "2021-05-10T10:51:35.122302",
     "status": "completed"
    },
    "tags": []
   },
   "outputs": [],
   "source": []
  },
  {
   "cell_type": "code",
   "execution_count": 33,
   "id": "portable-beaver",
   "metadata": {
    "execution": {
     "iopub.execute_input": "2021-05-10T10:51:35.279130Z",
     "iopub.status.busy": "2021-05-10T10:51:35.278080Z",
     "iopub.status.idle": "2021-05-10T10:51:36.020954Z",
     "shell.execute_reply": "2021-05-10T10:51:36.021497Z"
    },
    "papermill": {
     "duration": 0.799754,
     "end_time": "2021-05-10T10:51:36.021671",
     "exception": false,
     "start_time": "2021-05-10T10:51:35.221917",
     "status": "completed"
    },
    "tags": []
   },
   "outputs": [
    {
     "data": {
      "text/plain": [
       "<AxesSubplot:>"
      ]
     },
     "execution_count": 33,
     "metadata": {},
     "output_type": "execute_result"
    },
    {
     "data": {
      "image/png": "[encoded data removed]",
      "text/plain": [
       "<Figure size 720x432 with 2 Axes>"
      ]
     },
     "metadata": {
      "needs_background": "light"
     },
     "output_type": "display_data"
    }
   ],
   "source": [
    "plt.figure(figsize=(10,6))\n",
    "sns.heatmap(df.corr(),annot=True)"
   ]
  },
  {
   "cell_type": "code",
   "execution_count": 34,
   "id": "aggressive-coordinate",
   "metadata": {
    "execution": {
     "iopub.execute_input": "2021-05-10T10:51:36.131975Z",
     "iopub.status.busy": "2021-05-10T10:51:36.131341Z",
     "iopub.status.idle": "2021-05-10T10:51:36.249159Z",
     "shell.execute_reply": "2021-05-10T10:51:36.249658Z"
    },
    "papermill": {
     "duration": 0.173722,
     "end_time": "2021-05-10T10:51:36.249956",
     "exception": false,
     "start_time": "2021-05-10T10:51:36.076234",
     "status": "completed"
    },
    "tags": []
   },
   "outputs": [
    {
     "data": {
      "text/plain": [
       "<AxesSubplot:ylabel='day'>"
      ]
     },
     "execution_count": 34,
     "metadata": {},
     "output_type": "execute_result"
    },
    {
     "data": {
      "image/png": "[encoded data removed]",
      "text/plain": [
       "<Figure size 432x288 with 1 Axes>"
      ]
     },
     "metadata": {
      "needs_background": "light"
     },
     "output_type": "display_data"
    }
   ],
   "source": [
    "sns.boxplot(y=df['day'])"
   ]
  },
  {
   "cell_type": "code",
   "execution_count": 35,
   "id": "annoying-project",
   "metadata": {
    "execution": {
     "iopub.execute_input": "2021-05-10T10:51:36.361921Z",
     "iopub.status.busy": "2021-05-10T10:51:36.361234Z",
     "iopub.status.idle": "2021-05-10T10:51:36.828954Z",
     "shell.execute_reply": "2021-05-10T10:51:36.829484Z"
    },
    "papermill": {
     "duration": 0.526289,
     "end_time": "2021-05-10T10:51:36.829665",
     "exception": false,
     "start_time": "2021-05-10T10:51:36.303376",
     "status": "completed"
    },
    "tags": []
   },
   "outputs": [
    {
     "name": "stderr",
     "output_type": "stream",
     "text": [
      "/opt/conda/lib/python3.7/site-packages/seaborn/_decorators.py:43: FutureWarning: Pass the following variables as keyword args: x, y. From version 0.12, the only valid positional argument will be `data`, and passing other arguments without an explicit keyword will result in an error or misinterpretation.\n",
      "  FutureWarning\n"
     ]
    },
    {
     "data": {
      "text/plain": [
       "<seaborn.axisgrid.FacetGrid at 0x7f5b1d17a5d0>"
      ]
     },
     "execution_count": 35,
     "metadata": {},
     "output_type": "execute_result"
    },
    {
     "data": {
      "image/png": "[encoded data removed]",
      "text/plain": [
       "<Figure size 360x360 with 1 Axes>"
      ]
     },
     "metadata": {
      "needs_background": "light"
     },
     "output_type": "display_data"
    }
   ],
   "source": [
    "sns.lmplot('Cement','Concrete compressive strength',data=df)"
   ]
  },
  {
   "cell_type": "code",
   "execution_count": 36,
   "id": "catholic-ireland",
   "metadata": {
    "execution": {
     "iopub.execute_input": "2021-05-10T10:51:36.951679Z",
     "iopub.status.busy": "2021-05-10T10:51:36.950691Z",
     "iopub.status.idle": "2021-05-10T10:51:36.953740Z",
     "shell.execute_reply": "2021-05-10T10:51:36.953100Z"
    },
    "papermill": {
     "duration": 0.067198,
     "end_time": "2021-05-10T10:51:36.953881",
     "exception": false,
     "start_time": "2021-05-10T10:51:36.886683",
     "status": "completed"
    },
    "tags": []
   },
   "outputs": [],
   "source": [
    "from sklearn.preprocessing import StandardScaler"
   ]
  },
  {
   "cell_type": "code",
   "execution_count": 37,
   "id": "persistent-holmes",
   "metadata": {
    "execution": {
     "iopub.execute_input": "2021-05-10T10:51:37.077070Z",
     "iopub.status.busy": "2021-05-10T10:51:37.076059Z",
     "iopub.status.idle": "2021-05-10T10:51:37.079615Z",
     "shell.execute_reply": "2021-05-10T10:51:37.078973Z"
    },
    "papermill": {
     "duration": 0.066498,
     "end_time": "2021-05-10T10:51:37.079753",
     "exception": false,
     "start_time": "2021-05-10T10:51:37.013255",
     "status": "completed"
    },
    "tags": []
   },
   "outputs": [],
   "source": [
    "#scaler = StandardScaler()\n",
    "#df[['Cement', 'Blast Furnance Slag', 'Fly Ash', 'Water', 'Superplasticizer','Coarse Aggregate', 'Fine Aggregate', 'day','Concrete compressive strength']] = scaler.fit_transform(df)"
   ]
  },
  {
   "cell_type": "code",
   "execution_count": 38,
   "id": "strange-black",
   "metadata": {
    "execution": {
     "iopub.execute_input": "2021-05-10T10:51:37.219342Z",
     "iopub.status.busy": "2021-05-10T10:51:37.218649Z",
     "iopub.status.idle": "2021-05-10T10:51:37.223754Z",
     "shell.execute_reply": "2021-05-10T10:51:37.223215Z"
    },
    "papermill": {
     "duration": 0.087131,
     "end_time": "2021-05-10T10:51:37.223902",
     "exception": false,
     "start_time": "2021-05-10T10:51:37.136771",
     "status": "completed"
    },
    "tags": []
   },
   "outputs": [
    {
     "data": {
      "text/html": [
       "<div>\n",
       "<style scoped>\n",
       "    .dataframe tbody tr th:only-of-type {\n",
       "        vertical-align: middle;\n",
       "    }\n",
       "\n",
       "    .dataframe tbody tr th {\n",
       "        vertical-align: top;\n",
       "    }\n",
       "\n",
       "    .dataframe thead th {\n",
       "        text-align: right;\n",
       "    }\n",
       "</style>\n",
       "<table border=\"1\" class=\"dataframe\">\n",
       "  <thead>\n",
       "    <tr style=\"text-align: right;\">\n",
       "      <th></th>\n",
       "      <th>Cement</th>\n",
       "      <th>Blast Furnance Slag</th>\n",
       "      <th>Fly Ash</th>\n",
       "      <th>Water</th>\n",
       "      <th>Superplasticizer</th>\n",
       "      <th>Coarse Aggregate</th>\n",
       "      <th>Fine Aggregate</th>\n",
       "      <th>day</th>\n",
       "      <th>Concrete compressive strength</th>\n",
       "    </tr>\n",
       "  </thead>\n",
       "  <tbody>\n",
       "    <tr>\n",
       "      <th>0</th>\n",
       "      <td>540.0</td>\n",
       "      <td>0.0</td>\n",
       "      <td>0.0</td>\n",
       "      <td>162.0</td>\n",
       "      <td>2.5</td>\n",
       "      <td>1040.0</td>\n",
       "      <td>676.0</td>\n",
       "      <td>28</td>\n",
       "      <td>79.986111</td>\n",
       "    </tr>\n",
       "    <tr>\n",
       "      <th>1</th>\n",
       "      <td>540.0</td>\n",
       "      <td>0.0</td>\n",
       "      <td>0.0</td>\n",
       "      <td>162.0</td>\n",
       "      <td>2.5</td>\n",
       "      <td>1055.0</td>\n",
       "      <td>676.0</td>\n",
       "      <td>28</td>\n",
       "      <td>61.887366</td>\n",
       "    </tr>\n",
       "    <tr>\n",
       "      <th>2</th>\n",
       "      <td>332.5</td>\n",
       "      <td>142.5</td>\n",
       "      <td>0.0</td>\n",
       "      <td>228.0</td>\n",
       "      <td>0.0</td>\n",
       "      <td>932.0</td>\n",
       "      <td>594.0</td>\n",
       "      <td>270</td>\n",
       "      <td>40.269535</td>\n",
       "    </tr>\n",
       "    <tr>\n",
       "      <th>3</th>\n",
       "      <td>332.5</td>\n",
       "      <td>142.5</td>\n",
       "      <td>0.0</td>\n",
       "      <td>228.0</td>\n",
       "      <td>0.0</td>\n",
       "      <td>932.0</td>\n",
       "      <td>594.0</td>\n",
       "      <td>365</td>\n",
       "      <td>41.052780</td>\n",
       "    </tr>\n",
       "    <tr>\n",
       "      <th>4</th>\n",
       "      <td>198.6</td>\n",
       "      <td>132.4</td>\n",
       "      <td>0.0</td>\n",
       "      <td>192.0</td>\n",
       "      <td>0.0</td>\n",
       "      <td>978.4</td>\n",
       "      <td>825.5</td>\n",
       "      <td>360</td>\n",
       "      <td>44.296075</td>\n",
       "    </tr>\n",
       "    <tr>\n",
       "      <th>...</th>\n",
       "      <td>...</td>\n",
       "      <td>...</td>\n",
       "      <td>...</td>\n",
       "      <td>...</td>\n",
       "      <td>...</td>\n",
       "      <td>...</td>\n",
       "      <td>...</td>\n",
       "      <td>...</td>\n",
       "      <td>...</td>\n",
       "    </tr>\n",
       "    <tr>\n",
       "      <th>1025</th>\n",
       "      <td>276.4</td>\n",
       "      <td>116.0</td>\n",
       "      <td>90.3</td>\n",
       "      <td>179.6</td>\n",
       "      <td>8.9</td>\n",
       "      <td>870.1</td>\n",
       "      <td>768.3</td>\n",
       "      <td>28</td>\n",
       "      <td>44.284354</td>\n",
       "    </tr>\n",
       "    <tr>\n",
       "      <th>1026</th>\n",
       "      <td>322.2</td>\n",
       "      <td>0.0</td>\n",
       "      <td>115.6</td>\n",
       "      <td>196.0</td>\n",
       "      <td>10.4</td>\n",
       "      <td>817.9</td>\n",
       "      <td>813.4</td>\n",
       "      <td>28</td>\n",
       "      <td>31.178794</td>\n",
       "    </tr>\n",
       "    <tr>\n",
       "      <th>1027</th>\n",
       "      <td>148.5</td>\n",
       "      <td>139.4</td>\n",
       "      <td>108.6</td>\n",
       "      <td>192.7</td>\n",
       "      <td>6.1</td>\n",
       "      <td>892.4</td>\n",
       "      <td>780.0</td>\n",
       "      <td>28</td>\n",
       "      <td>23.696601</td>\n",
       "    </tr>\n",
       "    <tr>\n",
       "      <th>1028</th>\n",
       "      <td>159.1</td>\n",
       "      <td>186.7</td>\n",
       "      <td>0.0</td>\n",
       "      <td>175.6</td>\n",
       "      <td>11.3</td>\n",
       "      <td>989.6</td>\n",
       "      <td>788.9</td>\n",
       "      <td>28</td>\n",
       "      <td>32.768036</td>\n",
       "    </tr>\n",
       "    <tr>\n",
       "      <th>1029</th>\n",
       "      <td>260.9</td>\n",
       "      <td>100.5</td>\n",
       "      <td>78.3</td>\n",
       "      <td>200.6</td>\n",
       "      <td>8.6</td>\n",
       "      <td>864.5</td>\n",
       "      <td>761.5</td>\n",
       "      <td>28</td>\n",
       "      <td>32.401235</td>\n",
       "    </tr>\n",
       "  </tbody>\n",
       "</table>\n",
       "<p>1030 rows × 9 columns</p>\n",
       "</div>"
      ],
      "text/plain": [
       "      Cement  Blast Furnance Slag  Fly Ash  Water  Superplasticizer  \\\n",
       "0      540.0                  0.0      0.0  162.0               2.5   \n",
       "1      540.0                  0.0      0.0  162.0               2.5   \n",
       "2      332.5                142.5      0.0  228.0               0.0   \n",
       "3      332.5                142.5      0.0  228.0               0.0   \n",
       "4      198.6                132.4      0.0  192.0               0.0   \n",
       "...      ...                  ...      ...    ...               ...   \n",
       "1025   276.4                116.0     90.3  179.6               8.9   \n",
       "1026   322.2                  0.0    115.6  196.0              10.4   \n",
       "1027   148.5                139.4    108.6  192.7               6.1   \n",
       "1028   159.1                186.7      0.0  175.6              11.3   \n",
       "1029   260.9                100.5     78.3  200.6               8.6   \n",
       "\n",
       "      Coarse Aggregate  Fine Aggregate  day  Concrete compressive strength  \n",
       "0               1040.0           676.0   28                      79.986111  \n",
       "1               1055.0           676.0   28                      61.887366  \n",
       "2                932.0           594.0  270                      40.269535  \n",
       "3                932.0           594.0  365                      41.052780  \n",
       "4                978.4           825.5  360                      44.296075  \n",
       "...                ...             ...  ...                            ...  \n",
       "1025             870.1           768.3   28                      44.284354  \n",
       "1026             817.9           813.4   28                      31.178794  \n",
       "1027             892.4           780.0   28                      23.696601  \n",
       "1028             989.6           788.9   28                      32.768036  \n",
       "1029             864.5           761.5   28                      32.401235  \n",
       "\n",
       "[1030 rows x 9 columns]"
      ]
     },
     "execution_count": 38,
     "metadata": {},
     "output_type": "execute_result"
    }
   ],
   "source": [
    "df"
   ]
  },
  {
   "cell_type": "code",
   "execution_count": 39,
   "id": "operational-mouth",
   "metadata": {
    "execution": {
     "iopub.execute_input": "2021-05-10T10:51:37.407535Z",
     "iopub.status.busy": "2021-05-10T10:51:37.393894Z",
     "iopub.status.idle": "2021-05-10T10:51:40.005926Z",
     "shell.execute_reply": "2021-05-10T10:51:40.005260Z"
    },
    "papermill": {
     "duration": 2.724547,
     "end_time": "2021-05-10T10:51:40.006101",
     "exception": false,
     "start_time": "2021-05-10T10:51:37.281554",
     "status": "completed"
    },
    "tags": []
   },
   "outputs": [
    {
     "name": "stderr",
     "output_type": "stream",
     "text": [
      "/opt/conda/lib/python3.7/site-packages/seaborn/_decorators.py:43: FutureWarning: Pass the following variables as keyword args: x, y. From version 0.12, the only valid positional argument will be `data`, and passing other arguments without an explicit keyword will result in an error or misinterpretation.\n",
      "  FutureWarning\n",
      "/opt/conda/lib/python3.7/site-packages/seaborn/_decorators.py:43: FutureWarning: Pass the following variables as keyword args: x, y. From version 0.12, the only valid positional argument will be `data`, and passing other arguments without an explicit keyword will result in an error or misinterpretation.\n",
      "  FutureWarning\n",
      "/opt/conda/lib/python3.7/site-packages/seaborn/_decorators.py:43: FutureWarning: Pass the following variables as keyword args: x, y. From version 0.12, the only valid positional argument will be `data`, and passing other arguments without an explicit keyword will result in an error or misinterpretation.\n",
      "  FutureWarning\n",
      "/opt/conda/lib/python3.7/site-packages/seaborn/_decorators.py:43: FutureWarning: Pass the following variables as keyword args: x, y. From version 0.12, the only valid positional argument will be `data`, and passing other arguments without an explicit keyword will result in an error or misinterpretation.\n",
      "  FutureWarning\n",
      "/opt/conda/lib/python3.7/site-packages/seaborn/_decorators.py:43: FutureWarning: Pass the following variables as keyword args: x, y. From version 0.12, the only valid positional argument will be `data`, and passing other arguments without an explicit keyword will result in an error or misinterpretation.\n",
      "  FutureWarning\n",
      "/opt/conda/lib/python3.7/site-packages/seaborn/_decorators.py:43: FutureWarning: Pass the following variables as keyword args: x, y. From version 0.12, the only valid positional argument will be `data`, and passing other arguments without an explicit keyword will result in an error or misinterpretation.\n",
      "  FutureWarning\n",
      "/opt/conda/lib/python3.7/site-packages/seaborn/_decorators.py:43: FutureWarning: Pass the following variables as keyword args: x, y. From version 0.12, the only valid positional argument will be `data`, and passing other arguments without an explicit keyword will result in an error or misinterpretation.\n",
      "  FutureWarning\n",
      "/opt/conda/lib/python3.7/site-packages/seaborn/_decorators.py:43: FutureWarning: Pass the following variables as keyword args: x, y. From version 0.12, the only valid positional argument will be `data`, and passing other arguments without an explicit keyword will result in an error or misinterpretation.\n",
      "  FutureWarning\n"
     ]
    },
    {
     "data": {
      "text/plain": [
       "<AxesSubplot:xlabel='day', ylabel='Concrete compressive strength'>"
      ]
     },
     "execution_count": 39,
     "metadata": {},
     "output_type": "execute_result"
    },
    {
     "data": {
      "image/png": "[encoded data removed]",
      "text/plain": [
       "<Figure size 1440x1440 with 8 Axes>"
      ]
     },
     "metadata": {
      "needs_background": "light"
     },
     "output_type": "display_data"
    }
   ],
   "source": [
    "fig, ax = plt.subplots(4,2, figsize=(20,20))\n",
    "sns.regplot('Cement','Concrete compressive strength',data=df,ax=ax[0,0],color='r')\n",
    "sns.regplot('Blast Furnance Slag','Concrete compressive strength',data=df,ax=ax[0,1])\n",
    "sns.regplot('Blast Furnance Slag','Concrete compressive strength',data=df,ax=ax[1,0])\n",
    "sns.regplot('Fly Ash','Concrete compressive strength',data=df,ax=ax[1,1])\n",
    "sns.regplot('Water','Concrete compressive strength',data=df,ax=ax[2,0])\n",
    "sns.regplot('Superplasticizer','Concrete compressive strength',data=df,ax=ax[2,1])\n",
    "sns.regplot('Coarse Aggregate','Concrete compressive strength',data=df,ax=ax[3,0])\n",
    "#sns.regplot('Fine Aggregate','Concrete compressive strength',data=df,ax=ax[3,1])\n",
    "sns.regplot('day','Concrete compressive strength',data=df,ax=ax[3,1])"
   ]
  },
  {
   "cell_type": "code",
   "execution_count": 40,
   "id": "detected-animal",
   "metadata": {
    "execution": {
     "iopub.execute_input": "2021-05-10T10:51:40.151153Z",
     "iopub.status.busy": "2021-05-10T10:51:40.150425Z",
     "iopub.status.idle": "2021-05-10T10:51:40.153846Z",
     "shell.execute_reply": "2021-05-10T10:51:40.153186Z"
    },
    "papermill": {
     "duration": 0.077533,
     "end_time": "2021-05-10T10:51:40.154024",
     "exception": false,
     "start_time": "2021-05-10T10:51:40.076491",
     "status": "completed"
    },
    "tags": []
   },
   "outputs": [],
   "source": [
    "from sklearn.neighbors import KNeighborsRegressor"
   ]
  },
  {
   "cell_type": "code",
   "execution_count": 41,
   "id": "equipped-deficit",
   "metadata": {
    "execution": {
     "iopub.execute_input": "2021-05-10T10:51:40.302399Z",
     "iopub.status.busy": "2021-05-10T10:51:40.301634Z",
     "iopub.status.idle": "2021-05-10T10:51:40.306539Z",
     "shell.execute_reply": "2021-05-10T10:51:40.305894Z"
    },
    "papermill": {
     "duration": 0.083189,
     "end_time": "2021-05-10T10:51:40.306691",
     "exception": false,
     "start_time": "2021-05-10T10:51:40.223502",
     "status": "completed"
    },
    "tags": []
   },
   "outputs": [
    {
     "data": {
      "text/plain": [
       "KNeighborsRegressor()"
      ]
     },
     "execution_count": 41,
     "metadata": {},
     "output_type": "execute_result"
    }
   ],
   "source": [
    "knn = KNeighborsRegressor()\n",
    "knn.fit(X_train,y_train)\n"
   ]
  },
  {
   "cell_type": "code",
   "execution_count": 42,
   "id": "white-birthday",
   "metadata": {
    "execution": {
     "iopub.execute_input": "2021-05-10T10:51:40.453667Z",
     "iopub.status.busy": "2021-05-10T10:51:40.452702Z",
     "iopub.status.idle": "2021-05-10T10:51:40.458723Z",
     "shell.execute_reply": "2021-05-10T10:51:40.457914Z"
    },
    "papermill": {
     "duration": 0.082639,
     "end_time": "2021-05-10T10:51:40.458876",
     "exception": false,
     "start_time": "2021-05-10T10:51:40.376237",
     "status": "completed"
    },
    "tags": []
   },
   "outputs": [],
   "source": [
    "pred = knn.predict(X_test)"
   ]
  },
  {
   "cell_type": "code",
   "execution_count": 43,
   "id": "western-alabama",
   "metadata": {
    "execution": {
     "iopub.execute_input": "2021-05-10T10:51:40.603749Z",
     "iopub.status.busy": "2021-05-10T10:51:40.602600Z",
     "iopub.status.idle": "2021-05-10T10:51:40.605724Z",
     "shell.execute_reply": "2021-05-10T10:51:40.606202Z"
    },
    "papermill": {
     "duration": 0.07792,
     "end_time": "2021-05-10T10:51:40.606382",
     "exception": false,
     "start_time": "2021-05-10T10:51:40.528462",
     "status": "completed"
    },
    "tags": []
   },
   "outputs": [],
   "source": [
    "from sklearn.metrics import accuracy_score"
   ]
  },
  {
   "cell_type": "code",
   "execution_count": 44,
   "id": "analyzed-harvest",
   "metadata": {
    "execution": {
     "iopub.execute_input": "2021-05-10T10:51:40.754474Z",
     "iopub.status.busy": "2021-05-10T10:51:40.753495Z",
     "iopub.status.idle": "2021-05-10T10:51:40.765955Z",
     "shell.execute_reply": "2021-05-10T10:51:40.765287Z"
    },
    "papermill": {
     "duration": 0.089758,
     "end_time": "2021-05-10T10:51:40.766120",
     "exception": false,
     "start_time": "2021-05-10T10:51:40.676362",
     "status": "completed"
    },
    "tags": []
   },
   "outputs": [
    {
     "data": {
      "text/plain": [
       "0.8000479802546167"
      ]
     },
     "execution_count": 44,
     "metadata": {},
     "output_type": "execute_result"
    }
   ],
   "source": [
    "knn.score(X_train,y_train)"
   ]
  },
  {
   "cell_type": "code",
   "execution_count": 45,
   "id": "hairy-latest",
   "metadata": {
    "execution": {
     "iopub.execute_input": "2021-05-10T10:51:40.915094Z",
     "iopub.status.busy": "2021-05-10T10:51:40.914232Z",
     "iopub.status.idle": "2021-05-10T10:51:40.916526Z",
     "shell.execute_reply": "2021-05-10T10:51:40.917089Z"
    },
    "papermill": {
     "duration": 0.078368,
     "end_time": "2021-05-10T10:51:40.917265",
     "exception": false,
     "start_time": "2021-05-10T10:51:40.838897",
     "status": "completed"
    },
    "tags": []
   },
   "outputs": [],
   "source": [
    "from sklearn.metrics import mean_squared_error"
   ]
  },
  {
   "cell_type": "code",
   "execution_count": 46,
   "id": "convertible-masters",
   "metadata": {
    "execution": {
     "iopub.execute_input": "2021-05-10T10:51:41.066122Z",
     "iopub.status.busy": "2021-05-10T10:51:41.065409Z",
     "iopub.status.idle": "2021-05-10T10:51:41.071315Z",
     "shell.execute_reply": "2021-05-10T10:51:41.071908Z"
    },
    "papermill": {
     "duration": 0.082557,
     "end_time": "2021-05-10T10:51:41.072112",
     "exception": false,
     "start_time": "2021-05-10T10:51:40.989555",
     "status": "completed"
    },
    "tags": []
   },
   "outputs": [
    {
     "data": {
      "text/plain": [
       "5.65967822517047"
      ]
     },
     "execution_count": 46,
     "metadata": {},
     "output_type": "execute_result"
    }
   ],
   "source": [
    "#Linear Regression Model\n",
    "#root mean squared error is good when the value is less\n",
    "np.sqrt(mean_squared_error(y_test,predict))"
   ]
  },
  {
   "cell_type": "code",
   "execution_count": 47,
   "id": "thermal-endorsement",
   "metadata": {
    "execution": {
     "iopub.execute_input": "2021-05-10T10:51:41.217862Z",
     "iopub.status.busy": "2021-05-10T10:51:41.217196Z",
     "iopub.status.idle": "2021-05-10T10:51:41.224509Z",
     "shell.execute_reply": "2021-05-10T10:51:41.223757Z"
    },
    "papermill": {
     "duration": 0.080998,
     "end_time": "2021-05-10T10:51:41.224664",
     "exception": false,
     "start_time": "2021-05-10T10:51:41.143666",
     "status": "completed"
    },
    "tags": []
   },
   "outputs": [
    {
     "data": {
      "text/plain": [
       "8.238386013632075"
      ]
     },
     "execution_count": 47,
     "metadata": {},
     "output_type": "execute_result"
    }
   ],
   "source": [
    "#KNN \n",
    "np.sqrt(mean_squared_error(y_test,pred))"
   ]
  },
  {
   "cell_type": "code",
   "execution_count": 48,
   "id": "educational-participation",
   "metadata": {
    "execution": {
     "iopub.execute_input": "2021-05-10T10:51:41.370707Z",
     "iopub.status.busy": "2021-05-10T10:51:41.369909Z",
     "iopub.status.idle": "2021-05-10T10:51:41.374881Z",
     "shell.execute_reply": "2021-05-10T10:51:41.374375Z"
    },
    "papermill": {
     "duration": 0.078971,
     "end_time": "2021-05-10T10:51:41.375047",
     "exception": false,
     "start_time": "2021-05-10T10:51:41.296076",
     "status": "completed"
    },
    "tags": []
   },
   "outputs": [],
   "source": [
    "from sklearn.tree import DecisionTreeRegressor"
   ]
  },
  {
   "cell_type": "code",
   "execution_count": 49,
   "id": "intensive-guatemala",
   "metadata": {
    "execution": {
     "iopub.execute_input": "2021-05-10T10:51:41.525605Z",
     "iopub.status.busy": "2021-05-10T10:51:41.524911Z",
     "iopub.status.idle": "2021-05-10T10:51:41.539218Z",
     "shell.execute_reply": "2021-05-10T10:51:41.538483Z"
    },
    "papermill": {
     "duration": 0.092782,
     "end_time": "2021-05-10T10:51:41.539371",
     "exception": false,
     "start_time": "2021-05-10T10:51:41.446589",
     "status": "completed"
    },
    "tags": []
   },
   "outputs": [
    {
     "data": {
      "text/plain": [
       "0.9975417004090303"
      ]
     },
     "execution_count": 49,
     "metadata": {},
     "output_type": "execute_result"
    }
   ],
   "source": [
    "dtr = DecisionTreeRegressor()\n",
    "dtr.fit(X_train,y_train)\n",
    "dtr_predict = dtr.predict(X_test)\n",
    "\n",
    "dtr.score(X_train,y_train)"
   ]
  },
  {
   "cell_type": "code",
   "execution_count": 50,
   "id": "handy-temple",
   "metadata": {
    "execution": {
     "iopub.execute_input": "2021-05-10T10:51:41.688484Z",
     "iopub.status.busy": "2021-05-10T10:51:41.687516Z",
     "iopub.status.idle": "2021-05-10T10:51:41.690129Z",
     "shell.execute_reply": "2021-05-10T10:51:41.690611Z"
    },
    "papermill": {
     "duration": 0.079787,
     "end_time": "2021-05-10T10:51:41.690816",
     "exception": false,
     "start_time": "2021-05-10T10:51:41.611029",
     "status": "completed"
    },
    "tags": []
   },
   "outputs": [],
   "source": [
    "from sklearn.metrics import accuracy_score, mean_absolute_error, mean_absolute_percentage_error"
   ]
  },
  {
   "cell_type": "code",
   "execution_count": 51,
   "id": "collect-ensemble",
   "metadata": {
    "execution": {
     "iopub.execute_input": "2021-05-10T10:51:41.842810Z",
     "iopub.status.busy": "2021-05-10T10:51:41.841940Z",
     "iopub.status.idle": "2021-05-10T10:51:41.846642Z",
     "shell.execute_reply": "2021-05-10T10:51:41.847452Z"
    },
    "papermill": {
     "duration": 0.084301,
     "end_time": "2021-05-10T10:51:41.847692",
     "exception": false,
     "start_time": "2021-05-10T10:51:41.763391",
     "status": "completed"
    },
    "tags": []
   },
   "outputs": [
    {
     "name": "stdout",
     "output_type": "stream",
     "text": [
      "MAE: 4.47149905779681\n"
     ]
    }
   ],
   "source": [
    "print('MAE:',mean_absolute_error(y_test,dtr_predict))"
   ]
  },
  {
   "cell_type": "code",
   "execution_count": 52,
   "id": "flush-perth",
   "metadata": {
    "execution": {
     "iopub.execute_input": "2021-05-10T10:51:42.003541Z",
     "iopub.status.busy": "2021-05-10T10:51:42.002707Z",
     "iopub.status.idle": "2021-05-10T10:51:42.007365Z",
     "shell.execute_reply": "2021-05-10T10:51:42.006686Z"
    },
    "papermill": {
     "duration": 0.084922,
     "end_time": "2021-05-10T10:51:42.007512",
     "exception": false,
     "start_time": "2021-05-10T10:51:41.922590",
     "status": "completed"
    },
    "tags": []
   },
   "outputs": [
    {
     "name": "stdout",
     "output_type": "stream",
     "text": [
      "RMSE: 6.80650397426396\n"
     ]
    }
   ],
   "source": [
    "#RMSE\n",
    "print('RMSE:',np.sqrt(mean_squared_error(y_test,dtr_predict)))"
   ]
  },
  {
   "cell_type": "code",
   "execution_count": 53,
   "id": "closing-radical",
   "metadata": {
    "execution": {
     "iopub.execute_input": "2021-05-10T10:51:42.162402Z",
     "iopub.status.busy": "2021-05-10T10:51:42.161553Z",
     "iopub.status.idle": "2021-05-10T10:51:42.164987Z",
     "shell.execute_reply": "2021-05-10T10:51:42.165449Z"
    },
    "papermill": {
     "duration": 0.0823,
     "end_time": "2021-05-10T10:51:42.165618",
     "exception": false,
     "start_time": "2021-05-10T10:51:42.083318",
     "status": "completed"
    },
    "tags": []
   },
   "outputs": [
    {
     "name": "stdout",
     "output_type": "stream",
     "text": [
      "MAPE: 0.14236056062934876\n"
     ]
    }
   ],
   "source": [
    "print('MAPE:',mean_absolute_percentage_error(y_test,dtr_predict))"
   ]
  },
  {
   "cell_type": "code",
   "execution_count": 54,
   "id": "electrical-cologne",
   "metadata": {
    "execution": {
     "iopub.execute_input": "2021-05-10T10:51:42.322476Z",
     "iopub.status.busy": "2021-05-10T10:51:42.321414Z",
     "iopub.status.idle": "2021-05-10T10:51:42.326221Z",
     "shell.execute_reply": "2021-05-10T10:51:42.325699Z"
    },
    "papermill": {
     "duration": 0.087418,
     "end_time": "2021-05-10T10:51:42.326371",
     "exception": false,
     "start_time": "2021-05-10T10:51:42.238953",
     "status": "completed"
    },
    "tags": []
   },
   "outputs": [
    {
     "data": {
      "text/plain": [
       "array([51.73276323, 39.39665864, 71.29871316, 35.3011712 , 10.53588276,\n",
       "       44.27814872, 23.69660064, 51.0556978 , 33.72916592, 38.89334116,\n",
       "       44.38846488, 17.20035777, 36.3009114 , 35.10122316, 17.8229546 ,\n",
       "       20.41607384, 40.06200298, 21.81984697, 37.17103011, 31.81242264,\n",
       "       38.80439876, 45.3675208 , 45.08483564, 19.41564416, 33.72916592,\n",
       "       33.94290348, 12.73462172, 41.05346947, 58.60546   , 14.98920824,\n",
       "       41.05346947, 32.72253096, 39.70002808, 51.0556978 , 19.41564416,\n",
       "       36.44776979, 33.72916592, 41.540929  , 10.35455057, 47.401475  ,\n",
       "       18.91232668,  2.33180783, 43.25082948, 46.68441996,  6.8085755 ,\n",
       "       61.09446836, 61.21512666, 34.48758952, 27.53077668,  8.06342182,\n",
       "       57.21823429, 47.7144971 , 24.3385028 , 17.20035777, 44.13335876,\n",
       "       35.3011712 , 31.81242264, 11.48391226, 38.56239268, 19.69143456,\n",
       "       41.540929  , 13.52062436, 34.55653712, 54.09628696, 28.02168359,\n",
       "       18.03393426, 33.39821744, 12.18097249, 31.53663224, 22.31833812,\n",
       "       11.36256448, 27.234302  ,  6.46728488, 44.38846488, 26.14768782,\n",
       "       13.81709904, 51.73276323, 51.0556978 , 59.59042572,  9.61750072,\n",
       "       39.35804798, 49.20100736, 38.89334116, 34.20490436, 43.6982994 ,\n",
       "       35.3011712 , 44.6118551 , 33.7153764 , 19.41564416, 20.72564856,\n",
       "       31.84000168, 73.69808964,  9.4458212 , 56.61907964, 33.41890172,\n",
       "       46.93194184, 22.7182342 , 40.2309246 , 19.1991487 , 34.48758952,\n",
       "       30.14389072, 43.79827342, 33.11691123, 24.00065956, 69.29923276,\n",
       "       12.05204048, 56.06129356, 30.12320644, 51.25564584, 67.568648  ,\n",
       "       39.35804798, 45.08483564, 25.89396066, 45.3675208 , 35.75425543,\n",
       "       54.76507868, 20.27748916, 33.75674496, 55.50971276, 33.41890172,\n",
       "       17.23621052, 27.62730332, 46.6430514 , 27.3377234 , 24.5798194 ,\n",
       "       48.67011084, 52.61391356, 49.20100736, 42.13387836, 32.39847724,\n",
       "       11.48391226, 29.59230992, 17.3403214 , 65.99664272,  6.94095489,\n",
       "       41.15137506, 31.44700036, 43.58177796, 22.94576128, 37.36339392,\n",
       "       28.46846404, 31.1787942 , 21.29101888, 32.32952964, 46.23419213,\n",
       "       43.57833058, 26.8550902 , 13.19657064,  8.06342182, 18.91232668,\n",
       "       34.73580088, 18.03393426, 39.00464228, 18.12632404, 33.56369168,\n",
       "       42.34761592, 23.8358748 , 69.65776028, 39.39665864, 39.58281716,\n",
       "       17.16588397, 60.19814956, 34.67374804, 52.51669744, 33.39821744,\n",
       "       68.75060685, 41.8367142 , 20.72564856, 38.65891932, 21.78054684,\n",
       "       56.8472962 , 10.35455057, 24.98661024, 40.679084  , 36.3498642 ,\n",
       "        7.31534036, 27.234302  , 50.60064364, 39.58281716, 38.89334116,\n",
       "       30.88163004, 26.91714304, 67.568648  , 31.35047372, 38.50033984,\n",
       "       51.73276323, 22.43554904, 38.50033984, 28.29609504, 14.98920824,\n",
       "       25.510612  , 45.3675208 , 33.56369168, 39.00464228, 27.62730332,\n",
       "       29.55094136, 45.08483564, 18.03393426, 19.98790924, 25.74503384,\n",
       "       26.04840328, 55.25460664, 18.41590396, 35.10122316, 65.69721315,\n",
       "       38.89334116])"
      ]
     },
     "execution_count": 54,
     "metadata": {},
     "output_type": "execute_result"
    }
   ],
   "source": [
    "dtr_predict"
   ]
  }
 ],
 "metadata": {
  "kernelspec": {
   "display_name": "Python 3",
   "language": "python",
   "name": "python3"
  },
  "language_info": {
   "codemirror_mode": {
    "name": "ipython",
    "version": 3
   },
   "file_extension": ".py",
   "mimetype": "text/x-python",
   "name": "python",
   "nbconvert_exporter": "python",
   "pygments_lexer": "ipython3",
   "version": "3.7.10"
  },
  "papermill": {
   "default_parameters": {},
   "duration": 24.995849,
   "end_time": "2021-05-10T10:51:44.062526",
   "environment_variables": {},
   "exception": null,
   "input_path": "__notebook__.ipynb",
   "output_path": "__notebook__.ipynb",
   "parameters": {},
   "start_time": "2021-05-10T10:51:19.066677",
   "version": "2.3.3"
  }
 },
 "nbformat": 4,
 "nbformat_minor": 5
}
