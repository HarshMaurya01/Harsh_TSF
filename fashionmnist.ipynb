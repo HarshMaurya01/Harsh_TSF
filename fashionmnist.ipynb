{
 "cells": [
  {
   "cell_type": "code",
   "execution_count": 1,
   "id": "loaded-bailey",
   "metadata": {
    "_cell_guid": "b1076dfc-b9ad-4769-8c92-a6c4dae69d19",
    "_uuid": "8f2839f25d086af736a60e9eeb907d3b93b6e0e5",
    "execution": {
     "iopub.execute_input": "2021-05-14T05:01:05.584384Z",
     "iopub.status.busy": "2021-05-14T05:01:05.583864Z",
     "iopub.status.idle": "2021-05-14T05:01:07.702535Z",
     "shell.execute_reply": "2021-05-14T05:01:07.703039Z"
    },
    "papermill": {
     "duration": 2.177089,
     "end_time": "2021-05-14T05:01:07.703319",
     "exception": false,
     "start_time": "2021-05-14T05:01:05.526230",
     "status": "completed"
    },
    "tags": []
   },
   "outputs": [],
   "source": [
    "import numpy as np\n",
    "import pandas as pd\n",
    "import matplotlib.pyplot as plt\n",
    "import seaborn as sns\n",
    "import statsmodels.api as sm\n",
    "from scipy import stats"
   ]
  },
  {
   "cell_type": "code",
   "execution_count": 2,
   "id": "technical-financing",
   "metadata": {
    "execution": {
     "iopub.execute_input": "2021-05-14T05:01:07.802900Z",
     "iopub.status.busy": "2021-05-14T05:01:07.802326Z",
     "iopub.status.idle": "2021-05-14T05:01:13.527197Z",
     "shell.execute_reply": "2021-05-14T05:01:13.526607Z"
    },
    "papermill": {
     "duration": 5.775557,
     "end_time": "2021-05-14T05:01:13.527536",
     "exception": false,
     "start_time": "2021-05-14T05:01:07.751979",
     "status": "completed"
    },
    "tags": []
   },
   "outputs": [],
   "source": [
    "df = pd.read_csv('../input/fashionmnist/fashion-mnist_train.csv')\n",
    "test = pd.read_csv('../input/fashionmnist/fashion-mnist_test.csv')"
   ]
  },
  {
   "cell_type": "code",
   "execution_count": 3,
   "id": "suffering-hello",
   "metadata": {
    "execution": {
     "iopub.execute_input": "2021-05-14T05:01:13.674331Z",
     "iopub.status.busy": "2021-05-14T05:01:13.673653Z",
     "iopub.status.idle": "2021-05-14T05:01:13.709107Z",
     "shell.execute_reply": "2021-05-14T05:01:13.709583Z"
    },
    "papermill": {
     "duration": 0.113904,
     "end_time": "2021-05-14T05:01:13.709787",
     "exception": false,
     "start_time": "2021-05-14T05:01:13.595883",
     "status": "completed"
    },
    "tags": []
   },
   "outputs": [
    {
     "data": {
      "text/html": [
       "<div>\n",
       "<style scoped>\n",
       "    .dataframe tbody tr th:only-of-type {\n",
       "        vertical-align: middle;\n",
       "    }\n",
       "\n",
       "    .dataframe tbody tr th {\n",
       "        vertical-align: top;\n",
       "    }\n",
       "\n",
       "    .dataframe thead th {\n",
       "        text-align: right;\n",
       "    }\n",
       "</style>\n",
       "<table border=\"1\" class=\"dataframe\">\n",
       "  <thead>\n",
       "    <tr style=\"text-align: right;\">\n",
       "      <th></th>\n",
       "      <th>label</th>\n",
       "      <th>pixel1</th>\n",
       "      <th>pixel2</th>\n",
       "      <th>pixel3</th>\n",
       "      <th>pixel4</th>\n",
       "      <th>pixel5</th>\n",
       "      <th>pixel6</th>\n",
       "      <th>pixel7</th>\n",
       "      <th>pixel8</th>\n",
       "      <th>pixel9</th>\n",
       "      <th>...</th>\n",
       "      <th>pixel775</th>\n",
       "      <th>pixel776</th>\n",
       "      <th>pixel777</th>\n",
       "      <th>pixel778</th>\n",
       "      <th>pixel779</th>\n",
       "      <th>pixel780</th>\n",
       "      <th>pixel781</th>\n",
       "      <th>pixel782</th>\n",
       "      <th>pixel783</th>\n",
       "      <th>pixel784</th>\n",
       "    </tr>\n",
       "  </thead>\n",
       "  <tbody>\n",
       "    <tr>\n",
       "      <th>0</th>\n",
       "      <td>2</td>\n",
       "      <td>0</td>\n",
       "      <td>0</td>\n",
       "      <td>0</td>\n",
       "      <td>0</td>\n",
       "      <td>0</td>\n",
       "      <td>0</td>\n",
       "      <td>0</td>\n",
       "      <td>0</td>\n",
       "      <td>0</td>\n",
       "      <td>...</td>\n",
       "      <td>0</td>\n",
       "      <td>0</td>\n",
       "      <td>0</td>\n",
       "      <td>0</td>\n",
       "      <td>0</td>\n",
       "      <td>0</td>\n",
       "      <td>0</td>\n",
       "      <td>0</td>\n",
       "      <td>0</td>\n",
       "      <td>0</td>\n",
       "    </tr>\n",
       "    <tr>\n",
       "      <th>1</th>\n",
       "      <td>9</td>\n",
       "      <td>0</td>\n",
       "      <td>0</td>\n",
       "      <td>0</td>\n",
       "      <td>0</td>\n",
       "      <td>0</td>\n",
       "      <td>0</td>\n",
       "      <td>0</td>\n",
       "      <td>0</td>\n",
       "      <td>0</td>\n",
       "      <td>...</td>\n",
       "      <td>0</td>\n",
       "      <td>0</td>\n",
       "      <td>0</td>\n",
       "      <td>0</td>\n",
       "      <td>0</td>\n",
       "      <td>0</td>\n",
       "      <td>0</td>\n",
       "      <td>0</td>\n",
       "      <td>0</td>\n",
       "      <td>0</td>\n",
       "    </tr>\n",
       "    <tr>\n",
       "      <th>2</th>\n",
       "      <td>6</td>\n",
       "      <td>0</td>\n",
       "      <td>0</td>\n",
       "      <td>0</td>\n",
       "      <td>0</td>\n",
       "      <td>0</td>\n",
       "      <td>0</td>\n",
       "      <td>0</td>\n",
       "      <td>5</td>\n",
       "      <td>0</td>\n",
       "      <td>...</td>\n",
       "      <td>0</td>\n",
       "      <td>0</td>\n",
       "      <td>0</td>\n",
       "      <td>30</td>\n",
       "      <td>43</td>\n",
       "      <td>0</td>\n",
       "      <td>0</td>\n",
       "      <td>0</td>\n",
       "      <td>0</td>\n",
       "      <td>0</td>\n",
       "    </tr>\n",
       "    <tr>\n",
       "      <th>3</th>\n",
       "      <td>0</td>\n",
       "      <td>0</td>\n",
       "      <td>0</td>\n",
       "      <td>0</td>\n",
       "      <td>1</td>\n",
       "      <td>2</td>\n",
       "      <td>0</td>\n",
       "      <td>0</td>\n",
       "      <td>0</td>\n",
       "      <td>0</td>\n",
       "      <td>...</td>\n",
       "      <td>3</td>\n",
       "      <td>0</td>\n",
       "      <td>0</td>\n",
       "      <td>0</td>\n",
       "      <td>0</td>\n",
       "      <td>1</td>\n",
       "      <td>0</td>\n",
       "      <td>0</td>\n",
       "      <td>0</td>\n",
       "      <td>0</td>\n",
       "    </tr>\n",
       "    <tr>\n",
       "      <th>4</th>\n",
       "      <td>3</td>\n",
       "      <td>0</td>\n",
       "      <td>0</td>\n",
       "      <td>0</td>\n",
       "      <td>0</td>\n",
       "      <td>0</td>\n",
       "      <td>0</td>\n",
       "      <td>0</td>\n",
       "      <td>0</td>\n",
       "      <td>0</td>\n",
       "      <td>...</td>\n",
       "      <td>0</td>\n",
       "      <td>0</td>\n",
       "      <td>0</td>\n",
       "      <td>0</td>\n",
       "      <td>0</td>\n",
       "      <td>0</td>\n",
       "      <td>0</td>\n",
       "      <td>0</td>\n",
       "      <td>0</td>\n",
       "      <td>0</td>\n",
       "    </tr>\n",
       "    <tr>\n",
       "      <th>...</th>\n",
       "      <td>...</td>\n",
       "      <td>...</td>\n",
       "      <td>...</td>\n",
       "      <td>...</td>\n",
       "      <td>...</td>\n",
       "      <td>...</td>\n",
       "      <td>...</td>\n",
       "      <td>...</td>\n",
       "      <td>...</td>\n",
       "      <td>...</td>\n",
       "      <td>...</td>\n",
       "      <td>...</td>\n",
       "      <td>...</td>\n",
       "      <td>...</td>\n",
       "      <td>...</td>\n",
       "      <td>...</td>\n",
       "      <td>...</td>\n",
       "      <td>...</td>\n",
       "      <td>...</td>\n",
       "      <td>...</td>\n",
       "      <td>...</td>\n",
       "    </tr>\n",
       "    <tr>\n",
       "      <th>59995</th>\n",
       "      <td>9</td>\n",
       "      <td>0</td>\n",
       "      <td>0</td>\n",
       "      <td>0</td>\n",
       "      <td>0</td>\n",
       "      <td>0</td>\n",
       "      <td>0</td>\n",
       "      <td>0</td>\n",
       "      <td>0</td>\n",
       "      <td>0</td>\n",
       "      <td>...</td>\n",
       "      <td>0</td>\n",
       "      <td>0</td>\n",
       "      <td>0</td>\n",
       "      <td>0</td>\n",
       "      <td>0</td>\n",
       "      <td>0</td>\n",
       "      <td>0</td>\n",
       "      <td>0</td>\n",
       "      <td>0</td>\n",
       "      <td>0</td>\n",
       "    </tr>\n",
       "    <tr>\n",
       "      <th>59996</th>\n",
       "      <td>1</td>\n",
       "      <td>0</td>\n",
       "      <td>0</td>\n",
       "      <td>0</td>\n",
       "      <td>0</td>\n",
       "      <td>0</td>\n",
       "      <td>0</td>\n",
       "      <td>0</td>\n",
       "      <td>0</td>\n",
       "      <td>0</td>\n",
       "      <td>...</td>\n",
       "      <td>73</td>\n",
       "      <td>0</td>\n",
       "      <td>0</td>\n",
       "      <td>0</td>\n",
       "      <td>0</td>\n",
       "      <td>0</td>\n",
       "      <td>0</td>\n",
       "      <td>0</td>\n",
       "      <td>0</td>\n",
       "      <td>0</td>\n",
       "    </tr>\n",
       "    <tr>\n",
       "      <th>59997</th>\n",
       "      <td>8</td>\n",
       "      <td>0</td>\n",
       "      <td>0</td>\n",
       "      <td>0</td>\n",
       "      <td>0</td>\n",
       "      <td>0</td>\n",
       "      <td>0</td>\n",
       "      <td>0</td>\n",
       "      <td>0</td>\n",
       "      <td>0</td>\n",
       "      <td>...</td>\n",
       "      <td>160</td>\n",
       "      <td>162</td>\n",
       "      <td>163</td>\n",
       "      <td>135</td>\n",
       "      <td>94</td>\n",
       "      <td>0</td>\n",
       "      <td>0</td>\n",
       "      <td>0</td>\n",
       "      <td>0</td>\n",
       "      <td>0</td>\n",
       "    </tr>\n",
       "    <tr>\n",
       "      <th>59998</th>\n",
       "      <td>8</td>\n",
       "      <td>0</td>\n",
       "      <td>0</td>\n",
       "      <td>0</td>\n",
       "      <td>0</td>\n",
       "      <td>0</td>\n",
       "      <td>0</td>\n",
       "      <td>0</td>\n",
       "      <td>0</td>\n",
       "      <td>0</td>\n",
       "      <td>...</td>\n",
       "      <td>0</td>\n",
       "      <td>0</td>\n",
       "      <td>0</td>\n",
       "      <td>0</td>\n",
       "      <td>0</td>\n",
       "      <td>0</td>\n",
       "      <td>0</td>\n",
       "      <td>0</td>\n",
       "      <td>0</td>\n",
       "      <td>0</td>\n",
       "    </tr>\n",
       "    <tr>\n",
       "      <th>59999</th>\n",
       "      <td>7</td>\n",
       "      <td>0</td>\n",
       "      <td>0</td>\n",
       "      <td>0</td>\n",
       "      <td>0</td>\n",
       "      <td>0</td>\n",
       "      <td>0</td>\n",
       "      <td>0</td>\n",
       "      <td>0</td>\n",
       "      <td>0</td>\n",
       "      <td>...</td>\n",
       "      <td>0</td>\n",
       "      <td>0</td>\n",
       "      <td>0</td>\n",
       "      <td>0</td>\n",
       "      <td>0</td>\n",
       "      <td>0</td>\n",
       "      <td>0</td>\n",
       "      <td>0</td>\n",
       "      <td>0</td>\n",
       "      <td>0</td>\n",
       "    </tr>\n",
       "  </tbody>\n",
       "</table>\n",
       "<p>60000 rows × 785 columns</p>\n",
       "</div>"
      ],
      "text/plain": [
       "       label  pixel1  pixel2  pixel3  pixel4  pixel5  pixel6  pixel7  pixel8  \\\n",
       "0          2       0       0       0       0       0       0       0       0   \n",
       "1          9       0       0       0       0       0       0       0       0   \n",
       "2          6       0       0       0       0       0       0       0       5   \n",
       "3          0       0       0       0       1       2       0       0       0   \n",
       "4          3       0       0       0       0       0       0       0       0   \n",
       "...      ...     ...     ...     ...     ...     ...     ...     ...     ...   \n",
       "59995      9       0       0       0       0       0       0       0       0   \n",
       "59996      1       0       0       0       0       0       0       0       0   \n",
       "59997      8       0       0       0       0       0       0       0       0   \n",
       "59998      8       0       0       0       0       0       0       0       0   \n",
       "59999      7       0       0       0       0       0       0       0       0   \n",
       "\n",
       "       pixel9  ...  pixel775  pixel776  pixel777  pixel778  pixel779  \\\n",
       "0           0  ...         0         0         0         0         0   \n",
       "1           0  ...         0         0         0         0         0   \n",
       "2           0  ...         0         0         0        30        43   \n",
       "3           0  ...         3         0         0         0         0   \n",
       "4           0  ...         0         0         0         0         0   \n",
       "...       ...  ...       ...       ...       ...       ...       ...   \n",
       "59995       0  ...         0         0         0         0         0   \n",
       "59996       0  ...        73         0         0         0         0   \n",
       "59997       0  ...       160       162       163       135        94   \n",
       "59998       0  ...         0         0         0         0         0   \n",
       "59999       0  ...         0         0         0         0         0   \n",
       "\n",
       "       pixel780  pixel781  pixel782  pixel783  pixel784  \n",
       "0             0         0         0         0         0  \n",
       "1             0         0         0         0         0  \n",
       "2             0         0         0         0         0  \n",
       "3             1         0         0         0         0  \n",
       "4             0         0         0         0         0  \n",
       "...         ...       ...       ...       ...       ...  \n",
       "59995         0         0         0         0         0  \n",
       "59996         0         0         0         0         0  \n",
       "59997         0         0         0         0         0  \n",
       "59998         0         0         0         0         0  \n",
       "59999         0         0         0         0         0  \n",
       "\n",
       "[60000 rows x 785 columns]"
      ]
     },
     "execution_count": 3,
     "metadata": {},
     "output_type": "execute_result"
    }
   ],
   "source": [
    "df"
   ]
  },
  {
   "cell_type": "code",
   "execution_count": 4,
   "id": "exact-antarctica",
   "metadata": {
    "execution": {
     "iopub.execute_input": "2021-05-14T05:01:13.869345Z",
     "iopub.status.busy": "2021-05-14T05:01:13.868729Z",
     "iopub.status.idle": "2021-05-14T05:01:13.915402Z",
     "shell.execute_reply": "2021-05-14T05:01:13.916129Z"
    },
    "papermill": {
     "duration": 0.135282,
     "end_time": "2021-05-14T05:01:13.916350",
     "exception": false,
     "start_time": "2021-05-14T05:01:13.781068",
     "status": "completed"
    },
    "tags": []
   },
   "outputs": [
    {
     "name": "stdout",
     "output_type": "stream",
     "text": [
      "<class 'pandas.core.frame.DataFrame'>\n",
      "RangeIndex: 60000 entries, 0 to 59999\n",
      "Columns: 785 entries, label to pixel784\n",
      "dtypes: int64(785)\n",
      "memory usage: 359.3 MB\n"
     ]
    }
   ],
   "source": [
    "df.info()"
   ]
  },
  {
   "cell_type": "code",
   "execution_count": 5,
   "id": "gentle-manitoba",
   "metadata": {
    "execution": {
     "iopub.execute_input": "2021-05-14T05:01:14.077728Z",
     "iopub.status.busy": "2021-05-14T05:01:14.076375Z",
     "iopub.status.idle": "2021-05-14T05:01:16.810390Z",
     "shell.execute_reply": "2021-05-14T05:01:16.809938Z"
    },
    "papermill": {
     "duration": 2.848821,
     "end_time": "2021-05-14T05:01:16.810494",
     "exception": false,
     "start_time": "2021-05-14T05:01:13.961673",
     "status": "completed"
    },
    "tags": []
   },
   "outputs": [
    {
     "data": {
      "text/html": [
       "<div>\n",
       "<style scoped>\n",
       "    .dataframe tbody tr th:only-of-type {\n",
       "        vertical-align: middle;\n",
       "    }\n",
       "\n",
       "    .dataframe tbody tr th {\n",
       "        vertical-align: top;\n",
       "    }\n",
       "\n",
       "    .dataframe thead th {\n",
       "        text-align: right;\n",
       "    }\n",
       "</style>\n",
       "<table border=\"1\" class=\"dataframe\">\n",
       "  <thead>\n",
       "    <tr style=\"text-align: right;\">\n",
       "      <th></th>\n",
       "      <th>label</th>\n",
       "      <th>pixel1</th>\n",
       "      <th>pixel2</th>\n",
       "      <th>pixel3</th>\n",
       "      <th>pixel4</th>\n",
       "      <th>pixel5</th>\n",
       "      <th>pixel6</th>\n",
       "      <th>pixel7</th>\n",
       "      <th>pixel8</th>\n",
       "      <th>pixel9</th>\n",
       "      <th>...</th>\n",
       "      <th>pixel775</th>\n",
       "      <th>pixel776</th>\n",
       "      <th>pixel777</th>\n",
       "      <th>pixel778</th>\n",
       "      <th>pixel779</th>\n",
       "      <th>pixel780</th>\n",
       "      <th>pixel781</th>\n",
       "      <th>pixel782</th>\n",
       "      <th>pixel783</th>\n",
       "      <th>pixel784</th>\n",
       "    </tr>\n",
       "  </thead>\n",
       "  <tbody>\n",
       "    <tr>\n",
       "      <th>count</th>\n",
       "      <td>60000.000000</td>\n",
       "      <td>60000.000000</td>\n",
       "      <td>60000.000000</td>\n",
       "      <td>60000.000000</td>\n",
       "      <td>60000.000000</td>\n",
       "      <td>60000.000000</td>\n",
       "      <td>60000.000000</td>\n",
       "      <td>60000.000000</td>\n",
       "      <td>60000.000000</td>\n",
       "      <td>60000.000000</td>\n",
       "      <td>...</td>\n",
       "      <td>60000.000000</td>\n",
       "      <td>60000.000000</td>\n",
       "      <td>60000.000000</td>\n",
       "      <td>60000.000000</td>\n",
       "      <td>60000.000000</td>\n",
       "      <td>60000.000000</td>\n",
       "      <td>60000.000000</td>\n",
       "      <td>60000.000000</td>\n",
       "      <td>60000.000000</td>\n",
       "      <td>60000.00000</td>\n",
       "    </tr>\n",
       "    <tr>\n",
       "      <th>mean</th>\n",
       "      <td>4.500000</td>\n",
       "      <td>0.000900</td>\n",
       "      <td>0.006150</td>\n",
       "      <td>0.035333</td>\n",
       "      <td>0.101933</td>\n",
       "      <td>0.247967</td>\n",
       "      <td>0.411467</td>\n",
       "      <td>0.805767</td>\n",
       "      <td>2.198283</td>\n",
       "      <td>5.682000</td>\n",
       "      <td>...</td>\n",
       "      <td>34.625400</td>\n",
       "      <td>23.300683</td>\n",
       "      <td>16.588267</td>\n",
       "      <td>17.869433</td>\n",
       "      <td>22.814817</td>\n",
       "      <td>17.911483</td>\n",
       "      <td>8.520633</td>\n",
       "      <td>2.753300</td>\n",
       "      <td>0.855517</td>\n",
       "      <td>0.07025</td>\n",
       "    </tr>\n",
       "    <tr>\n",
       "      <th>std</th>\n",
       "      <td>2.872305</td>\n",
       "      <td>0.094689</td>\n",
       "      <td>0.271011</td>\n",
       "      <td>1.222324</td>\n",
       "      <td>2.452871</td>\n",
       "      <td>4.306912</td>\n",
       "      <td>5.836188</td>\n",
       "      <td>8.215169</td>\n",
       "      <td>14.093378</td>\n",
       "      <td>23.819481</td>\n",
       "      <td>...</td>\n",
       "      <td>57.545242</td>\n",
       "      <td>48.854427</td>\n",
       "      <td>41.979611</td>\n",
       "      <td>43.966032</td>\n",
       "      <td>51.830477</td>\n",
       "      <td>45.149388</td>\n",
       "      <td>29.614859</td>\n",
       "      <td>17.397652</td>\n",
       "      <td>9.356960</td>\n",
       "      <td>2.12587</td>\n",
       "    </tr>\n",
       "    <tr>\n",
       "      <th>min</th>\n",
       "      <td>0.000000</td>\n",
       "      <td>0.000000</td>\n",
       "      <td>0.000000</td>\n",
       "      <td>0.000000</td>\n",
       "      <td>0.000000</td>\n",
       "      <td>0.000000</td>\n",
       "      <td>0.000000</td>\n",
       "      <td>0.000000</td>\n",
       "      <td>0.000000</td>\n",
       "      <td>0.000000</td>\n",
       "      <td>...</td>\n",
       "      <td>0.000000</td>\n",
       "      <td>0.000000</td>\n",
       "      <td>0.000000</td>\n",
       "      <td>0.000000</td>\n",
       "      <td>0.000000</td>\n",
       "      <td>0.000000</td>\n",
       "      <td>0.000000</td>\n",
       "      <td>0.000000</td>\n",
       "      <td>0.000000</td>\n",
       "      <td>0.00000</td>\n",
       "    </tr>\n",
       "    <tr>\n",
       "      <th>25%</th>\n",
       "      <td>2.000000</td>\n",
       "      <td>0.000000</td>\n",
       "      <td>0.000000</td>\n",
       "      <td>0.000000</td>\n",
       "      <td>0.000000</td>\n",
       "      <td>0.000000</td>\n",
       "      <td>0.000000</td>\n",
       "      <td>0.000000</td>\n",
       "      <td>0.000000</td>\n",
       "      <td>0.000000</td>\n",
       "      <td>...</td>\n",
       "      <td>0.000000</td>\n",
       "      <td>0.000000</td>\n",
       "      <td>0.000000</td>\n",
       "      <td>0.000000</td>\n",
       "      <td>0.000000</td>\n",
       "      <td>0.000000</td>\n",
       "      <td>0.000000</td>\n",
       "      <td>0.000000</td>\n",
       "      <td>0.000000</td>\n",
       "      <td>0.00000</td>\n",
       "    </tr>\n",
       "    <tr>\n",
       "      <th>50%</th>\n",
       "      <td>4.500000</td>\n",
       "      <td>0.000000</td>\n",
       "      <td>0.000000</td>\n",
       "      <td>0.000000</td>\n",
       "      <td>0.000000</td>\n",
       "      <td>0.000000</td>\n",
       "      <td>0.000000</td>\n",
       "      <td>0.000000</td>\n",
       "      <td>0.000000</td>\n",
       "      <td>0.000000</td>\n",
       "      <td>...</td>\n",
       "      <td>0.000000</td>\n",
       "      <td>0.000000</td>\n",
       "      <td>0.000000</td>\n",
       "      <td>0.000000</td>\n",
       "      <td>0.000000</td>\n",
       "      <td>0.000000</td>\n",
       "      <td>0.000000</td>\n",
       "      <td>0.000000</td>\n",
       "      <td>0.000000</td>\n",
       "      <td>0.00000</td>\n",
       "    </tr>\n",
       "    <tr>\n",
       "      <th>75%</th>\n",
       "      <td>7.000000</td>\n",
       "      <td>0.000000</td>\n",
       "      <td>0.000000</td>\n",
       "      <td>0.000000</td>\n",
       "      <td>0.000000</td>\n",
       "      <td>0.000000</td>\n",
       "      <td>0.000000</td>\n",
       "      <td>0.000000</td>\n",
       "      <td>0.000000</td>\n",
       "      <td>0.000000</td>\n",
       "      <td>...</td>\n",
       "      <td>58.000000</td>\n",
       "      <td>9.000000</td>\n",
       "      <td>0.000000</td>\n",
       "      <td>0.000000</td>\n",
       "      <td>0.000000</td>\n",
       "      <td>0.000000</td>\n",
       "      <td>0.000000</td>\n",
       "      <td>0.000000</td>\n",
       "      <td>0.000000</td>\n",
       "      <td>0.00000</td>\n",
       "    </tr>\n",
       "    <tr>\n",
       "      <th>max</th>\n",
       "      <td>9.000000</td>\n",
       "      <td>16.000000</td>\n",
       "      <td>36.000000</td>\n",
       "      <td>226.000000</td>\n",
       "      <td>164.000000</td>\n",
       "      <td>227.000000</td>\n",
       "      <td>230.000000</td>\n",
       "      <td>224.000000</td>\n",
       "      <td>255.000000</td>\n",
       "      <td>254.000000</td>\n",
       "      <td>...</td>\n",
       "      <td>255.000000</td>\n",
       "      <td>255.000000</td>\n",
       "      <td>255.000000</td>\n",
       "      <td>255.000000</td>\n",
       "      <td>255.000000</td>\n",
       "      <td>255.000000</td>\n",
       "      <td>255.000000</td>\n",
       "      <td>255.000000</td>\n",
       "      <td>255.000000</td>\n",
       "      <td>170.00000</td>\n",
       "    </tr>\n",
       "  </tbody>\n",
       "</table>\n",
       "<p>8 rows × 785 columns</p>\n",
       "</div>"
      ],
      "text/plain": [
       "              label        pixel1        pixel2        pixel3        pixel4  \\\n",
       "count  60000.000000  60000.000000  60000.000000  60000.000000  60000.000000   \n",
       "mean       4.500000      0.000900      0.006150      0.035333      0.101933   \n",
       "std        2.872305      0.094689      0.271011      1.222324      2.452871   \n",
       "min        0.000000      0.000000      0.000000      0.000000      0.000000   \n",
       "25%        2.000000      0.000000      0.000000      0.000000      0.000000   \n",
       "50%        4.500000      0.000000      0.000000      0.000000      0.000000   \n",
       "75%        7.000000      0.000000      0.000000      0.000000      0.000000   \n",
       "max        9.000000     16.000000     36.000000    226.000000    164.000000   \n",
       "\n",
       "             pixel5        pixel6        pixel7        pixel8        pixel9  \\\n",
       "count  60000.000000  60000.000000  60000.000000  60000.000000  60000.000000   \n",
       "mean       0.247967      0.411467      0.805767      2.198283      5.682000   \n",
       "std        4.306912      5.836188      8.215169     14.093378     23.819481   \n",
       "min        0.000000      0.000000      0.000000      0.000000      0.000000   \n",
       "25%        0.000000      0.000000      0.000000      0.000000      0.000000   \n",
       "50%        0.000000      0.000000      0.000000      0.000000      0.000000   \n",
       "75%        0.000000      0.000000      0.000000      0.000000      0.000000   \n",
       "max      227.000000    230.000000    224.000000    255.000000    254.000000   \n",
       "\n",
       "       ...      pixel775      pixel776      pixel777      pixel778  \\\n",
       "count  ...  60000.000000  60000.000000  60000.000000  60000.000000   \n",
       "mean   ...     34.625400     23.300683     16.588267     17.869433   \n",
       "std    ...     57.545242     48.854427     41.979611     43.966032   \n",
       "min    ...      0.000000      0.000000      0.000000      0.000000   \n",
       "25%    ...      0.000000      0.000000      0.000000      0.000000   \n",
       "50%    ...      0.000000      0.000000      0.000000      0.000000   \n",
       "75%    ...     58.000000      9.000000      0.000000      0.000000   \n",
       "max    ...    255.000000    255.000000    255.000000    255.000000   \n",
       "\n",
       "           pixel779      pixel780      pixel781      pixel782      pixel783  \\\n",
       "count  60000.000000  60000.000000  60000.000000  60000.000000  60000.000000   \n",
       "mean      22.814817     17.911483      8.520633      2.753300      0.855517   \n",
       "std       51.830477     45.149388     29.614859     17.397652      9.356960   \n",
       "min        0.000000      0.000000      0.000000      0.000000      0.000000   \n",
       "25%        0.000000      0.000000      0.000000      0.000000      0.000000   \n",
       "50%        0.000000      0.000000      0.000000      0.000000      0.000000   \n",
       "75%        0.000000      0.000000      0.000000      0.000000      0.000000   \n",
       "max      255.000000    255.000000    255.000000    255.000000    255.000000   \n",
       "\n",
       "          pixel784  \n",
       "count  60000.00000  \n",
       "mean       0.07025  \n",
       "std        2.12587  \n",
       "min        0.00000  \n",
       "25%        0.00000  \n",
       "50%        0.00000  \n",
       "75%        0.00000  \n",
       "max      170.00000  \n",
       "\n",
       "[8 rows x 785 columns]"
      ]
     },
     "execution_count": 5,
     "metadata": {},
     "output_type": "execute_result"
    }
   ],
   "source": [
    "df.describe()"
   ]
  },
  {
   "cell_type": "code",
   "execution_count": 6,
   "id": "looking-understanding",
   "metadata": {
    "execution": {
     "iopub.execute_input": "2021-05-14T05:01:16.964975Z",
     "iopub.status.busy": "2021-05-14T05:01:16.964445Z",
     "iopub.status.idle": "2021-05-14T05:01:16.967819Z",
     "shell.execute_reply": "2021-05-14T05:01:16.967290Z"
    },
    "papermill": {
     "duration": 0.110952,
     "end_time": "2021-05-14T05:01:16.967929",
     "exception": false,
     "start_time": "2021-05-14T05:01:16.856977",
     "status": "completed"
    },
    "tags": []
   },
   "outputs": [],
   "source": [
    "X = df.drop('label',axis=1)\n",
    "y = df['label']"
   ]
  },
  {
   "cell_type": "code",
   "execution_count": 7,
   "id": "cloudy-wellington",
   "metadata": {
    "execution": {
     "iopub.execute_input": "2021-05-14T05:01:17.066323Z",
     "iopub.status.busy": "2021-05-14T05:01:17.065849Z",
     "iopub.status.idle": "2021-05-14T05:01:17.240678Z",
     "shell.execute_reply": "2021-05-14T05:01:17.240153Z"
    },
    "papermill": {
     "duration": 0.22589,
     "end_time": "2021-05-14T05:01:17.240855",
     "exception": false,
     "start_time": "2021-05-14T05:01:17.014965",
     "status": "completed"
    },
    "tags": []
   },
   "outputs": [],
   "source": [
    "from sklearn.model_selection import train_test_split"
   ]
  },
  {
   "cell_type": "code",
   "execution_count": 8,
   "id": "returning-thirty",
   "metadata": {
    "execution": {
     "iopub.execute_input": "2021-05-14T05:01:17.343825Z",
     "iopub.status.busy": "2021-05-14T05:01:17.343310Z",
     "iopub.status.idle": "2021-05-14T05:01:17.681818Z",
     "shell.execute_reply": "2021-05-14T05:01:17.681285Z"
    },
    "papermill": {
     "duration": 0.394187,
     "end_time": "2021-05-14T05:01:17.681933",
     "exception": false,
     "start_time": "2021-05-14T05:01:17.287746",
     "status": "completed"
    },
    "tags": []
   },
   "outputs": [],
   "source": [
    "X_train, X_test, y_train, y_test = train_test_split(X, y, test_size=0.3, random_state=42)"
   ]
  },
  {
   "cell_type": "code",
   "execution_count": 9,
   "id": "knowing-pricing",
   "metadata": {
    "execution": {
     "iopub.execute_input": "2021-05-14T05:01:17.781710Z",
     "iopub.status.busy": "2021-05-14T05:01:17.781136Z",
     "iopub.status.idle": "2021-05-14T05:01:17.786230Z",
     "shell.execute_reply": "2021-05-14T05:01:17.785625Z"
    },
    "papermill": {
     "duration": 0.05726,
     "end_time": "2021-05-14T05:01:17.786353",
     "exception": false,
     "start_time": "2021-05-14T05:01:17.729093",
     "status": "completed"
    },
    "tags": []
   },
   "outputs": [
    {
     "data": {
      "text/plain": [
       "(42000, 784)"
      ]
     },
     "execution_count": 9,
     "metadata": {},
     "output_type": "execute_result"
    }
   ],
   "source": [
    "X_train.shape"
   ]
  },
  {
   "cell_type": "code",
   "execution_count": 10,
   "id": "fifth-parker",
   "metadata": {
    "execution": {
     "iopub.execute_input": "2021-05-14T05:01:17.889219Z",
     "iopub.status.busy": "2021-05-14T05:01:17.888577Z",
     "iopub.status.idle": "2021-05-14T05:01:17.893215Z",
     "shell.execute_reply": "2021-05-14T05:01:17.893568Z"
    },
    "papermill": {
     "duration": 0.058806,
     "end_time": "2021-05-14T05:01:17.893734",
     "exception": false,
     "start_time": "2021-05-14T05:01:17.834928",
     "status": "completed"
    },
    "tags": []
   },
   "outputs": [
    {
     "data": {
      "text/plain": [
       "(42000,)"
      ]
     },
     "execution_count": 10,
     "metadata": {},
     "output_type": "execute_result"
    }
   ],
   "source": [
    "y_train.shape"
   ]
  },
  {
   "cell_type": "code",
   "execution_count": 11,
   "id": "traditional-candy",
   "metadata": {
    "execution": {
     "iopub.execute_input": "2021-05-14T05:01:17.992885Z",
     "iopub.status.busy": "2021-05-14T05:01:17.992186Z",
     "iopub.status.idle": "2021-05-14T05:01:17.997622Z",
     "shell.execute_reply": "2021-05-14T05:01:17.997203Z"
    },
    "papermill": {
     "duration": 0.057099,
     "end_time": "2021-05-14T05:01:17.997752",
     "exception": false,
     "start_time": "2021-05-14T05:01:17.940653",
     "status": "completed"
    },
    "tags": []
   },
   "outputs": [
    {
     "data": {
      "text/plain": [
       "(18000, 784)"
      ]
     },
     "execution_count": 11,
     "metadata": {},
     "output_type": "execute_result"
    }
   ],
   "source": [
    "X_test.shape"
   ]
  },
  {
   "cell_type": "code",
   "execution_count": 12,
   "id": "solved-front",
   "metadata": {
    "execution": {
     "iopub.execute_input": "2021-05-14T05:01:18.098296Z",
     "iopub.status.busy": "2021-05-14T05:01:18.097460Z",
     "iopub.status.idle": "2021-05-14T05:01:18.102851Z",
     "shell.execute_reply": "2021-05-14T05:01:18.102081Z"
    },
    "papermill": {
     "duration": 0.057524,
     "end_time": "2021-05-14T05:01:18.103049",
     "exception": false,
     "start_time": "2021-05-14T05:01:18.045525",
     "status": "completed"
    },
    "tags": []
   },
   "outputs": [
    {
     "data": {
      "text/plain": [
       "(18000,)"
      ]
     },
     "execution_count": 12,
     "metadata": {},
     "output_type": "execute_result"
    }
   ],
   "source": [
    "y_test.shape"
   ]
  },
  {
   "cell_type": "code",
   "execution_count": 13,
   "id": "motivated-pollution",
   "metadata": {
    "execution": {
     "iopub.execute_input": "2021-05-14T05:01:18.204376Z",
     "iopub.status.busy": "2021-05-14T05:01:18.203808Z",
     "iopub.status.idle": "2021-05-14T05:01:18.511198Z",
     "shell.execute_reply": "2021-05-14T05:01:18.510570Z"
    },
    "papermill": {
     "duration": 0.359533,
     "end_time": "2021-05-14T05:01:18.511313",
     "exception": false,
     "start_time": "2021-05-14T05:01:18.151780",
     "status": "completed"
    },
    "tags": []
   },
   "outputs": [],
   "source": [
    "from sklearn.ensemble import RandomForestClassifier"
   ]
  },
  {
   "cell_type": "code",
   "execution_count": 14,
   "id": "alone-photographer",
   "metadata": {
    "execution": {
     "iopub.execute_input": "2021-05-14T05:01:18.616726Z",
     "iopub.status.busy": "2021-05-14T05:01:18.616135Z",
     "iopub.status.idle": "2021-05-14T05:01:18.623998Z",
     "shell.execute_reply": "2021-05-14T05:01:18.624357Z"
    },
    "papermill": {
     "duration": 0.063465,
     "end_time": "2021-05-14T05:01:18.624494",
     "exception": false,
     "start_time": "2021-05-14T05:01:18.561029",
     "status": "completed"
    },
    "tags": []
   },
   "outputs": [
    {
     "data": {
      "text/plain": [
       "10"
      ]
     },
     "execution_count": 14,
     "metadata": {},
     "output_type": "execute_result"
    }
   ],
   "source": [
    "df['label'].nunique()"
   ]
  },
  {
   "cell_type": "code",
   "execution_count": 15,
   "id": "unique-portugal",
   "metadata": {
    "execution": {
     "iopub.execute_input": "2021-05-14T05:01:18.728116Z",
     "iopub.status.busy": "2021-05-14T05:01:18.727457Z",
     "iopub.status.idle": "2021-05-14T05:01:18.731480Z",
     "shell.execute_reply": "2021-05-14T05:01:18.730947Z"
    },
    "papermill": {
     "duration": 0.057538,
     "end_time": "2021-05-14T05:01:18.731618",
     "exception": false,
     "start_time": "2021-05-14T05:01:18.674080",
     "status": "completed"
    },
    "tags": []
   },
   "outputs": [],
   "source": [
    "rf = RandomForestClassifier()"
   ]
  },
  {
   "cell_type": "code",
   "execution_count": 16,
   "id": "improved-syndrome",
   "metadata": {
    "execution": {
     "iopub.execute_input": "2021-05-14T05:01:18.894847Z",
     "iopub.status.busy": "2021-05-14T05:01:18.893888Z",
     "iopub.status.idle": "2021-05-14T05:02:24.152887Z",
     "shell.execute_reply": "2021-05-14T05:02:24.153388Z"
    },
    "papermill": {
     "duration": 65.345506,
     "end_time": "2021-05-14T05:02:24.153550",
     "exception": false,
     "start_time": "2021-05-14T05:01:18.808044",
     "status": "completed"
    },
    "tags": []
   },
   "outputs": [
    {
     "data": {
      "text/plain": [
       "RandomForestClassifier()"
      ]
     },
     "execution_count": 16,
     "metadata": {},
     "output_type": "execute_result"
    }
   ],
   "source": [
    "rf.fit(X_train,y_train)"
   ]
  },
  {
   "cell_type": "code",
   "execution_count": 17,
   "id": "champion-atlanta",
   "metadata": {
    "execution": {
     "iopub.execute_input": "2021-05-14T05:02:24.319146Z",
     "iopub.status.busy": "2021-05-14T05:02:24.318260Z",
     "iopub.status.idle": "2021-05-14T05:02:25.271073Z",
     "shell.execute_reply": "2021-05-14T05:02:25.270468Z"
    },
    "papermill": {
     "duration": 1.04297,
     "end_time": "2021-05-14T05:02:25.271186",
     "exception": false,
     "start_time": "2021-05-14T05:02:24.228216",
     "status": "completed"
    },
    "tags": []
   },
   "outputs": [],
   "source": [
    "prediction = rf.predict(X_test)"
   ]
  },
  {
   "cell_type": "code",
   "execution_count": 18,
   "id": "biblical-familiar",
   "metadata": {
    "execution": {
     "iopub.execute_input": "2021-05-14T05:02:25.380593Z",
     "iopub.status.busy": "2021-05-14T05:02:25.380072Z",
     "iopub.status.idle": "2021-05-14T05:02:27.546818Z",
     "shell.execute_reply": "2021-05-14T05:02:27.546292Z"
    },
    "papermill": {
     "duration": 2.22599,
     "end_time": "2021-05-14T05:02:27.546932",
     "exception": false,
     "start_time": "2021-05-14T05:02:25.320942",
     "status": "completed"
    },
    "tags": []
   },
   "outputs": [
    {
     "data": {
      "text/plain": [
       "1.0"
      ]
     },
     "execution_count": 18,
     "metadata": {},
     "output_type": "execute_result"
    }
   ],
   "source": [
    "rf.score(X_train,y_train)"
   ]
  },
  {
   "cell_type": "code",
   "execution_count": 19,
   "id": "framed-analyst",
   "metadata": {
    "execution": {
     "iopub.execute_input": "2021-05-14T05:02:27.650379Z",
     "iopub.status.busy": "2021-05-14T05:02:27.649886Z",
     "iopub.status.idle": "2021-05-14T05:02:27.653526Z",
     "shell.execute_reply": "2021-05-14T05:02:27.653060Z"
    },
    "papermill": {
     "duration": 0.057604,
     "end_time": "2021-05-14T05:02:27.653627",
     "exception": false,
     "start_time": "2021-05-14T05:02:27.596023",
     "status": "completed"
    },
    "tags": []
   },
   "outputs": [],
   "source": [
    "from sklearn.metrics import  accuracy_score, confusion_matrix, classification_report"
   ]
  },
  {
   "cell_type": "code",
   "execution_count": 20,
   "id": "located-things",
   "metadata": {
    "execution": {
     "iopub.execute_input": "2021-05-14T05:02:27.757935Z",
     "iopub.status.busy": "2021-05-14T05:02:27.757207Z",
     "iopub.status.idle": "2021-05-14T05:02:27.763891Z",
     "shell.execute_reply": "2021-05-14T05:02:27.763436Z"
    },
    "papermill": {
     "duration": 0.060814,
     "end_time": "2021-05-14T05:02:27.764006",
     "exception": false,
     "start_time": "2021-05-14T05:02:27.703192",
     "status": "completed"
    },
    "tags": []
   },
   "outputs": [
    {
     "data": {
      "text/plain": [
       "0.8786666666666667"
      ]
     },
     "execution_count": 20,
     "metadata": {},
     "output_type": "execute_result"
    }
   ],
   "source": [
    "accuracy_score(y_test,prediction)"
   ]
  },
  {
   "cell_type": "code",
   "execution_count": 21,
   "id": "recreational-clinton",
   "metadata": {
    "execution": {
     "iopub.execute_input": "2021-05-14T05:02:27.870170Z",
     "iopub.status.busy": "2021-05-14T05:02:27.869502Z",
     "iopub.status.idle": "2021-05-14T05:02:27.905545Z",
     "shell.execute_reply": "2021-05-14T05:02:27.905025Z"
    },
    "papermill": {
     "duration": 0.090949,
     "end_time": "2021-05-14T05:02:27.905710",
     "exception": false,
     "start_time": "2021-05-14T05:02:27.814761",
     "status": "completed"
    },
    "tags": []
   },
   "outputs": [
    {
     "data": {
      "text/plain": [
       "array([[1545,    1,   20,   48,    3,    2,  149,    0,   15,    0],\n",
       "       [   3, 1717,    7,   56,    0,    0,   12,    0,    0,    0],\n",
       "       [  12,    1, 1498,   22,  182,    0,   86,    0,   13,    0],\n",
       "       [  34,    6,   10, 1671,   58,    0,   40,    0,    3,    0],\n",
       "       [   4,    3,  136,   94, 1484,    0,   78,    0,    6,    0],\n",
       "       [   0,    0,    0,    0,    0, 1671,    1,   44,    7,   15],\n",
       "       [ 296,    3,  230,   40,  189,    1, 1062,    0,   25,    0],\n",
       "       [   0,    0,    0,    0,    0,   42,    0, 1734,    3,   62],\n",
       "       [   3,    0,    6,    5,    7,    4,   11,    1, 1725,    0],\n",
       "       [   0,    0,    0,    0,    0,   19,    0,   63,    3, 1709]])"
      ]
     },
     "execution_count": 21,
     "metadata": {},
     "output_type": "execute_result"
    }
   ],
   "source": [
    "confusion_matrix(y_test,prediction)"
   ]
  },
  {
   "cell_type": "code",
   "execution_count": 22,
   "id": "voluntary-neighbor",
   "metadata": {
    "execution": {
     "iopub.execute_input": "2021-05-14T05:02:28.067025Z",
     "iopub.status.busy": "2021-05-14T05:02:28.066203Z",
     "iopub.status.idle": "2021-05-14T05:02:28.107168Z",
     "shell.execute_reply": "2021-05-14T05:02:28.107561Z"
    },
    "papermill": {
     "duration": 0.123708,
     "end_time": "2021-05-14T05:02:28.107738",
     "exception": false,
     "start_time": "2021-05-14T05:02:27.984030",
     "status": "completed"
    },
    "tags": []
   },
   "outputs": [
    {
     "name": "stdout",
     "output_type": "stream",
     "text": [
      "              precision    recall  f1-score   support\n",
      "\n",
      "           0       0.81      0.87      0.84      1783\n",
      "           1       0.99      0.96      0.97      1795\n",
      "           2       0.79      0.83      0.81      1814\n",
      "           3       0.86      0.92      0.89      1822\n",
      "           4       0.77      0.82      0.80      1805\n",
      "           5       0.96      0.96      0.96      1738\n",
      "           6       0.74      0.58      0.65      1846\n",
      "           7       0.94      0.94      0.94      1841\n",
      "           8       0.96      0.98      0.97      1762\n",
      "           9       0.96      0.95      0.95      1794\n",
      "\n",
      "    accuracy                           0.88     18000\n",
      "   macro avg       0.88      0.88      0.88     18000\n",
      "weighted avg       0.88      0.88      0.88     18000\n",
      "\n"
     ]
    }
   ],
   "source": [
    "print(classification_report(y_test,prediction))"
   ]
  },
  {
   "cell_type": "markdown",
   "id": "informed-donna",
   "metadata": {
    "papermill": {
     "duration": 0.052578,
     "end_time": "2021-05-14T05:02:28.213457",
     "exception": false,
     "start_time": "2021-05-14T05:02:28.160879",
     "status": "completed"
    },
    "tags": []
   },
   "source": [
    "## Decision Tree classifier"
   ]
  },
  {
   "cell_type": "code",
   "execution_count": 23,
   "id": "thorough-landing",
   "metadata": {
    "execution": {
     "iopub.execute_input": "2021-05-14T05:02:28.318545Z",
     "iopub.status.busy": "2021-05-14T05:02:28.317850Z",
     "iopub.status.idle": "2021-05-14T05:02:28.322586Z",
     "shell.execute_reply": "2021-05-14T05:02:28.322200Z"
    },
    "papermill": {
     "duration": 0.058495,
     "end_time": "2021-05-14T05:02:28.322717",
     "exception": false,
     "start_time": "2021-05-14T05:02:28.264222",
     "status": "completed"
    },
    "tags": []
   },
   "outputs": [],
   "source": [
    "from sklearn.tree import DecisionTreeClassifier"
   ]
  },
  {
   "cell_type": "code",
   "execution_count": 24,
   "id": "instant-sussex",
   "metadata": {
    "execution": {
     "iopub.execute_input": "2021-05-14T05:02:28.438979Z",
     "iopub.status.busy": "2021-05-14T05:02:28.438451Z",
     "iopub.status.idle": "2021-05-14T05:03:03.575917Z",
     "shell.execute_reply": "2021-05-14T05:03:03.576294Z"
    },
    "papermill": {
     "duration": 35.2032,
     "end_time": "2021-05-14T05:03:03.576427",
     "exception": false,
     "start_time": "2021-05-14T05:02:28.373227",
     "status": "completed"
    },
    "tags": []
   },
   "outputs": [
    {
     "data": {
      "text/plain": [
       "DecisionTreeClassifier()"
      ]
     },
     "execution_count": 24,
     "metadata": {},
     "output_type": "execute_result"
    }
   ],
   "source": [
    "tree = DecisionTreeClassifier()\n",
    "tree.fit(X_train,y_train)"
   ]
  },
  {
   "cell_type": "code",
   "execution_count": 25,
   "id": "ongoing-lloyd",
   "metadata": {
    "execution": {
     "iopub.execute_input": "2021-05-14T05:03:03.682957Z",
     "iopub.status.busy": "2021-05-14T05:03:03.682475Z",
     "iopub.status.idle": "2021-05-14T05:03:03.728450Z",
     "shell.execute_reply": "2021-05-14T05:03:03.728846Z"
    },
    "papermill": {
     "duration": 0.101925,
     "end_time": "2021-05-14T05:03:03.728999",
     "exception": false,
     "start_time": "2021-05-14T05:03:03.627074",
     "status": "completed"
    },
    "tags": []
   },
   "outputs": [],
   "source": [
    "tree_prediction = tree.predict(X_test)"
   ]
  },
  {
   "cell_type": "code",
   "execution_count": 26,
   "id": "nuclear-repair",
   "metadata": {
    "execution": {
     "iopub.execute_input": "2021-05-14T05:03:03.838566Z",
     "iopub.status.busy": "2021-05-14T05:03:03.838087Z",
     "iopub.status.idle": "2021-05-14T05:03:03.931497Z",
     "shell.execute_reply": "2021-05-14T05:03:03.931027Z"
    },
    "papermill": {
     "duration": 0.149828,
     "end_time": "2021-05-14T05:03:03.931606",
     "exception": false,
     "start_time": "2021-05-14T05:03:03.781778",
     "status": "completed"
    },
    "tags": []
   },
   "outputs": [
    {
     "data": {
      "text/plain": [
       "1.0"
      ]
     },
     "execution_count": 26,
     "metadata": {},
     "output_type": "execute_result"
    }
   ],
   "source": [
    "tree.score(X_train,y_train)"
   ]
  },
  {
   "cell_type": "code",
   "execution_count": 27,
   "id": "color-satisfaction",
   "metadata": {
    "execution": {
     "iopub.execute_input": "2021-05-14T05:03:04.042940Z",
     "iopub.status.busy": "2021-05-14T05:03:04.042336Z",
     "iopub.status.idle": "2021-05-14T05:03:04.049665Z",
     "shell.execute_reply": "2021-05-14T05:03:04.049156Z"
    },
    "papermill": {
     "duration": 0.065366,
     "end_time": "2021-05-14T05:03:04.049817",
     "exception": false,
     "start_time": "2021-05-14T05:03:03.984451",
     "status": "completed"
    },
    "tags": []
   },
   "outputs": [
    {
     "data": {
      "text/plain": [
       "0.7881666666666667"
      ]
     },
     "execution_count": 27,
     "metadata": {},
     "output_type": "execute_result"
    }
   ],
   "source": [
    "accuracy_score(y_test,tree_prediction)"
   ]
  },
  {
   "cell_type": "code",
   "execution_count": 28,
   "id": "racial-browse",
   "metadata": {
    "execution": {
     "iopub.execute_input": "2021-05-14T05:03:04.159625Z",
     "iopub.status.busy": "2021-05-14T05:03:04.159166Z",
     "iopub.status.idle": "2021-05-14T05:03:04.191805Z",
     "shell.execute_reply": "2021-05-14T05:03:04.191216Z"
    },
    "papermill": {
     "duration": 0.089351,
     "end_time": "2021-05-14T05:03:04.191927",
     "exception": false,
     "start_time": "2021-05-14T05:03:04.102576",
     "status": "completed"
    },
    "tags": []
   },
   "outputs": [
    {
     "data": {
      "text/plain": [
       "array([[1278,   14,   46,  117,   21,    4,  276,    0,   25,    2],\n",
       "       [   8, 1706,    8,   48,   13,    2,    8,    0,    2,    0],\n",
       "       [  41,    7, 1246,   33,  236,    2,  225,    0,   20,    4],\n",
       "       [  80,   54,   30, 1449,  108,    3,   72,    0,   22,    4],\n",
       "       [  15,   11,  279,  103, 1180,    1,  201,    0,   14,    1],\n",
       "       [   3,    1,    1,   12,    2, 1563,    5,   80,   27,   44],\n",
       "       [ 293,   15,  232,   71,  246,    4,  944,    0,   38,    3],\n",
       "       [   0,    0,    0,    0,    0,  106,    0, 1592,   16,  127],\n",
       "       [  18,    5,   19,   13,   19,   19,   32,   10, 1623,    4],\n",
       "       [   1,    1,    1,    3,    2,   64,    2,  104,   10, 1606]])"
      ]
     },
     "execution_count": 28,
     "metadata": {},
     "output_type": "execute_result"
    }
   ],
   "source": [
    "confusion_matrix(y_test,tree_prediction)"
   ]
  },
  {
   "cell_type": "code",
   "execution_count": 29,
   "id": "polar-breakfast",
   "metadata": {
    "execution": {
     "iopub.execute_input": "2021-05-14T05:03:04.304364Z",
     "iopub.status.busy": "2021-05-14T05:03:04.301241Z",
     "iopub.status.idle": "2021-05-14T05:03:04.347422Z",
     "shell.execute_reply": "2021-05-14T05:03:04.346803Z"
    },
    "papermill": {
     "duration": 0.102093,
     "end_time": "2021-05-14T05:03:04.347553",
     "exception": false,
     "start_time": "2021-05-14T05:03:04.245460",
     "status": "completed"
    },
    "tags": []
   },
   "outputs": [
    {
     "name": "stdout",
     "output_type": "stream",
     "text": [
      "              precision    recall  f1-score   support\n",
      "\n",
      "           0       0.74      0.72      0.73      1783\n",
      "           1       0.94      0.95      0.95      1795\n",
      "           2       0.67      0.69      0.68      1814\n",
      "           3       0.78      0.80      0.79      1822\n",
      "           4       0.65      0.65      0.65      1805\n",
      "           5       0.88      0.90      0.89      1738\n",
      "           6       0.53      0.51      0.52      1846\n",
      "           7       0.89      0.86      0.88      1841\n",
      "           8       0.90      0.92      0.91      1762\n",
      "           9       0.89      0.90      0.89      1794\n",
      "\n",
      "    accuracy                           0.79     18000\n",
      "   macro avg       0.79      0.79      0.79     18000\n",
      "weighted avg       0.79      0.79      0.79     18000\n",
      "\n"
     ]
    }
   ],
   "source": [
    "print(classification_report(y_test,tree_prediction))"
   ]
  },
  {
   "cell_type": "markdown",
   "id": "abroad-sweet",
   "metadata": {
    "papermill": {
     "duration": 0.082421,
     "end_time": "2021-05-14T05:03:04.512548",
     "exception": false,
     "start_time": "2021-05-14T05:03:04.430127",
     "status": "completed"
    },
    "tags": []
   },
   "source": [
    "## KNN classifier"
   ]
  },
  {
   "cell_type": "code",
   "execution_count": 30,
   "id": "amended-begin",
   "metadata": {
    "execution": {
     "iopub.execute_input": "2021-05-14T05:03:04.679800Z",
     "iopub.status.busy": "2021-05-14T05:03:04.679018Z",
     "iopub.status.idle": "2021-05-14T05:03:04.683913Z",
     "shell.execute_reply": "2021-05-14T05:03:04.683277Z"
    },
    "papermill": {
     "duration": 0.089336,
     "end_time": "2021-05-14T05:03:04.684042",
     "exception": false,
     "start_time": "2021-05-14T05:03:04.594706",
     "status": "completed"
    },
    "tags": []
   },
   "outputs": [],
   "source": [
    "from sklearn.neighbors import KNeighborsClassifier"
   ]
  },
  {
   "cell_type": "code",
   "execution_count": 31,
   "id": "academic-specification",
   "metadata": {
    "execution": {
     "iopub.execute_input": "2021-05-14T05:03:04.854802Z",
     "iopub.status.busy": "2021-05-14T05:03:04.854135Z",
     "iopub.status.idle": "2021-05-14T05:03:04.868980Z",
     "shell.execute_reply": "2021-05-14T05:03:04.869414Z"
    },
    "papermill": {
     "duration": 0.101068,
     "end_time": "2021-05-14T05:03:04.869560",
     "exception": false,
     "start_time": "2021-05-14T05:03:04.768492",
     "status": "completed"
    },
    "tags": []
   },
   "outputs": [
    {
     "data": {
      "text/plain": [
       "KNeighborsClassifier()"
      ]
     },
     "execution_count": 31,
     "metadata": {},
     "output_type": "execute_result"
    }
   ],
   "source": [
    "knn = KNeighborsClassifier()\n",
    "knn.fit(X_train,y_train)"
   ]
  },
  {
   "cell_type": "code",
   "execution_count": 32,
   "id": "offensive-authority",
   "metadata": {
    "execution": {
     "iopub.execute_input": "2021-05-14T05:03:04.980800Z",
     "iopub.status.busy": "2021-05-14T05:03:04.980244Z",
     "iopub.status.idle": "2021-05-14T05:03:31.926179Z",
     "shell.execute_reply": "2021-05-14T05:03:31.925744Z"
    },
    "papermill": {
     "duration": 27.003222,
     "end_time": "2021-05-14T05:03:31.926294",
     "exception": false,
     "start_time": "2021-05-14T05:03:04.923072",
     "status": "completed"
    },
    "tags": []
   },
   "outputs": [],
   "source": [
    "knn_prediction = knn.predict(X_test)"
   ]
  },
  {
   "cell_type": "code",
   "execution_count": 33,
   "id": "hired-chile",
   "metadata": {
    "execution": {
     "iopub.execute_input": "2021-05-14T05:03:32.043120Z",
     "iopub.status.busy": "2021-05-14T05:03:32.042588Z",
     "iopub.status.idle": "2021-05-14T05:04:35.373301Z",
     "shell.execute_reply": "2021-05-14T05:04:35.373702Z"
    },
    "papermill": {
     "duration": 63.390355,
     "end_time": "2021-05-14T05:04:35.373836",
     "exception": false,
     "start_time": "2021-05-14T05:03:31.983481",
     "status": "completed"
    },
    "tags": []
   },
   "outputs": [
    {
     "data": {
      "text/plain": [
       "0.894547619047619"
      ]
     },
     "execution_count": 33,
     "metadata": {},
     "output_type": "execute_result"
    }
   ],
   "source": [
    "knn.score(X_train,y_train)"
   ]
  },
  {
   "cell_type": "code",
   "execution_count": 34,
   "id": "promising-shower",
   "metadata": {
    "execution": {
     "iopub.execute_input": "2021-05-14T05:04:35.485399Z",
     "iopub.status.busy": "2021-05-14T05:04:35.484816Z",
     "iopub.status.idle": "2021-05-14T05:04:35.491102Z",
     "shell.execute_reply": "2021-05-14T05:04:35.490617Z"
    },
    "papermill": {
     "duration": 0.064418,
     "end_time": "2021-05-14T05:04:35.491219",
     "exception": false,
     "start_time": "2021-05-14T05:04:35.426801",
     "status": "completed"
    },
    "tags": []
   },
   "outputs": [
    {
     "data": {
      "text/plain": [
       "0.8546111111111111"
      ]
     },
     "execution_count": 34,
     "metadata": {},
     "output_type": "execute_result"
    }
   ],
   "source": [
    "accuracy_score(y_test,knn_prediction)"
   ]
  },
  {
   "cell_type": "code",
   "execution_count": 35,
   "id": "australian-fighter",
   "metadata": {
    "execution": {
     "iopub.execute_input": "2021-05-14T05:04:35.601792Z",
     "iopub.status.busy": "2021-05-14T05:04:35.601326Z",
     "iopub.status.idle": "2021-05-14T05:04:35.622048Z",
     "shell.execute_reply": "2021-05-14T05:04:35.621597Z"
    },
    "papermill": {
     "duration": 0.075972,
     "end_time": "2021-05-14T05:04:35.622165",
     "exception": false,
     "start_time": "2021-05-14T05:04:35.546193",
     "status": "completed"
    },
    "tags": []
   },
   "outputs": [
    {
     "data": {
      "text/plain": [
       "array([[1552,    2,   34,   33,    8,    1,  141,    0,   12,    0],\n",
       "       [  14, 1727,    7,   38,    0,    0,    9,    0,    0,    0],\n",
       "       [  23,    2, 1490,   18,  158,    0,  122,    0,    1,    0],\n",
       "       [  91,   12,   20, 1589,   60,    0,   48,    0,    2,    0],\n",
       "       [  13,    2,  213,   70, 1366,    0,  138,    0,    3,    0],\n",
       "       [   1,    0,    1,    0,    0, 1437,   10,  176,    4,  109],\n",
       "       [ 345,    1,  264,   28,  148,    0, 1049,    0,   10,    1],\n",
       "       [   0,    0,    0,    0,    0,    5,    1, 1761,    1,   73],\n",
       "       [   8,    1,   21,    9,   11,    1,   27,    7, 1675,    2],\n",
       "       [   0,    0,    0,    0,    0,    4,    1,   52,    0, 1737]])"
      ]
     },
     "execution_count": 35,
     "metadata": {},
     "output_type": "execute_result"
    }
   ],
   "source": [
    "confusion_matrix(y_test,knn_prediction)"
   ]
  },
  {
   "cell_type": "code",
   "execution_count": 36,
   "id": "configured-encyclopedia",
   "metadata": {
    "execution": {
     "iopub.execute_input": "2021-05-14T05:04:35.738430Z",
     "iopub.status.busy": "2021-05-14T05:04:35.737943Z",
     "iopub.status.idle": "2021-05-14T05:04:35.779962Z",
     "shell.execute_reply": "2021-05-14T05:04:35.779370Z"
    },
    "papermill": {
     "duration": 0.102309,
     "end_time": "2021-05-14T05:04:35.780098",
     "exception": false,
     "start_time": "2021-05-14T05:04:35.677789",
     "status": "completed"
    },
    "tags": []
   },
   "outputs": [
    {
     "name": "stdout",
     "output_type": "stream",
     "text": [
      "              precision    recall  f1-score   support\n",
      "\n",
      "           0       0.76      0.87      0.81      1783\n",
      "           1       0.99      0.96      0.98      1795\n",
      "           2       0.73      0.82      0.77      1814\n",
      "           3       0.89      0.87      0.88      1822\n",
      "           4       0.78      0.76      0.77      1805\n",
      "           5       0.99      0.83      0.90      1738\n",
      "           6       0.68      0.57      0.62      1846\n",
      "           7       0.88      0.96      0.92      1841\n",
      "           8       0.98      0.95      0.97      1762\n",
      "           9       0.90      0.97      0.93      1794\n",
      "\n",
      "    accuracy                           0.85     18000\n",
      "   macro avg       0.86      0.86      0.85     18000\n",
      "weighted avg       0.86      0.85      0.85     18000\n",
      "\n"
     ]
    }
   ],
   "source": [
    "print(classification_report(y_test,knn_prediction))"
   ]
  },
  {
   "cell_type": "markdown",
   "id": "identical-national",
   "metadata": {
    "papermill": {
     "duration": 0.083125,
     "end_time": "2021-05-14T05:04:35.947737",
     "exception": false,
     "start_time": "2021-05-14T05:04:35.864612",
     "status": "completed"
    },
    "tags": []
   },
   "source": [
    "## Logistic Regression"
   ]
  },
  {
   "cell_type": "code",
   "execution_count": 37,
   "id": "plastic-renewal",
   "metadata": {
    "execution": {
     "iopub.execute_input": "2021-05-14T05:04:36.121631Z",
     "iopub.status.busy": "2021-05-14T05:04:36.121073Z",
     "iopub.status.idle": "2021-05-14T05:04:36.122896Z",
     "shell.execute_reply": "2021-05-14T05:04:36.123277Z"
    },
    "papermill": {
     "duration": 0.089986,
     "end_time": "2021-05-14T05:04:36.123421",
     "exception": false,
     "start_time": "2021-05-14T05:04:36.033435",
     "status": "completed"
    },
    "tags": []
   },
   "outputs": [],
   "source": [
    "from sklearn.linear_model import LogisticRegression"
   ]
  },
  {
   "cell_type": "code",
   "execution_count": 38,
   "id": "short-industry",
   "metadata": {
    "execution": {
     "iopub.execute_input": "2021-05-14T05:04:36.235314Z",
     "iopub.status.busy": "2021-05-14T05:04:36.234861Z",
     "iopub.status.idle": "2021-05-14T05:04:53.954419Z",
     "shell.execute_reply": "2021-05-14T05:04:53.955054Z"
    },
    "papermill": {
     "duration": 17.776959,
     "end_time": "2021-05-14T05:04:53.955255",
     "exception": false,
     "start_time": "2021-05-14T05:04:36.178296",
     "status": "completed"
    },
    "tags": []
   },
   "outputs": [
    {
     "name": "stderr",
     "output_type": "stream",
     "text": [
      "/opt/conda/lib/python3.7/site-packages/sklearn/linear_model/_logistic.py:765: ConvergenceWarning: lbfgs failed to converge (status=1):\n",
      "STOP: TOTAL NO. of ITERATIONS REACHED LIMIT.\n",
      "\n",
      "Increase the number of iterations (max_iter) or scale the data as shown in:\n",
      "    https://scikit-learn.org/stable/modules/preprocessing.html\n",
      "Please also refer to the documentation for alternative solver options:\n",
      "    https://scikit-learn.org/stable/modules/linear_model.html#logistic-regression\n",
      "  extra_warning_msg=_LOGISTIC_SOLVER_CONVERGENCE_MSG)\n"
     ]
    },
    {
     "data": {
      "text/plain": [
       "LogisticRegression()"
      ]
     },
     "execution_count": 38,
     "metadata": {},
     "output_type": "execute_result"
    }
   ],
   "source": [
    "lr = LogisticRegression()\n",
    "lr.fit(X_train,y_train)"
   ]
  },
  {
   "cell_type": "code",
   "execution_count": 39,
   "id": "beneficial-check",
   "metadata": {
    "execution": {
     "iopub.execute_input": "2021-05-14T05:04:54.109248Z",
     "iopub.status.busy": "2021-05-14T05:04:54.108544Z",
     "iopub.status.idle": "2021-05-14T05:04:54.166525Z",
     "shell.execute_reply": "2021-05-14T05:04:54.167041Z"
    },
    "papermill": {
     "duration": 0.133585,
     "end_time": "2021-05-14T05:04:54.167211",
     "exception": false,
     "start_time": "2021-05-14T05:04:54.033626",
     "status": "completed"
    },
    "tags": []
   },
   "outputs": [],
   "source": [
    "lr_prediction = lr.predict(X_test)"
   ]
  },
  {
   "cell_type": "code",
   "execution_count": 40,
   "id": "promising-civilian",
   "metadata": {
    "execution": {
     "iopub.execute_input": "2021-05-14T05:04:54.383639Z",
     "iopub.status.busy": "2021-05-14T05:04:54.383040Z",
     "iopub.status.idle": "2021-05-14T05:04:54.513927Z",
     "shell.execute_reply": "2021-05-14T05:04:54.513401Z"
    },
    "papermill": {
     "duration": 0.233061,
     "end_time": "2021-05-14T05:04:54.514065",
     "exception": false,
     "start_time": "2021-05-14T05:04:54.281004",
     "status": "completed"
    },
    "tags": []
   },
   "outputs": [
    {
     "data": {
      "text/plain": [
       "0.8626428571428572"
      ]
     },
     "execution_count": 40,
     "metadata": {},
     "output_type": "execute_result"
    }
   ],
   "source": [
    "lr.score(X_train,y_train)"
   ]
  },
  {
   "cell_type": "code",
   "execution_count": 41,
   "id": "premium-detection",
   "metadata": {
    "execution": {
     "iopub.execute_input": "2021-05-14T05:04:54.656231Z",
     "iopub.status.busy": "2021-05-14T05:04:54.655390Z",
     "iopub.status.idle": "2021-05-14T05:04:54.659820Z",
     "shell.execute_reply": "2021-05-14T05:04:54.660375Z"
    },
    "papermill": {
     "duration": 0.071638,
     "end_time": "2021-05-14T05:04:54.660545",
     "exception": false,
     "start_time": "2021-05-14T05:04:54.588907",
     "status": "completed"
    },
    "tags": []
   },
   "outputs": [
    {
     "data": {
      "text/plain": [
       "0.8496111111111111"
      ]
     },
     "execution_count": 41,
     "metadata": {},
     "output_type": "execute_result"
    }
   ],
   "source": [
    "accuracy_score(y_test,lr_prediction)"
   ]
  },
  {
   "cell_type": "code",
   "execution_count": 42,
   "id": "historical-communications",
   "metadata": {
    "execution": {
     "iopub.execute_input": "2021-05-14T05:04:54.844574Z",
     "iopub.status.busy": "2021-05-14T05:04:54.843984Z",
     "iopub.status.idle": "2021-05-14T05:04:54.866663Z",
     "shell.execute_reply": "2021-05-14T05:04:54.866038Z"
    },
    "papermill": {
     "duration": 0.112001,
     "end_time": "2021-05-14T05:04:54.866816",
     "exception": false,
     "start_time": "2021-05-14T05:04:54.754815",
     "status": "completed"
    },
    "tags": []
   },
   "outputs": [
    {
     "data": {
      "text/plain": [
       "array([[1466,   14,   31,   86,   14,    1,  149,    0,   21,    1],\n",
       "       [   4, 1719,   11,   51,    5,    0,    4,    1,    0,    0],\n",
       "       [  22,    5, 1395,   21,  218,    0,  136,    0,   16,    1],\n",
       "       [  59,   34,   20, 1574,   93,    0,   40,    1,    1,    0],\n",
       "       [   5,    3,  144,   76, 1415,    0,  153,    0,    9,    0],\n",
       "       [   1,    1,    1,    0,    0, 1561,    0,  101,   14,   59],\n",
       "       [ 283,   10,  217,   51,  206,    0, 1050,    0,   28,    1],\n",
       "       [   0,    0,    0,    0,    0,   52,    0, 1739,    5,   45],\n",
       "       [   5,    2,    6,    9,   12,   18,   31,    7, 1672,    0],\n",
       "       [   1,    0,    0,    0,    0,   26,    0,   63,    2, 1702]])"
      ]
     },
     "execution_count": 42,
     "metadata": {},
     "output_type": "execute_result"
    }
   ],
   "source": [
    "confusion_matrix(y_test,lr_prediction)"
   ]
  },
  {
   "cell_type": "code",
   "execution_count": 43,
   "id": "personal-consumption",
   "metadata": {
    "execution": {
     "iopub.execute_input": "2021-05-14T05:04:55.050813Z",
     "iopub.status.busy": "2021-05-14T05:04:55.050022Z",
     "iopub.status.idle": "2021-05-14T05:04:55.092731Z",
     "shell.execute_reply": "2021-05-14T05:04:55.092071Z"
    },
    "papermill": {
     "duration": 0.137346,
     "end_time": "2021-05-14T05:04:55.092865",
     "exception": false,
     "start_time": "2021-05-14T05:04:54.955519",
     "status": "completed"
    },
    "tags": []
   },
   "outputs": [
    {
     "name": "stdout",
     "output_type": "stream",
     "text": [
      "              precision    recall  f1-score   support\n",
      "\n",
      "           0       0.79      0.82      0.81      1783\n",
      "           1       0.96      0.96      0.96      1795\n",
      "           2       0.76      0.77      0.77      1814\n",
      "           3       0.84      0.86      0.85      1822\n",
      "           4       0.72      0.78      0.75      1805\n",
      "           5       0.94      0.90      0.92      1738\n",
      "           6       0.67      0.57      0.62      1846\n",
      "           7       0.91      0.94      0.93      1841\n",
      "           8       0.95      0.95      0.95      1762\n",
      "           9       0.94      0.95      0.94      1794\n",
      "\n",
      "    accuracy                           0.85     18000\n",
      "   macro avg       0.85      0.85      0.85     18000\n",
      "weighted avg       0.85      0.85      0.85     18000\n",
      "\n"
     ]
    }
   ],
   "source": [
    "print(classification_report(y_test,lr_prediction))"
   ]
  },
  {
   "cell_type": "markdown",
   "id": "moved-screw",
   "metadata": {
    "papermill": {
     "duration": 0.087909,
     "end_time": "2021-05-14T05:04:55.272364",
     "exception": false,
     "start_time": "2021-05-14T05:04:55.184455",
     "status": "completed"
    },
    "tags": []
   },
   "source": [
    "## Neural network"
   ]
  },
  {
   "cell_type": "code",
   "execution_count": 44,
   "id": "analyzed-horizon",
   "metadata": {
    "execution": {
     "iopub.execute_input": "2021-05-14T05:04:55.458783Z",
     "iopub.status.busy": "2021-05-14T05:04:55.457991Z",
     "iopub.status.idle": "2021-05-14T05:04:55.463206Z",
     "shell.execute_reply": "2021-05-14T05:04:55.462561Z"
    },
    "papermill": {
     "duration": 0.099438,
     "end_time": "2021-05-14T05:04:55.463342",
     "exception": false,
     "start_time": "2021-05-14T05:04:55.363904",
     "status": "completed"
    },
    "tags": []
   },
   "outputs": [
    {
     "data": {
      "text/plain": [
       "((42000, 784), (42000,), (18000, 784), (18000,))"
      ]
     },
     "execution_count": 44,
     "metadata": {},
     "output_type": "execute_result"
    }
   ],
   "source": [
    "X_train.shape, y_train.shape, X_test.shape, y_test.shape"
   ]
  },
  {
   "cell_type": "code",
   "execution_count": 45,
   "id": "brave-medicare",
   "metadata": {
    "execution": {
     "iopub.execute_input": "2021-05-14T05:04:55.651980Z",
     "iopub.status.busy": "2021-05-14T05:04:55.651083Z",
     "iopub.status.idle": "2021-05-14T05:05:02.607071Z",
     "shell.execute_reply": "2021-05-14T05:05:02.606236Z"
    },
    "papermill": {
     "duration": 7.053068,
     "end_time": "2021-05-14T05:05:02.607211",
     "exception": false,
     "start_time": "2021-05-14T05:04:55.554143",
     "status": "completed"
    },
    "tags": []
   },
   "outputs": [],
   "source": [
    "#initialize sequential model\n",
    "import tensorflow as tf\n",
    "from tensorflow.keras import Sequential\n",
    "from tensorflow.keras.layers import Dense, Dropout"
   ]
  },
  {
   "cell_type": "code",
   "execution_count": 46,
   "id": "bound-birmingham",
   "metadata": {
    "execution": {
     "iopub.execute_input": "2021-05-14T05:05:02.794492Z",
     "iopub.status.busy": "2021-05-14T05:05:02.793592Z",
     "iopub.status.idle": "2021-05-14T05:05:02.798314Z",
     "shell.execute_reply": "2021-05-14T05:05:02.798891Z"
    },
    "papermill": {
     "duration": 0.102562,
     "end_time": "2021-05-14T05:05:02.799082",
     "exception": false,
     "start_time": "2021-05-14T05:05:02.696520",
     "status": "completed"
    },
    "tags": []
   },
   "outputs": [],
   "source": [
    "y_train = tf.keras.utils.to_categorical(y_train, num_classes=10)\n",
    "y_test = tf.keras.utils.to_categorical(y_test, num_classes=10)"
   ]
  },
  {
   "cell_type": "code",
   "execution_count": 47,
   "id": "serious-brook",
   "metadata": {
    "execution": {
     "iopub.execute_input": "2021-05-14T05:05:02.987414Z",
     "iopub.status.busy": "2021-05-14T05:05:02.986755Z",
     "iopub.status.idle": "2021-05-14T05:05:02.995449Z",
     "shell.execute_reply": "2021-05-14T05:05:02.994828Z"
    },
    "papermill": {
     "duration": 0.102425,
     "end_time": "2021-05-14T05:05:02.995580",
     "exception": false,
     "start_time": "2021-05-14T05:05:02.893155",
     "status": "completed"
    },
    "tags": []
   },
   "outputs": [
    {
     "data": {
      "text/plain": [
       "(array([[0., 0., 0., ..., 0., 0., 1.],\n",
       "        [0., 0., 0., ..., 0., 1., 0.],\n",
       "        [0., 0., 0., ..., 0., 0., 0.],\n",
       "        ...,\n",
       "        [0., 0., 0., ..., 0., 0., 1.],\n",
       "        [0., 0., 0., ..., 0., 0., 0.],\n",
       "        [1., 0., 0., ..., 0., 0., 0.]], dtype=float32),\n",
       " array([[0., 0., 0., ..., 1., 0., 0.],\n",
       "        [0., 0., 0., ..., 0., 1., 0.],\n",
       "        [0., 0., 0., ..., 0., 1., 0.],\n",
       "        ...,\n",
       "        [0., 0., 1., ..., 0., 0., 0.],\n",
       "        [0., 0., 0., ..., 1., 0., 0.],\n",
       "        [0., 0., 0., ..., 0., 0., 0.]], dtype=float32))"
      ]
     },
     "execution_count": 47,
     "metadata": {},
     "output_type": "execute_result"
    }
   ],
   "source": [
    "y_train, y_test"
   ]
  },
  {
   "cell_type": "code",
   "execution_count": 48,
   "id": "legitimate-jersey",
   "metadata": {
    "execution": {
     "iopub.execute_input": "2021-05-14T05:05:03.177564Z",
     "iopub.status.busy": "2021-05-14T05:05:03.176917Z",
     "iopub.status.idle": "2021-05-14T05:05:03.233350Z",
     "shell.execute_reply": "2021-05-14T05:05:03.232777Z"
    },
    "papermill": {
     "duration": 0.148728,
     "end_time": "2021-05-14T05:05:03.233493",
     "exception": false,
     "start_time": "2021-05-14T05:05:03.084765",
     "status": "completed"
    },
    "tags": []
   },
   "outputs": [],
   "source": [
    "X_train = X_train.astype('float32')\n",
    "y_train = y_train.astype('float32')\n",
    "X_test = X_test.astype('float32')"
   ]
  },
  {
   "cell_type": "code",
   "execution_count": 49,
   "id": "devoted-understanding",
   "metadata": {
    "execution": {
     "iopub.execute_input": "2021-05-14T05:05:03.417759Z",
     "iopub.status.busy": "2021-05-14T05:05:03.417093Z",
     "iopub.status.idle": "2021-05-14T05:05:03.456162Z",
     "shell.execute_reply": "2021-05-14T05:05:03.455613Z"
    },
    "papermill": {
     "duration": 0.13211,
     "end_time": "2021-05-14T05:05:03.456280",
     "exception": false,
     "start_time": "2021-05-14T05:05:03.324170",
     "status": "completed"
    },
    "tags": []
   },
   "outputs": [],
   "source": [
    "model = Sequential()"
   ]
  },
  {
   "cell_type": "code",
   "execution_count": 50,
   "id": "affiliated-selling",
   "metadata": {
    "execution": {
     "iopub.execute_input": "2021-05-14T05:05:03.583071Z",
     "iopub.status.busy": "2021-05-14T05:05:03.582479Z",
     "iopub.status.idle": "2021-05-14T05:05:03.605005Z",
     "shell.execute_reply": "2021-05-14T05:05:03.604398Z"
    },
    "papermill": {
     "duration": 0.08954,
     "end_time": "2021-05-14T05:05:03.605144",
     "exception": false,
     "start_time": "2021-05-14T05:05:03.515604",
     "status": "completed"
    },
    "tags": []
   },
   "outputs": [],
   "source": [
    "#784 is features\n",
    "model.add(Dense(400, activation='relu'))\n",
    "model.add(tf.keras.layers.BatchNormalization())\n",
    "model.add(Dense(200, activation='relu'))\n",
    "\n",
    "model.add(tf.keras.layers.BatchNormalization())\n",
    "\n",
    "model.add(Dense(100, activation='relu'))\n",
    "\n",
    "model.add(tf.keras.layers.BatchNormalization())\n",
    "\n",
    "model.add(Dense(25, activation='relu'))\n",
    "\n",
    "\n",
    "model.add(tf.keras.layers.BatchNormalization())\n",
    "\n",
    "\n",
    "model.add(Dense(10, activation='softmax'))"
   ]
  },
  {
   "cell_type": "code",
   "execution_count": 51,
   "id": "unknown-measurement",
   "metadata": {
    "execution": {
     "iopub.execute_input": "2021-05-14T05:05:03.800970Z",
     "iopub.status.busy": "2021-05-14T05:05:03.800248Z",
     "iopub.status.idle": "2021-05-14T05:06:25.934122Z",
     "shell.execute_reply": "2021-05-14T05:06:25.934482Z"
    },
    "papermill": {
     "duration": 82.239745,
     "end_time": "2021-05-14T05:06:25.934636",
     "exception": false,
     "start_time": "2021-05-14T05:05:03.694891",
     "status": "completed"
    },
    "tags": []
   },
   "outputs": [
    {
     "name": "stdout",
     "output_type": "stream",
     "text": [
      "Epoch 1/6\n",
      "2625/2625 [==============================] - 15s 5ms/step - loss: 0.8553 - accuracy: 0.7161 - val_loss: 0.4698 - val_accuracy: 0.8421\n",
      "Epoch 2/6\n",
      "2625/2625 [==============================] - 13s 5ms/step - loss: 0.5079 - accuracy: 0.8223 - val_loss: 0.4353 - val_accuracy: 0.8571\n",
      "Epoch 3/6\n",
      "2625/2625 [==============================] - 13s 5ms/step - loss: 0.4435 - accuracy: 0.8438 - val_loss: 0.4471 - val_accuracy: 0.8659\n",
      "Epoch 4/6\n",
      "2625/2625 [==============================] - 13s 5ms/step - loss: 0.4246 - accuracy: 0.8512 - val_loss: 0.4744 - val_accuracy: 0.8671\n",
      "Epoch 5/6\n",
      "2625/2625 [==============================] - 13s 5ms/step - loss: 0.3965 - accuracy: 0.8590 - val_loss: 0.4480 - val_accuracy: 0.8638\n",
      "Epoch 6/6\n",
      "2625/2625 [==============================] - 14s 5ms/step - loss: 0.3819 - accuracy: 0.8640 - val_loss: 0.4943 - val_accuracy: 0.8637\n"
     ]
    },
    {
     "data": {
      "text/plain": [
       "<tensorflow.python.keras.callbacks.History at 0x7fc39c7f4c90>"
      ]
     },
     "execution_count": 51,
     "metadata": {},
     "output_type": "execute_result"
    }
   ],
   "source": [
    "model.compile(optimizer='sgd',loss='categorical_crossentropy',metrics=['accuracy'])\n",
    "model.fit(X_train,y_train, epochs=6,validation_data=(X_test,y_test),verbose=1,batch_size=16)"
   ]
  },
  {
   "cell_type": "code",
   "execution_count": 52,
   "id": "cosmetic-grenada",
   "metadata": {
    "execution": {
     "iopub.execute_input": "2021-05-14T05:06:26.711873Z",
     "iopub.status.busy": "2021-05-14T05:06:26.711189Z",
     "iopub.status.idle": "2021-05-14T05:06:26.719161Z",
     "shell.execute_reply": "2021-05-14T05:06:26.718621Z"
    },
    "papermill": {
     "duration": 0.397991,
     "end_time": "2021-05-14T05:06:26.719274",
     "exception": false,
     "start_time": "2021-05-14T05:06:26.321283",
     "status": "completed"
    },
    "tags": []
   },
   "outputs": [
    {
     "data": {
      "text/plain": [
       "{'loss': [0.6674807071685791,\n",
       "  0.49471062421798706,\n",
       "  0.44551730155944824,\n",
       "  0.4217934012413025,\n",
       "  0.40010032057762146,\n",
       "  0.3846260607242584],\n",
       " 'accuracy': [0.7738809585571289,\n",
       "  0.8261428475379944,\n",
       "  0.8423571586608887,\n",
       "  0.8516190648078918,\n",
       "  0.8567143082618713,\n",
       "  0.8617143034934998],\n",
       " 'val_loss': [0.4697665870189667,\n",
       "  0.4353202283382416,\n",
       "  0.44712328910827637,\n",
       "  0.4743780791759491,\n",
       "  0.447995662689209,\n",
       "  0.4942968785762787],\n",
       " 'val_accuracy': [0.8420555591583252,\n",
       "  0.8571110963821411,\n",
       "  0.8658888936042786,\n",
       "  0.8670555353164673,\n",
       "  0.8638333082199097,\n",
       "  0.8636666536331177]}"
      ]
     },
     "execution_count": 52,
     "metadata": {},
     "output_type": "execute_result"
    }
   ],
   "source": [
    "model.history.history"
   ]
  },
  {
   "cell_type": "code",
   "execution_count": 53,
   "id": "early-costa",
   "metadata": {
    "execution": {
     "iopub.execute_input": "2021-05-14T05:06:27.511969Z",
     "iopub.status.busy": "2021-05-14T05:06:27.511311Z",
     "iopub.status.idle": "2021-05-14T05:06:27.516155Z",
     "shell.execute_reply": "2021-05-14T05:06:27.515554Z"
    },
    "papermill": {
     "duration": 0.400231,
     "end_time": "2021-05-14T05:06:27.516296",
     "exception": false,
     "start_time": "2021-05-14T05:06:27.116065",
     "status": "completed"
    },
    "tags": []
   },
   "outputs": [],
   "source": [
    "df = pd.DataFrame(model.history.history)"
   ]
  },
  {
   "cell_type": "code",
   "execution_count": 54,
   "id": "angry-storage",
   "metadata": {
    "execution": {
     "iopub.execute_input": "2021-05-14T05:06:28.731188Z",
     "iopub.status.busy": "2021-05-14T05:06:28.730537Z",
     "iopub.status.idle": "2021-05-14T05:06:29.263324Z",
     "shell.execute_reply": "2021-05-14T05:06:29.262799Z"
    },
    "papermill": {
     "duration": 1.151894,
     "end_time": "2021-05-14T05:06:29.263440",
     "exception": false,
     "start_time": "2021-05-14T05:06:28.111546",
     "status": "completed"
    },
    "tags": []
   },
   "outputs": [
    {
     "data": {
      "text/plain": [
       "<AxesSubplot:>"
      ]
     },
     "execution_count": 54,
     "metadata": {},
     "output_type": "execute_result"
    },
    {
     "data": {
      "image/png": "[encoded data removed]",
      "text/plain": [
       "<Figure size 432x288 with 1 Axes>"
      ]
     },
     "metadata": {
      "needs_background": "light"
     },
     "output_type": "display_data"
    }
   ],
   "source": [
    "df.plot()"
   ]
  },
  {
   "cell_type": "code",
   "execution_count": 55,
   "id": "accomplished-milwaukee",
   "metadata": {
    "execution": {
     "iopub.execute_input": "2021-05-14T05:06:30.035237Z",
     "iopub.status.busy": "2021-05-14T05:06:30.033588Z",
     "iopub.status.idle": "2021-05-14T05:06:32.290631Z",
     "shell.execute_reply": "2021-05-14T05:06:32.289996Z"
    },
    "papermill": {
     "duration": 2.6438,
     "end_time": "2021-05-14T05:06:32.290822",
     "exception": false,
     "start_time": "2021-05-14T05:06:29.647022",
     "status": "completed"
    },
    "tags": []
   },
   "outputs": [
    {
     "name": "stdout",
     "output_type": "stream",
     "text": [
      "563/563 [==============================] - 2s 3ms/step - loss: 0.4943 - accuracy: 0.8637\n"
     ]
    }
   ],
   "source": [
    "result = model.evaluate(X_test,y_test)"
   ]
  },
  {
   "cell_type": "code",
   "execution_count": 56,
   "id": "gothic-airfare",
   "metadata": {
    "execution": {
     "iopub.execute_input": "2021-05-14T05:06:33.533903Z",
     "iopub.status.busy": "2021-05-14T05:06:33.533106Z",
     "iopub.status.idle": "2021-05-14T05:06:33.537328Z",
     "shell.execute_reply": "2021-05-14T05:06:33.536669Z"
    },
    "papermill": {
     "duration": 0.62975,
     "end_time": "2021-05-14T05:06:33.537478",
     "exception": false,
     "start_time": "2021-05-14T05:06:32.907728",
     "status": "completed"
    },
    "tags": []
   },
   "outputs": [],
   "source": [
    "test = test.drop('label',axis=1)"
   ]
  },
  {
   "cell_type": "code",
   "execution_count": 57,
   "id": "specific-mistake",
   "metadata": {
    "execution": {
     "iopub.execute_input": "2021-05-14T05:06:34.763458Z",
     "iopub.status.busy": "2021-05-14T05:06:34.762526Z",
     "iopub.status.idle": "2021-05-14T05:06:35.697017Z",
     "shell.execute_reply": "2021-05-14T05:06:35.696423Z"
    },
    "papermill": {
     "duration": 1.551676,
     "end_time": "2021-05-14T05:06:35.697172",
     "exception": false,
     "start_time": "2021-05-14T05:06:34.145496",
     "status": "completed"
    },
    "tags": []
   },
   "outputs": [],
   "source": [
    "predict=model.predict(test.astype('float32'))"
   ]
  },
  {
   "cell_type": "code",
   "execution_count": null,
   "id": "closed-brunswick",
   "metadata": {
    "papermill": {
     "duration": 0.610374,
     "end_time": "2021-05-14T05:06:36.919200",
     "exception": false,
     "start_time": "2021-05-14T05:06:36.308826",
     "status": "completed"
    },
    "tags": []
   },
   "outputs": [],
   "source": []
  },
  {
   "cell_type": "code",
   "execution_count": null,
   "id": "right-scottish",
   "metadata": {
    "papermill": {
     "duration": 0.391916,
     "end_time": "2021-05-14T05:06:37.766795",
     "exception": false,
     "start_time": "2021-05-14T05:06:37.374879",
     "status": "completed"
    },
    "tags": []
   },
   "outputs": [],
   "source": []
  },
  {
   "cell_type": "code",
   "execution_count": null,
   "id": "photographic-brighton",
   "metadata": {
    "papermill": {
     "duration": 0.663808,
     "end_time": "2021-05-14T05:06:38.831091",
     "exception": false,
     "start_time": "2021-05-14T05:06:38.167283",
     "status": "completed"
    },
    "tags": []
   },
   "outputs": [],
   "source": []
  },
  {
   "cell_type": "code",
   "execution_count": null,
   "id": "sharp-terrace",
   "metadata": {
    "papermill": {
     "duration": 0.608113,
     "end_time": "2021-05-14T05:06:40.024994",
     "exception": false,
     "start_time": "2021-05-14T05:06:39.416881",
     "status": "completed"
    },
    "tags": []
   },
   "outputs": [],
   "source": []
  },
  {
   "cell_type": "code",
   "execution_count": null,
   "id": "precious-evans",
   "metadata": {
    "papermill": {
     "duration": 0.611789,
     "end_time": "2021-05-14T05:06:41.241712",
     "exception": false,
     "start_time": "2021-05-14T05:06:40.629923",
     "status": "completed"
    },
    "tags": []
   },
   "outputs": [],
   "source": []
  },
  {
   "cell_type": "code",
   "execution_count": null,
   "id": "disabled-picking",
   "metadata": {
    "papermill": {
     "duration": 0.615373,
     "end_time": "2021-05-14T05:06:42.470166",
     "exception": false,
     "start_time": "2021-05-14T05:06:41.854793",
     "status": "completed"
    },
    "tags": []
   },
   "outputs": [],
   "source": []
  },
  {
   "cell_type": "code",
   "execution_count": null,
   "id": "broad-highway",
   "metadata": {
    "papermill": {
     "duration": 0.378191,
     "end_time": "2021-05-14T05:06:43.344791",
     "exception": false,
     "start_time": "2021-05-14T05:06:42.966600",
     "status": "completed"
    },
    "tags": []
   },
   "outputs": [],
   "source": []
  },
  {
   "cell_type": "code",
   "execution_count": null,
   "id": "proprietary-fairy",
   "metadata": {
    "papermill": {
     "duration": 0.60857,
     "end_time": "2021-05-14T05:06:44.559209",
     "exception": false,
     "start_time": "2021-05-14T05:06:43.950639",
     "status": "completed"
    },
    "tags": []
   },
   "outputs": [],
   "source": []
  },
  {
   "cell_type": "code",
   "execution_count": null,
   "id": "broad-delay",
   "metadata": {
    "papermill": {
     "duration": 0.627881,
     "end_time": "2021-05-14T05:06:45.809682",
     "exception": false,
     "start_time": "2021-05-14T05:06:45.181801",
     "status": "completed"
    },
    "tags": []
   },
   "outputs": [],
   "source": []
  },
  {
   "cell_type": "code",
   "execution_count": null,
   "id": "dimensional-manchester",
   "metadata": {
    "papermill": {
     "duration": 0.61163,
     "end_time": "2021-05-14T05:06:47.034935",
     "exception": false,
     "start_time": "2021-05-14T05:06:46.423305",
     "status": "completed"
    },
    "tags": []
   },
   "outputs": [],
   "source": []
  },
  {
   "cell_type": "code",
   "execution_count": null,
   "id": "romance-kitty",
   "metadata": {
    "papermill": {
     "duration": 0.614352,
     "end_time": "2021-05-14T05:06:48.260816",
     "exception": false,
     "start_time": "2021-05-14T05:06:47.646464",
     "status": "completed"
    },
    "tags": []
   },
   "outputs": [],
   "source": []
  },
  {
   "cell_type": "code",
   "execution_count": null,
   "id": "miniature-hardwood",
   "metadata": {
    "papermill": {
     "duration": 0.395584,
     "end_time": "2021-05-14T05:06:49.269735",
     "exception": false,
     "start_time": "2021-05-14T05:06:48.874151",
     "status": "completed"
    },
    "tags": []
   },
   "outputs": [],
   "source": []
  },
  {
   "cell_type": "code",
   "execution_count": null,
   "id": "transparent-gnome",
   "metadata": {
    "papermill": {
     "duration": 0.402499,
     "end_time": "2021-05-14T05:06:50.065632",
     "exception": false,
     "start_time": "2021-05-14T05:06:49.663133",
     "status": "completed"
    },
    "tags": []
   },
   "outputs": [],
   "source": []
  },
  {
   "cell_type": "code",
   "execution_count": null,
   "id": "honey-female",
   "metadata": {
    "papermill": {
     "duration": 0.39502,
     "end_time": "2021-05-14T05:06:50.863228",
     "exception": false,
     "start_time": "2021-05-14T05:06:50.468208",
     "status": "completed"
    },
    "tags": []
   },
   "outputs": [],
   "source": []
  },
  {
   "cell_type": "code",
   "execution_count": null,
   "id": "dominant-disney",
   "metadata": {
    "papermill": {
     "duration": 0.395601,
     "end_time": "2021-05-14T05:06:51.651422",
     "exception": false,
     "start_time": "2021-05-14T05:06:51.255821",
     "status": "completed"
    },
    "tags": []
   },
   "outputs": [],
   "source": []
  },
  {
   "cell_type": "code",
   "execution_count": null,
   "id": "acquired-patient",
   "metadata": {
    "papermill": {
     "duration": 0.387342,
     "end_time": "2021-05-14T05:06:52.433014",
     "exception": false,
     "start_time": "2021-05-14T05:06:52.045672",
     "status": "completed"
    },
    "tags": []
   },
   "outputs": [],
   "source": []
  },
  {
   "cell_type": "code",
   "execution_count": null,
   "id": "surgical-analysis",
   "metadata": {
    "papermill": {
     "duration": 0.611517,
     "end_time": "2021-05-14T05:06:53.661809",
     "exception": false,
     "start_time": "2021-05-14T05:06:53.050292",
     "status": "completed"
    },
    "tags": []
   },
   "outputs": [],
   "source": []
  },
  {
   "cell_type": "code",
   "execution_count": null,
   "id": "graphic-olive",
   "metadata": {
    "papermill": {
     "duration": 0.616177,
     "end_time": "2021-05-14T05:06:54.888703",
     "exception": false,
     "start_time": "2021-05-14T05:06:54.272526",
     "status": "completed"
    },
    "tags": []
   },
   "outputs": [],
   "source": []
  },
  {
   "cell_type": "code",
   "execution_count": null,
   "id": "amateur-carnival",
   "metadata": {
    "papermill": {
     "duration": 0.573202,
     "end_time": "2021-05-14T05:06:56.146144",
     "exception": false,
     "start_time": "2021-05-14T05:06:55.572942",
     "status": "completed"
    },
    "tags": []
   },
   "outputs": [],
   "source": []
  },
  {
   "cell_type": "code",
   "execution_count": null,
   "id": "featured-carol",
   "metadata": {
    "papermill": {
     "duration": 0.611285,
     "end_time": "2021-05-14T05:06:57.364922",
     "exception": false,
     "start_time": "2021-05-14T05:06:56.753637",
     "status": "completed"
    },
    "tags": []
   },
   "outputs": [],
   "source": []
  },
  {
   "cell_type": "code",
   "execution_count": null,
   "id": "critical-taiwan",
   "metadata": {
    "papermill": {
     "duration": 0.606947,
     "end_time": "2021-05-14T05:06:58.577416",
     "exception": false,
     "start_time": "2021-05-14T05:06:57.970469",
     "status": "completed"
    },
    "tags": []
   },
   "outputs": [],
   "source": []
  },
  {
   "cell_type": "code",
   "execution_count": null,
   "id": "caring-accuracy",
   "metadata": {
    "papermill": {
     "duration": 0.606213,
     "end_time": "2021-05-14T05:06:59.784762",
     "exception": false,
     "start_time": "2021-05-14T05:06:59.178549",
     "status": "completed"
    },
    "tags": []
   },
   "outputs": [],
   "source": []
  },
  {
   "cell_type": "code",
   "execution_count": null,
   "id": "major-superior",
   "metadata": {
    "papermill": {
     "duration": 0.609256,
     "end_time": "2021-05-14T05:07:01.023871",
     "exception": false,
     "start_time": "2021-05-14T05:07:00.414615",
     "status": "completed"
    },
    "tags": []
   },
   "outputs": [],
   "source": []
  },
  {
   "cell_type": "code",
   "execution_count": null,
   "id": "southwest-publicity",
   "metadata": {
    "papermill": {
     "duration": 0.606853,
     "end_time": "2021-05-14T05:07:02.240077",
     "exception": false,
     "start_time": "2021-05-14T05:07:01.633224",
     "status": "completed"
    },
    "tags": []
   },
   "outputs": [],
   "source": []
  },
  {
   "cell_type": "code",
   "execution_count": null,
   "id": "configured-internship",
   "metadata": {
    "papermill": {
     "duration": 0.615071,
     "end_time": "2021-05-14T05:07:03.467629",
     "exception": false,
     "start_time": "2021-05-14T05:07:02.852558",
     "status": "completed"
    },
    "tags": []
   },
   "outputs": [],
   "source": []
  },
  {
   "cell_type": "code",
   "execution_count": null,
   "id": "korean-convenience",
   "metadata": {
    "papermill": {
     "duration": 0.574594,
     "end_time": "2021-05-14T05:07:04.628491",
     "exception": false,
     "start_time": "2021-05-14T05:07:04.053897",
     "status": "completed"
    },
    "tags": []
   },
   "outputs": [],
   "source": []
  },
  {
   "cell_type": "code",
   "execution_count": null,
   "id": "individual-trinidad",
   "metadata": {
    "papermill": {
     "duration": 0.608125,
     "end_time": "2021-05-14T05:07:05.848900",
     "exception": false,
     "start_time": "2021-05-14T05:07:05.240775",
     "status": "completed"
    },
    "tags": []
   },
   "outputs": [],
   "source": []
  }
 ],
 "metadata": {
  "kernelspec": {
   "display_name": "Python 3",
   "language": "python",
   "name": "python3"
  },
  "language_info": {
   "codemirror_mode": {
    "name": "ipython",
    "version": 3
   },
   "file_extension": ".py",
   "mimetype": "text/x-python",
   "name": "python",
   "nbconvert_exporter": "python",
   "pygments_lexer": "ipython3",
   "version": "3.7.10"
  },
  "papermill": {
   "default_parameters": {},
   "duration": 372.645015,
   "end_time": "2021-05-14T05:07:08.386525",
   "environment_variables": {},
   "exception": null,
   "input_path": "__notebook__.ipynb",
   "output_path": "__notebook__.ipynb",
   "parameters": {},
   "start_time": "2021-05-14T05:00:55.741510",
   "version": "2.3.3"
  }
 },
 "nbformat": 4,
 "nbformat_minor": 5
}
