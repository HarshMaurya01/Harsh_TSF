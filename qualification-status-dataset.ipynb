{
 "cells": [
  {
   "cell_type": "code",
   "execution_count": 1,
   "id": "separated-fundamental",
   "metadata": {
    "_cell_guid": "b1076dfc-b9ad-4769-8c92-a6c4dae69d19",
    "_uuid": "8f2839f25d086af736a60e9eeb907d3b93b6e0e5",
    "execution": {
     "iopub.execute_input": "2021-06-06T16:09:39.365519Z",
     "iopub.status.busy": "2021-06-06T16:09:39.363627Z",
     "iopub.status.idle": "2021-06-06T16:09:40.859011Z",
     "shell.execute_reply": "2021-06-06T16:09:40.858315Z",
     "shell.execute_reply.started": "2021-06-06T15:02:17.428065Z"
    },
    "papermill": {
     "duration": 1.545574,
     "end_time": "2021-06-06T16:09:40.859179",
     "exception": false,
     "start_time": "2021-06-06T16:09:39.313605",
     "status": "completed"
    },
    "tags": []
   },
   "outputs": [],
   "source": [
    "import numpy as np\n",
    "import pandas as pd\n",
    "import matplotlib.pyplot as plt\n",
    "import seaborn as sns\n",
    "import statsmodels.api as sm\n",
    "from scipy import stats"
   ]
  },
  {
   "cell_type": "code",
   "execution_count": 2,
   "id": "mineral-audio",
   "metadata": {
    "execution": {
     "iopub.execute_input": "2021-06-06T16:09:40.946392Z",
     "iopub.status.busy": "2021-06-06T16:09:40.945721Z",
     "iopub.status.idle": "2021-06-06T16:09:40.961084Z",
     "shell.execute_reply": "2021-06-06T16:09:40.960589Z",
     "shell.execute_reply.started": "2021-06-06T15:02:17.438231Z"
    },
    "papermill": {
     "duration": 0.061158,
     "end_time": "2021-06-06T16:09:40.961229",
     "exception": false,
     "start_time": "2021-06-06T16:09:40.900071",
     "status": "completed"
    },
    "tags": []
   },
   "outputs": [],
   "source": [
    "df = pd.read_csv('../input/qualification-status-dataset/Qualification.csv')"
   ]
  },
  {
   "cell_type": "code",
   "execution_count": 3,
   "id": "collected-nightmare",
   "metadata": {
    "execution": {
     "iopub.execute_input": "2021-06-06T16:09:41.054701Z",
     "iopub.status.busy": "2021-06-06T16:09:41.054119Z",
     "iopub.status.idle": "2021-06-06T16:09:41.071189Z",
     "shell.execute_reply": "2021-06-06T16:09:41.071671Z",
     "shell.execute_reply.started": "2021-06-06T15:02:17.464948Z"
    },
    "papermill": {
     "duration": 0.069702,
     "end_time": "2021-06-06T16:09:41.071822",
     "exception": false,
     "start_time": "2021-06-06T16:09:41.002120",
     "status": "completed"
    },
    "tags": []
   },
   "outputs": [
    {
     "data": {
      "text/html": [
       "<div>\n",
       "<style scoped>\n",
       "    .dataframe tbody tr th:only-of-type {\n",
       "        vertical-align: middle;\n",
       "    }\n",
       "\n",
       "    .dataframe tbody tr th {\n",
       "        vertical-align: top;\n",
       "    }\n",
       "\n",
       "    .dataframe thead th {\n",
       "        text-align: right;\n",
       "    }\n",
       "</style>\n",
       "<table border=\"1\" class=\"dataframe\">\n",
       "  <thead>\n",
       "    <tr style=\"text-align: right;\">\n",
       "      <th></th>\n",
       "      <th>registrationID</th>\n",
       "      <th>subscriberID</th>\n",
       "      <th>date</th>\n",
       "      <th>callEvent</th>\n",
       "      <th>mobile</th>\n",
       "      <th>geospatial_score</th>\n",
       "      <th>call_data_score</th>\n",
       "      <th>modularity</th>\n",
       "      <th>status</th>\n",
       "    </tr>\n",
       "  </thead>\n",
       "  <tbody>\n",
       "    <tr>\n",
       "      <th>0</th>\n",
       "      <td>1234</td>\n",
       "      <td>8760</td>\n",
       "      <td>1122018</td>\n",
       "      <td>6793910055</td>\n",
       "      <td>9772855482</td>\n",
       "      <td>32</td>\n",
       "      <td>26</td>\n",
       "      <td>0.166660</td>\n",
       "      <td>Q</td>\n",
       "    </tr>\n",
       "    <tr>\n",
       "      <th>1</th>\n",
       "      <td>1234</td>\n",
       "      <td>8760</td>\n",
       "      <td>1122018</td>\n",
       "      <td>7890161114</td>\n",
       "      <td>9772855482</td>\n",
       "      <td>26</td>\n",
       "      <td>32</td>\n",
       "      <td>0.284125</td>\n",
       "      <td>Q</td>\n",
       "    </tr>\n",
       "    <tr>\n",
       "      <th>2</th>\n",
       "      <td>1234</td>\n",
       "      <td>8760</td>\n",
       "      <td>1122018</td>\n",
       "      <td>6651610090</td>\n",
       "      <td>9772855482</td>\n",
       "      <td>26</td>\n",
       "      <td>99</td>\n",
       "      <td>0.271686</td>\n",
       "      <td>Q</td>\n",
       "    </tr>\n",
       "    <tr>\n",
       "      <th>3</th>\n",
       "      <td>1234</td>\n",
       "      <td>8760</td>\n",
       "      <td>1122018</td>\n",
       "      <td>5349298593</td>\n",
       "      <td>9772855482</td>\n",
       "      <td>25</td>\n",
       "      <td>25</td>\n",
       "      <td>0.314368</td>\n",
       "      <td>Q</td>\n",
       "    </tr>\n",
       "    <tr>\n",
       "      <th>4</th>\n",
       "      <td>1234</td>\n",
       "      <td>8760</td>\n",
       "      <td>1122018</td>\n",
       "      <td>4855756992</td>\n",
       "      <td>9772855482</td>\n",
       "      <td>25</td>\n",
       "      <td>26</td>\n",
       "      <td>0.358138</td>\n",
       "      <td>Q</td>\n",
       "    </tr>\n",
       "  </tbody>\n",
       "</table>\n",
       "</div>"
      ],
      "text/plain": [
       "   registrationID  subscriberID     date   callEvent      mobile  \\\n",
       "0            1234          8760  1122018  6793910055  9772855482   \n",
       "1            1234          8760  1122018  7890161114  9772855482   \n",
       "2            1234          8760  1122018  6651610090  9772855482   \n",
       "3            1234          8760  1122018  5349298593  9772855482   \n",
       "4            1234          8760  1122018  4855756992  9772855482   \n",
       "\n",
       "   geospatial_score  call_data_score  modularity status  \n",
       "0                32               26    0.166660      Q  \n",
       "1                26               32    0.284125      Q  \n",
       "2                26               99    0.271686      Q  \n",
       "3                25               25    0.314368      Q  \n",
       "4                25               26    0.358138      Q  "
      ]
     },
     "execution_count": 3,
     "metadata": {},
     "output_type": "execute_result"
    }
   ],
   "source": [
    "df.head()"
   ]
  },
  {
   "cell_type": "code",
   "execution_count": 4,
   "id": "streaming-helicopter",
   "metadata": {
    "execution": {
     "iopub.execute_input": "2021-06-06T16:09:41.159771Z",
     "iopub.status.busy": "2021-06-06T16:09:41.158850Z",
     "iopub.status.idle": "2021-06-06T16:09:41.170701Z",
     "shell.execute_reply": "2021-06-06T16:09:41.171184Z",
     "shell.execute_reply.started": "2021-06-06T15:02:17.485796Z"
    },
    "papermill": {
     "duration": 0.057181,
     "end_time": "2021-06-06T16:09:41.171338",
     "exception": false,
     "start_time": "2021-06-06T16:09:41.114157",
     "status": "completed"
    },
    "tags": []
   },
   "outputs": [
    {
     "data": {
      "text/html": [
       "<div>\n",
       "<style scoped>\n",
       "    .dataframe tbody tr th:only-of-type {\n",
       "        vertical-align: middle;\n",
       "    }\n",
       "\n",
       "    .dataframe tbody tr th {\n",
       "        vertical-align: top;\n",
       "    }\n",
       "\n",
       "    .dataframe thead th {\n",
       "        text-align: right;\n",
       "    }\n",
       "</style>\n",
       "<table border=\"1\" class=\"dataframe\">\n",
       "  <thead>\n",
       "    <tr style=\"text-align: right;\">\n",
       "      <th></th>\n",
       "      <th>registrationID</th>\n",
       "      <th>subscriberID</th>\n",
       "      <th>date</th>\n",
       "      <th>callEvent</th>\n",
       "      <th>mobile</th>\n",
       "      <th>geospatial_score</th>\n",
       "      <th>call_data_score</th>\n",
       "      <th>modularity</th>\n",
       "      <th>status</th>\n",
       "    </tr>\n",
       "  </thead>\n",
       "  <tbody>\n",
       "    <tr>\n",
       "      <th>495</th>\n",
       "      <td>5583</td>\n",
       "      <td>4113</td>\n",
       "      <td>7122018</td>\n",
       "      <td>1012454303</td>\n",
       "      <td>8225612216</td>\n",
       "      <td>100</td>\n",
       "      <td>26</td>\n",
       "      <td>0.286255</td>\n",
       "      <td>Q</td>\n",
       "    </tr>\n",
       "    <tr>\n",
       "      <th>496</th>\n",
       "      <td>5583</td>\n",
       "      <td>4113</td>\n",
       "      <td>7122018</td>\n",
       "      <td>1012454333</td>\n",
       "      <td>8225612216</td>\n",
       "      <td>26</td>\n",
       "      <td>100</td>\n",
       "      <td>0.355503</td>\n",
       "      <td>Q</td>\n",
       "    </tr>\n",
       "    <tr>\n",
       "      <th>497</th>\n",
       "      <td>5583</td>\n",
       "      <td>4113</td>\n",
       "      <td>7122018</td>\n",
       "      <td>1012454366</td>\n",
       "      <td>8225612216</td>\n",
       "      <td>100</td>\n",
       "      <td>100</td>\n",
       "      <td>0.358625</td>\n",
       "      <td>Q</td>\n",
       "    </tr>\n",
       "    <tr>\n",
       "      <th>498</th>\n",
       "      <td>5583</td>\n",
       "      <td>4113</td>\n",
       "      <td>7122018</td>\n",
       "      <td>1012454393</td>\n",
       "      <td>8225612216</td>\n",
       "      <td>26</td>\n",
       "      <td>26</td>\n",
       "      <td>0.296057</td>\n",
       "      <td>Q</td>\n",
       "    </tr>\n",
       "    <tr>\n",
       "      <th>499</th>\n",
       "      <td>5583</td>\n",
       "      <td>4113</td>\n",
       "      <td>7122018</td>\n",
       "      <td>1012454438</td>\n",
       "      <td>8225612216</td>\n",
       "      <td>26</td>\n",
       "      <td>100</td>\n",
       "      <td>0.272500</td>\n",
       "      <td>Q</td>\n",
       "    </tr>\n",
       "  </tbody>\n",
       "</table>\n",
       "</div>"
      ],
      "text/plain": [
       "     registrationID  subscriberID     date   callEvent      mobile  \\\n",
       "495            5583          4113  7122018  1012454303  8225612216   \n",
       "496            5583          4113  7122018  1012454333  8225612216   \n",
       "497            5583          4113  7122018  1012454366  8225612216   \n",
       "498            5583          4113  7122018  1012454393  8225612216   \n",
       "499            5583          4113  7122018  1012454438  8225612216   \n",
       "\n",
       "     geospatial_score  call_data_score  modularity status  \n",
       "495               100               26    0.286255      Q  \n",
       "496                26              100    0.355503      Q  \n",
       "497               100              100    0.358625      Q  \n",
       "498                26               26    0.296057      Q  \n",
       "499                26              100    0.272500      Q  "
      ]
     },
     "execution_count": 4,
     "metadata": {},
     "output_type": "execute_result"
    }
   ],
   "source": [
    "df.tail()"
   ]
  },
  {
   "cell_type": "code",
   "execution_count": 5,
   "id": "amber-washer",
   "metadata": {
    "execution": {
     "iopub.execute_input": "2021-06-06T16:09:41.260833Z",
     "iopub.status.busy": "2021-06-06T16:09:41.259930Z",
     "iopub.status.idle": "2021-06-06T16:09:41.280818Z",
     "shell.execute_reply": "2021-06-06T16:09:41.281373Z",
     "shell.execute_reply.started": "2021-06-06T15:02:17.514051Z"
    },
    "papermill": {
     "duration": 0.067204,
     "end_time": "2021-06-06T16:09:41.281544",
     "exception": false,
     "start_time": "2021-06-06T16:09:41.214340",
     "status": "completed"
    },
    "tags": []
   },
   "outputs": [
    {
     "name": "stdout",
     "output_type": "stream",
     "text": [
      "<class 'pandas.core.frame.DataFrame'>\n",
      "RangeIndex: 500 entries, 0 to 499\n",
      "Data columns (total 9 columns):\n",
      " #   Column            Non-Null Count  Dtype  \n",
      "---  ------            --------------  -----  \n",
      " 0   registrationID    500 non-null    int64  \n",
      " 1   subscriberID      500 non-null    int64  \n",
      " 2   date              500 non-null    int64  \n",
      " 3   callEvent         500 non-null    int64  \n",
      " 4   mobile            500 non-null    int64  \n",
      " 5   geospatial_score  500 non-null    int64  \n",
      " 6   call_data_score   500 non-null    int64  \n",
      " 7   modularity        500 non-null    float64\n",
      " 8   status            500 non-null    object \n",
      "dtypes: float64(1), int64(7), object(1)\n",
      "memory usage: 35.3+ KB\n"
     ]
    }
   ],
   "source": [
    "df.info()"
   ]
  },
  {
   "cell_type": "code",
   "execution_count": 6,
   "id": "furnished-toilet",
   "metadata": {
    "execution": {
     "iopub.execute_input": "2021-06-06T16:09:41.370406Z",
     "iopub.status.busy": "2021-06-06T16:09:41.369747Z",
     "iopub.status.idle": "2021-06-06T16:09:41.430456Z",
     "shell.execute_reply": "2021-06-06T16:09:41.429753Z",
     "shell.execute_reply.started": "2021-06-06T15:02:17.542045Z"
    },
    "papermill": {
     "duration": 0.105881,
     "end_time": "2021-06-06T16:09:41.430606",
     "exception": false,
     "start_time": "2021-06-06T16:09:41.324725",
     "status": "completed"
    },
    "tags": []
   },
   "outputs": [
    {
     "data": {
      "text/html": [
       "<div>\n",
       "<style scoped>\n",
       "    .dataframe tbody tr th:only-of-type {\n",
       "        vertical-align: middle;\n",
       "    }\n",
       "\n",
       "    .dataframe tbody tr th {\n",
       "        vertical-align: top;\n",
       "    }\n",
       "\n",
       "    .dataframe thead th {\n",
       "        text-align: right;\n",
       "    }\n",
       "</style>\n",
       "<table border=\"1\" class=\"dataframe\">\n",
       "  <thead>\n",
       "    <tr style=\"text-align: right;\">\n",
       "      <th></th>\n",
       "      <th>registrationID</th>\n",
       "      <th>subscriberID</th>\n",
       "      <th>date</th>\n",
       "      <th>callEvent</th>\n",
       "      <th>mobile</th>\n",
       "      <th>geospatial_score</th>\n",
       "      <th>call_data_score</th>\n",
       "      <th>modularity</th>\n",
       "      <th>status</th>\n",
       "    </tr>\n",
       "  </thead>\n",
       "  <tbody>\n",
       "    <tr>\n",
       "      <th>count</th>\n",
       "      <td>500.000000</td>\n",
       "      <td>500.000000</td>\n",
       "      <td>5.000000e+02</td>\n",
       "      <td>5.000000e+02</td>\n",
       "      <td>5.000000e+02</td>\n",
       "      <td>500.000000</td>\n",
       "      <td>500.000000</td>\n",
       "      <td>500.000000</td>\n",
       "      <td>500</td>\n",
       "    </tr>\n",
       "    <tr>\n",
       "      <th>unique</th>\n",
       "      <td>NaN</td>\n",
       "      <td>NaN</td>\n",
       "      <td>NaN</td>\n",
       "      <td>NaN</td>\n",
       "      <td>NaN</td>\n",
       "      <td>NaN</td>\n",
       "      <td>NaN</td>\n",
       "      <td>NaN</td>\n",
       "      <td>2</td>\n",
       "    </tr>\n",
       "    <tr>\n",
       "      <th>top</th>\n",
       "      <td>NaN</td>\n",
       "      <td>NaN</td>\n",
       "      <td>NaN</td>\n",
       "      <td>NaN</td>\n",
       "      <td>NaN</td>\n",
       "      <td>NaN</td>\n",
       "      <td>NaN</td>\n",
       "      <td>NaN</td>\n",
       "      <td>NQ</td>\n",
       "    </tr>\n",
       "    <tr>\n",
       "      <th>freq</th>\n",
       "      <td>NaN</td>\n",
       "      <td>NaN</td>\n",
       "      <td>NaN</td>\n",
       "      <td>NaN</td>\n",
       "      <td>NaN</td>\n",
       "      <td>NaN</td>\n",
       "      <td>NaN</td>\n",
       "      <td>NaN</td>\n",
       "      <td>274</td>\n",
       "    </tr>\n",
       "    <tr>\n",
       "      <th>mean</th>\n",
       "      <td>5113.600000</td>\n",
       "      <td>4980.200000</td>\n",
       "      <td>3.762018e+06</td>\n",
       "      <td>1.830244e+09</td>\n",
       "      <td>9.071426e+09</td>\n",
       "      <td>43.208000</td>\n",
       "      <td>50.416000</td>\n",
       "      <td>0.340642</td>\n",
       "      <td>NaN</td>\n",
       "    </tr>\n",
       "    <tr>\n",
       "      <th>std</th>\n",
       "      <td>3084.691051</td>\n",
       "      <td>2544.547584</td>\n",
       "      <td>1.793553e+06</td>\n",
       "      <td>2.088375e+09</td>\n",
       "      <td>8.911070e+08</td>\n",
       "      <td>30.249078</td>\n",
       "      <td>34.256181</td>\n",
       "      <td>0.100823</td>\n",
       "      <td>NaN</td>\n",
       "    </tr>\n",
       "    <tr>\n",
       "      <th>min</th>\n",
       "      <td>1234.000000</td>\n",
       "      <td>1634.000000</td>\n",
       "      <td>1.122018e+06</td>\n",
       "      <td>4.489190e+07</td>\n",
       "      <td>7.766213e+09</td>\n",
       "      <td>1.000000</td>\n",
       "      <td>1.000000</td>\n",
       "      <td>0.000000</td>\n",
       "      <td>NaN</td>\n",
       "    </tr>\n",
       "    <tr>\n",
       "      <th>25%</th>\n",
       "      <td>2314.000000</td>\n",
       "      <td>3468.000000</td>\n",
       "      <td>2.122018e+06</td>\n",
       "      <td>1.012454e+09</td>\n",
       "      <td>8.225612e+09</td>\n",
       "      <td>26.000000</td>\n",
       "      <td>26.000000</td>\n",
       "      <td>0.285406</td>\n",
       "      <td>NaN</td>\n",
       "    </tr>\n",
       "    <tr>\n",
       "      <th>50%</th>\n",
       "      <td>5583.000000</td>\n",
       "      <td>4113.000000</td>\n",
       "      <td>3.122018e+06</td>\n",
       "      <td>1.012454e+09</td>\n",
       "      <td>9.772855e+09</td>\n",
       "      <td>26.000000</td>\n",
       "      <td>31.000000</td>\n",
       "      <td>0.319688</td>\n",
       "      <td>NaN</td>\n",
       "    </tr>\n",
       "    <tr>\n",
       "      <th>75%</th>\n",
       "      <td>6623.000000</td>\n",
       "      <td>6926.000000</td>\n",
       "      <td>5.122018e+06</td>\n",
       "      <td>1.012454e+09</td>\n",
       "      <td>9.776632e+09</td>\n",
       "      <td>32.000000</td>\n",
       "      <td>100.000000</td>\n",
       "      <td>0.378844</td>\n",
       "      <td>NaN</td>\n",
       "    </tr>\n",
       "    <tr>\n",
       "      <th>max</th>\n",
       "      <td>9814.000000</td>\n",
       "      <td>8760.000000</td>\n",
       "      <td>7.122018e+06</td>\n",
       "      <td>9.983271e+09</td>\n",
       "      <td>9.815817e+09</td>\n",
       "      <td>115.000000</td>\n",
       "      <td>100.000000</td>\n",
       "      <td>0.716040</td>\n",
       "      <td>NaN</td>\n",
       "    </tr>\n",
       "  </tbody>\n",
       "</table>\n",
       "</div>"
      ],
      "text/plain": [
       "        registrationID  subscriberID          date     callEvent  \\\n",
       "count       500.000000    500.000000  5.000000e+02  5.000000e+02   \n",
       "unique             NaN           NaN           NaN           NaN   \n",
       "top                NaN           NaN           NaN           NaN   \n",
       "freq               NaN           NaN           NaN           NaN   \n",
       "mean       5113.600000   4980.200000  3.762018e+06  1.830244e+09   \n",
       "std        3084.691051   2544.547584  1.793553e+06  2.088375e+09   \n",
       "min        1234.000000   1634.000000  1.122018e+06  4.489190e+07   \n",
       "25%        2314.000000   3468.000000  2.122018e+06  1.012454e+09   \n",
       "50%        5583.000000   4113.000000  3.122018e+06  1.012454e+09   \n",
       "75%        6623.000000   6926.000000  5.122018e+06  1.012454e+09   \n",
       "max        9814.000000   8760.000000  7.122018e+06  9.983271e+09   \n",
       "\n",
       "              mobile  geospatial_score  call_data_score  modularity status  \n",
       "count   5.000000e+02        500.000000       500.000000  500.000000    500  \n",
       "unique           NaN               NaN              NaN         NaN      2  \n",
       "top              NaN               NaN              NaN         NaN     NQ  \n",
       "freq             NaN               NaN              NaN         NaN    274  \n",
       "mean    9.071426e+09         43.208000        50.416000    0.340642    NaN  \n",
       "std     8.911070e+08         30.249078        34.256181    0.100823    NaN  \n",
       "min     7.766213e+09          1.000000         1.000000    0.000000    NaN  \n",
       "25%     8.225612e+09         26.000000        26.000000    0.285406    NaN  \n",
       "50%     9.772855e+09         26.000000        31.000000    0.319688    NaN  \n",
       "75%     9.776632e+09         32.000000       100.000000    0.378844    NaN  \n",
       "max     9.815817e+09        115.000000       100.000000    0.716040    NaN  "
      ]
     },
     "execution_count": 6,
     "metadata": {},
     "output_type": "execute_result"
    }
   ],
   "source": [
    "df.describe(include='all')"
   ]
  },
  {
   "cell_type": "code",
   "execution_count": 7,
   "id": "sporting-scientist",
   "metadata": {
    "execution": {
     "iopub.execute_input": "2021-06-06T16:09:41.539795Z",
     "iopub.status.busy": "2021-06-06T16:09:41.539144Z",
     "iopub.status.idle": "2021-06-06T16:09:42.644146Z",
     "shell.execute_reply": "2021-06-06T16:09:42.643499Z",
     "shell.execute_reply.started": "2021-06-06T15:02:17.601880Z"
    },
    "papermill": {
     "duration": 1.155099,
     "end_time": "2021-06-06T16:09:42.644267",
     "exception": false,
     "start_time": "2021-06-06T16:09:41.489168",
     "status": "completed"
    },
    "tags": []
   },
   "outputs": [
    {
     "name": "stderr",
     "output_type": "stream",
     "text": [
      "/opt/conda/lib/python3.7/site-packages/seaborn/distributions.py:2557: FutureWarning: `distplot` is a deprecated function and will be removed in a future version. Please adapt your code to use either `displot` (a figure-level function with similar flexibility) or `histplot` (an axes-level function for histograms).\n",
      "  warnings.warn(msg, FutureWarning)\n",
      "/opt/conda/lib/python3.7/site-packages/seaborn/distributions.py:2557: FutureWarning: `distplot` is a deprecated function and will be removed in a future version. Please adapt your code to use either `displot` (a figure-level function with similar flexibility) or `histplot` (an axes-level function for histograms).\n",
      "  warnings.warn(msg, FutureWarning)\n",
      "/opt/conda/lib/python3.7/site-packages/seaborn/distributions.py:2557: FutureWarning: `distplot` is a deprecated function and will be removed in a future version. Please adapt your code to use either `displot` (a figure-level function with similar flexibility) or `histplot` (an axes-level function for histograms).\n",
      "  warnings.warn(msg, FutureWarning)\n",
      "/opt/conda/lib/python3.7/site-packages/seaborn/distributions.py:2557: FutureWarning: `distplot` is a deprecated function and will be removed in a future version. Please adapt your code to use either `displot` (a figure-level function with similar flexibility) or `histplot` (an axes-level function for histograms).\n",
      "  warnings.warn(msg, FutureWarning)\n"
     ]
    },
    {
     "data": {
      "image/png": "[encoded data removed]",
      "text/plain": [
       "<Figure size 1080x720 with 4 Axes>"
      ]
     },
     "metadata": {
      "needs_background": "light"
     },
     "output_type": "display_data"
    }
   ],
   "source": [
    "fig, ax = plt.subplots(2,2, figsize=(15,10))\n",
    "sns.set_style('dark')\n",
    "sns.set_theme(context='notebook',\n",
    "    style='darkgrid',\n",
    "    palette='icefire',\n",
    "    font='sans-serif',\n",
    "    font_scale=1,\n",
    "    color_codes=True,\n",
    "    rc=None)\n",
    "sns.distplot(df['callEvent'],ax=ax[0,0])\n",
    "sns.distplot(df['geospatial_score'],ax=ax[0,1])\n",
    "sns.distplot(df['call_data_score'],ax=ax[1,0])\n",
    "sns.distplot(df['modularity'],ax=ax[1,1])\n",
    "plt.show()"
   ]
  },
  {
   "cell_type": "code",
   "execution_count": 8,
   "id": "arbitrary-creation",
   "metadata": {
    "execution": {
     "iopub.execute_input": "2021-06-06T16:09:42.764761Z",
     "iopub.status.busy": "2021-06-06T16:09:42.760609Z",
     "iopub.status.idle": "2021-06-06T16:09:42.881121Z",
     "shell.execute_reply": "2021-06-06T16:09:42.880519Z",
     "shell.execute_reply.started": "2021-06-06T15:02:18.893099Z"
    },
    "papermill": {
     "duration": 0.192043,
     "end_time": "2021-06-06T16:09:42.881258",
     "exception": false,
     "start_time": "2021-06-06T16:09:42.689215",
     "status": "completed"
    },
    "tags": []
   },
   "outputs": [
    {
     "data": {
      "text/plain": [
       "<matplotlib.legend.Legend at 0x7fd359a3a5d0>"
      ]
     },
     "execution_count": 8,
     "metadata": {},
     "output_type": "execute_result"
    },
    {
     "data": {
      "image/png": "[encoded data removed]",
      "text/plain": [
       "<Figure size 432x288 with 1 Axes>"
      ]
     },
     "metadata": {},
     "output_type": "display_data"
    }
   ],
   "source": [
    "labels=['Q','NQ']\n",
    "plt.pie(df['status'].value_counts(),labels=labels,colors=['red','blue'],autopct='%1.2f%%')\n",
    "plt.legend()"
   ]
  },
  {
   "cell_type": "code",
   "execution_count": 9,
   "id": "certified-georgia",
   "metadata": {
    "execution": {
     "iopub.execute_input": "2021-06-06T16:09:42.976849Z",
     "iopub.status.busy": "2021-06-06T16:09:42.976202Z",
     "iopub.status.idle": "2021-06-06T16:09:43.090467Z",
     "shell.execute_reply": "2021-06-06T16:09:43.089970Z",
     "shell.execute_reply.started": "2021-06-06T15:02:19.056527Z"
    },
    "papermill": {
     "duration": 0.163802,
     "end_time": "2021-06-06T16:09:43.090610",
     "exception": false,
     "start_time": "2021-06-06T16:09:42.926808",
     "status": "completed"
    },
    "tags": []
   },
   "outputs": [
    {
     "name": "stderr",
     "output_type": "stream",
     "text": [
      "/opt/conda/lib/python3.7/site-packages/seaborn/_decorators.py:43: FutureWarning: Pass the following variable as a keyword arg: x. From version 0.12, the only valid positional argument will be `data`, and passing other arguments without an explicit keyword will result in an error or misinterpretation.\n",
      "  FutureWarning\n"
     ]
    },
    {
     "data": {
      "text/plain": [
       "<AxesSubplot:xlabel='status', ylabel='count'>"
      ]
     },
     "execution_count": 9,
     "metadata": {},
     "output_type": "execute_result"
    },
    {
     "data": {
      "image/png": "[encoded data removed]",
      "text/plain": [
       "<Figure size 432x288 with 1 Axes>"
      ]
     },
     "metadata": {},
     "output_type": "display_data"
    }
   ],
   "source": [
    "sns.countplot(df['status'])"
   ]
  },
  {
   "cell_type": "code",
   "execution_count": 10,
   "id": "exposed-stupid",
   "metadata": {
    "execution": {
     "iopub.execute_input": "2021-06-06T16:09:43.185961Z",
     "iopub.status.busy": "2021-06-06T16:09:43.185032Z",
     "iopub.status.idle": "2021-06-06T16:09:43.371926Z",
     "shell.execute_reply": "2021-06-06T16:09:43.372344Z",
     "shell.execute_reply.started": "2021-06-06T15:02:19.205861Z"
    },
    "papermill": {
     "duration": 0.235674,
     "end_time": "2021-06-06T16:09:43.372511",
     "exception": false,
     "start_time": "2021-06-06T16:09:43.136837",
     "status": "completed"
    },
    "tags": []
   },
   "outputs": [
    {
     "name": "stderr",
     "output_type": "stream",
     "text": [
      "/opt/conda/lib/python3.7/site-packages/seaborn/_decorators.py:43: FutureWarning: Pass the following variables as keyword args: x, y. From version 0.12, the only valid positional argument will be `data`, and passing other arguments without an explicit keyword will result in an error or misinterpretation.\n",
      "  FutureWarning\n"
     ]
    },
    {
     "data": {
      "text/plain": [
       "<AxesSubplot:xlabel='status', ylabel='callEvent'>"
      ]
     },
     "execution_count": 10,
     "metadata": {},
     "output_type": "execute_result"
    },
    {
     "data": {
      "image/png": "[encoded data removed]",
      "text/plain": [
       "<Figure size 432x288 with 1 Axes>"
      ]
     },
     "metadata": {},
     "output_type": "display_data"
    }
   ],
   "source": [
    "sns.barplot(df['status'],df['callEvent'],data=df,palette='Oranges')"
   ]
  },
  {
   "cell_type": "code",
   "execution_count": 11,
   "id": "excess-toronto",
   "metadata": {
    "execution": {
     "iopub.execute_input": "2021-06-06T16:09:43.470888Z",
     "iopub.status.busy": "2021-06-06T16:09:43.470028Z",
     "iopub.status.idle": "2021-06-06T16:09:43.657121Z",
     "shell.execute_reply": "2021-06-06T16:09:43.657537Z",
     "shell.execute_reply.started": "2021-06-06T15:02:19.456814Z"
    },
    "papermill": {
     "duration": 0.237452,
     "end_time": "2021-06-06T16:09:43.657707",
     "exception": false,
     "start_time": "2021-06-06T16:09:43.420255",
     "status": "completed"
    },
    "tags": []
   },
   "outputs": [
    {
     "name": "stderr",
     "output_type": "stream",
     "text": [
      "/opt/conda/lib/python3.7/site-packages/seaborn/_decorators.py:43: FutureWarning: Pass the following variables as keyword args: x, y. From version 0.12, the only valid positional argument will be `data`, and passing other arguments without an explicit keyword will result in an error or misinterpretation.\n",
      "  FutureWarning\n"
     ]
    },
    {
     "data": {
      "text/plain": [
       "<AxesSubplot:xlabel='status', ylabel='geospatial_score'>"
      ]
     },
     "execution_count": 11,
     "metadata": {},
     "output_type": "execute_result"
    },
    {
     "data": {
      "image/png": "[encoded data removed]",
      "text/plain": [
       "<Figure size 432x288 with 1 Axes>"
      ]
     },
     "metadata": {},
     "output_type": "display_data"
    }
   ],
   "source": [
    "sns.barplot(df['status'],df['geospatial_score'],data=df,palette='rainbow')"
   ]
  },
  {
   "cell_type": "code",
   "execution_count": 12,
   "id": "fifth-tattoo",
   "metadata": {
    "execution": {
     "iopub.execute_input": "2021-06-06T16:09:43.758694Z",
     "iopub.status.busy": "2021-06-06T16:09:43.757757Z",
     "iopub.status.idle": "2021-06-06T16:09:43.958971Z",
     "shell.execute_reply": "2021-06-06T16:09:43.958437Z",
     "shell.execute_reply.started": "2021-06-06T15:02:19.678863Z"
    },
    "papermill": {
     "duration": 0.252423,
     "end_time": "2021-06-06T16:09:43.959112",
     "exception": false,
     "start_time": "2021-06-06T16:09:43.706689",
     "status": "completed"
    },
    "tags": []
   },
   "outputs": [
    {
     "name": "stderr",
     "output_type": "stream",
     "text": [
      "/opt/conda/lib/python3.7/site-packages/seaborn/_decorators.py:43: FutureWarning: Pass the following variables as keyword args: x, y. From version 0.12, the only valid positional argument will be `data`, and passing other arguments without an explicit keyword will result in an error or misinterpretation.\n",
      "  FutureWarning\n"
     ]
    },
    {
     "data": {
      "text/plain": [
       "<AxesSubplot:xlabel='status', ylabel='call_data_score'>"
      ]
     },
     "execution_count": 12,
     "metadata": {},
     "output_type": "execute_result"
    },
    {
     "data": {
      "image/png": "[encoded data removed]",
      "text/plain": [
       "<Figure size 432x288 with 1 Axes>"
      ]
     },
     "metadata": {},
     "output_type": "display_data"
    }
   ],
   "source": [
    "sns.barplot(df['status'],df['call_data_score'],data=df,palette='coolwarm')"
   ]
  },
  {
   "cell_type": "code",
   "execution_count": 13,
   "id": "stainless-benefit",
   "metadata": {
    "execution": {
     "iopub.execute_input": "2021-06-06T16:09:44.073002Z",
     "iopub.status.busy": "2021-06-06T16:09:44.072382Z",
     "iopub.status.idle": "2021-06-06T16:09:44.262887Z",
     "shell.execute_reply": "2021-06-06T16:09:44.263328Z",
     "shell.execute_reply.started": "2021-06-06T15:02:19.906675Z"
    },
    "papermill": {
     "duration": 0.251453,
     "end_time": "2021-06-06T16:09:44.263491",
     "exception": false,
     "start_time": "2021-06-06T16:09:44.012038",
     "status": "completed"
    },
    "tags": []
   },
   "outputs": [
    {
     "name": "stderr",
     "output_type": "stream",
     "text": [
      "/opt/conda/lib/python3.7/site-packages/seaborn/_decorators.py:43: FutureWarning: Pass the following variables as keyword args: x, y. From version 0.12, the only valid positional argument will be `data`, and passing other arguments without an explicit keyword will result in an error or misinterpretation.\n",
      "  FutureWarning\n"
     ]
    },
    {
     "data": {
      "text/plain": [
       "<AxesSubplot:xlabel='status', ylabel='modularity'>"
      ]
     },
     "execution_count": 13,
     "metadata": {},
     "output_type": "execute_result"
    },
    {
     "data": {
      "image/png": "[encoded data removed]",
      "text/plain": [
       "<Figure size 432x288 with 1 Axes>"
      ]
     },
     "metadata": {},
     "output_type": "display_data"
    }
   ],
   "source": [
    "sns.barplot(df['status'],df['modularity'],data=df,palette='rainbow')"
   ]
  },
  {
   "cell_type": "code",
   "execution_count": 14,
   "id": "disabled-young",
   "metadata": {
    "execution": {
     "iopub.execute_input": "2021-06-06T16:09:44.433792Z",
     "iopub.status.busy": "2021-06-06T16:09:44.433165Z",
     "iopub.status.idle": "2021-06-06T16:09:44.989317Z",
     "shell.execute_reply": "2021-06-06T16:09:44.988773Z",
     "shell.execute_reply.started": "2021-06-06T15:02:20.125040Z"
    },
    "papermill": {
     "duration": 0.673915,
     "end_time": "2021-06-06T16:09:44.989487",
     "exception": false,
     "start_time": "2021-06-06T16:09:44.315572",
     "status": "completed"
    },
    "tags": []
   },
   "outputs": [
    {
     "name": "stderr",
     "output_type": "stream",
     "text": [
      "/opt/conda/lib/python3.7/site-packages/seaborn/_decorators.py:43: FutureWarning: Pass the following variable as a keyword arg: x. From version 0.12, the only valid positional argument will be `data`, and passing other arguments without an explicit keyword will result in an error or misinterpretation.\n",
      "  FutureWarning\n",
      "/opt/conda/lib/python3.7/site-packages/seaborn/_decorators.py:43: FutureWarning: Pass the following variable as a keyword arg: x. From version 0.12, the only valid positional argument will be `data`, and passing other arguments without an explicit keyword will result in an error or misinterpretation.\n",
      "  FutureWarning\n",
      "/opt/conda/lib/python3.7/site-packages/seaborn/_decorators.py:43: FutureWarning: Pass the following variable as a keyword arg: x. From version 0.12, the only valid positional argument will be `data`, and passing other arguments without an explicit keyword will result in an error or misinterpretation.\n",
      "  FutureWarning\n",
      "/opt/conda/lib/python3.7/site-packages/seaborn/_decorators.py:43: FutureWarning: Pass the following variable as a keyword arg: x. From version 0.12, the only valid positional argument will be `data`, and passing other arguments without an explicit keyword will result in an error or misinterpretation.\n",
      "  FutureWarning\n"
     ]
    },
    {
     "data": {
      "text/plain": [
       "<AxesSubplot:xlabel='modularity'>"
      ]
     },
     "execution_count": 14,
     "metadata": {},
     "output_type": "execute_result"
    },
    {
     "data": {
      "image/png": "[encoded data removed]",
      "text/plain": [
       "<Figure size 1080x720 with 4 Axes>"
      ]
     },
     "metadata": {},
     "output_type": "display_data"
    }
   ],
   "source": [
    "fig, ax = plt.subplots(2,2, figsize=(15,10))\n",
    "sns.violinplot(df['callEvent'],data=df,ax=ax[0,0])\n",
    "sns.violinplot(df['geospatial_score'],data=df,ax=ax[0,1])\n",
    "sns.violinplot(df['call_data_score'],data=df,ax=ax[1,0])\n",
    "sns.violinplot(df['modularity'],data=df,ax=ax[1,1])"
   ]
  },
  {
   "cell_type": "code",
   "execution_count": 15,
   "id": "written-bahrain",
   "metadata": {
    "execution": {
     "iopub.execute_input": "2021-06-06T16:09:45.127784Z",
     "iopub.status.busy": "2021-06-06T16:09:45.107437Z",
     "iopub.status.idle": "2021-06-06T16:09:45.721306Z",
     "shell.execute_reply": "2021-06-06T16:09:45.720702Z",
     "shell.execute_reply.started": "2021-06-06T15:02:20.844431Z"
    },
    "papermill": {
     "duration": 0.678865,
     "end_time": "2021-06-06T16:09:45.721432",
     "exception": false,
     "start_time": "2021-06-06T16:09:45.042567",
     "status": "completed"
    },
    "tags": []
   },
   "outputs": [
    {
     "data": {
      "text/plain": [
       "<AxesSubplot:>"
      ]
     },
     "execution_count": 15,
     "metadata": {},
     "output_type": "execute_result"
    },
    {
     "data": {
      "image/png": "[encoded data removed]",
      "text/plain": [
       "<Figure size 720x432 with 2 Axes>"
      ]
     },
     "metadata": {},
     "output_type": "display_data"
    }
   ],
   "source": [
    "plt.figure(figsize=(10,6))\n",
    "sns.heatmap(df.corr(),annot=True,cmap='viridis')"
   ]
  },
  {
   "cell_type": "code",
   "execution_count": 16,
   "id": "annoying-response",
   "metadata": {
    "execution": {
     "iopub.execute_input": "2021-06-06T16:09:45.839872Z",
     "iopub.status.busy": "2021-06-06T16:09:45.839313Z",
     "iopub.status.idle": "2021-06-06T16:09:45.842759Z",
     "shell.execute_reply": "2021-06-06T16:09:45.843302Z",
     "shell.execute_reply.started": "2021-06-06T15:02:21.533349Z"
    },
    "papermill": {
     "duration": 0.064229,
     "end_time": "2021-06-06T16:09:45.843484",
     "exception": false,
     "start_time": "2021-06-06T16:09:45.779255",
     "status": "completed"
    },
    "tags": []
   },
   "outputs": [
    {
     "data": {
      "text/plain": [
       "Index(['registrationID', 'subscriberID', 'date', 'callEvent', 'mobile',\n",
       "       'geospatial_score', 'call_data_score', 'modularity', 'status'],\n",
       "      dtype='object')"
      ]
     },
     "execution_count": 16,
     "metadata": {},
     "output_type": "execute_result"
    }
   ],
   "source": [
    "# sns.set_theme(context='notebook',\n",
    "#     style='darkgrid',\n",
    "#     palette='icefire',\n",
    "#     font='sans-serif',\n",
    "#     font_scale=1,\n",
    "#     color_codes=True,\n",
    "#     rc=None)\n",
    "# sns.pairplot(df)\n",
    "df.columns"
   ]
  },
  {
   "cell_type": "code",
   "execution_count": 17,
   "id": "recognized-italic",
   "metadata": {
    "execution": {
     "iopub.execute_input": "2021-06-06T16:09:45.963111Z",
     "iopub.status.busy": "2021-06-06T16:09:45.962035Z",
     "iopub.status.idle": "2021-06-06T16:09:45.965076Z",
     "shell.execute_reply": "2021-06-06T16:09:45.964411Z",
     "shell.execute_reply.started": "2021-06-06T15:02:21.542559Z"
    },
    "papermill": {
     "duration": 0.06383,
     "end_time": "2021-06-06T16:09:45.965213",
     "exception": false,
     "start_time": "2021-06-06T16:09:45.901383",
     "status": "completed"
    },
    "tags": []
   },
   "outputs": [],
   "source": [
    "def assign_value(x):\n",
    "    if x == 'Q':\n",
    "        return 1\n",
    "    elif x == 'NQ':\n",
    "        return 0\n",
    "    "
   ]
  },
  {
   "cell_type": "code",
   "execution_count": 18,
   "id": "divine-connection",
   "metadata": {
    "execution": {
     "iopub.execute_input": "2021-06-06T16:09:46.088274Z",
     "iopub.status.busy": "2021-06-06T16:09:46.087405Z",
     "iopub.status.idle": "2021-06-06T16:09:46.090485Z",
     "shell.execute_reply": "2021-06-06T16:09:46.090021Z",
     "shell.execute_reply.started": "2021-06-06T15:02:21.553783Z"
    },
    "papermill": {
     "duration": 0.066667,
     "end_time": "2021-06-06T16:09:46.090599",
     "exception": false,
     "start_time": "2021-06-06T16:09:46.023932",
     "status": "completed"
    },
    "tags": []
   },
   "outputs": [],
   "source": [
    "df['status'] = df['status'].apply(lambda x:assign_value(x))"
   ]
  },
  {
   "cell_type": "code",
   "execution_count": 19,
   "id": "dependent-canada",
   "metadata": {
    "execution": {
     "iopub.execute_input": "2021-06-06T16:09:46.208627Z",
     "iopub.status.busy": "2021-06-06T16:09:46.208048Z",
     "iopub.status.idle": "2021-06-06T16:09:46.214914Z",
     "shell.execute_reply": "2021-06-06T16:09:46.215381Z",
     "shell.execute_reply.started": "2021-06-06T15:02:21.568547Z"
    },
    "papermill": {
     "duration": 0.06711,
     "end_time": "2021-06-06T16:09:46.215531",
     "exception": false,
     "start_time": "2021-06-06T16:09:46.148421",
     "status": "completed"
    },
    "tags": []
   },
   "outputs": [],
   "source": [
    "X = df.drop(['registrationID','subscriberID','date','mobile','status'],axis=1)\n",
    "y = df['status']"
   ]
  },
  {
   "cell_type": "code",
   "execution_count": 20,
   "id": "integrated-cooking",
   "metadata": {
    "execution": {
     "iopub.execute_input": "2021-06-06T16:09:46.333909Z",
     "iopub.status.busy": "2021-06-06T16:09:46.332944Z",
     "iopub.status.idle": "2021-06-06T16:09:46.390645Z",
     "shell.execute_reply": "2021-06-06T16:09:46.391489Z",
     "shell.execute_reply.started": "2021-06-06T15:02:21.585169Z"
    },
    "papermill": {
     "duration": 0.118936,
     "end_time": "2021-06-06T16:09:46.391743",
     "exception": false,
     "start_time": "2021-06-06T16:09:46.272807",
     "status": "completed"
    },
    "tags": []
   },
   "outputs": [
    {
     "name": "stdout",
     "output_type": "stream",
     "text": [
      "Optimization terminated successfully.\n",
      "         Current function value: 0.582661\n",
      "         Iterations 6\n"
     ]
    },
    {
     "data": {
      "text/html": [
       "<table class=\"simpletable\">\n",
       "<caption>Logit Regression Results</caption>\n",
       "<tr>\n",
       "  <th>Dep. Variable:</th>        <td>status</td>      <th>  No. Observations:  </th>  <td>   500</td>  \n",
       "</tr>\n",
       "<tr>\n",
       "  <th>Model:</th>                 <td>Logit</td>      <th>  Df Residuals:      </th>  <td>   495</td>  \n",
       "</tr>\n",
       "<tr>\n",
       "  <th>Method:</th>                 <td>MLE</td>       <th>  Df Model:          </th>  <td>     4</td>  \n",
       "</tr>\n",
       "<tr>\n",
       "  <th>Date:</th>            <td>Sun, 06 Jun 2021</td> <th>  Pseudo R-squ.:     </th>  <td>0.1538</td>  \n",
       "</tr>\n",
       "<tr>\n",
       "  <th>Time:</th>                <td>16:09:46</td>     <th>  Log-Likelihood:    </th> <td> -291.33</td> \n",
       "</tr>\n",
       "<tr>\n",
       "  <th>converged:</th>             <td>True</td>       <th>  LL-Null:           </th> <td> -344.27</td> \n",
       "</tr>\n",
       "<tr>\n",
       "  <th>Covariance Type:</th>     <td>nonrobust</td>    <th>  LLR p-value:       </th> <td>5.525e-22</td>\n",
       "</tr>\n",
       "</table>\n",
       "<table class=\"simpletable\">\n",
       "<tr>\n",
       "          <td></td>            <th>coef</th>     <th>std err</th>      <th>z</th>      <th>P>|z|</th>  <th>[0.025</th>    <th>0.975]</th>  \n",
       "</tr>\n",
       "<tr>\n",
       "  <th>const</th>            <td>   -2.5838</td> <td>    0.424</td> <td>   -6.100</td> <td> 0.000</td> <td>   -3.414</td> <td>   -1.754</td>\n",
       "</tr>\n",
       "<tr>\n",
       "  <th>callEvent</th>        <td> 3.255e-10</td> <td> 5.85e-11</td> <td>    5.561</td> <td> 0.000</td> <td> 2.11e-10</td> <td>  4.4e-10</td>\n",
       "</tr>\n",
       "<tr>\n",
       "  <th>geospatial_score</th> <td>    0.0122</td> <td>    0.003</td> <td>    3.677</td> <td> 0.000</td> <td>    0.006</td> <td>    0.019</td>\n",
       "</tr>\n",
       "<tr>\n",
       "  <th>call_data_score</th>  <td>    0.0207</td> <td>    0.003</td> <td>    6.916</td> <td> 0.000</td> <td>    0.015</td> <td>    0.027</td>\n",
       "</tr>\n",
       "<tr>\n",
       "  <th>modularity</th>       <td>    0.6784</td> <td>    0.993</td> <td>    0.683</td> <td> 0.494</td> <td>   -1.267</td> <td>    2.624</td>\n",
       "</tr>\n",
       "</table>"
      ],
      "text/plain": [
       "<class 'statsmodels.iolib.summary.Summary'>\n",
       "\"\"\"\n",
       "                           Logit Regression Results                           \n",
       "==============================================================================\n",
       "Dep. Variable:                 status   No. Observations:                  500\n",
       "Model:                          Logit   Df Residuals:                      495\n",
       "Method:                           MLE   Df Model:                            4\n",
       "Date:                Sun, 06 Jun 2021   Pseudo R-squ.:                  0.1538\n",
       "Time:                        16:09:46   Log-Likelihood:                -291.33\n",
       "converged:                       True   LL-Null:                       -344.27\n",
       "Covariance Type:            nonrobust   LLR p-value:                 5.525e-22\n",
       "====================================================================================\n",
       "                       coef    std err          z      P>|z|      [0.025      0.975]\n",
       "------------------------------------------------------------------------------------\n",
       "const               -2.5838      0.424     -6.100      0.000      -3.414      -1.754\n",
       "callEvent         3.255e-10   5.85e-11      5.561      0.000    2.11e-10     4.4e-10\n",
       "geospatial_score     0.0122      0.003      3.677      0.000       0.006       0.019\n",
       "call_data_score      0.0207      0.003      6.916      0.000       0.015       0.027\n",
       "modularity           0.6784      0.993      0.683      0.494      -1.267       2.624\n",
       "====================================================================================\n",
       "\"\"\""
      ]
     },
     "execution_count": 20,
     "metadata": {},
     "output_type": "execute_result"
    }
   ],
   "source": [
    "x1 = sm.add_constant(X)\n",
    "result = sm.Logit(y,x1).fit()\n",
    "result.summary()"
   ]
  },
  {
   "cell_type": "code",
   "execution_count": 21,
   "id": "substantial-voice",
   "metadata": {
    "execution": {
     "iopub.execute_input": "2021-06-06T16:09:46.546645Z",
     "iopub.status.busy": "2021-06-06T16:09:46.545604Z",
     "iopub.status.idle": "2021-06-06T16:09:46.547895Z",
     "shell.execute_reply": "2021-06-06T16:09:46.548372Z",
     "shell.execute_reply.started": "2021-06-06T15:02:21.642993Z"
    },
    "papermill": {
     "duration": 0.064332,
     "end_time": "2021-06-06T16:09:46.548533",
     "exception": false,
     "start_time": "2021-06-06T16:09:46.484201",
     "status": "completed"
    },
    "tags": []
   },
   "outputs": [],
   "source": [
    "residual = result.resid_pearson"
   ]
  },
  {
   "cell_type": "code",
   "execution_count": 22,
   "id": "heavy-weather",
   "metadata": {
    "execution": {
     "iopub.execute_input": "2021-06-06T16:09:46.670435Z",
     "iopub.status.busy": "2021-06-06T16:09:46.666577Z",
     "iopub.status.idle": "2021-06-06T16:09:46.849649Z",
     "shell.execute_reply": "2021-06-06T16:09:46.849141Z",
     "shell.execute_reply.started": "2021-06-06T15:02:21.657318Z"
    },
    "papermill": {
     "duration": 0.243096,
     "end_time": "2021-06-06T16:09:46.849785",
     "exception": false,
     "start_time": "2021-06-06T16:09:46.606689",
     "status": "completed"
    },
    "tags": []
   },
   "outputs": [
    {
     "name": "stderr",
     "output_type": "stream",
     "text": [
      "/opt/conda/lib/python3.7/site-packages/statsmodels/graphics/gofplots.py:993: UserWarning: marker is redundantly defined by the 'marker' keyword argument and the fmt string \"bo\" (-> marker='o'). The keyword argument will take precedence.\n",
      "  ax.plot(x, y, fmt, **plot_style)\n"
     ]
    },
    {
     "data": {
      "text/plain": [
       "<Figure size 1080x720 with 0 Axes>"
      ]
     },
     "metadata": {},
     "output_type": "display_data"
    },
    {
     "data": {
      "image/png": "[encoded data removed]",
      "text/plain": [
       "<Figure size 432x288 with 1 Axes>"
      ]
     },
     "metadata": {},
     "output_type": "display_data"
    }
   ],
   "source": [
    "plt.figure(figsize=(15,10))\n",
    "plot = sm.ProbPlot(residual)\n",
    "plot.ppplot(line='45')\n",
    "plt.title('Normal P-P Plot of Regression Standardized Residuals')\n",
    "plt.show()"
   ]
  },
  {
   "cell_type": "code",
   "execution_count": 23,
   "id": "czech-programming",
   "metadata": {
    "execution": {
     "iopub.execute_input": "2021-06-06T16:09:46.975808Z",
     "iopub.status.busy": "2021-06-06T16:09:46.975040Z",
     "iopub.status.idle": "2021-06-06T16:09:46.995401Z",
     "shell.execute_reply": "2021-06-06T16:09:46.994887Z",
     "shell.execute_reply.started": "2021-06-06T15:02:21.893899Z"
    },
    "papermill": {
     "duration": 0.086736,
     "end_time": "2021-06-06T16:09:46.995525",
     "exception": false,
     "start_time": "2021-06-06T16:09:46.908789",
     "status": "completed"
    },
    "tags": []
   },
   "outputs": [
    {
     "data": {
      "text/html": [
       "<div>\n",
       "<style scoped>\n",
       "    .dataframe tbody tr th:only-of-type {\n",
       "        vertical-align: middle;\n",
       "    }\n",
       "\n",
       "    .dataframe tbody tr th {\n",
       "        vertical-align: top;\n",
       "    }\n",
       "\n",
       "    .dataframe thead th {\n",
       "        text-align: right;\n",
       "    }\n",
       "</style>\n",
       "<table border=\"1\" class=\"dataframe\">\n",
       "  <thead>\n",
       "    <tr style=\"text-align: right;\">\n",
       "      <th></th>\n",
       "      <th>Features</th>\n",
       "      <th>VIF Factor</th>\n",
       "    </tr>\n",
       "  </thead>\n",
       "  <tbody>\n",
       "    <tr>\n",
       "      <th>0</th>\n",
       "      <td>callEvent</td>\n",
       "      <td>1.749637</td>\n",
       "    </tr>\n",
       "    <tr>\n",
       "      <th>1</th>\n",
       "      <td>geospatial_score</td>\n",
       "      <td>2.836787</td>\n",
       "    </tr>\n",
       "    <tr>\n",
       "      <th>2</th>\n",
       "      <td>call_data_score</td>\n",
       "      <td>2.879493</td>\n",
       "    </tr>\n",
       "    <tr>\n",
       "      <th>3</th>\n",
       "      <td>modularity</td>\n",
       "      <td>4.256018</td>\n",
       "    </tr>\n",
       "  </tbody>\n",
       "</table>\n",
       "</div>"
      ],
      "text/plain": [
       "           Features  VIF Factor\n",
       "0         callEvent    1.749637\n",
       "1  geospatial_score    2.836787\n",
       "2   call_data_score    2.879493\n",
       "3        modularity    4.256018"
      ]
     },
     "execution_count": 23,
     "metadata": {},
     "output_type": "execute_result"
    }
   ],
   "source": [
    "#VIF Factor\n",
    "from statsmodels.stats.outliers_influence import variance_inflation_factor\n",
    "vif = pd.DataFrame()\n",
    "vif['Features'] = X.columns\n",
    "vif['VIF Factor'] = [variance_inflation_factor(X.values,i)\n",
    "                    for i in range(X.shape[1])]\n",
    "vif"
   ]
  },
  {
   "cell_type": "code",
   "execution_count": 24,
   "id": "oriental-pointer",
   "metadata": {
    "execution": {
     "iopub.execute_input": "2021-06-06T16:09:47.123983Z",
     "iopub.status.busy": "2021-06-06T16:09:47.122999Z",
     "iopub.status.idle": "2021-06-06T16:09:47.125489Z",
     "shell.execute_reply": "2021-06-06T16:09:47.126024Z",
     "shell.execute_reply.started": "2021-06-06T15:02:21.915909Z"
    },
    "papermill": {
     "duration": 0.069899,
     "end_time": "2021-06-06T16:09:47.126191",
     "exception": false,
     "start_time": "2021-06-06T16:09:47.056292",
     "status": "completed"
    },
    "tags": []
   },
   "outputs": [],
   "source": [
    "X = X.drop('modularity',axis=1)\n"
   ]
  },
  {
   "cell_type": "code",
   "execution_count": 25,
   "id": "unlike-performer",
   "metadata": {
    "execution": {
     "iopub.execute_input": "2021-06-06T16:09:47.251934Z",
     "iopub.status.busy": "2021-06-06T16:09:47.251189Z",
     "iopub.status.idle": "2021-06-06T16:09:47.376604Z",
     "shell.execute_reply": "2021-06-06T16:09:47.375981Z",
     "shell.execute_reply.started": "2021-06-06T15:02:21.923379Z"
    },
    "papermill": {
     "duration": 0.190083,
     "end_time": "2021-06-06T16:09:47.376735",
     "exception": false,
     "start_time": "2021-06-06T16:09:47.186652",
     "status": "completed"
    },
    "tags": []
   },
   "outputs": [],
   "source": [
    "from sklearn.model_selection import train_test_split\n",
    "X_train, X_test, y_train, y_test = train_test_split(X, y, test_size=0.2, random_state=42)"
   ]
  },
  {
   "cell_type": "code",
   "execution_count": 26,
   "id": "occupational-florist",
   "metadata": {
    "execution": {
     "iopub.execute_input": "2021-06-06T16:09:47.501847Z",
     "iopub.status.busy": "2021-06-06T16:09:47.501210Z",
     "iopub.status.idle": "2021-06-06T16:09:47.717594Z",
     "shell.execute_reply": "2021-06-06T16:09:47.717084Z",
     "shell.execute_reply.started": "2021-06-06T15:02:21.937912Z"
    },
    "papermill": {
     "duration": 0.280055,
     "end_time": "2021-06-06T16:09:47.717730",
     "exception": false,
     "start_time": "2021-06-06T16:09:47.437675",
     "status": "completed"
    },
    "tags": []
   },
   "outputs": [],
   "source": [
    "from sklearn.linear_model import LogisticRegression"
   ]
  },
  {
   "cell_type": "code",
   "execution_count": 27,
   "id": "molecular-wrist",
   "metadata": {
    "execution": {
     "iopub.execute_input": "2021-06-06T16:09:47.857995Z",
     "iopub.status.busy": "2021-06-06T16:09:47.856796Z",
     "iopub.status.idle": "2021-06-06T16:09:47.861711Z",
     "shell.execute_reply": "2021-06-06T16:09:47.862195Z",
     "shell.execute_reply.started": "2021-06-06T15:02:21.949861Z"
    },
    "papermill": {
     "duration": 0.082408,
     "end_time": "2021-06-06T16:09:47.862348",
     "exception": false,
     "start_time": "2021-06-06T16:09:47.779940",
     "status": "completed"
    },
    "tags": []
   },
   "outputs": [
    {
     "data": {
      "text/plain": [
       "0.445"
      ]
     },
     "execution_count": 27,
     "metadata": {},
     "output_type": "execute_result"
    }
   ],
   "source": [
    "log = LogisticRegression()\n",
    "log.fit(X_train,y_train)\n",
    "pred = log.predict(X_test)\n",
    "log.score(X_train,y_train)"
   ]
  },
  {
   "cell_type": "code",
   "execution_count": 28,
   "id": "gothic-regular",
   "metadata": {
    "execution": {
     "iopub.execute_input": "2021-06-06T16:09:47.990041Z",
     "iopub.status.busy": "2021-06-06T16:09:47.989218Z",
     "iopub.status.idle": "2021-06-06T16:09:47.992556Z",
     "shell.execute_reply": "2021-06-06T16:09:47.992084Z",
     "shell.execute_reply.started": "2021-06-06T15:11:40.031421Z"
    },
    "papermill": {
     "duration": 0.069193,
     "end_time": "2021-06-06T16:09:47.992689",
     "exception": false,
     "start_time": "2021-06-06T16:09:47.923496",
     "status": "completed"
    },
    "tags": []
   },
   "outputs": [],
   "source": [
    "from sklearn.metrics import confusion_matrix, classification_report, accuracy_score, mean_squared_error"
   ]
  },
  {
   "cell_type": "code",
   "execution_count": 29,
   "id": "cubic-federation",
   "metadata": {
    "execution": {
     "iopub.execute_input": "2021-06-06T16:09:48.123757Z",
     "iopub.status.busy": "2021-06-06T16:09:48.123154Z",
     "iopub.status.idle": "2021-06-06T16:09:48.127211Z",
     "shell.execute_reply": "2021-06-06T16:09:48.126625Z",
     "shell.execute_reply.started": "2021-06-06T15:02:21.988285Z"
    },
    "papermill": {
     "duration": 0.072868,
     "end_time": "2021-06-06T16:09:48.127337",
     "exception": false,
     "start_time": "2021-06-06T16:09:48.054469",
     "status": "completed"
    },
    "tags": []
   },
   "outputs": [
    {
     "data": {
      "text/plain": [
       "array([[ 0, 52],\n",
       "       [ 0, 48]])"
      ]
     },
     "execution_count": 29,
     "metadata": {},
     "output_type": "execute_result"
    }
   ],
   "source": [
    "confusion_matrix(y_test,pred)"
   ]
  },
  {
   "cell_type": "code",
   "execution_count": 30,
   "id": "descending-combination",
   "metadata": {
    "execution": {
     "iopub.execute_input": "2021-06-06T16:09:48.255878Z",
     "iopub.status.busy": "2021-06-06T16:09:48.255281Z",
     "iopub.status.idle": "2021-06-06T16:09:48.267875Z",
     "shell.execute_reply": "2021-06-06T16:09:48.267385Z",
     "shell.execute_reply.started": "2021-06-06T15:02:22.005282Z"
    },
    "papermill": {
     "duration": 0.080041,
     "end_time": "2021-06-06T16:09:48.268002",
     "exception": false,
     "start_time": "2021-06-06T16:09:48.187961",
     "status": "completed"
    },
    "tags": []
   },
   "outputs": [
    {
     "name": "stdout",
     "output_type": "stream",
     "text": [
      "              precision    recall  f1-score   support\n",
      "\n",
      "           0       0.00      0.00      0.00        52\n",
      "           1       0.48      1.00      0.65        48\n",
      "\n",
      "    accuracy                           0.48       100\n",
      "   macro avg       0.24      0.50      0.32       100\n",
      "weighted avg       0.23      0.48      0.31       100\n",
      "\n"
     ]
    },
    {
     "name": "stderr",
     "output_type": "stream",
     "text": [
      "/opt/conda/lib/python3.7/site-packages/sklearn/metrics/_classification.py:1245: UndefinedMetricWarning: Precision and F-score are ill-defined and being set to 0.0 in labels with no predicted samples. Use `zero_division` parameter to control this behavior.\n",
      "  _warn_prf(average, modifier, msg_start, len(result))\n",
      "/opt/conda/lib/python3.7/site-packages/sklearn/metrics/_classification.py:1245: UndefinedMetricWarning: Precision and F-score are ill-defined and being set to 0.0 in labels with no predicted samples. Use `zero_division` parameter to control this behavior.\n",
      "  _warn_prf(average, modifier, msg_start, len(result))\n",
      "/opt/conda/lib/python3.7/site-packages/sklearn/metrics/_classification.py:1245: UndefinedMetricWarning: Precision and F-score are ill-defined and being set to 0.0 in labels with no predicted samples. Use `zero_division` parameter to control this behavior.\n",
      "  _warn_prf(average, modifier, msg_start, len(result))\n"
     ]
    }
   ],
   "source": [
    "print(classification_report(y_test,pred))"
   ]
  },
  {
   "cell_type": "code",
   "execution_count": 31,
   "id": "incomplete-actress",
   "metadata": {
    "execution": {
     "iopub.execute_input": "2021-06-06T16:09:48.395805Z",
     "iopub.status.busy": "2021-06-06T16:09:48.395271Z",
     "iopub.status.idle": "2021-06-06T16:09:48.399023Z",
     "shell.execute_reply": "2021-06-06T16:09:48.398432Z",
     "shell.execute_reply.started": "2021-06-06T15:12:22.915789Z"
    },
    "papermill": {
     "duration": 0.069971,
     "end_time": "2021-06-06T16:09:48.399151",
     "exception": false,
     "start_time": "2021-06-06T16:09:48.329180",
     "status": "completed"
    },
    "tags": []
   },
   "outputs": [
    {
     "data": {
      "text/plain": [
       "0.7211102550927979"
      ]
     },
     "execution_count": 31,
     "metadata": {},
     "output_type": "execute_result"
    }
   ],
   "source": [
    "#RMSE\n",
    "np.sqrt(mean_squared_error(y_test,pred))"
   ]
  },
  {
   "cell_type": "code",
   "execution_count": 32,
   "id": "revolutionary-spencer",
   "metadata": {
    "execution": {
     "iopub.execute_input": "2021-06-06T16:09:48.526729Z",
     "iopub.status.busy": "2021-06-06T16:09:48.526176Z",
     "iopub.status.idle": "2021-06-06T16:09:48.650315Z",
     "shell.execute_reply": "2021-06-06T16:09:48.649773Z",
     "shell.execute_reply.started": "2021-06-06T15:02:40.996789Z"
    },
    "papermill": {
     "duration": 0.189068,
     "end_time": "2021-06-06T16:09:48.650443",
     "exception": false,
     "start_time": "2021-06-06T16:09:48.461375",
     "status": "completed"
    },
    "tags": []
   },
   "outputs": [],
   "source": [
    "from sklearn.ensemble import RandomForestClassifier"
   ]
  },
  {
   "cell_type": "code",
   "execution_count": 33,
   "id": "modular-antarctica",
   "metadata": {
    "execution": {
     "iopub.execute_input": "2021-06-06T16:09:48.800515Z",
     "iopub.status.busy": "2021-06-06T16:09:48.795420Z",
     "iopub.status.idle": "2021-06-06T16:09:48.993837Z",
     "shell.execute_reply": "2021-06-06T16:09:48.993259Z",
     "shell.execute_reply.started": "2021-06-06T15:03:51.369027Z"
    },
    "papermill": {
     "duration": 0.282242,
     "end_time": "2021-06-06T16:09:48.993991",
     "exception": false,
     "start_time": "2021-06-06T16:09:48.711749",
     "status": "completed"
    },
    "tags": []
   },
   "outputs": [
    {
     "data": {
      "text/plain": [
       "0.92"
      ]
     },
     "execution_count": 33,
     "metadata": {},
     "output_type": "execute_result"
    }
   ],
   "source": [
    "rf = RandomForestClassifier()\n",
    "rf.fit(X_train,y_train)\n",
    "rf_predict=rf.predict(X_test)\n",
    "rf.score(X_train,y_train)"
   ]
  },
  {
   "cell_type": "code",
   "execution_count": 34,
   "id": "deadly-glory",
   "metadata": {
    "execution": {
     "iopub.execute_input": "2021-06-06T16:09:49.123095Z",
     "iopub.status.busy": "2021-06-06T16:09:49.122422Z",
     "iopub.status.idle": "2021-06-06T16:09:49.125959Z",
     "shell.execute_reply": "2021-06-06T16:09:49.125355Z",
     "shell.execute_reply.started": "2021-06-06T15:04:00.268092Z"
    },
    "papermill": {
     "duration": 0.070195,
     "end_time": "2021-06-06T16:09:49.126084",
     "exception": false,
     "start_time": "2021-06-06T16:09:49.055889",
     "status": "completed"
    },
    "tags": []
   },
   "outputs": [
    {
     "data": {
      "text/plain": [
       "0.82"
      ]
     },
     "execution_count": 34,
     "metadata": {},
     "output_type": "execute_result"
    }
   ],
   "source": [
    "accuracy_score(y_test,rf_predict)"
   ]
  },
  {
   "cell_type": "code",
   "execution_count": 35,
   "id": "bridal-ordering",
   "metadata": {
    "execution": {
     "iopub.execute_input": "2021-06-06T16:09:49.257719Z",
     "iopub.status.busy": "2021-06-06T16:09:49.257152Z",
     "iopub.status.idle": "2021-06-06T16:09:49.260171Z",
     "shell.execute_reply": "2021-06-06T16:09:49.259563Z",
     "shell.execute_reply.started": "2021-06-06T15:05:11.869012Z"
    },
    "papermill": {
     "duration": 0.07069,
     "end_time": "2021-06-06T16:09:49.260296",
     "exception": false,
     "start_time": "2021-06-06T16:09:49.189606",
     "status": "completed"
    },
    "tags": []
   },
   "outputs": [
    {
     "name": "stdout",
     "output_type": "stream",
     "text": [
      "[[45  7]\n",
      " [11 37]]\n"
     ]
    }
   ],
   "source": [
    "print(confusion_matrix(y_test,rf_predict))"
   ]
  },
  {
   "cell_type": "code",
   "execution_count": 36,
   "id": "unexpected-season",
   "metadata": {
    "execution": {
     "iopub.execute_input": "2021-06-06T16:09:49.391401Z",
     "iopub.status.busy": "2021-06-06T16:09:49.390347Z",
     "iopub.status.idle": "2021-06-06T16:09:49.403602Z",
     "shell.execute_reply": "2021-06-06T16:09:49.404120Z",
     "shell.execute_reply.started": "2021-06-06T15:04:39.090174Z"
    },
    "papermill": {
     "duration": 0.080953,
     "end_time": "2021-06-06T16:09:49.404287",
     "exception": false,
     "start_time": "2021-06-06T16:09:49.323334",
     "status": "completed"
    },
    "tags": []
   },
   "outputs": [
    {
     "name": "stdout",
     "output_type": "stream",
     "text": [
      "              precision    recall  f1-score   support\n",
      "\n",
      "           0       0.80      0.87      0.83        52\n",
      "           1       0.84      0.77      0.80        48\n",
      "\n",
      "    accuracy                           0.82       100\n",
      "   macro avg       0.82      0.82      0.82       100\n",
      "weighted avg       0.82      0.82      0.82       100\n",
      "\n"
     ]
    }
   ],
   "source": [
    "print(classification_report(y_test,rf_predict))"
   ]
  },
  {
   "cell_type": "code",
   "execution_count": 37,
   "id": "pediatric-nature",
   "metadata": {
    "execution": {
     "iopub.execute_input": "2021-06-06T16:09:49.535742Z",
     "iopub.status.busy": "2021-06-06T16:09:49.534977Z",
     "iopub.status.idle": "2021-06-06T16:09:49.540469Z",
     "shell.execute_reply": "2021-06-06T16:09:49.541278Z",
     "shell.execute_reply.started": "2021-06-06T15:14:03.053829Z"
    },
    "papermill": {
     "duration": 0.070696,
     "end_time": "2021-06-06T16:09:49.541450",
     "exception": false,
     "start_time": "2021-06-06T16:09:49.470754",
     "status": "completed"
    },
    "tags": []
   },
   "outputs": [
    {
     "data": {
      "text/plain": [
       "0.4242640687119285"
      ]
     },
     "execution_count": 37,
     "metadata": {},
     "output_type": "execute_result"
    }
   ],
   "source": [
    "#RMSE\n",
    "np.sqrt(mean_squared_error(y_test,rf_predict))"
   ]
  },
  {
   "cell_type": "code",
   "execution_count": 38,
   "id": "exact-denver",
   "metadata": {
    "execution": {
     "iopub.execute_input": "2021-06-06T16:09:49.670846Z",
     "iopub.status.busy": "2021-06-06T16:09:49.670041Z",
     "iopub.status.idle": "2021-06-06T16:09:49.674641Z",
     "shell.execute_reply": "2021-06-06T16:09:49.675240Z",
     "shell.execute_reply.started": "2021-06-06T15:05:41.227015Z"
    },
    "papermill": {
     "duration": 0.070233,
     "end_time": "2021-06-06T16:09:49.675400",
     "exception": false,
     "start_time": "2021-06-06T16:09:49.605167",
     "status": "completed"
    },
    "tags": []
   },
   "outputs": [],
   "source": [
    "from sklearn.tree import DecisionTreeClassifier"
   ]
  },
  {
   "cell_type": "code",
   "execution_count": 39,
   "id": "palestinian-associate",
   "metadata": {
    "execution": {
     "iopub.execute_input": "2021-06-06T16:09:49.804126Z",
     "iopub.status.busy": "2021-06-06T16:09:49.803275Z",
     "iopub.status.idle": "2021-06-06T16:09:49.815023Z",
     "shell.execute_reply": "2021-06-06T16:09:49.815555Z",
     "shell.execute_reply.started": "2021-06-06T15:06:30.083329Z"
    },
    "papermill": {
     "duration": 0.077981,
     "end_time": "2021-06-06T16:09:49.815710",
     "exception": false,
     "start_time": "2021-06-06T16:09:49.737729",
     "status": "completed"
    },
    "tags": []
   },
   "outputs": [
    {
     "data": {
      "text/plain": [
       "0.92"
      ]
     },
     "execution_count": 39,
     "metadata": {},
     "output_type": "execute_result"
    }
   ],
   "source": [
    "tree = DecisionTreeClassifier()\n",
    "tree.fit(X_train,y_train)\n",
    "tree_predict = tree.predict(X_test)\n",
    "tree.score(X_train,y_train)"
   ]
  },
  {
   "cell_type": "code",
   "execution_count": 40,
   "id": "lonely-binary",
   "metadata": {
    "execution": {
     "iopub.execute_input": "2021-06-06T16:09:49.945259Z",
     "iopub.status.busy": "2021-06-06T16:09:49.944295Z",
     "iopub.status.idle": "2021-06-06T16:09:49.949934Z",
     "shell.execute_reply": "2021-06-06T16:09:49.950481Z",
     "shell.execute_reply.started": "2021-06-06T15:06:45.218473Z"
    },
    "papermill": {
     "duration": 0.072088,
     "end_time": "2021-06-06T16:09:49.950630",
     "exception": false,
     "start_time": "2021-06-06T16:09:49.878542",
     "status": "completed"
    },
    "tags": []
   },
   "outputs": [
    {
     "data": {
      "text/plain": [
       "0.81"
      ]
     },
     "execution_count": 40,
     "metadata": {},
     "output_type": "execute_result"
    }
   ],
   "source": [
    "accuracy_score(y_test,tree_predict)"
   ]
  },
  {
   "cell_type": "code",
   "execution_count": 41,
   "id": "certified-storage",
   "metadata": {
    "execution": {
     "iopub.execute_input": "2021-06-06T16:09:50.082513Z",
     "iopub.status.busy": "2021-06-06T16:09:50.081635Z",
     "iopub.status.idle": "2021-06-06T16:09:50.087603Z",
     "shell.execute_reply": "2021-06-06T16:09:50.088217Z",
     "shell.execute_reply.started": "2021-06-06T15:07:07.493709Z"
    },
    "papermill": {
     "duration": 0.073038,
     "end_time": "2021-06-06T16:09:50.088384",
     "exception": false,
     "start_time": "2021-06-06T16:09:50.015346",
     "status": "completed"
    },
    "tags": []
   },
   "outputs": [
    {
     "data": {
      "text/plain": [
       "array([[45,  7],\n",
       "       [12, 36]])"
      ]
     },
     "execution_count": 41,
     "metadata": {},
     "output_type": "execute_result"
    }
   ],
   "source": [
    "confusion_matrix(y_test,tree_predict)"
   ]
  },
  {
   "cell_type": "code",
   "execution_count": 42,
   "id": "assured-burton",
   "metadata": {
    "execution": {
     "iopub.execute_input": "2021-06-06T16:09:50.221001Z",
     "iopub.status.busy": "2021-06-06T16:09:50.220182Z",
     "iopub.status.idle": "2021-06-06T16:09:50.230431Z",
     "shell.execute_reply": "2021-06-06T16:09:50.229992Z",
     "shell.execute_reply.started": "2021-06-06T15:07:42.208104Z"
    },
    "papermill": {
     "duration": 0.077167,
     "end_time": "2021-06-06T16:09:50.230554",
     "exception": false,
     "start_time": "2021-06-06T16:09:50.153387",
     "status": "completed"
    },
    "tags": []
   },
   "outputs": [
    {
     "name": "stdout",
     "output_type": "stream",
     "text": [
      "              precision    recall  f1-score   support\n",
      "\n",
      "           0       0.79      0.87      0.83        52\n",
      "           1       0.84      0.75      0.79        48\n",
      "\n",
      "    accuracy                           0.81       100\n",
      "   macro avg       0.81      0.81      0.81       100\n",
      "weighted avg       0.81      0.81      0.81       100\n",
      "\n"
     ]
    }
   ],
   "source": [
    "print(classification_report(y_test,tree_predict))"
   ]
  },
  {
   "cell_type": "code",
   "execution_count": 43,
   "id": "answering-implementation",
   "metadata": {
    "execution": {
     "iopub.execute_input": "2021-06-06T16:09:50.367006Z",
     "iopub.status.busy": "2021-06-06T16:09:50.366160Z",
     "iopub.status.idle": "2021-06-06T16:09:50.369927Z",
     "shell.execute_reply": "2021-06-06T16:09:50.369305Z",
     "shell.execute_reply.started": "2021-06-06T15:14:21.224838Z"
    },
    "papermill": {
     "duration": 0.074452,
     "end_time": "2021-06-06T16:09:50.370065",
     "exception": false,
     "start_time": "2021-06-06T16:09:50.295613",
     "status": "completed"
    },
    "tags": []
   },
   "outputs": [
    {
     "data": {
      "text/plain": [
       "0.43588989435406733"
      ]
     },
     "execution_count": 43,
     "metadata": {},
     "output_type": "execute_result"
    }
   ],
   "source": [
    "#RMSE\n",
    "np.sqrt(mean_squared_error(y_test,tree_predict))"
   ]
  },
  {
   "cell_type": "code",
   "execution_count": 44,
   "id": "assumed-johnston",
   "metadata": {
    "execution": {
     "iopub.execute_input": "2021-06-06T16:09:50.504111Z",
     "iopub.status.busy": "2021-06-06T16:09:50.503452Z",
     "iopub.status.idle": "2021-06-06T16:09:50.506445Z",
     "shell.execute_reply": "2021-06-06T16:09:50.505846Z",
     "shell.execute_reply.started": "2021-06-06T15:08:03.835594Z"
    },
    "papermill": {
     "duration": 0.071357,
     "end_time": "2021-06-06T16:09:50.506551",
     "exception": false,
     "start_time": "2021-06-06T16:09:50.435194",
     "status": "completed"
    },
    "tags": []
   },
   "outputs": [],
   "source": [
    "from sklearn.svm import SVC"
   ]
  },
  {
   "cell_type": "code",
   "execution_count": 45,
   "id": "positive-taste",
   "metadata": {
    "execution": {
     "iopub.execute_input": "2021-06-06T16:09:50.644400Z",
     "iopub.status.busy": "2021-06-06T16:09:50.643760Z",
     "iopub.status.idle": "2021-06-06T16:09:50.666298Z",
     "shell.execute_reply": "2021-06-06T16:09:50.666830Z",
     "shell.execute_reply.started": "2021-06-06T15:09:00.383867Z"
    },
    "papermill": {
     "duration": 0.095055,
     "end_time": "2021-06-06T16:09:50.667040",
     "exception": false,
     "start_time": "2021-06-06T16:09:50.571985",
     "status": "completed"
    },
    "tags": []
   },
   "outputs": [
    {
     "data": {
      "text/plain": [
       "0.63"
      ]
     },
     "execution_count": 45,
     "metadata": {},
     "output_type": "execute_result"
    }
   ],
   "source": [
    "svc = SVC()\n",
    "svc.fit(X_train,y_train)\n",
    "svc_predict = svc.predict(X_test)\n",
    "svc.score(X_train,y_train)"
   ]
  },
  {
   "cell_type": "code",
   "execution_count": 46,
   "id": "designing-alexandria",
   "metadata": {
    "execution": {
     "iopub.execute_input": "2021-06-06T16:09:50.803159Z",
     "iopub.status.busy": "2021-06-06T16:09:50.802476Z",
     "iopub.status.idle": "2021-06-06T16:09:50.807299Z",
     "shell.execute_reply": "2021-06-06T16:09:50.807834Z",
     "shell.execute_reply.started": "2021-06-06T15:09:18.623557Z"
    },
    "papermill": {
     "duration": 0.075847,
     "end_time": "2021-06-06T16:09:50.808013",
     "exception": false,
     "start_time": "2021-06-06T16:09:50.732166",
     "status": "completed"
    },
    "tags": []
   },
   "outputs": [
    {
     "data": {
      "text/plain": [
       "0.65"
      ]
     },
     "execution_count": 46,
     "metadata": {},
     "output_type": "execute_result"
    }
   ],
   "source": [
    "accuracy_score(y_test,svc_predict)"
   ]
  },
  {
   "cell_type": "code",
   "execution_count": 47,
   "id": "continent-equivalent",
   "metadata": {
    "execution": {
     "iopub.execute_input": "2021-06-06T16:09:50.947671Z",
     "iopub.status.busy": "2021-06-06T16:09:50.947079Z",
     "iopub.status.idle": "2021-06-06T16:09:50.949406Z",
     "shell.execute_reply": "2021-06-06T16:09:50.949852Z",
     "shell.execute_reply.started": "2021-06-06T15:09:39.074278Z"
    },
    "papermill": {
     "duration": 0.075817,
     "end_time": "2021-06-06T16:09:50.950021",
     "exception": false,
     "start_time": "2021-06-06T16:09:50.874204",
     "status": "completed"
    },
    "tags": []
   },
   "outputs": [
    {
     "data": {
      "text/plain": [
       "array([[50,  2],\n",
       "       [33, 15]])"
      ]
     },
     "execution_count": 47,
     "metadata": {},
     "output_type": "execute_result"
    }
   ],
   "source": [
    "confusion_matrix(y_test,svc_predict)"
   ]
  },
  {
   "cell_type": "code",
   "execution_count": 48,
   "id": "sitting-netherlands",
   "metadata": {
    "execution": {
     "iopub.execute_input": "2021-06-06T16:09:51.084311Z",
     "iopub.status.busy": "2021-06-06T16:09:51.083678Z",
     "iopub.status.idle": "2021-06-06T16:09:51.092070Z",
     "shell.execute_reply": "2021-06-06T16:09:51.092487Z",
     "shell.execute_reply.started": "2021-06-06T15:10:01.981196Z"
    },
    "papermill": {
     "duration": 0.076828,
     "end_time": "2021-06-06T16:09:51.092639",
     "exception": false,
     "start_time": "2021-06-06T16:09:51.015811",
     "status": "completed"
    },
    "tags": []
   },
   "outputs": [
    {
     "name": "stdout",
     "output_type": "stream",
     "text": [
      "              precision    recall  f1-score   support\n",
      "\n",
      "           0       0.60      0.96      0.74        52\n",
      "           1       0.88      0.31      0.46        48\n",
      "\n",
      "    accuracy                           0.65       100\n",
      "   macro avg       0.74      0.64      0.60       100\n",
      "weighted avg       0.74      0.65      0.61       100\n",
      "\n"
     ]
    }
   ],
   "source": [
    "print(classification_report(y_test,svc_predict))"
   ]
  },
  {
   "cell_type": "code",
   "execution_count": 49,
   "id": "another-batch",
   "metadata": {
    "execution": {
     "iopub.execute_input": "2021-06-06T16:09:51.230620Z",
     "iopub.status.busy": "2021-06-06T16:09:51.229952Z",
     "iopub.status.idle": "2021-06-06T16:09:51.234794Z",
     "shell.execute_reply": "2021-06-06T16:09:51.235303Z",
     "shell.execute_reply.started": "2021-06-06T15:14:37.791246Z"
    },
    "papermill": {
     "duration": 0.075321,
     "end_time": "2021-06-06T16:09:51.235456",
     "exception": false,
     "start_time": "2021-06-06T16:09:51.160135",
     "status": "completed"
    },
    "tags": []
   },
   "outputs": [
    {
     "data": {
      "text/plain": [
       "0.5916079783099616"
      ]
     },
     "execution_count": 49,
     "metadata": {},
     "output_type": "execute_result"
    }
   ],
   "source": [
    "#RMSE\n",
    "np.sqrt(mean_squared_error(y_test,svc_predict))"
   ]
  },
  {
   "cell_type": "code",
   "execution_count": 50,
   "id": "supreme-yield",
   "metadata": {
    "execution": {
     "iopub.execute_input": "2021-06-06T16:09:51.371924Z",
     "iopub.status.busy": "2021-06-06T16:09:51.371337Z",
     "iopub.status.idle": "2021-06-06T16:09:51.375935Z",
     "shell.execute_reply": "2021-06-06T16:09:51.375418Z",
     "shell.execute_reply.started": "2021-06-06T15:15:43.713407Z"
    },
    "papermill": {
     "duration": 0.073574,
     "end_time": "2021-06-06T16:09:51.376069",
     "exception": false,
     "start_time": "2021-06-06T16:09:51.302495",
     "status": "completed"
    },
    "tags": []
   },
   "outputs": [],
   "source": [
    "from sklearn.ensemble import GradientBoostingClassifier "
   ]
  },
  {
   "cell_type": "code",
   "execution_count": 51,
   "id": "returning-possible",
   "metadata": {
    "execution": {
     "iopub.execute_input": "2021-06-06T16:09:51.516670Z",
     "iopub.status.busy": "2021-06-06T16:09:51.516073Z",
     "iopub.status.idle": "2021-06-06T16:09:51.597068Z",
     "shell.execute_reply": "2021-06-06T16:09:51.597513Z",
     "shell.execute_reply.started": "2021-06-06T15:17:17.479305Z"
    },
    "papermill": {
     "duration": 0.154331,
     "end_time": "2021-06-06T16:09:51.597668",
     "exception": false,
     "start_time": "2021-06-06T16:09:51.443337",
     "status": "completed"
    },
    "tags": []
   },
   "outputs": [
    {
     "data": {
      "text/plain": [
       "0.9025"
      ]
     },
     "execution_count": 51,
     "metadata": {},
     "output_type": "execute_result"
    }
   ],
   "source": [
    "gbc = GradientBoostingClassifier()\n",
    "gbc.fit(X_train,y_train)\n",
    "gbc_predict = gbc.predict(X_test)\n",
    "gbc.score(X_train,y_train)"
   ]
  },
  {
   "cell_type": "code",
   "execution_count": 52,
   "id": "present-intensity",
   "metadata": {
    "execution": {
     "iopub.execute_input": "2021-06-06T16:09:51.734383Z",
     "iopub.status.busy": "2021-06-06T16:09:51.733418Z",
     "iopub.status.idle": "2021-06-06T16:09:51.738781Z",
     "shell.execute_reply": "2021-06-06T16:09:51.739229Z",
     "shell.execute_reply.started": "2021-06-06T15:17:35.373424Z"
    },
    "papermill": {
     "duration": 0.076053,
     "end_time": "2021-06-06T16:09:51.739382",
     "exception": false,
     "start_time": "2021-06-06T16:09:51.663329",
     "status": "completed"
    },
    "tags": []
   },
   "outputs": [
    {
     "data": {
      "text/plain": [
       "0.83"
      ]
     },
     "execution_count": 52,
     "metadata": {},
     "output_type": "execute_result"
    }
   ],
   "source": [
    "accuracy_score(y_test,gbc_predict)"
   ]
  },
  {
   "cell_type": "code",
   "execution_count": 53,
   "id": "green-reservation",
   "metadata": {
    "execution": {
     "iopub.execute_input": "2021-06-06T16:09:51.879302Z",
     "iopub.status.busy": "2021-06-06T16:09:51.878313Z",
     "iopub.status.idle": "2021-06-06T16:09:51.884649Z",
     "shell.execute_reply": "2021-06-06T16:09:51.885192Z",
     "shell.execute_reply.started": "2021-06-06T15:21:44.925801Z"
    },
    "papermill": {
     "duration": 0.0781,
     "end_time": "2021-06-06T16:09:51.885345",
     "exception": false,
     "start_time": "2021-06-06T16:09:51.807245",
     "status": "completed"
    },
    "tags": []
   },
   "outputs": [
    {
     "data": {
      "text/plain": [
       "array([[44,  8],\n",
       "       [ 9, 39]])"
      ]
     },
     "execution_count": 53,
     "metadata": {},
     "output_type": "execute_result"
    }
   ],
   "source": [
    "confusion_matrix(y_test,gbc_predict)"
   ]
  },
  {
   "cell_type": "code",
   "execution_count": 54,
   "id": "informational-corps",
   "metadata": {
    "execution": {
     "iopub.execute_input": "2021-06-06T16:09:52.028101Z",
     "iopub.status.busy": "2021-06-06T16:09:52.027187Z",
     "iopub.status.idle": "2021-06-06T16:09:52.037018Z",
     "shell.execute_reply": "2021-06-06T16:09:52.037641Z",
     "shell.execute_reply.started": "2021-06-06T15:25:35.112377Z"
    },
    "papermill": {
     "duration": 0.084211,
     "end_time": "2021-06-06T16:09:52.037844",
     "exception": false,
     "start_time": "2021-06-06T16:09:51.953633",
     "status": "completed"
    },
    "tags": []
   },
   "outputs": [
    {
     "name": "stdout",
     "output_type": "stream",
     "text": [
      "              precision    recall  f1-score   support\n",
      "\n",
      "           0       0.83      0.85      0.84        52\n",
      "           1       0.83      0.81      0.82        48\n",
      "\n",
      "    accuracy                           0.83       100\n",
      "   macro avg       0.83      0.83      0.83       100\n",
      "weighted avg       0.83      0.83      0.83       100\n",
      "\n"
     ]
    }
   ],
   "source": [
    "print(classification_report(y_test,gbc_predict))"
   ]
  },
  {
   "cell_type": "code",
   "execution_count": 55,
   "id": "breathing-facility",
   "metadata": {
    "execution": {
     "iopub.execute_input": "2021-06-06T16:09:52.180148Z",
     "iopub.status.busy": "2021-06-06T16:09:52.179522Z",
     "iopub.status.idle": "2021-06-06T16:09:52.183046Z",
     "shell.execute_reply": "2021-06-06T16:09:52.183468Z",
     "shell.execute_reply.started": "2021-06-06T15:26:02.131775Z"
    },
    "papermill": {
     "duration": 0.077289,
     "end_time": "2021-06-06T16:09:52.183651",
     "exception": false,
     "start_time": "2021-06-06T16:09:52.106362",
     "status": "completed"
    },
    "tags": []
   },
   "outputs": [
    {
     "data": {
      "text/plain": [
       "0.41231056256176607"
      ]
     },
     "execution_count": 55,
     "metadata": {},
     "output_type": "execute_result"
    }
   ],
   "source": [
    "#RMSE\n",
    "np.sqrt(mean_squared_error(y_test,gbc_predict))"
   ]
  }
 ],
 "metadata": {
  "kernelspec": {
   "display_name": "Python 3",
   "language": "python",
   "name": "python3"
  },
  "language_info": {
   "codemirror_mode": {
    "name": "ipython",
    "version": 3
   },
   "file_extension": ".py",
   "mimetype": "text/x-python",
   "name": "python",
   "nbconvert_exporter": "python",
   "pygments_lexer": "ipython3",
   "version": "3.7.10"
  },
  "papermill": {
   "default_parameters": {},
   "duration": 21.753326,
   "end_time": "2021-06-06T16:09:53.792223",
   "environment_variables": {},
   "exception": null,
   "input_path": "__notebook__.ipynb",
   "output_path": "__notebook__.ipynb",
   "parameters": {},
   "start_time": "2021-06-06T16:09:32.038897",
   "version": "2.3.3"
  }
 },
 "nbformat": 4,
 "nbformat_minor": 5
}
