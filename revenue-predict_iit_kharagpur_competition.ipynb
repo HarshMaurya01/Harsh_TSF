{
 "cells": [
  {
   "cell_type": "code",
   "execution_count": 1,
   "id": "polar-subdivision",
   "metadata": {
    "_cell_guid": "b1076dfc-b9ad-4769-8c92-a6c4dae69d19",
    "_uuid": "8f2839f25d086af736a60e9eeb907d3b93b6e0e5",
    "execution": {
     "iopub.execute_input": "2021-03-21T06:10:15.447257Z",
     "iopub.status.busy": "2021-03-21T06:10:15.446205Z",
     "iopub.status.idle": "2021-03-21T06:10:17.409873Z",
     "shell.execute_reply": "2021-03-21T06:10:17.408662Z"
    },
    "papermill": {
     "duration": 2.016099,
     "end_time": "2021-03-21T06:10:17.410047",
     "exception": false,
     "start_time": "2021-03-21T06:10:15.393948",
     "status": "completed"
    },
    "tags": []
   },
   "outputs": [],
   "source": [
    "import numpy as np\n",
    "import pandas as pd\n",
    "import matplotlib.pyplot as plt\n",
    "import seaborn as sns\n",
    "import statsmodels.api as sm"
   ]
  },
  {
   "cell_type": "code",
   "execution_count": 2,
   "id": "immediate-backup",
   "metadata": {
    "execution": {
     "iopub.execute_input": "2021-03-21T06:10:17.512144Z",
     "iopub.status.busy": "2021-03-21T06:10:17.511529Z",
     "iopub.status.idle": "2021-03-21T06:10:17.593027Z",
     "shell.execute_reply": "2021-03-21T06:10:17.592298Z"
    },
    "papermill": {
     "duration": 0.134134,
     "end_time": "2021-03-21T06:10:17.593174",
     "exception": false,
     "start_time": "2021-03-21T06:10:17.459040",
     "status": "completed"
    },
    "tags": []
   },
   "outputs": [],
   "source": [
    "train = pd.read_csv('../input/mengary-revenue-prediction/train.csv',index_col=0)\n",
    "test = pd.read_csv('../input/mengary-revenue-prediction/test.csv',index_col=0)"
   ]
  },
  {
   "cell_type": "code",
   "execution_count": 3,
   "id": "distributed-processor",
   "metadata": {
    "execution": {
     "iopub.execute_input": "2021-03-21T06:10:17.702839Z",
     "iopub.status.busy": "2021-03-21T06:10:17.701847Z",
     "iopub.status.idle": "2021-03-21T06:10:17.729782Z",
     "shell.execute_reply": "2021-03-21T06:10:17.730223Z"
    },
    "papermill": {
     "duration": 0.08844,
     "end_time": "2021-03-21T06:10:17.730407",
     "exception": false,
     "start_time": "2021-03-21T06:10:17.641967",
     "status": "completed"
    },
    "tags": []
   },
   "outputs": [
    {
     "data": {
      "text/html": [
       "<div>\n",
       "<style scoped>\n",
       "    .dataframe tbody tr th:only-of-type {\n",
       "        vertical-align: middle;\n",
       "    }\n",
       "\n",
       "    .dataframe tbody tr th {\n",
       "        vertical-align: top;\n",
       "    }\n",
       "\n",
       "    .dataframe thead th {\n",
       "        text-align: right;\n",
       "    }\n",
       "</style>\n",
       "<table border=\"1\" class=\"dataframe\">\n",
       "  <thead>\n",
       "    <tr style=\"text-align: right;\">\n",
       "      <th></th>\n",
       "      <th>departure city</th>\n",
       "      <th>discount</th>\n",
       "      <th>price</th>\n",
       "      <th>no of items</th>\n",
       "      <th>location</th>\n",
       "      <th>class</th>\n",
       "      <th>segment</th>\n",
       "      <th>sub-class</th>\n",
       "      <th>delivery type</th>\n",
       "      <th>RID</th>\n",
       "      <th>profit</th>\n",
       "      <th>delivery date</th>\n",
       "      <th>address code</th>\n",
       "      <th>departure state</th>\n",
       "      <th>placement date</th>\n",
       "    </tr>\n",
       "    <tr>\n",
       "      <th>id</th>\n",
       "      <th></th>\n",
       "      <th></th>\n",
       "      <th></th>\n",
       "      <th></th>\n",
       "      <th></th>\n",
       "      <th></th>\n",
       "      <th></th>\n",
       "      <th></th>\n",
       "      <th></th>\n",
       "      <th></th>\n",
       "      <th></th>\n",
       "      <th></th>\n",
       "      <th></th>\n",
       "      <th></th>\n",
       "      <th></th>\n",
       "    </tr>\n",
       "  </thead>\n",
       "  <tbody>\n",
       "    <tr>\n",
       "      <th>1</th>\n",
       "      <td>Houston</td>\n",
       "      <td>0.2</td>\n",
       "      <td>16.448</td>\n",
       "      <td>2</td>\n",
       "      <td>Central</td>\n",
       "      <td>kariox</td>\n",
       "      <td>Consumer</td>\n",
       "      <td>phone</td>\n",
       "      <td>Standard Class</td>\n",
       "      <td>7981</td>\n",
       "      <td>5.5512</td>\n",
       "      <td>2018-01-01</td>\n",
       "      <td>77095</td>\n",
       "      <td>Texas</td>\n",
       "      <td>2018-01-01</td>\n",
       "    </tr>\n",
       "    <tr>\n",
       "      <th>2</th>\n",
       "      <td>Westland</td>\n",
       "      <td>0.0</td>\n",
       "      <td>29.700</td>\n",
       "      <td>5</td>\n",
       "      <td>Central</td>\n",
       "      <td>kariox</td>\n",
       "      <td>Consumer</td>\n",
       "      <td>headset</td>\n",
       "      <td>Standard Class</td>\n",
       "      <td>6334</td>\n",
       "      <td>13.3650</td>\n",
       "      <td>2018-01-01</td>\n",
       "      <td>48185</td>\n",
       "      <td>Michigan</td>\n",
       "      <td>2018-01-01</td>\n",
       "    </tr>\n",
       "    <tr>\n",
       "      <th>3</th>\n",
       "      <td>Westland</td>\n",
       "      <td>0.0</td>\n",
       "      <td>14.730</td>\n",
       "      <td>3</td>\n",
       "      <td>Central</td>\n",
       "      <td>qexty</td>\n",
       "      <td>Consumer</td>\n",
       "      <td>shorts</td>\n",
       "      <td>Standard Class</td>\n",
       "      <td>6333</td>\n",
       "      <td>4.8609</td>\n",
       "      <td>2018-01-01</td>\n",
       "      <td>48185</td>\n",
       "      <td>Michigan</td>\n",
       "      <td>2018-01-01</td>\n",
       "    </tr>\n",
       "    <tr>\n",
       "      <th>4</th>\n",
       "      <td>Westland</td>\n",
       "      <td>0.0</td>\n",
       "      <td>43.920</td>\n",
       "      <td>3</td>\n",
       "      <td>Central</td>\n",
       "      <td>kariox</td>\n",
       "      <td>Consumer</td>\n",
       "      <td>television</td>\n",
       "      <td>Standard Class</td>\n",
       "      <td>6332</td>\n",
       "      <td>12.7368</td>\n",
       "      <td>2018-01-01</td>\n",
       "      <td>48185</td>\n",
       "      <td>Michigan</td>\n",
       "      <td>2018-01-01</td>\n",
       "    </tr>\n",
       "    <tr>\n",
       "      <th>5</th>\n",
       "      <td>Westland</td>\n",
       "      <td>0.0</td>\n",
       "      <td>66.580</td>\n",
       "      <td>2</td>\n",
       "      <td>Central</td>\n",
       "      <td>kariox</td>\n",
       "      <td>Consumer</td>\n",
       "      <td>laptop</td>\n",
       "      <td>Standard Class</td>\n",
       "      <td>6331</td>\n",
       "      <td>15.9792</td>\n",
       "      <td>2018-01-01</td>\n",
       "      <td>48185</td>\n",
       "      <td>Michigan</td>\n",
       "      <td>2018-01-01</td>\n",
       "    </tr>\n",
       "    <tr>\n",
       "      <th>...</th>\n",
       "      <td>...</td>\n",
       "      <td>...</td>\n",
       "      <td>...</td>\n",
       "      <td>...</td>\n",
       "      <td>...</td>\n",
       "      <td>...</td>\n",
       "      <td>...</td>\n",
       "      <td>...</td>\n",
       "      <td>...</td>\n",
       "      <td>...</td>\n",
       "      <td>...</td>\n",
       "      <td>...</td>\n",
       "      <td>...</td>\n",
       "      <td>...</td>\n",
       "      <td>...</td>\n",
       "    </tr>\n",
       "    <tr>\n",
       "      <th>6696</th>\n",
       "      <td>Burlington</td>\n",
       "      <td>0.0</td>\n",
       "      <td>542.940</td>\n",
       "      <td>3</td>\n",
       "      <td>East</td>\n",
       "      <td>kariox</td>\n",
       "      <td>Consumer</td>\n",
       "      <td>battery</td>\n",
       "      <td>Standard Class</td>\n",
       "      <td>9389</td>\n",
       "      <td>152.0232</td>\n",
       "      <td>2021-01-01</td>\n",
       "      <td>5408</td>\n",
       "      <td>Vermont</td>\n",
       "      <td>2021-01-01</td>\n",
       "    </tr>\n",
       "    <tr>\n",
       "      <th>6697</th>\n",
       "      <td>San Jose</td>\n",
       "      <td>0.2</td>\n",
       "      <td>276.784</td>\n",
       "      <td>2</td>\n",
       "      <td>West</td>\n",
       "      <td>kariox</td>\n",
       "      <td>Corporate</td>\n",
       "      <td>headset</td>\n",
       "      <td>Standard Class</td>\n",
       "      <td>9597</td>\n",
       "      <td>89.9548</td>\n",
       "      <td>2021-01-01</td>\n",
       "      <td>95123</td>\n",
       "      <td>California</td>\n",
       "      <td>2021-01-01</td>\n",
       "    </tr>\n",
       "    <tr>\n",
       "      <th>6698</th>\n",
       "      <td>Burlington</td>\n",
       "      <td>0.0</td>\n",
       "      <td>2.040</td>\n",
       "      <td>1</td>\n",
       "      <td>East</td>\n",
       "      <td>kariox</td>\n",
       "      <td>Consumer</td>\n",
       "      <td>watch</td>\n",
       "      <td>Standard Class</td>\n",
       "      <td>9390</td>\n",
       "      <td>0.9588</td>\n",
       "      <td>2021-01-01</td>\n",
       "      <td>5408</td>\n",
       "      <td>Vermont</td>\n",
       "      <td>2021-01-01</td>\n",
       "    </tr>\n",
       "    <tr>\n",
       "      <th>6699</th>\n",
       "      <td>New York City</td>\n",
       "      <td>0.1</td>\n",
       "      <td>207.846</td>\n",
       "      <td>3</td>\n",
       "      <td>East</td>\n",
       "      <td>qexty</td>\n",
       "      <td>Corporate</td>\n",
       "      <td>tshirts</td>\n",
       "      <td>Second Class</td>\n",
       "      <td>440</td>\n",
       "      <td>2.3094</td>\n",
       "      <td>2021-01-01</td>\n",
       "      <td>10024</td>\n",
       "      <td>New York</td>\n",
       "      <td>2021-01-01</td>\n",
       "    </tr>\n",
       "    <tr>\n",
       "      <th>6700</th>\n",
       "      <td>Los Angeles</td>\n",
       "      <td>0.2</td>\n",
       "      <td>160.776</td>\n",
       "      <td>3</td>\n",
       "      <td>West</td>\n",
       "      <td>fynota</td>\n",
       "      <td>Consumer</td>\n",
       "      <td>colddrinks</td>\n",
       "      <td>Standard Class</td>\n",
       "      <td>1659</td>\n",
       "      <td>10.0485</td>\n",
       "      <td>2021-01-01</td>\n",
       "      <td>90045</td>\n",
       "      <td>California</td>\n",
       "      <td>2021-01-01</td>\n",
       "    </tr>\n",
       "  </tbody>\n",
       "</table>\n",
       "<p>6700 rows × 15 columns</p>\n",
       "</div>"
      ],
      "text/plain": [
       "     departure city  discount    price  no of items location   class  \\\n",
       "id                                                                     \n",
       "1           Houston       0.2   16.448            2  Central  kariox   \n",
       "2          Westland       0.0   29.700            5  Central  kariox   \n",
       "3          Westland       0.0   14.730            3  Central   qexty   \n",
       "4          Westland       0.0   43.920            3  Central  kariox   \n",
       "5          Westland       0.0   66.580            2  Central  kariox   \n",
       "...             ...       ...      ...          ...      ...     ...   \n",
       "6696     Burlington       0.0  542.940            3     East  kariox   \n",
       "6697       San Jose       0.2  276.784            2     West  kariox   \n",
       "6698     Burlington       0.0    2.040            1     East  kariox   \n",
       "6699  New York City       0.1  207.846            3     East   qexty   \n",
       "6700    Los Angeles       0.2  160.776            3     West  fynota   \n",
       "\n",
       "        segment   sub-class   delivery type   RID    profit delivery date  \\\n",
       "id                                                                          \n",
       "1      Consumer       phone  Standard Class  7981    5.5512    2018-01-01   \n",
       "2      Consumer     headset  Standard Class  6334   13.3650    2018-01-01   \n",
       "3      Consumer      shorts  Standard Class  6333    4.8609    2018-01-01   \n",
       "4      Consumer  television  Standard Class  6332   12.7368    2018-01-01   \n",
       "5      Consumer      laptop  Standard Class  6331   15.9792    2018-01-01   \n",
       "...         ...         ...             ...   ...       ...           ...   \n",
       "6696   Consumer     battery  Standard Class  9389  152.0232    2021-01-01   \n",
       "6697  Corporate     headset  Standard Class  9597   89.9548    2021-01-01   \n",
       "6698   Consumer       watch  Standard Class  9390    0.9588    2021-01-01   \n",
       "6699  Corporate     tshirts    Second Class   440    2.3094    2021-01-01   \n",
       "6700   Consumer  colddrinks  Standard Class  1659   10.0485    2021-01-01   \n",
       "\n",
       "      address code departure state placement date  \n",
       "id                                                 \n",
       "1            77095           Texas     2018-01-01  \n",
       "2            48185        Michigan     2018-01-01  \n",
       "3            48185        Michigan     2018-01-01  \n",
       "4            48185        Michigan     2018-01-01  \n",
       "5            48185        Michigan     2018-01-01  \n",
       "...            ...             ...            ...  \n",
       "6696          5408         Vermont     2021-01-01  \n",
       "6697         95123      California     2021-01-01  \n",
       "6698          5408         Vermont     2021-01-01  \n",
       "6699         10024        New York     2021-01-01  \n",
       "6700         90045      California     2021-01-01  \n",
       "\n",
       "[6700 rows x 15 columns]"
      ]
     },
     "execution_count": 3,
     "metadata": {},
     "output_type": "execute_result"
    }
   ],
   "source": [
    "train"
   ]
  },
  {
   "cell_type": "code",
   "execution_count": 4,
   "id": "false-medicine",
   "metadata": {
    "execution": {
     "iopub.execute_input": "2021-03-21T06:10:17.855081Z",
     "iopub.status.busy": "2021-03-21T06:10:17.849371Z",
     "iopub.status.idle": "2021-03-21T06:10:17.874064Z",
     "shell.execute_reply": "2021-03-21T06:10:17.873490Z"
    },
    "papermill": {
     "duration": 0.087225,
     "end_time": "2021-03-21T06:10:17.874213",
     "exception": false,
     "start_time": "2021-03-21T06:10:17.786988",
     "status": "completed"
    },
    "tags": []
   },
   "outputs": [
    {
     "name": "stdout",
     "output_type": "stream",
     "text": [
      "<class 'pandas.core.frame.DataFrame'>\n",
      "Int64Index: 6700 entries, 1 to 6700\n",
      "Data columns (total 15 columns):\n",
      " #   Column           Non-Null Count  Dtype  \n",
      "---  ------           --------------  -----  \n",
      " 0   departure city   6700 non-null   object \n",
      " 1   discount         6700 non-null   float64\n",
      " 2   price            6700 non-null   float64\n",
      " 3   no of items      6700 non-null   int64  \n",
      " 4   location         6700 non-null   object \n",
      " 5   class            6700 non-null   object \n",
      " 6   segment          6700 non-null   object \n",
      " 7   sub-class        6700 non-null   object \n",
      " 8   delivery type    6699 non-null   object \n",
      " 9   RID              6700 non-null   int64  \n",
      " 10  profit           6700 non-null   float64\n",
      " 11  delivery date    6700 non-null   object \n",
      " 12  address code     6700 non-null   int64  \n",
      " 13  departure state  6700 non-null   object \n",
      " 14  placement date   6700 non-null   object \n",
      "dtypes: float64(3), int64(3), object(9)\n",
      "memory usage: 837.5+ KB\n"
     ]
    }
   ],
   "source": [
    "train.info()"
   ]
  },
  {
   "cell_type": "code",
   "execution_count": 5,
   "id": "dried-honduras",
   "metadata": {
    "execution": {
     "iopub.execute_input": "2021-03-21T06:10:17.994509Z",
     "iopub.status.busy": "2021-03-21T06:10:17.993569Z",
     "iopub.status.idle": "2021-03-21T06:10:18.190235Z",
     "shell.execute_reply": "2021-03-21T06:10:18.189635Z"
    },
    "papermill": {
     "duration": 0.249357,
     "end_time": "2021-03-21T06:10:18.190400",
     "exception": false,
     "start_time": "2021-03-21T06:10:17.941043",
     "status": "completed"
    },
    "tags": []
   },
   "outputs": [
    {
     "data": {
      "text/plain": [
       "<AxesSubplot:xlabel='departure city'>"
      ]
     },
     "execution_count": 5,
     "metadata": {},
     "output_type": "execute_result"
    },
    {
     "data": {
      "image/png": "[encoded data removed]",
      "text/plain": [
       "<Figure size 432x288 with 1 Axes>"
      ]
     },
     "metadata": {
      "needs_background": "light"
     },
     "output_type": "display_data"
    }
   ],
   "source": [
    "df = train[['departure city','discount']]\n",
    "df.groupby('departure city',axis=0).sum().plot()"
   ]
  },
  {
   "cell_type": "code",
   "execution_count": 6,
   "id": "corporate-liverpool",
   "metadata": {
    "execution": {
     "iopub.execute_input": "2021-03-21T06:10:18.301909Z",
     "iopub.status.busy": "2021-03-21T06:10:18.300917Z",
     "iopub.status.idle": "2021-03-21T06:10:18.445304Z",
     "shell.execute_reply": "2021-03-21T06:10:18.444677Z"
    },
    "papermill": {
     "duration": 0.203591,
     "end_time": "2021-03-21T06:10:18.445470",
     "exception": false,
     "start_time": "2021-03-21T06:10:18.241879",
     "status": "completed"
    },
    "tags": []
   },
   "outputs": [
    {
     "data": {
      "text/plain": [
       "<AxesSubplot:xlabel='location'>"
      ]
     },
     "execution_count": 6,
     "metadata": {},
     "output_type": "execute_result"
    },
    {
     "data": {
      "image/png": "[encoded data removed]",
      "text/plain": [
       "<Figure size 432x288 with 1 Axes>"
      ]
     },
     "metadata": {
      "needs_background": "light"
     },
     "output_type": "display_data"
    }
   ],
   "source": [
    "df = train[['location','discount']]\n",
    "df.groupby('location',axis=0).sum().plot(kind='bar')"
   ]
  },
  {
   "cell_type": "code",
   "execution_count": 7,
   "id": "molecular-investigator",
   "metadata": {
    "execution": {
     "iopub.execute_input": "2021-03-21T06:10:18.558232Z",
     "iopub.status.busy": "2021-03-21T06:10:18.557243Z",
     "iopub.status.idle": "2021-03-21T06:10:18.689288Z",
     "shell.execute_reply": "2021-03-21T06:10:18.689729Z"
    },
    "papermill": {
     "duration": 0.192296,
     "end_time": "2021-03-21T06:10:18.689903",
     "exception": false,
     "start_time": "2021-03-21T06:10:18.497607",
     "status": "completed"
    },
    "tags": []
   },
   "outputs": [
    {
     "data": {
      "text/plain": [
       "<AxesSubplot:xlabel='class'>"
      ]
     },
     "execution_count": 7,
     "metadata": {},
     "output_type": "execute_result"
    },
    {
     "data": {
      "image/png": "[encoded data removed]",
      "text/plain": [
       "<Figure size 432x288 with 1 Axes>"
      ]
     },
     "metadata": {
      "needs_background": "light"
     },
     "output_type": "display_data"
    }
   ],
   "source": [
    "train[['class','profit']].groupby('class',axis=0).sum().plot.bar()"
   ]
  },
  {
   "cell_type": "code",
   "execution_count": 8,
   "id": "dried-orange",
   "metadata": {
    "execution": {
     "iopub.execute_input": "2021-03-21T06:10:18.823280Z",
     "iopub.status.busy": "2021-03-21T06:10:18.822288Z",
     "iopub.status.idle": "2021-03-21T06:10:18.954389Z",
     "shell.execute_reply": "2021-03-21T06:10:18.953768Z"
    },
    "papermill": {
     "duration": 0.21254,
     "end_time": "2021-03-21T06:10:18.954527",
     "exception": false,
     "start_time": "2021-03-21T06:10:18.741987",
     "status": "completed"
    },
    "tags": []
   },
   "outputs": [
    {
     "data": {
      "text/plain": [
       "<AxesSubplot:xlabel='delivery type'>"
      ]
     },
     "execution_count": 8,
     "metadata": {},
     "output_type": "execute_result"
    },
    {
     "data": {
      "image/png": "[encoded data removed]",
      "text/plain": [
       "<Figure size 432x288 with 1 Axes>"
      ]
     },
     "metadata": {
      "needs_background": "light"
     },
     "output_type": "display_data"
    }
   ],
   "source": [
    "train[['delivery type','profit']].groupby('delivery type',axis=0).sum().plot.bar()"
   ]
  },
  {
   "cell_type": "code",
   "execution_count": 9,
   "id": "narrative-rating",
   "metadata": {
    "execution": {
     "iopub.execute_input": "2021-03-21T06:10:19.069075Z",
     "iopub.status.busy": "2021-03-21T06:10:19.068104Z",
     "iopub.status.idle": "2021-03-21T06:10:19.201226Z",
     "shell.execute_reply": "2021-03-21T06:10:19.200718Z"
    },
    "papermill": {
     "duration": 0.192684,
     "end_time": "2021-03-21T06:10:19.201388",
     "exception": false,
     "start_time": "2021-03-21T06:10:19.008704",
     "status": "completed"
    },
    "tags": []
   },
   "outputs": [
    {
     "data": {
      "text/plain": [
       "<AxesSubplot:xlabel='segment'>"
      ]
     },
     "execution_count": 9,
     "metadata": {},
     "output_type": "execute_result"
    },
    {
     "data": {
      "image/png": "[encoded data removed]",
      "text/plain": [
       "<Figure size 432x288 with 1 Axes>"
      ]
     },
     "metadata": {
      "needs_background": "light"
     },
     "output_type": "display_data"
    }
   ],
   "source": [
    "train[['segment','profit']].groupby('segment',axis=0).sum().plot.bar()"
   ]
  },
  {
   "cell_type": "code",
   "execution_count": 10,
   "id": "average-block",
   "metadata": {
    "execution": {
     "iopub.execute_input": "2021-03-21T06:10:19.315623Z",
     "iopub.status.busy": "2021-03-21T06:10:19.314955Z",
     "iopub.status.idle": "2021-03-21T06:10:19.538444Z",
     "shell.execute_reply": "2021-03-21T06:10:19.537489Z"
    },
    "papermill": {
     "duration": 0.280988,
     "end_time": "2021-03-21T06:10:19.538595",
     "exception": false,
     "start_time": "2021-03-21T06:10:19.257607",
     "status": "completed"
    },
    "tags": []
   },
   "outputs": [
    {
     "data": {
      "text/plain": [
       "<AxesSubplot:xlabel='sub-class'>"
      ]
     },
     "execution_count": 10,
     "metadata": {},
     "output_type": "execute_result"
    },
    {
     "data": {
      "image/png": "[encoded data removed]",
      "text/plain": [
       "<Figure size 432x288 with 1 Axes>"
      ]
     },
     "metadata": {
      "needs_background": "light"
     },
     "output_type": "display_data"
    }
   ],
   "source": [
    "train[['sub-class','profit']].groupby('sub-class',axis=0).sum().plot.bar()"
   ]
  },
  {
   "cell_type": "code",
   "execution_count": 11,
   "id": "compound-malta",
   "metadata": {
    "execution": {
     "iopub.execute_input": "2021-03-21T06:10:19.657941Z",
     "iopub.status.busy": "2021-03-21T06:10:19.657302Z",
     "iopub.status.idle": "2021-03-21T06:10:19.890997Z",
     "shell.execute_reply": "2021-03-21T06:10:19.891571Z"
    },
    "papermill": {
     "duration": 0.29777,
     "end_time": "2021-03-21T06:10:19.891751",
     "exception": false,
     "start_time": "2021-03-21T06:10:19.593981",
     "status": "completed"
    },
    "tags": []
   },
   "outputs": [
    {
     "data": {
      "text/plain": [
       "<AxesSubplot:xlabel='location'>"
      ]
     },
     "execution_count": 11,
     "metadata": {},
     "output_type": "execute_result"
    },
    {
     "data": {
      "image/png": "[encoded data removed]",
      "text/plain": [
       "<Figure size 432x288 with 1 Axes>"
      ]
     },
     "metadata": {
      "needs_background": "light"
     },
     "output_type": "display_data"
    }
   ],
   "source": [
    "train[['location','profit']].groupby('location',axis=0).sum().plot.bar()"
   ]
  },
  {
   "cell_type": "code",
   "execution_count": 12,
   "id": "silver-presentation",
   "metadata": {
    "execution": {
     "iopub.execute_input": "2021-03-21T06:10:20.007784Z",
     "iopub.status.busy": "2021-03-21T06:10:20.007167Z",
     "iopub.status.idle": "2021-03-21T06:10:20.157594Z",
     "shell.execute_reply": "2021-03-21T06:10:20.158043Z"
    },
    "papermill": {
     "duration": 0.210224,
     "end_time": "2021-03-21T06:10:20.158218",
     "exception": false,
     "start_time": "2021-03-21T06:10:19.947994",
     "status": "completed"
    },
    "tags": []
   },
   "outputs": [
    {
     "data": {
      "text/plain": [
       "<AxesSubplot:xlabel='departure city'>"
      ]
     },
     "execution_count": 12,
     "metadata": {},
     "output_type": "execute_result"
    },
    {
     "data": {
      "image/png": "[encoded data removed]",
      "text/plain": [
       "<Figure size 720x432 with 1 Axes>"
      ]
     },
     "metadata": {
      "needs_background": "light"
     },
     "output_type": "display_data"
    }
   ],
   "source": [
    "train[['departure city','profit']].groupby('departure city',axis=0).sum().plot(figsize=(10,6))\n"
   ]
  },
  {
   "cell_type": "code",
   "execution_count": 13,
   "id": "generic-wildlife",
   "metadata": {
    "execution": {
     "iopub.execute_input": "2021-03-21T06:10:20.277059Z",
     "iopub.status.busy": "2021-03-21T06:10:20.276492Z",
     "iopub.status.idle": "2021-03-21T06:10:20.855962Z",
     "shell.execute_reply": "2021-03-21T06:10:20.855473Z"
    },
    "papermill": {
     "duration": 0.640059,
     "end_time": "2021-03-21T06:10:20.856105",
     "exception": false,
     "start_time": "2021-03-21T06:10:20.216046",
     "status": "completed"
    },
    "tags": []
   },
   "outputs": [
    {
     "data": {
      "text/plain": [
       "<AxesSubplot:xlabel='departure state'>"
      ]
     },
     "execution_count": 13,
     "metadata": {},
     "output_type": "execute_result"
    },
    {
     "data": {
      "image/png": "[encoded data removed]",
      "text/plain": [
       "<Figure size 720x432 with 1 Axes>"
      ]
     },
     "metadata": {
      "needs_background": "light"
     },
     "output_type": "display_data"
    }
   ],
   "source": [
    "train[['departure state','profit']].groupby('departure state',axis=0).sum().plot(kind='bar',figsize=(10,6))\n"
   ]
  },
  {
   "cell_type": "code",
   "execution_count": 14,
   "id": "psychological-globe",
   "metadata": {
    "execution": {
     "iopub.execute_input": "2021-03-21T06:10:20.979453Z",
     "iopub.status.busy": "2021-03-21T06:10:20.978843Z",
     "iopub.status.idle": "2021-03-21T06:10:21.163951Z",
     "shell.execute_reply": "2021-03-21T06:10:21.164465Z"
    },
    "papermill": {
     "duration": 0.249295,
     "end_time": "2021-03-21T06:10:21.164646",
     "exception": false,
     "start_time": "2021-03-21T06:10:20.915351",
     "status": "completed"
    },
    "tags": []
   },
   "outputs": [
    {
     "name": "stderr",
     "output_type": "stream",
     "text": [
      "/opt/conda/lib/python3.7/site-packages/seaborn/_decorators.py:43: FutureWarning: Pass the following variables as keyword args: x, y. From version 0.12, the only valid positional argument will be `data`, and passing other arguments without an explicit keyword will result in an error or misinterpretation.\n",
      "  FutureWarning\n"
     ]
    },
    {
     "data": {
      "text/plain": [
       "<AxesSubplot:xlabel='price', ylabel='profit'>"
      ]
     },
     "execution_count": 14,
     "metadata": {},
     "output_type": "execute_result"
    },
    {
     "data": {
      "image/png": "[encoded data removed]",
      "text/plain": [
       "<Figure size 432x288 with 1 Axes>"
      ]
     },
     "metadata": {
      "needs_background": "light"
     },
     "output_type": "display_data"
    }
   ],
   "source": [
    "sns.scatterplot(train['price'],train['profit'],palette='rbg')"
   ]
  },
  {
   "cell_type": "code",
   "execution_count": 15,
   "id": "listed-plane",
   "metadata": {
    "execution": {
     "iopub.execute_input": "2021-03-21T06:10:21.291068Z",
     "iopub.status.busy": "2021-03-21T06:10:21.290481Z",
     "iopub.status.idle": "2021-03-21T06:10:21.429639Z",
     "shell.execute_reply": "2021-03-21T06:10:21.430092Z"
    },
    "papermill": {
     "duration": 0.203851,
     "end_time": "2021-03-21T06:10:21.430258",
     "exception": false,
     "start_time": "2021-03-21T06:10:21.226407",
     "status": "completed"
    },
    "tags": []
   },
   "outputs": [
    {
     "name": "stderr",
     "output_type": "stream",
     "text": [
      "/opt/conda/lib/python3.7/site-packages/seaborn/_decorators.py:43: FutureWarning: Pass the following variable as a keyword arg: x. From version 0.12, the only valid positional argument will be `data`, and passing other arguments without an explicit keyword will result in an error or misinterpretation.\n",
      "  FutureWarning\n"
     ]
    },
    {
     "data": {
      "text/plain": [
       "<AxesSubplot:xlabel='delivery type', ylabel='count'>"
      ]
     },
     "execution_count": 15,
     "metadata": {},
     "output_type": "execute_result"
    },
    {
     "data": {
      "image/png": "[encoded data removed]",
      "text/plain": [
       "<Figure size 432x288 with 1 Axes>"
      ]
     },
     "metadata": {
      "needs_background": "light"
     },
     "output_type": "display_data"
    }
   ],
   "source": [
    "sns.countplot(train['delivery type'])"
   ]
  },
  {
   "cell_type": "code",
   "execution_count": 16,
   "id": "delayed-neutral",
   "metadata": {
    "execution": {
     "iopub.execute_input": "2021-03-21T06:10:21.557635Z",
     "iopub.status.busy": "2021-03-21T06:10:21.556921Z",
     "iopub.status.idle": "2021-03-21T06:10:21.562687Z",
     "shell.execute_reply": "2021-03-21T06:10:21.562048Z"
    },
    "papermill": {
     "duration": 0.070704,
     "end_time": "2021-03-21T06:10:21.562828",
     "exception": false,
     "start_time": "2021-03-21T06:10:21.492124",
     "status": "completed"
    },
    "tags": []
   },
   "outputs": [],
   "source": [
    "train['delivery type'] = train['delivery type'].fillna('Standard Class')"
   ]
  },
  {
   "cell_type": "code",
   "execution_count": 17,
   "id": "special-analysis",
   "metadata": {
    "execution": {
     "iopub.execute_input": "2021-03-21T06:10:21.694833Z",
     "iopub.status.busy": "2021-03-21T06:10:21.693926Z",
     "iopub.status.idle": "2021-03-21T06:10:21.698216Z",
     "shell.execute_reply": "2021-03-21T06:10:21.697617Z"
    },
    "papermill": {
     "duration": 0.073312,
     "end_time": "2021-03-21T06:10:21.698388",
     "exception": false,
     "start_time": "2021-03-21T06:10:21.625076",
     "status": "completed"
    },
    "tags": []
   },
   "outputs": [],
   "source": [
    "train['delivery type'] = train['delivery type'].map({'Standard Class':0,'First Class':1,'Second Class':2,'Same Day':3})"
   ]
  },
  {
   "cell_type": "code",
   "execution_count": 18,
   "id": "exact-wales",
   "metadata": {
    "execution": {
     "iopub.execute_input": "2021-03-21T06:10:21.830918Z",
     "iopub.status.busy": "2021-03-21T06:10:21.830109Z",
     "iopub.status.idle": "2021-03-21T06:10:21.839409Z",
     "shell.execute_reply": "2021-03-21T06:10:21.838850Z"
    },
    "papermill": {
     "duration": 0.078863,
     "end_time": "2021-03-21T06:10:21.839547",
     "exception": false,
     "start_time": "2021-03-21T06:10:21.760684",
     "status": "completed"
    },
    "tags": []
   },
   "outputs": [
    {
     "data": {
      "text/plain": [
       "departure city     0\n",
       "discount           0\n",
       "price              0\n",
       "no of items        0\n",
       "location           0\n",
       "class              0\n",
       "segment            0\n",
       "sub-class          0\n",
       "delivery type      0\n",
       "RID                0\n",
       "profit             0\n",
       "delivery date      0\n",
       "address code       0\n",
       "departure state    0\n",
       "placement date     0\n",
       "dtype: int64"
      ]
     },
     "execution_count": 18,
     "metadata": {},
     "output_type": "execute_result"
    }
   ],
   "source": [
    "train.isnull().sum()"
   ]
  },
  {
   "cell_type": "code",
   "execution_count": 19,
   "id": "individual-mechanics",
   "metadata": {
    "execution": {
     "iopub.execute_input": "2021-03-21T06:10:21.978747Z",
     "iopub.status.busy": "2021-03-21T06:10:21.977739Z",
     "iopub.status.idle": "2021-03-21T06:10:22.564114Z",
     "shell.execute_reply": "2021-03-21T06:10:22.564699Z"
    },
    "papermill": {
     "duration": 0.662238,
     "end_time": "2021-03-21T06:10:22.564968",
     "exception": false,
     "start_time": "2021-03-21T06:10:21.902730",
     "status": "completed"
    },
    "tags": []
   },
   "outputs": [
    {
     "name": "stderr",
     "output_type": "stream",
     "text": [
      "/opt/conda/lib/python3.7/site-packages/seaborn/_decorators.py:43: FutureWarning: Pass the following variable as a keyword arg: x. From version 0.12, the only valid positional argument will be `data`, and passing other arguments without an explicit keyword will result in an error or misinterpretation.\n",
      "  FutureWarning\n"
     ]
    },
    {
     "data": {
      "text/plain": [
       "<AxesSubplot:xlabel='departure state', ylabel='count'>"
      ]
     },
     "execution_count": 19,
     "metadata": {},
     "output_type": "execute_result"
    },
    {
     "data": {
      "image/png": "[encoded data removed]",
      "text/plain": [
       "<Figure size 1080x720 with 1 Axes>"
      ]
     },
     "metadata": {
      "needs_background": "light"
     },
     "output_type": "display_data"
    }
   ],
   "source": [
    "plt.figure(figsize=(15,10))\n",
    "\n",
    "sns.countplot(train['departure state'])"
   ]
  },
  {
   "cell_type": "code",
   "execution_count": 20,
   "id": "studied-proposition",
   "metadata": {
    "execution": {
     "iopub.execute_input": "2021-03-21T06:10:22.704804Z",
     "iopub.status.busy": "2021-03-21T06:10:22.703823Z",
     "iopub.status.idle": "2021-03-21T06:10:22.833026Z",
     "shell.execute_reply": "2021-03-21T06:10:22.832392Z"
    },
    "papermill": {
     "duration": 0.203542,
     "end_time": "2021-03-21T06:10:22.833169",
     "exception": false,
     "start_time": "2021-03-21T06:10:22.629627",
     "status": "completed"
    },
    "tags": []
   },
   "outputs": [
    {
     "name": "stderr",
     "output_type": "stream",
     "text": [
      "/opt/conda/lib/python3.7/site-packages/seaborn/_decorators.py:43: FutureWarning: Pass the following variable as a keyword arg: x. From version 0.12, the only valid positional argument will be `data`, and passing other arguments without an explicit keyword will result in an error or misinterpretation.\n",
      "  FutureWarning\n"
     ]
    },
    {
     "data": {
      "text/plain": [
       "<AxesSubplot:xlabel='location', ylabel='count'>"
      ]
     },
     "execution_count": 20,
     "metadata": {},
     "output_type": "execute_result"
    },
    {
     "data": {
      "image/png": "[encoded data removed]",
      "text/plain": [
       "<Figure size 432x288 with 1 Axes>"
      ]
     },
     "metadata": {
      "needs_background": "light"
     },
     "output_type": "display_data"
    }
   ],
   "source": [
    "sns.countplot(train['location'])"
   ]
  },
  {
   "cell_type": "code",
   "execution_count": 21,
   "id": "neither-luxembourg",
   "metadata": {
    "execution": {
     "iopub.execute_input": "2021-03-21T06:10:22.973537Z",
     "iopub.status.busy": "2021-03-21T06:10:22.972742Z",
     "iopub.status.idle": "2021-03-21T06:10:22.975897Z",
     "shell.execute_reply": "2021-03-21T06:10:22.976303Z"
    },
    "papermill": {
     "duration": 0.077585,
     "end_time": "2021-03-21T06:10:22.976493",
     "exception": false,
     "start_time": "2021-03-21T06:10:22.898908",
     "status": "completed"
    },
    "tags": []
   },
   "outputs": [],
   "source": [
    "train['location'] = train['location'].map({'West':0,'East':2,'Central':1,'South':3})"
   ]
  },
  {
   "cell_type": "code",
   "execution_count": 22,
   "id": "effective-blast",
   "metadata": {
    "execution": {
     "iopub.execute_input": "2021-03-21T06:10:23.122180Z",
     "iopub.status.busy": "2021-03-21T06:10:23.121135Z",
     "iopub.status.idle": "2021-03-21T06:10:23.248366Z",
     "shell.execute_reply": "2021-03-21T06:10:23.247745Z"
    },
    "papermill": {
     "duration": 0.205385,
     "end_time": "2021-03-21T06:10:23.248507",
     "exception": false,
     "start_time": "2021-03-21T06:10:23.043122",
     "status": "completed"
    },
    "tags": []
   },
   "outputs": [
    {
     "name": "stderr",
     "output_type": "stream",
     "text": [
      "/opt/conda/lib/python3.7/site-packages/seaborn/_decorators.py:43: FutureWarning: Pass the following variable as a keyword arg: x. From version 0.12, the only valid positional argument will be `data`, and passing other arguments without an explicit keyword will result in an error or misinterpretation.\n",
      "  FutureWarning\n"
     ]
    },
    {
     "data": {
      "text/plain": [
       "<AxesSubplot:xlabel='class', ylabel='count'>"
      ]
     },
     "execution_count": 22,
     "metadata": {},
     "output_type": "execute_result"
    },
    {
     "data": {
      "image/png": "[encoded data removed]",
      "text/plain": [
       "<Figure size 432x288 with 1 Axes>"
      ]
     },
     "metadata": {
      "needs_background": "light"
     },
     "output_type": "display_data"
    }
   ],
   "source": [
    "sns.countplot(train['class'])"
   ]
  },
  {
   "cell_type": "markdown",
   "id": "wrong-slovak",
   "metadata": {
    "papermill": {
     "duration": 0.072512,
     "end_time": "2021-03-21T06:10:23.388046",
     "exception": false,
     "start_time": "2021-03-21T06:10:23.315534",
     "status": "completed"
    },
    "tags": []
   },
   "source": [
    "train['class'] = train['class'].map({'karox':3,'qexty':2,'fynota':1})"
   ]
  },
  {
   "cell_type": "code",
   "execution_count": 23,
   "id": "champion-product",
   "metadata": {
    "execution": {
     "iopub.execute_input": "2021-03-21T06:10:23.533981Z",
     "iopub.status.busy": "2021-03-21T06:10:23.530455Z",
     "iopub.status.idle": "2021-03-21T06:10:23.655118Z",
     "shell.execute_reply": "2021-03-21T06:10:23.654304Z"
    },
    "papermill": {
     "duration": 0.198903,
     "end_time": "2021-03-21T06:10:23.655273",
     "exception": false,
     "start_time": "2021-03-21T06:10:23.456370",
     "status": "completed"
    },
    "tags": []
   },
   "outputs": [
    {
     "name": "stderr",
     "output_type": "stream",
     "text": [
      "/opt/conda/lib/python3.7/site-packages/seaborn/_decorators.py:43: FutureWarning: Pass the following variable as a keyword arg: x. From version 0.12, the only valid positional argument will be `data`, and passing other arguments without an explicit keyword will result in an error or misinterpretation.\n",
      "  FutureWarning\n"
     ]
    },
    {
     "data": {
      "text/plain": [
       "<AxesSubplot:xlabel='segment', ylabel='count'>"
      ]
     },
     "execution_count": 23,
     "metadata": {},
     "output_type": "execute_result"
    },
    {
     "data": {
      "image/png": "[encoded data removed]",
      "text/plain": [
       "<Figure size 432x288 with 1 Axes>"
      ]
     },
     "metadata": {
      "needs_background": "light"
     },
     "output_type": "display_data"
    }
   ],
   "source": [
    "sns.countplot(train['segment'])"
   ]
  },
  {
   "cell_type": "code",
   "execution_count": 24,
   "id": "sticky-terrorist",
   "metadata": {
    "execution": {
     "iopub.execute_input": "2021-03-21T06:10:23.798565Z",
     "iopub.status.busy": "2021-03-21T06:10:23.797945Z",
     "iopub.status.idle": "2021-03-21T06:10:23.801217Z",
     "shell.execute_reply": "2021-03-21T06:10:23.800646Z"
    },
    "papermill": {
     "duration": 0.077566,
     "end_time": "2021-03-21T06:10:23.801411",
     "exception": false,
     "start_time": "2021-03-21T06:10:23.723845",
     "status": "completed"
    },
    "tags": []
   },
   "outputs": [],
   "source": [
    "train['segment'] = train['segment'].map({'Consumer':0,'Corporate':1,'Home Office':2})\n",
    "\n"
   ]
  },
  {
   "cell_type": "code",
   "execution_count": 25,
   "id": "colonial-perception",
   "metadata": {
    "execution": {
     "iopub.execute_input": "2021-03-21T06:10:23.982064Z",
     "iopub.status.busy": "2021-03-21T06:10:23.949730Z",
     "iopub.status.idle": "2021-03-21T06:10:24.531887Z",
     "shell.execute_reply": "2021-03-21T06:10:24.531286Z"
    },
    "papermill": {
     "duration": 0.663172,
     "end_time": "2021-03-21T06:10:24.532038",
     "exception": false,
     "start_time": "2021-03-21T06:10:23.868866",
     "status": "completed"
    },
    "tags": []
   },
   "outputs": [
    {
     "name": "stderr",
     "output_type": "stream",
     "text": [
      "/opt/conda/lib/python3.7/site-packages/seaborn/_decorators.py:43: FutureWarning: Pass the following variable as a keyword arg: x. From version 0.12, the only valid positional argument will be `data`, and passing other arguments without an explicit keyword will result in an error or misinterpretation.\n",
      "  FutureWarning\n"
     ]
    },
    {
     "data": {
      "text/plain": [
       "<AxesSubplot:xlabel='departure state', ylabel='count'>"
      ]
     },
     "execution_count": 25,
     "metadata": {},
     "output_type": "execute_result"
    },
    {
     "data": {
      "image/png": "[encoded data removed]",
      "text/plain": [
       "<Figure size 1080x720 with 1 Axes>"
      ]
     },
     "metadata": {
      "needs_background": "light"
     },
     "output_type": "display_data"
    }
   ],
   "source": [
    "plt.figure(figsize=(15,10))\n",
    "sns.countplot(train['departure state'])"
   ]
  },
  {
   "cell_type": "code",
   "execution_count": 26,
   "id": "searching-clarity",
   "metadata": {
    "execution": {
     "iopub.execute_input": "2021-03-21T06:10:24.682591Z",
     "iopub.status.busy": "2021-03-21T06:10:24.681651Z",
     "iopub.status.idle": "2021-03-21T06:10:24.911783Z",
     "shell.execute_reply": "2021-03-21T06:10:24.912214Z"
    },
    "papermill": {
     "duration": 0.309524,
     "end_time": "2021-03-21T06:10:24.912414",
     "exception": false,
     "start_time": "2021-03-21T06:10:24.602890",
     "status": "completed"
    },
    "tags": []
   },
   "outputs": [
    {
     "name": "stderr",
     "output_type": "stream",
     "text": [
      "/opt/conda/lib/python3.7/site-packages/seaborn/_decorators.py:43: FutureWarning: Pass the following variable as a keyword arg: x. From version 0.12, the only valid positional argument will be `data`, and passing other arguments without an explicit keyword will result in an error or misinterpretation.\n",
      "  FutureWarning\n"
     ]
    },
    {
     "data": {
      "text/plain": [
       "<AxesSubplot:xlabel='sub-class', ylabel='count'>"
      ]
     },
     "execution_count": 26,
     "metadata": {},
     "output_type": "execute_result"
    },
    {
     "data": {
      "image/png": "[encoded data removed]",
      "text/plain": [
       "<Figure size 1080x720 with 1 Axes>"
      ]
     },
     "metadata": {
      "needs_background": "light"
     },
     "output_type": "display_data"
    }
   ],
   "source": [
    "plt.figure(figsize=(15,10))\n",
    "\n",
    "sns.countplot(train['sub-class'])"
   ]
  },
  {
   "cell_type": "code",
   "execution_count": 27,
   "id": "saving-steering",
   "metadata": {
    "execution": {
     "iopub.execute_input": "2021-03-21T06:10:25.057593Z",
     "iopub.status.busy": "2021-03-21T06:10:25.056656Z",
     "iopub.status.idle": "2021-03-21T06:10:25.142236Z",
     "shell.execute_reply": "2021-03-21T06:10:25.141705Z"
    },
    "papermill": {
     "duration": 0.159615,
     "end_time": "2021-03-21T06:10:25.142403",
     "exception": false,
     "start_time": "2021-03-21T06:10:24.982788",
     "status": "completed"
    },
    "tags": []
   },
   "outputs": [],
   "source": [
    "from sklearn.preprocessing import OrdinalEncoder"
   ]
  },
  {
   "cell_type": "code",
   "execution_count": 28,
   "id": "tutorial-memphis",
   "metadata": {
    "execution": {
     "iopub.execute_input": "2021-03-21T06:10:25.289876Z",
     "iopub.status.busy": "2021-03-21T06:10:25.289213Z",
     "iopub.status.idle": "2021-03-21T06:10:25.292022Z",
     "shell.execute_reply": "2021-03-21T06:10:25.292459Z"
    },
    "papermill": {
     "duration": 0.079378,
     "end_time": "2021-03-21T06:10:25.292646",
     "exception": false,
     "start_time": "2021-03-21T06:10:25.213268",
     "status": "completed"
    },
    "tags": []
   },
   "outputs": [],
   "source": [
    "ordinal = OrdinalEncoder()"
   ]
  },
  {
   "cell_type": "code",
   "execution_count": 29,
   "id": "conventional-quebec",
   "metadata": {
    "execution": {
     "iopub.execute_input": "2021-03-21T06:10:25.444206Z",
     "iopub.status.busy": "2021-03-21T06:10:25.440116Z",
     "iopub.status.idle": "2021-03-21T06:10:25.446845Z",
     "shell.execute_reply": "2021-03-21T06:10:25.447446Z"
    },
    "papermill": {
     "duration": 0.083198,
     "end_time": "2021-03-21T06:10:25.447647",
     "exception": false,
     "start_time": "2021-03-21T06:10:25.364449",
     "status": "completed"
    },
    "tags": []
   },
   "outputs": [],
   "source": [
    "ordinal = ordinal.fit_transform(train[['sub-class']])"
   ]
  },
  {
   "cell_type": "code",
   "execution_count": 30,
   "id": "major-newark",
   "metadata": {
    "execution": {
     "iopub.execute_input": "2021-03-21T06:10:25.592645Z",
     "iopub.status.busy": "2021-03-21T06:10:25.591894Z",
     "iopub.status.idle": "2021-03-21T06:10:25.597722Z",
     "shell.execute_reply": "2021-03-21T06:10:25.597085Z"
    },
    "papermill": {
     "duration": 0.079507,
     "end_time": "2021-03-21T06:10:25.597868",
     "exception": false,
     "start_time": "2021-03-21T06:10:25.518361",
     "status": "completed"
    },
    "tags": []
   },
   "outputs": [],
   "source": [
    "train['sub-class']=ordinal"
   ]
  },
  {
   "cell_type": "code",
   "execution_count": 31,
   "id": "ceramic-chocolate",
   "metadata": {
    "execution": {
     "iopub.execute_input": "2021-03-21T06:10:25.746589Z",
     "iopub.status.busy": "2021-03-21T06:10:25.745898Z",
     "iopub.status.idle": "2021-03-21T06:10:25.748920Z",
     "shell.execute_reply": "2021-03-21T06:10:25.748425Z"
    },
    "papermill": {
     "duration": 0.079554,
     "end_time": "2021-03-21T06:10:25.749070",
     "exception": false,
     "start_time": "2021-03-21T06:10:25.669516",
     "status": "completed"
    },
    "tags": []
   },
   "outputs": [],
   "source": [
    "from sklearn.preprocessing import OrdinalEncoder"
   ]
  },
  {
   "cell_type": "code",
   "execution_count": 32,
   "id": "uniform-daisy",
   "metadata": {
    "execution": {
     "iopub.execute_input": "2021-03-21T06:10:25.903760Z",
     "iopub.status.busy": "2021-03-21T06:10:25.903109Z",
     "iopub.status.idle": "2021-03-21T06:10:25.905896Z",
     "shell.execute_reply": "2021-03-21T06:10:25.906395Z"
    },
    "papermill": {
     "duration": 0.079059,
     "end_time": "2021-03-21T06:10:25.906588",
     "exception": false,
     "start_time": "2021-03-21T06:10:25.827529",
     "status": "completed"
    },
    "tags": []
   },
   "outputs": [],
   "source": [
    "oe = OrdinalEncoder()"
   ]
  },
  {
   "cell_type": "code",
   "execution_count": 33,
   "id": "danish-farmer",
   "metadata": {
    "execution": {
     "iopub.execute_input": "2021-03-21T06:10:26.059099Z",
     "iopub.status.busy": "2021-03-21T06:10:26.058485Z",
     "iopub.status.idle": "2021-03-21T06:10:26.061486Z",
     "shell.execute_reply": "2021-03-21T06:10:26.061914Z"
    },
    "papermill": {
     "duration": 0.083572,
     "end_time": "2021-03-21T06:10:26.062105",
     "exception": false,
     "start_time": "2021-03-21T06:10:25.978533",
     "status": "completed"
    },
    "tags": []
   },
   "outputs": [],
   "source": [
    "oe = oe.fit_transform(train[['class']])"
   ]
  },
  {
   "cell_type": "code",
   "execution_count": 34,
   "id": "elementary-campaign",
   "metadata": {
    "execution": {
     "iopub.execute_input": "2021-03-21T06:10:26.211601Z",
     "iopub.status.busy": "2021-03-21T06:10:26.210948Z",
     "iopub.status.idle": "2021-03-21T06:10:26.213614Z",
     "shell.execute_reply": "2021-03-21T06:10:26.214017Z"
    },
    "papermill": {
     "duration": 0.079695,
     "end_time": "2021-03-21T06:10:26.214187",
     "exception": false,
     "start_time": "2021-03-21T06:10:26.134492",
     "status": "completed"
    },
    "tags": []
   },
   "outputs": [],
   "source": [
    "train['class'] = oe"
   ]
  },
  {
   "cell_type": "code",
   "execution_count": 35,
   "id": "differential-plain",
   "metadata": {
    "execution": {
     "iopub.execute_input": "2021-03-21T06:10:26.361872Z",
     "iopub.status.busy": "2021-03-21T06:10:26.361246Z",
     "iopub.status.idle": "2021-03-21T06:10:26.389303Z",
     "shell.execute_reply": "2021-03-21T06:10:26.389922Z"
    },
    "papermill": {
     "duration": 0.103995,
     "end_time": "2021-03-21T06:10:26.390101",
     "exception": false,
     "start_time": "2021-03-21T06:10:26.286106",
     "status": "completed"
    },
    "tags": []
   },
   "outputs": [
    {
     "data": {
      "text/html": [
       "<div>\n",
       "<style scoped>\n",
       "    .dataframe tbody tr th:only-of-type {\n",
       "        vertical-align: middle;\n",
       "    }\n",
       "\n",
       "    .dataframe tbody tr th {\n",
       "        vertical-align: top;\n",
       "    }\n",
       "\n",
       "    .dataframe thead th {\n",
       "        text-align: right;\n",
       "    }\n",
       "</style>\n",
       "<table border=\"1\" class=\"dataframe\">\n",
       "  <thead>\n",
       "    <tr style=\"text-align: right;\">\n",
       "      <th></th>\n",
       "      <th>departure city</th>\n",
       "      <th>discount</th>\n",
       "      <th>price</th>\n",
       "      <th>no of items</th>\n",
       "      <th>location</th>\n",
       "      <th>class</th>\n",
       "      <th>segment</th>\n",
       "      <th>sub-class</th>\n",
       "      <th>delivery type</th>\n",
       "      <th>RID</th>\n",
       "      <th>profit</th>\n",
       "      <th>delivery date</th>\n",
       "      <th>address code</th>\n",
       "      <th>departure state</th>\n",
       "      <th>placement date</th>\n",
       "    </tr>\n",
       "    <tr>\n",
       "      <th>id</th>\n",
       "      <th></th>\n",
       "      <th></th>\n",
       "      <th></th>\n",
       "      <th></th>\n",
       "      <th></th>\n",
       "      <th></th>\n",
       "      <th></th>\n",
       "      <th></th>\n",
       "      <th></th>\n",
       "      <th></th>\n",
       "      <th></th>\n",
       "      <th></th>\n",
       "      <th></th>\n",
       "      <th></th>\n",
       "      <th></th>\n",
       "    </tr>\n",
       "  </thead>\n",
       "  <tbody>\n",
       "    <tr>\n",
       "      <th>1</th>\n",
       "      <td>Houston</td>\n",
       "      <td>0.2</td>\n",
       "      <td>16.448</td>\n",
       "      <td>2</td>\n",
       "      <td>1</td>\n",
       "      <td>1.0</td>\n",
       "      <td>0</td>\n",
       "      <td>10.0</td>\n",
       "      <td>0</td>\n",
       "      <td>7981</td>\n",
       "      <td>5.5512</td>\n",
       "      <td>2018-01-01</td>\n",
       "      <td>77095</td>\n",
       "      <td>Texas</td>\n",
       "      <td>2018-01-01</td>\n",
       "    </tr>\n",
       "    <tr>\n",
       "      <th>2</th>\n",
       "      <td>Westland</td>\n",
       "      <td>0.0</td>\n",
       "      <td>29.700</td>\n",
       "      <td>5</td>\n",
       "      <td>1</td>\n",
       "      <td>1.0</td>\n",
       "      <td>0</td>\n",
       "      <td>5.0</td>\n",
       "      <td>0</td>\n",
       "      <td>6334</td>\n",
       "      <td>13.3650</td>\n",
       "      <td>2018-01-01</td>\n",
       "      <td>48185</td>\n",
       "      <td>Michigan</td>\n",
       "      <td>2018-01-01</td>\n",
       "    </tr>\n",
       "    <tr>\n",
       "      <th>3</th>\n",
       "      <td>Westland</td>\n",
       "      <td>0.0</td>\n",
       "      <td>14.730</td>\n",
       "      <td>3</td>\n",
       "      <td>1</td>\n",
       "      <td>2.0</td>\n",
       "      <td>0</td>\n",
       "      <td>11.0</td>\n",
       "      <td>0</td>\n",
       "      <td>6333</td>\n",
       "      <td>4.8609</td>\n",
       "      <td>2018-01-01</td>\n",
       "      <td>48185</td>\n",
       "      <td>Michigan</td>\n",
       "      <td>2018-01-01</td>\n",
       "    </tr>\n",
       "    <tr>\n",
       "      <th>4</th>\n",
       "      <td>Westland</td>\n",
       "      <td>0.0</td>\n",
       "      <td>43.920</td>\n",
       "      <td>3</td>\n",
       "      <td>1</td>\n",
       "      <td>1.0</td>\n",
       "      <td>0</td>\n",
       "      <td>14.0</td>\n",
       "      <td>0</td>\n",
       "      <td>6332</td>\n",
       "      <td>12.7368</td>\n",
       "      <td>2018-01-01</td>\n",
       "      <td>48185</td>\n",
       "      <td>Michigan</td>\n",
       "      <td>2018-01-01</td>\n",
       "    </tr>\n",
       "    <tr>\n",
       "      <th>5</th>\n",
       "      <td>Westland</td>\n",
       "      <td>0.0</td>\n",
       "      <td>66.580</td>\n",
       "      <td>2</td>\n",
       "      <td>1</td>\n",
       "      <td>1.0</td>\n",
       "      <td>0</td>\n",
       "      <td>7.0</td>\n",
       "      <td>0</td>\n",
       "      <td>6331</td>\n",
       "      <td>15.9792</td>\n",
       "      <td>2018-01-01</td>\n",
       "      <td>48185</td>\n",
       "      <td>Michigan</td>\n",
       "      <td>2018-01-01</td>\n",
       "    </tr>\n",
       "    <tr>\n",
       "      <th>...</th>\n",
       "      <td>...</td>\n",
       "      <td>...</td>\n",
       "      <td>...</td>\n",
       "      <td>...</td>\n",
       "      <td>...</td>\n",
       "      <td>...</td>\n",
       "      <td>...</td>\n",
       "      <td>...</td>\n",
       "      <td>...</td>\n",
       "      <td>...</td>\n",
       "      <td>...</td>\n",
       "      <td>...</td>\n",
       "      <td>...</td>\n",
       "      <td>...</td>\n",
       "      <td>...</td>\n",
       "    </tr>\n",
       "    <tr>\n",
       "      <th>6696</th>\n",
       "      <td>Burlington</td>\n",
       "      <td>0.0</td>\n",
       "      <td>542.940</td>\n",
       "      <td>3</td>\n",
       "      <td>2</td>\n",
       "      <td>1.0</td>\n",
       "      <td>0</td>\n",
       "      <td>0.0</td>\n",
       "      <td>0</td>\n",
       "      <td>9389</td>\n",
       "      <td>152.0232</td>\n",
       "      <td>2021-01-01</td>\n",
       "      <td>5408</td>\n",
       "      <td>Vermont</td>\n",
       "      <td>2021-01-01</td>\n",
       "    </tr>\n",
       "    <tr>\n",
       "      <th>6697</th>\n",
       "      <td>San Jose</td>\n",
       "      <td>0.2</td>\n",
       "      <td>276.784</td>\n",
       "      <td>2</td>\n",
       "      <td>0</td>\n",
       "      <td>1.0</td>\n",
       "      <td>1</td>\n",
       "      <td>5.0</td>\n",
       "      <td>0</td>\n",
       "      <td>9597</td>\n",
       "      <td>89.9548</td>\n",
       "      <td>2021-01-01</td>\n",
       "      <td>95123</td>\n",
       "      <td>California</td>\n",
       "      <td>2021-01-01</td>\n",
       "    </tr>\n",
       "    <tr>\n",
       "      <th>6698</th>\n",
       "      <td>Burlington</td>\n",
       "      <td>0.0</td>\n",
       "      <td>2.040</td>\n",
       "      <td>1</td>\n",
       "      <td>2</td>\n",
       "      <td>1.0</td>\n",
       "      <td>0</td>\n",
       "      <td>16.0</td>\n",
       "      <td>0</td>\n",
       "      <td>9390</td>\n",
       "      <td>0.9588</td>\n",
       "      <td>2021-01-01</td>\n",
       "      <td>5408</td>\n",
       "      <td>Vermont</td>\n",
       "      <td>2021-01-01</td>\n",
       "    </tr>\n",
       "    <tr>\n",
       "      <th>6699</th>\n",
       "      <td>New York City</td>\n",
       "      <td>0.1</td>\n",
       "      <td>207.846</td>\n",
       "      <td>3</td>\n",
       "      <td>2</td>\n",
       "      <td>2.0</td>\n",
       "      <td>1</td>\n",
       "      <td>15.0</td>\n",
       "      <td>2</td>\n",
       "      <td>440</td>\n",
       "      <td>2.3094</td>\n",
       "      <td>2021-01-01</td>\n",
       "      <td>10024</td>\n",
       "      <td>New York</td>\n",
       "      <td>2021-01-01</td>\n",
       "    </tr>\n",
       "    <tr>\n",
       "      <th>6700</th>\n",
       "      <td>Los Angeles</td>\n",
       "      <td>0.2</td>\n",
       "      <td>160.776</td>\n",
       "      <td>3</td>\n",
       "      <td>0</td>\n",
       "      <td>0.0</td>\n",
       "      <td>0</td>\n",
       "      <td>3.0</td>\n",
       "      <td>0</td>\n",
       "      <td>1659</td>\n",
       "      <td>10.0485</td>\n",
       "      <td>2021-01-01</td>\n",
       "      <td>90045</td>\n",
       "      <td>California</td>\n",
       "      <td>2021-01-01</td>\n",
       "    </tr>\n",
       "  </tbody>\n",
       "</table>\n",
       "<p>6700 rows × 15 columns</p>\n",
       "</div>"
      ],
      "text/plain": [
       "     departure city  discount    price  no of items  location  class  segment  \\\n",
       "id                                                                              \n",
       "1           Houston       0.2   16.448            2         1    1.0        0   \n",
       "2          Westland       0.0   29.700            5         1    1.0        0   \n",
       "3          Westland       0.0   14.730            3         1    2.0        0   \n",
       "4          Westland       0.0   43.920            3         1    1.0        0   \n",
       "5          Westland       0.0   66.580            2         1    1.0        0   \n",
       "...             ...       ...      ...          ...       ...    ...      ...   \n",
       "6696     Burlington       0.0  542.940            3         2    1.0        0   \n",
       "6697       San Jose       0.2  276.784            2         0    1.0        1   \n",
       "6698     Burlington       0.0    2.040            1         2    1.0        0   \n",
       "6699  New York City       0.1  207.846            3         2    2.0        1   \n",
       "6700    Los Angeles       0.2  160.776            3         0    0.0        0   \n",
       "\n",
       "      sub-class  delivery type   RID    profit delivery date  address code  \\\n",
       "id                                                                           \n",
       "1          10.0              0  7981    5.5512    2018-01-01         77095   \n",
       "2           5.0              0  6334   13.3650    2018-01-01         48185   \n",
       "3          11.0              0  6333    4.8609    2018-01-01         48185   \n",
       "4          14.0              0  6332   12.7368    2018-01-01         48185   \n",
       "5           7.0              0  6331   15.9792    2018-01-01         48185   \n",
       "...         ...            ...   ...       ...           ...           ...   \n",
       "6696        0.0              0  9389  152.0232    2021-01-01          5408   \n",
       "6697        5.0              0  9597   89.9548    2021-01-01         95123   \n",
       "6698       16.0              0  9390    0.9588    2021-01-01          5408   \n",
       "6699       15.0              2   440    2.3094    2021-01-01         10024   \n",
       "6700        3.0              0  1659   10.0485    2021-01-01         90045   \n",
       "\n",
       "     departure state placement date  \n",
       "id                                   \n",
       "1              Texas     2018-01-01  \n",
       "2           Michigan     2018-01-01  \n",
       "3           Michigan     2018-01-01  \n",
       "4           Michigan     2018-01-01  \n",
       "5           Michigan     2018-01-01  \n",
       "...              ...            ...  \n",
       "6696         Vermont     2021-01-01  \n",
       "6697      California     2021-01-01  \n",
       "6698         Vermont     2021-01-01  \n",
       "6699        New York     2021-01-01  \n",
       "6700      California     2021-01-01  \n",
       "\n",
       "[6700 rows x 15 columns]"
      ]
     },
     "execution_count": 35,
     "metadata": {},
     "output_type": "execute_result"
    }
   ],
   "source": [
    "train"
   ]
  },
  {
   "cell_type": "code",
   "execution_count": 36,
   "id": "vocational-catalyst",
   "metadata": {
    "execution": {
     "iopub.execute_input": "2021-03-21T06:10:26.539226Z",
     "iopub.status.busy": "2021-03-21T06:10:26.538634Z",
     "iopub.status.idle": "2021-03-21T06:10:26.544101Z",
     "shell.execute_reply": "2021-03-21T06:10:26.544745Z"
    },
    "papermill": {
     "duration": 0.082117,
     "end_time": "2021-03-21T06:10:26.544937",
     "exception": false,
     "start_time": "2021-03-21T06:10:26.462820",
     "status": "completed"
    },
    "tags": []
   },
   "outputs": [],
   "source": [
    "train = train.drop(['departure city','delivery date','address code','departure state','placement date','RID'],axis=1)"
   ]
  },
  {
   "cell_type": "code",
   "execution_count": 37,
   "id": "harmful-truck",
   "metadata": {
    "execution": {
     "iopub.execute_input": "2021-03-21T06:10:26.694599Z",
     "iopub.status.busy": "2021-03-21T06:10:26.693849Z",
     "iopub.status.idle": "2021-03-21T06:10:27.485928Z",
     "shell.execute_reply": "2021-03-21T06:10:27.485429Z"
    },
    "papermill": {
     "duration": 0.867921,
     "end_time": "2021-03-21T06:10:27.486057",
     "exception": false,
     "start_time": "2021-03-21T06:10:26.618136",
     "status": "completed"
    },
    "tags": []
   },
   "outputs": [
    {
     "name": "stderr",
     "output_type": "stream",
     "text": [
      "/opt/conda/lib/python3.7/site-packages/ipykernel_launcher.py:2: FutureWarning: the 'freq'' keyword is deprecated, use 'period' instead\n",
      "  \n"
     ]
    },
    {
     "data": {
      "image/png": "[encoded data removed]",
      "text/plain": [
       "<Figure size 432x288 with 4 Axes>"
      ]
     },
     "execution_count": 37,
     "metadata": {},
     "output_type": "execute_result"
    },
    {
     "data": {
      "image/png": "[encoded data removed]",
      "text/plain": [
       "<Figure size 432x288 with 4 Axes>"
      ]
     },
     "metadata": {
      "needs_background": "light"
     },
     "output_type": "display_data"
    }
   ],
   "source": [
    "from statsmodels.tsa.seasonal import seasonal_decompose\n",
    "sd = seasonal_decompose(train['profit'],freq=30)\n",
    "sd.plot()\n",
    "\n"
   ]
  },
  {
   "cell_type": "code",
   "execution_count": 38,
   "id": "flexible-bouquet",
   "metadata": {
    "execution": {
     "iopub.execute_input": "2021-03-21T06:10:27.639417Z",
     "iopub.status.busy": "2021-03-21T06:10:27.638772Z",
     "iopub.status.idle": "2021-03-21T06:10:27.643598Z",
     "shell.execute_reply": "2021-03-21T06:10:27.644019Z"
    },
    "papermill": {
     "duration": 0.083051,
     "end_time": "2021-03-21T06:10:27.644189",
     "exception": false,
     "start_time": "2021-03-21T06:10:27.561138",
     "status": "completed"
    },
    "tags": []
   },
   "outputs": [],
   "source": [
    "X= train.drop('profit',axis=1)\n",
    "y= train['profit']\n"
   ]
  },
  {
   "cell_type": "code",
   "execution_count": 39,
   "id": "athletic-chambers",
   "metadata": {
    "execution": {
     "iopub.execute_input": "2021-03-21T06:10:27.803795Z",
     "iopub.status.busy": "2021-03-21T06:10:27.803026Z",
     "iopub.status.idle": "2021-03-21T06:10:27.874023Z",
     "shell.execute_reply": "2021-03-21T06:10:27.873514Z"
    },
    "papermill": {
     "duration": 0.154462,
     "end_time": "2021-03-21T06:10:27.874170",
     "exception": false,
     "start_time": "2021-03-21T06:10:27.719708",
     "status": "completed"
    },
    "tags": []
   },
   "outputs": [],
   "source": [
    "from sklearn.model_selection import train_test_split"
   ]
  },
  {
   "cell_type": "code",
   "execution_count": 40,
   "id": "favorite-feature",
   "metadata": {
    "execution": {
     "iopub.execute_input": "2021-03-21T06:10:28.031606Z",
     "iopub.status.busy": "2021-03-21T06:10:28.030948Z",
     "iopub.status.idle": "2021-03-21T06:10:28.035623Z",
     "shell.execute_reply": "2021-03-21T06:10:28.036078Z"
    },
    "papermill": {
     "duration": 0.085965,
     "end_time": "2021-03-21T06:10:28.036240",
     "exception": false,
     "start_time": "2021-03-21T06:10:27.950275",
     "status": "completed"
    },
    "tags": []
   },
   "outputs": [],
   "source": [
    "X_train, X_test, y_train, y_test = train_test_split(X, y,train_size=0.5, random_state=0)"
   ]
  },
  {
   "cell_type": "code",
   "execution_count": 41,
   "id": "floating-category",
   "metadata": {
    "execution": {
     "iopub.execute_input": "2021-03-21T06:10:28.190297Z",
     "iopub.status.busy": "2021-03-21T06:10:28.189719Z",
     "iopub.status.idle": "2021-03-21T06:10:28.300633Z",
     "shell.execute_reply": "2021-03-21T06:10:28.299501Z"
    },
    "papermill": {
     "duration": 0.188366,
     "end_time": "2021-03-21T06:10:28.300781",
     "exception": false,
     "start_time": "2021-03-21T06:10:28.112415",
     "status": "completed"
    },
    "tags": []
   },
   "outputs": [],
   "source": [
    "from sklearn.linear_model import LinearRegression"
   ]
  },
  {
   "cell_type": "code",
   "execution_count": 42,
   "id": "viral-cause",
   "metadata": {
    "execution": {
     "iopub.execute_input": "2021-03-21T06:10:28.460905Z",
     "iopub.status.busy": "2021-03-21T06:10:28.459946Z",
     "iopub.status.idle": "2021-03-21T06:10:28.494246Z",
     "shell.execute_reply": "2021-03-21T06:10:28.494793Z"
    },
    "papermill": {
     "duration": 0.116724,
     "end_time": "2021-03-21T06:10:28.494962",
     "exception": false,
     "start_time": "2021-03-21T06:10:28.378238",
     "status": "completed"
    },
    "tags": []
   },
   "outputs": [
    {
     "data": {
      "text/plain": [
       "LinearRegression()"
      ]
     },
     "execution_count": 42,
     "metadata": {},
     "output_type": "execute_result"
    }
   ],
   "source": [
    "reg = LinearRegression()\n",
    "reg.fit(X_train,y_train)"
   ]
  },
  {
   "cell_type": "code",
   "execution_count": 43,
   "id": "large-strength",
   "metadata": {
    "execution": {
     "iopub.execute_input": "2021-03-21T06:10:28.691666Z",
     "iopub.status.busy": "2021-03-21T06:10:28.690954Z",
     "iopub.status.idle": "2021-03-21T06:10:28.694949Z",
     "shell.execute_reply": "2021-03-21T06:10:28.694142Z"
    },
    "papermill": {
     "duration": 0.108022,
     "end_time": "2021-03-21T06:10:28.695130",
     "exception": false,
     "start_time": "2021-03-21T06:10:28.587108",
     "status": "completed"
    },
    "tags": []
   },
   "outputs": [],
   "source": [
    "predict = reg.predict(X_test)"
   ]
  },
  {
   "cell_type": "code",
   "execution_count": 44,
   "id": "regular-christmas",
   "metadata": {
    "execution": {
     "iopub.execute_input": "2021-03-21T06:10:28.915406Z",
     "iopub.status.busy": "2021-03-21T06:10:28.914411Z",
     "iopub.status.idle": "2021-03-21T06:10:28.926575Z",
     "shell.execute_reply": "2021-03-21T06:10:28.927016Z"
    },
    "papermill": {
     "duration": 0.136996,
     "end_time": "2021-03-21T06:10:28.927177",
     "exception": false,
     "start_time": "2021-03-21T06:10:28.790181",
     "status": "completed"
    },
    "tags": []
   },
   "outputs": [
    {
     "data": {
      "text/plain": [
       "0.2977740078445079"
      ]
     },
     "execution_count": 44,
     "metadata": {},
     "output_type": "execute_result"
    }
   ],
   "source": [
    "reg.score(X_train,y_train)"
   ]
  },
  {
   "cell_type": "code",
   "execution_count": 45,
   "id": "labeled-oakland",
   "metadata": {
    "execution": {
     "iopub.execute_input": "2021-03-21T06:10:29.095969Z",
     "iopub.status.busy": "2021-03-21T06:10:29.095281Z",
     "iopub.status.idle": "2021-03-21T06:10:29.127722Z",
     "shell.execute_reply": "2021-03-21T06:10:29.127056Z"
    },
    "papermill": {
     "duration": 0.114152,
     "end_time": "2021-03-21T06:10:29.127864",
     "exception": false,
     "start_time": "2021-03-21T06:10:29.013712",
     "status": "completed"
    },
    "tags": []
   },
   "outputs": [
    {
     "data": {
      "text/html": [
       "<div>\n",
       "<style scoped>\n",
       "    .dataframe tbody tr th:only-of-type {\n",
       "        vertical-align: middle;\n",
       "    }\n",
       "\n",
       "    .dataframe tbody tr th {\n",
       "        vertical-align: top;\n",
       "    }\n",
       "\n",
       "    .dataframe thead th {\n",
       "        text-align: right;\n",
       "    }\n",
       "</style>\n",
       "<table border=\"1\" class=\"dataframe\">\n",
       "  <thead>\n",
       "    <tr style=\"text-align: right;\">\n",
       "      <th></th>\n",
       "      <th>departure city</th>\n",
       "      <th>discount</th>\n",
       "      <th>price</th>\n",
       "      <th>no of items</th>\n",
       "      <th>location</th>\n",
       "      <th>class</th>\n",
       "      <th>segment</th>\n",
       "      <th>sub-class</th>\n",
       "      <th>delivery type</th>\n",
       "      <th>RID</th>\n",
       "      <th>delivery date</th>\n",
       "      <th>address code</th>\n",
       "      <th>departure state</th>\n",
       "      <th>placement date</th>\n",
       "    </tr>\n",
       "    <tr>\n",
       "      <th>id</th>\n",
       "      <th></th>\n",
       "      <th></th>\n",
       "      <th></th>\n",
       "      <th></th>\n",
       "      <th></th>\n",
       "      <th></th>\n",
       "      <th></th>\n",
       "      <th></th>\n",
       "      <th></th>\n",
       "      <th></th>\n",
       "      <th></th>\n",
       "      <th></th>\n",
       "      <th></th>\n",
       "      <th></th>\n",
       "    </tr>\n",
       "  </thead>\n",
       "  <tbody>\n",
       "    <tr>\n",
       "      <th>6701</th>\n",
       "      <td>San Francisco</td>\n",
       "      <td>0.0</td>\n",
       "      <td>24.200</td>\n",
       "      <td>5</td>\n",
       "      <td>West</td>\n",
       "      <td>kariox</td>\n",
       "      <td>Consumer</td>\n",
       "      <td>television</td>\n",
       "      <td>Standard Class</td>\n",
       "      <td>2408</td>\n",
       "      <td>2021-01-01</td>\n",
       "      <td>94122</td>\n",
       "      <td>California</td>\n",
       "      <td>2021-01-01</td>\n",
       "    </tr>\n",
       "    <tr>\n",
       "      <th>6702</th>\n",
       "      <td>San Francisco</td>\n",
       "      <td>0.2</td>\n",
       "      <td>359.976</td>\n",
       "      <td>3</td>\n",
       "      <td>West</td>\n",
       "      <td>fynota</td>\n",
       "      <td>Consumer</td>\n",
       "      <td>colddrinks</td>\n",
       "      <td>Standard Class</td>\n",
       "      <td>2409</td>\n",
       "      <td>2021-01-01</td>\n",
       "      <td>94122</td>\n",
       "      <td>California</td>\n",
       "      <td>2021-01-01</td>\n",
       "    </tr>\n",
       "    <tr>\n",
       "      <th>6703</th>\n",
       "      <td>Waterbury</td>\n",
       "      <td>0.0</td>\n",
       "      <td>3.520</td>\n",
       "      <td>2</td>\n",
       "      <td>East</td>\n",
       "      <td>kariox</td>\n",
       "      <td>Consumer</td>\n",
       "      <td>television</td>\n",
       "      <td>Standard Class</td>\n",
       "      <td>5425</td>\n",
       "      <td>2021-01-01</td>\n",
       "      <td>6708</td>\n",
       "      <td>Connecticut</td>\n",
       "      <td>2021-01-01</td>\n",
       "    </tr>\n",
       "    <tr>\n",
       "      <th>6704</th>\n",
       "      <td>Chicago</td>\n",
       "      <td>0.2</td>\n",
       "      <td>11.520</td>\n",
       "      <td>5</td>\n",
       "      <td>Central</td>\n",
       "      <td>kariox</td>\n",
       "      <td>Consumer</td>\n",
       "      <td>tablet</td>\n",
       "      <td>First Class</td>\n",
       "      <td>7408</td>\n",
       "      <td>2021-01-01</td>\n",
       "      <td>60653</td>\n",
       "      <td>Illinois</td>\n",
       "      <td>2021-01-01</td>\n",
       "    </tr>\n",
       "    <tr>\n",
       "      <th>6705</th>\n",
       "      <td>Seattle</td>\n",
       "      <td>0.0</td>\n",
       "      <td>242.940</td>\n",
       "      <td>3</td>\n",
       "      <td>West</td>\n",
       "      <td>kariox</td>\n",
       "      <td>Home Office</td>\n",
       "      <td>laptop</td>\n",
       "      <td>Standard Class</td>\n",
       "      <td>733</td>\n",
       "      <td>2021-01-01</td>\n",
       "      <td>98115</td>\n",
       "      <td>Washington</td>\n",
       "      <td>2021-01-01</td>\n",
       "    </tr>\n",
       "    <tr>\n",
       "      <th>...</th>\n",
       "      <td>...</td>\n",
       "      <td>...</td>\n",
       "      <td>...</td>\n",
       "      <td>...</td>\n",
       "      <td>...</td>\n",
       "      <td>...</td>\n",
       "      <td>...</td>\n",
       "      <td>...</td>\n",
       "      <td>...</td>\n",
       "      <td>...</td>\n",
       "      <td>...</td>\n",
       "      <td>...</td>\n",
       "      <td>...</td>\n",
       "      <td>...</td>\n",
       "    </tr>\n",
       "    <tr>\n",
       "      <th>9990</th>\n",
       "      <td>New York City</td>\n",
       "      <td>0.0</td>\n",
       "      <td>31.920</td>\n",
       "      <td>4</td>\n",
       "      <td>East</td>\n",
       "      <td>kariox</td>\n",
       "      <td>Consumer</td>\n",
       "      <td>laptop</td>\n",
       "      <td>Second Class</td>\n",
       "      <td>1171</td>\n",
       "      <td>2021-12-01</td>\n",
       "      <td>10035</td>\n",
       "      <td>New York</td>\n",
       "      <td>2021-12-01</td>\n",
       "    </tr>\n",
       "    <tr>\n",
       "      <th>9991</th>\n",
       "      <td>New York City</td>\n",
       "      <td>0.0</td>\n",
       "      <td>19.440</td>\n",
       "      <td>3</td>\n",
       "      <td>East</td>\n",
       "      <td>kariox</td>\n",
       "      <td>Consumer</td>\n",
       "      <td>phone</td>\n",
       "      <td>Second Class</td>\n",
       "      <td>1170</td>\n",
       "      <td>2021-12-01</td>\n",
       "      <td>10035</td>\n",
       "      <td>New York</td>\n",
       "      <td>2021-12-01</td>\n",
       "    </tr>\n",
       "    <tr>\n",
       "      <th>9992</th>\n",
       "      <td>New York City</td>\n",
       "      <td>0.0</td>\n",
       "      <td>272.940</td>\n",
       "      <td>3</td>\n",
       "      <td>East</td>\n",
       "      <td>kariox</td>\n",
       "      <td>Consumer</td>\n",
       "      <td>laptop</td>\n",
       "      <td>Second Class</td>\n",
       "      <td>1169</td>\n",
       "      <td>2021-12-01</td>\n",
       "      <td>10035</td>\n",
       "      <td>New York</td>\n",
       "      <td>2021-12-01</td>\n",
       "    </tr>\n",
       "    <tr>\n",
       "      <th>9993</th>\n",
       "      <td>San Francisco</td>\n",
       "      <td>0.2</td>\n",
       "      <td>113.568</td>\n",
       "      <td>2</td>\n",
       "      <td>West</td>\n",
       "      <td>qexty</td>\n",
       "      <td>Consumer</td>\n",
       "      <td>tshirts</td>\n",
       "      <td>Standard Class</td>\n",
       "      <td>414</td>\n",
       "      <td>2021-12-01</td>\n",
       "      <td>94110</td>\n",
       "      <td>California</td>\n",
       "      <td>2021-12-01</td>\n",
       "    </tr>\n",
       "    <tr>\n",
       "      <th>9994</th>\n",
       "      <td>Loveland</td>\n",
       "      <td>0.2</td>\n",
       "      <td>3.024</td>\n",
       "      <td>3</td>\n",
       "      <td>West</td>\n",
       "      <td>kariox</td>\n",
       "      <td>Consumer</td>\n",
       "      <td>lighting</td>\n",
       "      <td>Standard Class</td>\n",
       "      <td>5092</td>\n",
       "      <td>2022-01-01</td>\n",
       "      <td>80538</td>\n",
       "      <td>Colorado</td>\n",
       "      <td>2021-12-01</td>\n",
       "    </tr>\n",
       "  </tbody>\n",
       "</table>\n",
       "<p>3294 rows × 14 columns</p>\n",
       "</div>"
      ],
      "text/plain": [
       "     departure city  discount    price  no of items location   class  \\\n",
       "id                                                                     \n",
       "6701  San Francisco       0.0   24.200            5     West  kariox   \n",
       "6702  San Francisco       0.2  359.976            3     West  fynota   \n",
       "6703      Waterbury       0.0    3.520            2     East  kariox   \n",
       "6704        Chicago       0.2   11.520            5  Central  kariox   \n",
       "6705        Seattle       0.0  242.940            3     West  kariox   \n",
       "...             ...       ...      ...          ...      ...     ...   \n",
       "9990  New York City       0.0   31.920            4     East  kariox   \n",
       "9991  New York City       0.0   19.440            3     East  kariox   \n",
       "9992  New York City       0.0  272.940            3     East  kariox   \n",
       "9993  San Francisco       0.2  113.568            2     West   qexty   \n",
       "9994       Loveland       0.2    3.024            3     West  kariox   \n",
       "\n",
       "          segment   sub-class   delivery type   RID delivery date  \\\n",
       "id                                                                  \n",
       "6701     Consumer  television  Standard Class  2408    2021-01-01   \n",
       "6702     Consumer  colddrinks  Standard Class  2409    2021-01-01   \n",
       "6703     Consumer  television  Standard Class  5425    2021-01-01   \n",
       "6704     Consumer      tablet     First Class  7408    2021-01-01   \n",
       "6705  Home Office      laptop  Standard Class   733    2021-01-01   \n",
       "...           ...         ...             ...   ...           ...   \n",
       "9990     Consumer      laptop    Second Class  1171    2021-12-01   \n",
       "9991     Consumer       phone    Second Class  1170    2021-12-01   \n",
       "9992     Consumer      laptop    Second Class  1169    2021-12-01   \n",
       "9993     Consumer     tshirts  Standard Class   414    2021-12-01   \n",
       "9994     Consumer    lighting  Standard Class  5092    2022-01-01   \n",
       "\n",
       "      address code departure state placement date  \n",
       "id                                                 \n",
       "6701         94122      California     2021-01-01  \n",
       "6702         94122      California     2021-01-01  \n",
       "6703          6708     Connecticut     2021-01-01  \n",
       "6704         60653        Illinois     2021-01-01  \n",
       "6705         98115      Washington     2021-01-01  \n",
       "...            ...             ...            ...  \n",
       "9990         10035        New York     2021-12-01  \n",
       "9991         10035        New York     2021-12-01  \n",
       "9992         10035        New York     2021-12-01  \n",
       "9993         94110      California     2021-12-01  \n",
       "9994         80538        Colorado     2021-12-01  \n",
       "\n",
       "[3294 rows x 14 columns]"
      ]
     },
     "execution_count": 45,
     "metadata": {},
     "output_type": "execute_result"
    }
   ],
   "source": [
    "test"
   ]
  },
  {
   "cell_type": "code",
   "execution_count": 46,
   "id": "judicial-plate",
   "metadata": {
    "execution": {
     "iopub.execute_input": "2021-03-21T06:10:29.289479Z",
     "iopub.status.busy": "2021-03-21T06:10:29.288717Z",
     "iopub.status.idle": "2021-03-21T06:10:29.293419Z",
     "shell.execute_reply": "2021-03-21T06:10:29.293929Z"
    },
    "papermill": {
     "duration": 0.086783,
     "end_time": "2021-03-21T06:10:29.294114",
     "exception": false,
     "start_time": "2021-03-21T06:10:29.207331",
     "status": "completed"
    },
    "tags": []
   },
   "outputs": [],
   "source": [
    "from sklearn.preprocessing import OrdinalEncoder"
   ]
  },
  {
   "cell_type": "code",
   "execution_count": 47,
   "id": "offensive-plant",
   "metadata": {
    "execution": {
     "iopub.execute_input": "2021-03-21T06:10:29.458867Z",
     "iopub.status.busy": "2021-03-21T06:10:29.458146Z",
     "iopub.status.idle": "2021-03-21T06:10:29.463307Z",
     "shell.execute_reply": "2021-03-21T06:10:29.462836Z"
    },
    "papermill": {
     "duration": 0.089638,
     "end_time": "2021-03-21T06:10:29.463471",
     "exception": false,
     "start_time": "2021-03-21T06:10:29.373833",
     "status": "completed"
    },
    "tags": []
   },
   "outputs": [],
   "source": [
    "ordinal = OrdinalEncoder()"
   ]
  },
  {
   "cell_type": "code",
   "execution_count": 48,
   "id": "liberal-sister",
   "metadata": {
    "execution": {
     "iopub.execute_input": "2021-03-21T06:10:29.624020Z",
     "iopub.status.busy": "2021-03-21T06:10:29.623384Z",
     "iopub.status.idle": "2021-03-21T06:10:29.625861Z",
     "shell.execute_reply": "2021-03-21T06:10:29.626314Z"
    },
    "papermill": {
     "duration": 0.086452,
     "end_time": "2021-03-21T06:10:29.626523",
     "exception": false,
     "start_time": "2021-03-21T06:10:29.540071",
     "status": "completed"
    },
    "tags": []
   },
   "outputs": [],
   "source": [
    "ordinal = ordinal.fit_transform(test[['sub-class']])"
   ]
  },
  {
   "cell_type": "code",
   "execution_count": 49,
   "id": "every-wealth",
   "metadata": {
    "execution": {
     "iopub.execute_input": "2021-03-21T06:10:29.784305Z",
     "iopub.status.busy": "2021-03-21T06:10:29.783664Z",
     "iopub.status.idle": "2021-03-21T06:10:29.788062Z",
     "shell.execute_reply": "2021-03-21T06:10:29.788570Z"
    },
    "papermill": {
     "duration": 0.085403,
     "end_time": "2021-03-21T06:10:29.788755",
     "exception": false,
     "start_time": "2021-03-21T06:10:29.703352",
     "status": "completed"
    },
    "tags": []
   },
   "outputs": [],
   "source": [
    "test['sub-class']=ordinal"
   ]
  },
  {
   "cell_type": "code",
   "execution_count": 50,
   "id": "changed-kelly",
   "metadata": {
    "execution": {
     "iopub.execute_input": "2021-03-21T06:10:29.948093Z",
     "iopub.status.busy": "2021-03-21T06:10:29.947437Z",
     "iopub.status.idle": "2021-03-21T06:10:29.952025Z",
     "shell.execute_reply": "2021-03-21T06:10:29.951524Z"
    },
    "papermill": {
     "duration": 0.085623,
     "end_time": "2021-03-21T06:10:29.952159",
     "exception": false,
     "start_time": "2021-03-21T06:10:29.866536",
     "status": "completed"
    },
    "tags": []
   },
   "outputs": [],
   "source": [
    "from sklearn.preprocessing import OrdinalEncoder"
   ]
  },
  {
   "cell_type": "code",
   "execution_count": 51,
   "id": "level-rescue",
   "metadata": {
    "execution": {
     "iopub.execute_input": "2021-03-21T06:10:30.115664Z",
     "iopub.status.busy": "2021-03-21T06:10:30.114604Z",
     "iopub.status.idle": "2021-03-21T06:10:30.117905Z",
     "shell.execute_reply": "2021-03-21T06:10:30.117421Z"
    },
    "papermill": {
     "duration": 0.086949,
     "end_time": "2021-03-21T06:10:30.118038",
     "exception": false,
     "start_time": "2021-03-21T06:10:30.031089",
     "status": "completed"
    },
    "tags": []
   },
   "outputs": [],
   "source": [
    "oe = OrdinalEncoder()"
   ]
  },
  {
   "cell_type": "code",
   "execution_count": 52,
   "id": "registered-knife",
   "metadata": {
    "execution": {
     "iopub.execute_input": "2021-03-21T06:10:30.280563Z",
     "iopub.status.busy": "2021-03-21T06:10:30.279936Z",
     "iopub.status.idle": "2021-03-21T06:10:30.282697Z",
     "shell.execute_reply": "2021-03-21T06:10:30.283132Z"
    },
    "papermill": {
     "duration": 0.087944,
     "end_time": "2021-03-21T06:10:30.283302",
     "exception": false,
     "start_time": "2021-03-21T06:10:30.195358",
     "status": "completed"
    },
    "tags": []
   },
   "outputs": [],
   "source": [
    "oe = oe.fit_transform(test[['class']])"
   ]
  },
  {
   "cell_type": "code",
   "execution_count": 53,
   "id": "biblical-blake",
   "metadata": {
    "execution": {
     "iopub.execute_input": "2021-03-21T06:10:30.440596Z",
     "iopub.status.busy": "2021-03-21T06:10:30.439929Z",
     "iopub.status.idle": "2021-03-21T06:10:30.446167Z",
     "shell.execute_reply": "2021-03-21T06:10:30.445553Z"
    },
    "papermill": {
     "duration": 0.085642,
     "end_time": "2021-03-21T06:10:30.446301",
     "exception": false,
     "start_time": "2021-03-21T06:10:30.360659",
     "status": "completed"
    },
    "tags": []
   },
   "outputs": [],
   "source": [
    "test['class'] = oe"
   ]
  },
  {
   "cell_type": "code",
   "execution_count": 54,
   "id": "subsequent-seller",
   "metadata": {
    "execution": {
     "iopub.execute_input": "2021-03-21T06:10:30.632223Z",
     "iopub.status.busy": "2021-03-21T06:10:30.631416Z",
     "iopub.status.idle": "2021-03-21T06:10:30.636288Z",
     "shell.execute_reply": "2021-03-21T06:10:30.635793Z"
    },
    "papermill": {
     "duration": 0.11181,
     "end_time": "2021-03-21T06:10:30.636443",
     "exception": false,
     "start_time": "2021-03-21T06:10:30.524633",
     "status": "completed"
    },
    "tags": []
   },
   "outputs": [
    {
     "data": {
      "text/html": [
       "<div>\n",
       "<style scoped>\n",
       "    .dataframe tbody tr th:only-of-type {\n",
       "        vertical-align: middle;\n",
       "    }\n",
       "\n",
       "    .dataframe tbody tr th {\n",
       "        vertical-align: top;\n",
       "    }\n",
       "\n",
       "    .dataframe thead th {\n",
       "        text-align: right;\n",
       "    }\n",
       "</style>\n",
       "<table border=\"1\" class=\"dataframe\">\n",
       "  <thead>\n",
       "    <tr style=\"text-align: right;\">\n",
       "      <th></th>\n",
       "      <th>departure city</th>\n",
       "      <th>discount</th>\n",
       "      <th>price</th>\n",
       "      <th>no of items</th>\n",
       "      <th>location</th>\n",
       "      <th>class</th>\n",
       "      <th>segment</th>\n",
       "      <th>sub-class</th>\n",
       "      <th>delivery type</th>\n",
       "      <th>RID</th>\n",
       "      <th>delivery date</th>\n",
       "      <th>address code</th>\n",
       "      <th>departure state</th>\n",
       "      <th>placement date</th>\n",
       "    </tr>\n",
       "    <tr>\n",
       "      <th>id</th>\n",
       "      <th></th>\n",
       "      <th></th>\n",
       "      <th></th>\n",
       "      <th></th>\n",
       "      <th></th>\n",
       "      <th></th>\n",
       "      <th></th>\n",
       "      <th></th>\n",
       "      <th></th>\n",
       "      <th></th>\n",
       "      <th></th>\n",
       "      <th></th>\n",
       "      <th></th>\n",
       "      <th></th>\n",
       "    </tr>\n",
       "  </thead>\n",
       "  <tbody>\n",
       "    <tr>\n",
       "      <th>6701</th>\n",
       "      <td>San Francisco</td>\n",
       "      <td>0.0</td>\n",
       "      <td>24.200</td>\n",
       "      <td>5</td>\n",
       "      <td>West</td>\n",
       "      <td>1.0</td>\n",
       "      <td>Consumer</td>\n",
       "      <td>14.0</td>\n",
       "      <td>Standard Class</td>\n",
       "      <td>2408</td>\n",
       "      <td>2021-01-01</td>\n",
       "      <td>94122</td>\n",
       "      <td>California</td>\n",
       "      <td>2021-01-01</td>\n",
       "    </tr>\n",
       "    <tr>\n",
       "      <th>6702</th>\n",
       "      <td>San Francisco</td>\n",
       "      <td>0.2</td>\n",
       "      <td>359.976</td>\n",
       "      <td>3</td>\n",
       "      <td>West</td>\n",
       "      <td>0.0</td>\n",
       "      <td>Consumer</td>\n",
       "      <td>3.0</td>\n",
       "      <td>Standard Class</td>\n",
       "      <td>2409</td>\n",
       "      <td>2021-01-01</td>\n",
       "      <td>94122</td>\n",
       "      <td>California</td>\n",
       "      <td>2021-01-01</td>\n",
       "    </tr>\n",
       "    <tr>\n",
       "      <th>6703</th>\n",
       "      <td>Waterbury</td>\n",
       "      <td>0.0</td>\n",
       "      <td>3.520</td>\n",
       "      <td>2</td>\n",
       "      <td>East</td>\n",
       "      <td>1.0</td>\n",
       "      <td>Consumer</td>\n",
       "      <td>14.0</td>\n",
       "      <td>Standard Class</td>\n",
       "      <td>5425</td>\n",
       "      <td>2021-01-01</td>\n",
       "      <td>6708</td>\n",
       "      <td>Connecticut</td>\n",
       "      <td>2021-01-01</td>\n",
       "    </tr>\n",
       "    <tr>\n",
       "      <th>6704</th>\n",
       "      <td>Chicago</td>\n",
       "      <td>0.2</td>\n",
       "      <td>11.520</td>\n",
       "      <td>5</td>\n",
       "      <td>Central</td>\n",
       "      <td>1.0</td>\n",
       "      <td>Consumer</td>\n",
       "      <td>13.0</td>\n",
       "      <td>First Class</td>\n",
       "      <td>7408</td>\n",
       "      <td>2021-01-01</td>\n",
       "      <td>60653</td>\n",
       "      <td>Illinois</td>\n",
       "      <td>2021-01-01</td>\n",
       "    </tr>\n",
       "    <tr>\n",
       "      <th>6705</th>\n",
       "      <td>Seattle</td>\n",
       "      <td>0.0</td>\n",
       "      <td>242.940</td>\n",
       "      <td>3</td>\n",
       "      <td>West</td>\n",
       "      <td>1.0</td>\n",
       "      <td>Home Office</td>\n",
       "      <td>7.0</td>\n",
       "      <td>Standard Class</td>\n",
       "      <td>733</td>\n",
       "      <td>2021-01-01</td>\n",
       "      <td>98115</td>\n",
       "      <td>Washington</td>\n",
       "      <td>2021-01-01</td>\n",
       "    </tr>\n",
       "    <tr>\n",
       "      <th>...</th>\n",
       "      <td>...</td>\n",
       "      <td>...</td>\n",
       "      <td>...</td>\n",
       "      <td>...</td>\n",
       "      <td>...</td>\n",
       "      <td>...</td>\n",
       "      <td>...</td>\n",
       "      <td>...</td>\n",
       "      <td>...</td>\n",
       "      <td>...</td>\n",
       "      <td>...</td>\n",
       "      <td>...</td>\n",
       "      <td>...</td>\n",
       "      <td>...</td>\n",
       "    </tr>\n",
       "    <tr>\n",
       "      <th>9990</th>\n",
       "      <td>New York City</td>\n",
       "      <td>0.0</td>\n",
       "      <td>31.920</td>\n",
       "      <td>4</td>\n",
       "      <td>East</td>\n",
       "      <td>1.0</td>\n",
       "      <td>Consumer</td>\n",
       "      <td>7.0</td>\n",
       "      <td>Second Class</td>\n",
       "      <td>1171</td>\n",
       "      <td>2021-12-01</td>\n",
       "      <td>10035</td>\n",
       "      <td>New York</td>\n",
       "      <td>2021-12-01</td>\n",
       "    </tr>\n",
       "    <tr>\n",
       "      <th>9991</th>\n",
       "      <td>New York City</td>\n",
       "      <td>0.0</td>\n",
       "      <td>19.440</td>\n",
       "      <td>3</td>\n",
       "      <td>East</td>\n",
       "      <td>1.0</td>\n",
       "      <td>Consumer</td>\n",
       "      <td>10.0</td>\n",
       "      <td>Second Class</td>\n",
       "      <td>1170</td>\n",
       "      <td>2021-12-01</td>\n",
       "      <td>10035</td>\n",
       "      <td>New York</td>\n",
       "      <td>2021-12-01</td>\n",
       "    </tr>\n",
       "    <tr>\n",
       "      <th>9992</th>\n",
       "      <td>New York City</td>\n",
       "      <td>0.0</td>\n",
       "      <td>272.940</td>\n",
       "      <td>3</td>\n",
       "      <td>East</td>\n",
       "      <td>1.0</td>\n",
       "      <td>Consumer</td>\n",
       "      <td>7.0</td>\n",
       "      <td>Second Class</td>\n",
       "      <td>1169</td>\n",
       "      <td>2021-12-01</td>\n",
       "      <td>10035</td>\n",
       "      <td>New York</td>\n",
       "      <td>2021-12-01</td>\n",
       "    </tr>\n",
       "    <tr>\n",
       "      <th>9993</th>\n",
       "      <td>San Francisco</td>\n",
       "      <td>0.2</td>\n",
       "      <td>113.568</td>\n",
       "      <td>2</td>\n",
       "      <td>West</td>\n",
       "      <td>2.0</td>\n",
       "      <td>Consumer</td>\n",
       "      <td>15.0</td>\n",
       "      <td>Standard Class</td>\n",
       "      <td>414</td>\n",
       "      <td>2021-12-01</td>\n",
       "      <td>94110</td>\n",
       "      <td>California</td>\n",
       "      <td>2021-12-01</td>\n",
       "    </tr>\n",
       "    <tr>\n",
       "      <th>9994</th>\n",
       "      <td>Loveland</td>\n",
       "      <td>0.2</td>\n",
       "      <td>3.024</td>\n",
       "      <td>3</td>\n",
       "      <td>West</td>\n",
       "      <td>1.0</td>\n",
       "      <td>Consumer</td>\n",
       "      <td>8.0</td>\n",
       "      <td>Standard Class</td>\n",
       "      <td>5092</td>\n",
       "      <td>2022-01-01</td>\n",
       "      <td>80538</td>\n",
       "      <td>Colorado</td>\n",
       "      <td>2021-12-01</td>\n",
       "    </tr>\n",
       "  </tbody>\n",
       "</table>\n",
       "<p>3294 rows × 14 columns</p>\n",
       "</div>"
      ],
      "text/plain": [
       "     departure city  discount    price  no of items location  class  \\\n",
       "id                                                                    \n",
       "6701  San Francisco       0.0   24.200            5     West    1.0   \n",
       "6702  San Francisco       0.2  359.976            3     West    0.0   \n",
       "6703      Waterbury       0.0    3.520            2     East    1.0   \n",
       "6704        Chicago       0.2   11.520            5  Central    1.0   \n",
       "6705        Seattle       0.0  242.940            3     West    1.0   \n",
       "...             ...       ...      ...          ...      ...    ...   \n",
       "9990  New York City       0.0   31.920            4     East    1.0   \n",
       "9991  New York City       0.0   19.440            3     East    1.0   \n",
       "9992  New York City       0.0  272.940            3     East    1.0   \n",
       "9993  San Francisco       0.2  113.568            2     West    2.0   \n",
       "9994       Loveland       0.2    3.024            3     West    1.0   \n",
       "\n",
       "          segment  sub-class   delivery type   RID delivery date  \\\n",
       "id                                                                 \n",
       "6701     Consumer       14.0  Standard Class  2408    2021-01-01   \n",
       "6702     Consumer        3.0  Standard Class  2409    2021-01-01   \n",
       "6703     Consumer       14.0  Standard Class  5425    2021-01-01   \n",
       "6704     Consumer       13.0     First Class  7408    2021-01-01   \n",
       "6705  Home Office        7.0  Standard Class   733    2021-01-01   \n",
       "...           ...        ...             ...   ...           ...   \n",
       "9990     Consumer        7.0    Second Class  1171    2021-12-01   \n",
       "9991     Consumer       10.0    Second Class  1170    2021-12-01   \n",
       "9992     Consumer        7.0    Second Class  1169    2021-12-01   \n",
       "9993     Consumer       15.0  Standard Class   414    2021-12-01   \n",
       "9994     Consumer        8.0  Standard Class  5092    2022-01-01   \n",
       "\n",
       "      address code departure state placement date  \n",
       "id                                                 \n",
       "6701         94122      California     2021-01-01  \n",
       "6702         94122      California     2021-01-01  \n",
       "6703          6708     Connecticut     2021-01-01  \n",
       "6704         60653        Illinois     2021-01-01  \n",
       "6705         98115      Washington     2021-01-01  \n",
       "...            ...             ...            ...  \n",
       "9990         10035        New York     2021-12-01  \n",
       "9991         10035        New York     2021-12-01  \n",
       "9992         10035        New York     2021-12-01  \n",
       "9993         94110      California     2021-12-01  \n",
       "9994         80538        Colorado     2021-12-01  \n",
       "\n",
       "[3294 rows x 14 columns]"
      ]
     },
     "execution_count": 54,
     "metadata": {},
     "output_type": "execute_result"
    }
   ],
   "source": [
    "test"
   ]
  },
  {
   "cell_type": "code",
   "execution_count": 55,
   "id": "alike-difference",
   "metadata": {
    "execution": {
     "iopub.execute_input": "2021-03-21T06:10:30.799843Z",
     "iopub.status.busy": "2021-03-21T06:10:30.798470Z",
     "iopub.status.idle": "2021-03-21T06:10:30.802827Z",
     "shell.execute_reply": "2021-03-21T06:10:30.802316Z"
    },
    "papermill": {
     "duration": 0.087348,
     "end_time": "2021-03-21T06:10:30.802960",
     "exception": false,
     "start_time": "2021-03-21T06:10:30.715612",
     "status": "completed"
    },
    "tags": []
   },
   "outputs": [],
   "source": [
    "test = test.drop(['departure city','delivery date','address code','departure state','placement date','RID'],axis=1)"
   ]
  },
  {
   "cell_type": "code",
   "execution_count": 56,
   "id": "magnetic-malta",
   "metadata": {
    "execution": {
     "iopub.execute_input": "2021-03-21T06:10:30.971674Z",
     "iopub.status.busy": "2021-03-21T06:10:30.971022Z",
     "iopub.status.idle": "2021-03-21T06:10:30.974178Z",
     "shell.execute_reply": "2021-03-21T06:10:30.973549Z"
    },
    "papermill": {
     "duration": 0.092574,
     "end_time": "2021-03-21T06:10:30.974329",
     "exception": false,
     "start_time": "2021-03-21T06:10:30.881755",
     "status": "completed"
    },
    "tags": []
   },
   "outputs": [],
   "source": [
    "test['segment'] = test['segment'].map({'Consumer':0,'Corporate':1,'Home Office':2})\n",
    "test['location'] = test['location'].map({'West':0,'East':2,'Central':1,'South':3})\n",
    "test['delivery type'] = test['delivery type'].map({'Standard Class':0,'First Class':1,'Second Class':2,'Same Day':3})\n"
   ]
  },
  {
   "cell_type": "code",
   "execution_count": 57,
   "id": "coordinate-technology",
   "metadata": {
    "execution": {
     "iopub.execute_input": "2021-03-21T06:10:31.158521Z",
     "iopub.status.busy": "2021-03-21T06:10:31.157585Z",
     "iopub.status.idle": "2021-03-21T06:10:31.162404Z",
     "shell.execute_reply": "2021-03-21T06:10:31.161909Z"
    },
    "papermill": {
     "duration": 0.108776,
     "end_time": "2021-03-21T06:10:31.162540",
     "exception": false,
     "start_time": "2021-03-21T06:10:31.053764",
     "status": "completed"
    },
    "tags": []
   },
   "outputs": [
    {
     "data": {
      "text/html": [
       "<div>\n",
       "<style scoped>\n",
       "    .dataframe tbody tr th:only-of-type {\n",
       "        vertical-align: middle;\n",
       "    }\n",
       "\n",
       "    .dataframe tbody tr th {\n",
       "        vertical-align: top;\n",
       "    }\n",
       "\n",
       "    .dataframe thead th {\n",
       "        text-align: right;\n",
       "    }\n",
       "</style>\n",
       "<table border=\"1\" class=\"dataframe\">\n",
       "  <thead>\n",
       "    <tr style=\"text-align: right;\">\n",
       "      <th></th>\n",
       "      <th>discount</th>\n",
       "      <th>price</th>\n",
       "      <th>no of items</th>\n",
       "      <th>location</th>\n",
       "      <th>class</th>\n",
       "      <th>segment</th>\n",
       "      <th>sub-class</th>\n",
       "      <th>delivery type</th>\n",
       "    </tr>\n",
       "    <tr>\n",
       "      <th>id</th>\n",
       "      <th></th>\n",
       "      <th></th>\n",
       "      <th></th>\n",
       "      <th></th>\n",
       "      <th></th>\n",
       "      <th></th>\n",
       "      <th></th>\n",
       "      <th></th>\n",
       "    </tr>\n",
       "  </thead>\n",
       "  <tbody>\n",
       "    <tr>\n",
       "      <th>6701</th>\n",
       "      <td>0.0</td>\n",
       "      <td>24.200</td>\n",
       "      <td>5</td>\n",
       "      <td>0</td>\n",
       "      <td>1.0</td>\n",
       "      <td>0</td>\n",
       "      <td>14.0</td>\n",
       "      <td>0</td>\n",
       "    </tr>\n",
       "    <tr>\n",
       "      <th>6702</th>\n",
       "      <td>0.2</td>\n",
       "      <td>359.976</td>\n",
       "      <td>3</td>\n",
       "      <td>0</td>\n",
       "      <td>0.0</td>\n",
       "      <td>0</td>\n",
       "      <td>3.0</td>\n",
       "      <td>0</td>\n",
       "    </tr>\n",
       "    <tr>\n",
       "      <th>6703</th>\n",
       "      <td>0.0</td>\n",
       "      <td>3.520</td>\n",
       "      <td>2</td>\n",
       "      <td>2</td>\n",
       "      <td>1.0</td>\n",
       "      <td>0</td>\n",
       "      <td>14.0</td>\n",
       "      <td>0</td>\n",
       "    </tr>\n",
       "    <tr>\n",
       "      <th>6704</th>\n",
       "      <td>0.2</td>\n",
       "      <td>11.520</td>\n",
       "      <td>5</td>\n",
       "      <td>1</td>\n",
       "      <td>1.0</td>\n",
       "      <td>0</td>\n",
       "      <td>13.0</td>\n",
       "      <td>1</td>\n",
       "    </tr>\n",
       "    <tr>\n",
       "      <th>6705</th>\n",
       "      <td>0.0</td>\n",
       "      <td>242.940</td>\n",
       "      <td>3</td>\n",
       "      <td>0</td>\n",
       "      <td>1.0</td>\n",
       "      <td>2</td>\n",
       "      <td>7.0</td>\n",
       "      <td>0</td>\n",
       "    </tr>\n",
       "    <tr>\n",
       "      <th>...</th>\n",
       "      <td>...</td>\n",
       "      <td>...</td>\n",
       "      <td>...</td>\n",
       "      <td>...</td>\n",
       "      <td>...</td>\n",
       "      <td>...</td>\n",
       "      <td>...</td>\n",
       "      <td>...</td>\n",
       "    </tr>\n",
       "    <tr>\n",
       "      <th>9990</th>\n",
       "      <td>0.0</td>\n",
       "      <td>31.920</td>\n",
       "      <td>4</td>\n",
       "      <td>2</td>\n",
       "      <td>1.0</td>\n",
       "      <td>0</td>\n",
       "      <td>7.0</td>\n",
       "      <td>2</td>\n",
       "    </tr>\n",
       "    <tr>\n",
       "      <th>9991</th>\n",
       "      <td>0.0</td>\n",
       "      <td>19.440</td>\n",
       "      <td>3</td>\n",
       "      <td>2</td>\n",
       "      <td>1.0</td>\n",
       "      <td>0</td>\n",
       "      <td>10.0</td>\n",
       "      <td>2</td>\n",
       "    </tr>\n",
       "    <tr>\n",
       "      <th>9992</th>\n",
       "      <td>0.0</td>\n",
       "      <td>272.940</td>\n",
       "      <td>3</td>\n",
       "      <td>2</td>\n",
       "      <td>1.0</td>\n",
       "      <td>0</td>\n",
       "      <td>7.0</td>\n",
       "      <td>2</td>\n",
       "    </tr>\n",
       "    <tr>\n",
       "      <th>9993</th>\n",
       "      <td>0.2</td>\n",
       "      <td>113.568</td>\n",
       "      <td>2</td>\n",
       "      <td>0</td>\n",
       "      <td>2.0</td>\n",
       "      <td>0</td>\n",
       "      <td>15.0</td>\n",
       "      <td>0</td>\n",
       "    </tr>\n",
       "    <tr>\n",
       "      <th>9994</th>\n",
       "      <td>0.2</td>\n",
       "      <td>3.024</td>\n",
       "      <td>3</td>\n",
       "      <td>0</td>\n",
       "      <td>1.0</td>\n",
       "      <td>0</td>\n",
       "      <td>8.0</td>\n",
       "      <td>0</td>\n",
       "    </tr>\n",
       "  </tbody>\n",
       "</table>\n",
       "<p>3294 rows × 8 columns</p>\n",
       "</div>"
      ],
      "text/plain": [
       "      discount    price  no of items  location  class  segment  sub-class  \\\n",
       "id                                                                          \n",
       "6701       0.0   24.200            5         0    1.0        0       14.0   \n",
       "6702       0.2  359.976            3         0    0.0        0        3.0   \n",
       "6703       0.0    3.520            2         2    1.0        0       14.0   \n",
       "6704       0.2   11.520            5         1    1.0        0       13.0   \n",
       "6705       0.0  242.940            3         0    1.0        2        7.0   \n",
       "...        ...      ...          ...       ...    ...      ...        ...   \n",
       "9990       0.0   31.920            4         2    1.0        0        7.0   \n",
       "9991       0.0   19.440            3         2    1.0        0       10.0   \n",
       "9992       0.0  272.940            3         2    1.0        0        7.0   \n",
       "9993       0.2  113.568            2         0    2.0        0       15.0   \n",
       "9994       0.2    3.024            3         0    1.0        0        8.0   \n",
       "\n",
       "      delivery type  \n",
       "id                   \n",
       "6701              0  \n",
       "6702              0  \n",
       "6703              0  \n",
       "6704              1  \n",
       "6705              0  \n",
       "...             ...  \n",
       "9990              2  \n",
       "9991              2  \n",
       "9992              2  \n",
       "9993              0  \n",
       "9994              0  \n",
       "\n",
       "[3294 rows x 8 columns]"
      ]
     },
     "execution_count": 57,
     "metadata": {},
     "output_type": "execute_result"
    }
   ],
   "source": [
    "test"
   ]
  },
  {
   "cell_type": "code",
   "execution_count": 58,
   "id": "overall-double",
   "metadata": {
    "execution": {
     "iopub.execute_input": "2021-03-21T06:10:31.330177Z",
     "iopub.status.busy": "2021-03-21T06:10:31.329332Z",
     "iopub.status.idle": "2021-03-21T06:10:31.333819Z",
     "shell.execute_reply": "2021-03-21T06:10:31.333178Z"
    },
    "papermill": {
     "duration": 0.092326,
     "end_time": "2021-03-21T06:10:31.333975",
     "exception": false,
     "start_time": "2021-03-21T06:10:31.241649",
     "status": "completed"
    },
    "tags": []
   },
   "outputs": [],
   "source": [
    "prediction = reg.predict(test)"
   ]
  },
  {
   "cell_type": "markdown",
   "id": "choice-turkey",
   "metadata": {
    "papermill": {
     "duration": 0.084207,
     "end_time": "2021-03-21T06:10:31.500182",
     "exception": false,
     "start_time": "2021-03-21T06:10:31.415975",
     "status": "completed"
    },
    "tags": []
   },
   "source": [
    "output = pd.DataFrame({ 'Id' : np.arange(6701,9995), 'Profit': prediction })\n",
    "output.to_csv('submission.csv', index=False)\n",
    "print(\"your submission was succesfull\")"
   ]
  },
  {
   "cell_type": "code",
   "execution_count": 59,
   "id": "private-future",
   "metadata": {
    "execution": {
     "iopub.execute_input": "2021-03-21T06:10:31.665732Z",
     "iopub.status.busy": "2021-03-21T06:10:31.665047Z",
     "iopub.status.idle": "2021-03-21T06:10:31.822092Z",
     "shell.execute_reply": "2021-03-21T06:10:31.822568Z"
    },
    "papermill": {
     "duration": 0.242357,
     "end_time": "2021-03-21T06:10:31.822783",
     "exception": false,
     "start_time": "2021-03-21T06:10:31.580426",
     "status": "completed"
    },
    "tags": []
   },
   "outputs": [],
   "source": [
    "from sklearn.ensemble import RandomForestRegressor"
   ]
  },
  {
   "cell_type": "code",
   "execution_count": 60,
   "id": "graphic-album",
   "metadata": {
    "execution": {
     "iopub.execute_input": "2021-03-21T06:10:31.994545Z",
     "iopub.status.busy": "2021-03-21T06:10:31.993876Z",
     "iopub.status.idle": "2021-03-21T06:10:33.117545Z",
     "shell.execute_reply": "2021-03-21T06:10:33.117959Z"
    },
    "papermill": {
     "duration": 1.212607,
     "end_time": "2021-03-21T06:10:33.118136",
     "exception": false,
     "start_time": "2021-03-21T06:10:31.905529",
     "status": "completed"
    },
    "tags": []
   },
   "outputs": [
    {
     "data": {
      "text/plain": [
       "RandomForestRegressor()"
      ]
     },
     "execution_count": 60,
     "metadata": {},
     "output_type": "execute_result"
    }
   ],
   "source": [
    "rf = RandomForestRegressor()\n",
    "rf.fit(X_train,y_train)"
   ]
  },
  {
   "cell_type": "code",
   "execution_count": 61,
   "id": "intensive-funds",
   "metadata": {
    "execution": {
     "iopub.execute_input": "2021-03-21T06:10:33.289224Z",
     "iopub.status.busy": "2021-03-21T06:10:33.288217Z",
     "iopub.status.idle": "2021-03-21T06:10:33.366309Z",
     "shell.execute_reply": "2021-03-21T06:10:33.365658Z"
    },
    "papermill": {
     "duration": 0.166951,
     "end_time": "2021-03-21T06:10:33.366504",
     "exception": false,
     "start_time": "2021-03-21T06:10:33.199553",
     "status": "completed"
    },
    "tags": []
   },
   "outputs": [],
   "source": [
    "predictn =rf.predict(X_test)"
   ]
  },
  {
   "cell_type": "code",
   "execution_count": 62,
   "id": "superb-cologne",
   "metadata": {
    "execution": {
     "iopub.execute_input": "2021-03-21T06:10:33.550091Z",
     "iopub.status.busy": "2021-03-21T06:10:33.549101Z",
     "iopub.status.idle": "2021-03-21T06:10:33.629644Z",
     "shell.execute_reply": "2021-03-21T06:10:33.630166Z"
    },
    "papermill": {
     "duration": 0.174673,
     "end_time": "2021-03-21T06:10:33.630374",
     "exception": false,
     "start_time": "2021-03-21T06:10:33.455701",
     "status": "completed"
    },
    "tags": []
   },
   "outputs": [
    {
     "data": {
      "text/plain": [
       "0.9371495371115931"
      ]
     },
     "execution_count": 62,
     "metadata": {},
     "output_type": "execute_result"
    }
   ],
   "source": [
    "rf.score(X_train,y_train)"
   ]
  },
  {
   "cell_type": "code",
   "execution_count": 63,
   "id": "great-dynamics",
   "metadata": {
    "execution": {
     "iopub.execute_input": "2021-03-21T06:10:33.802047Z",
     "iopub.status.busy": "2021-03-21T06:10:33.801072Z",
     "iopub.status.idle": "2021-03-21T06:10:33.878096Z",
     "shell.execute_reply": "2021-03-21T06:10:33.878800Z"
    },
    "papermill": {
     "duration": 0.164357,
     "end_time": "2021-03-21T06:10:33.879080",
     "exception": false,
     "start_time": "2021-03-21T06:10:33.714723",
     "status": "completed"
    },
    "tags": []
   },
   "outputs": [],
   "source": [
    "pdct = rf.predict(test)"
   ]
  },
  {
   "cell_type": "code",
   "execution_count": 64,
   "id": "owned-finish",
   "metadata": {
    "execution": {
     "iopub.execute_input": "2021-03-21T06:10:34.055133Z",
     "iopub.status.busy": "2021-03-21T06:10:34.053712Z",
     "iopub.status.idle": "2021-03-21T06:10:34.060836Z",
     "shell.execute_reply": "2021-03-21T06:10:34.060097Z"
    },
    "papermill": {
     "duration": 0.098322,
     "end_time": "2021-03-21T06:10:34.061009",
     "exception": false,
     "start_time": "2021-03-21T06:10:33.962687",
     "status": "completed"
    },
    "tags": []
   },
   "outputs": [
    {
     "data": {
      "text/plain": [
       "array([ 9.343922, 33.199697,  1.098549, ..., 45.359851, -1.134644,\n",
       "        0.756854])"
      ]
     },
     "execution_count": 64,
     "metadata": {},
     "output_type": "execute_result"
    }
   ],
   "source": [
    "pdct"
   ]
  },
  {
   "cell_type": "code",
   "execution_count": null,
   "id": "vanilla-favorite",
   "metadata": {
    "papermill": {
     "duration": 0.081679,
     "end_time": "2021-03-21T06:10:34.230266",
     "exception": false,
     "start_time": "2021-03-21T06:10:34.148587",
     "status": "completed"
    },
    "tags": []
   },
   "outputs": [],
   "source": []
  },
  {
   "cell_type": "code",
   "execution_count": 65,
   "id": "satellite-original",
   "metadata": {
    "execution": {
     "iopub.execute_input": "2021-03-21T06:10:34.409203Z",
     "iopub.status.busy": "2021-03-21T06:10:34.408526Z",
     "iopub.status.idle": "2021-03-21T06:10:34.426047Z",
     "shell.execute_reply": "2021-03-21T06:10:34.426790Z"
    },
    "papermill": {
     "duration": 0.112176,
     "end_time": "2021-03-21T06:10:34.427035",
     "exception": false,
     "start_time": "2021-03-21T06:10:34.314859",
     "status": "completed"
    },
    "tags": []
   },
   "outputs": [
    {
     "name": "stdout",
     "output_type": "stream",
     "text": [
      "your submission was succesfull\n"
     ]
    }
   ],
   "source": [
    "output = pd.DataFrame({ 'Id' : np.arange(6701,9995), 'Profit': pdct })\n",
    "output.to_csv('revenue_predict.csv', index=False)\n",
    "print(\"your submission was succesfull\")"
   ]
  },
  {
   "cell_type": "code",
   "execution_count": 66,
   "id": "dirty-module",
   "metadata": {
    "execution": {
     "iopub.execute_input": "2021-03-21T06:10:34.595059Z",
     "iopub.status.busy": "2021-03-21T06:10:34.594426Z",
     "iopub.status.idle": "2021-03-21T06:10:34.597653Z",
     "shell.execute_reply": "2021-03-21T06:10:34.597053Z"
    },
    "papermill": {
     "duration": 0.089001,
     "end_time": "2021-03-21T06:10:34.597788",
     "exception": false,
     "start_time": "2021-03-21T06:10:34.508787",
     "status": "completed"
    },
    "tags": []
   },
   "outputs": [],
   "source": [
    "from sklearn.linear_model import Lasso"
   ]
  },
  {
   "cell_type": "code",
   "execution_count": 67,
   "id": "operational-curve",
   "metadata": {
    "execution": {
     "iopub.execute_input": "2021-03-21T06:10:34.773310Z",
     "iopub.status.busy": "2021-03-21T06:10:34.770002Z",
     "iopub.status.idle": "2021-03-21T06:10:34.779685Z",
     "shell.execute_reply": "2021-03-21T06:10:34.779043Z"
    },
    "papermill": {
     "duration": 0.098224,
     "end_time": "2021-03-21T06:10:34.779830",
     "exception": false,
     "start_time": "2021-03-21T06:10:34.681606",
     "status": "completed"
    },
    "tags": []
   },
   "outputs": [
    {
     "data": {
      "text/plain": [
       "Lasso()"
      ]
     },
     "execution_count": 67,
     "metadata": {},
     "output_type": "execute_result"
    }
   ],
   "source": [
    "ls = Lasso()\n",
    "ls.fit(X_train,y_train)"
   ]
  },
  {
   "cell_type": "code",
   "execution_count": 68,
   "id": "collected-straight",
   "metadata": {
    "execution": {
     "iopub.execute_input": "2021-03-21T06:10:35.012282Z",
     "iopub.status.busy": "2021-03-21T06:10:35.011658Z",
     "iopub.status.idle": "2021-03-21T06:10:35.015861Z",
     "shell.execute_reply": "2021-03-21T06:10:35.016367Z"
    },
    "papermill": {
     "duration": 0.10233,
     "end_time": "2021-03-21T06:10:35.016548",
     "exception": false,
     "start_time": "2021-03-21T06:10:34.914218",
     "status": "completed"
    },
    "tags": []
   },
   "outputs": [],
   "source": [
    "ls_pred = ls.predict(X_test)"
   ]
  },
  {
   "cell_type": "code",
   "execution_count": 69,
   "id": "broken-radius",
   "metadata": {
    "execution": {
     "iopub.execute_input": "2021-03-21T06:10:35.190097Z",
     "iopub.status.busy": "2021-03-21T06:10:35.189314Z",
     "iopub.status.idle": "2021-03-21T06:10:35.196601Z",
     "shell.execute_reply": "2021-03-21T06:10:35.197103Z"
    },
    "papermill": {
     "duration": 0.094273,
     "end_time": "2021-03-21T06:10:35.197287",
     "exception": false,
     "start_time": "2021-03-21T06:10:35.103014",
     "status": "completed"
    },
    "tags": []
   },
   "outputs": [
    {
     "data": {
      "text/plain": [
       "0.2973308524655198"
      ]
     },
     "execution_count": 69,
     "metadata": {},
     "output_type": "execute_result"
    }
   ],
   "source": [
    "ls.score(X_train,y_train)"
   ]
  },
  {
   "cell_type": "code",
   "execution_count": 70,
   "id": "worthy-london",
   "metadata": {
    "execution": {
     "iopub.execute_input": "2021-03-21T06:10:35.370835Z",
     "iopub.status.busy": "2021-03-21T06:10:35.370172Z",
     "iopub.status.idle": "2021-03-21T06:10:35.373566Z",
     "shell.execute_reply": "2021-03-21T06:10:35.374119Z"
    },
    "papermill": {
     "duration": 0.091924,
     "end_time": "2021-03-21T06:10:35.374310",
     "exception": false,
     "start_time": "2021-03-21T06:10:35.282386",
     "status": "completed"
    },
    "tags": []
   },
   "outputs": [],
   "source": [
    "from sklearn.linear_model import ARDRegression"
   ]
  },
  {
   "cell_type": "code",
   "execution_count": 71,
   "id": "treated-litigation",
   "metadata": {
    "execution": {
     "iopub.execute_input": "2021-03-21T06:10:35.542978Z",
     "iopub.status.busy": "2021-03-21T06:10:35.542308Z",
     "iopub.status.idle": "2021-03-21T06:10:35.570274Z",
     "shell.execute_reply": "2021-03-21T06:10:35.571032Z"
    },
    "papermill": {
     "duration": 0.113458,
     "end_time": "2021-03-21T06:10:35.571326",
     "exception": false,
     "start_time": "2021-03-21T06:10:35.457868",
     "status": "completed"
    },
    "tags": []
   },
   "outputs": [
    {
     "data": {
      "text/plain": [
       "ARDRegression()"
      ]
     },
     "execution_count": 71,
     "metadata": {},
     "output_type": "execute_result"
    }
   ],
   "source": [
    "ard = ARDRegression()\n",
    "ard.fit(X_train,y_train)"
   ]
  },
  {
   "cell_type": "code",
   "execution_count": 72,
   "id": "prospective-victor",
   "metadata": {
    "execution": {
     "iopub.execute_input": "2021-03-21T06:10:35.749742Z",
     "iopub.status.busy": "2021-03-21T06:10:35.748770Z",
     "iopub.status.idle": "2021-03-21T06:10:35.756000Z",
     "shell.execute_reply": "2021-03-21T06:10:35.755385Z"
    },
    "papermill": {
     "duration": 0.095939,
     "end_time": "2021-03-21T06:10:35.756137",
     "exception": false,
     "start_time": "2021-03-21T06:10:35.660198",
     "status": "completed"
    },
    "tags": []
   },
   "outputs": [],
   "source": [
    "ard_pred = ard.predict(X_test)"
   ]
  },
  {
   "cell_type": "code",
   "execution_count": 73,
   "id": "athletic-theology",
   "metadata": {
    "execution": {
     "iopub.execute_input": "2021-03-21T06:10:35.932840Z",
     "iopub.status.busy": "2021-03-21T06:10:35.931873Z",
     "iopub.status.idle": "2021-03-21T06:10:35.938091Z",
     "shell.execute_reply": "2021-03-21T06:10:35.937638Z"
    },
    "papermill": {
     "duration": 0.09495,
     "end_time": "2021-03-21T06:10:35.938225",
     "exception": false,
     "start_time": "2021-03-21T06:10:35.843275",
     "status": "completed"
    },
    "tags": []
   },
   "outputs": [
    {
     "data": {
      "text/plain": [
       "0.29749429858800924"
      ]
     },
     "execution_count": 73,
     "metadata": {},
     "output_type": "execute_result"
    }
   ],
   "source": [
    "ard.score(X_train,y_train)"
   ]
  },
  {
   "cell_type": "code",
   "execution_count": 74,
   "id": "dirty-found",
   "metadata": {
    "execution": {
     "iopub.execute_input": "2021-03-21T06:10:36.115379Z",
     "iopub.status.busy": "2021-03-21T06:10:36.114373Z",
     "iopub.status.idle": "2021-03-21T06:10:36.117899Z",
     "shell.execute_reply": "2021-03-21T06:10:36.117332Z"
    },
    "papermill": {
     "duration": 0.091297,
     "end_time": "2021-03-21T06:10:36.118034",
     "exception": false,
     "start_time": "2021-03-21T06:10:36.026737",
     "status": "completed"
    },
    "tags": []
   },
   "outputs": [],
   "source": [
    "from sklearn.ensemble import ExtraTreesRegressor"
   ]
  },
  {
   "cell_type": "code",
   "execution_count": 75,
   "id": "clinical-virginia",
   "metadata": {
    "execution": {
     "iopub.execute_input": "2021-03-21T06:10:36.301108Z",
     "iopub.status.busy": "2021-03-21T06:10:36.294991Z",
     "iopub.status.idle": "2021-03-21T06:10:37.198602Z",
     "shell.execute_reply": "2021-03-21T06:10:37.198038Z"
    },
    "papermill": {
     "duration": 0.995559,
     "end_time": "2021-03-21T06:10:37.198758",
     "exception": false,
     "start_time": "2021-03-21T06:10:36.203199",
     "status": "completed"
    },
    "tags": []
   },
   "outputs": [
    {
     "data": {
      "text/plain": [
       "array([-22.269468,   7.410168, -14.550232, ...,  49.422593,   3.846213,\n",
       "         1.124153])"
      ]
     },
     "execution_count": 75,
     "metadata": {},
     "output_type": "execute_result"
    }
   ],
   "source": [
    "et = ExtraTreesRegressor()\n",
    "et.fit(X_train,y_train)\n",
    "et.predict(X_test)"
   ]
  },
  {
   "cell_type": "code",
   "execution_count": 76,
   "id": "young-white",
   "metadata": {
    "execution": {
     "iopub.execute_input": "2021-03-21T06:10:37.374302Z",
     "iopub.status.busy": "2021-03-21T06:10:37.373657Z",
     "iopub.status.idle": "2021-03-21T06:10:37.462878Z",
     "shell.execute_reply": "2021-03-21T06:10:37.463307Z"
    },
    "papermill": {
     "duration": 0.180884,
     "end_time": "2021-03-21T06:10:37.463510",
     "exception": false,
     "start_time": "2021-03-21T06:10:37.282626",
     "status": "completed"
    },
    "tags": []
   },
   "outputs": [
    {
     "data": {
      "text/plain": [
       "0.9999985562002011"
      ]
     },
     "execution_count": 76,
     "metadata": {},
     "output_type": "execute_result"
    }
   ],
   "source": [
    "et.score(X_train,y_train)"
   ]
  },
  {
   "cell_type": "code",
   "execution_count": 77,
   "id": "accepting-simulation",
   "metadata": {
    "execution": {
     "iopub.execute_input": "2021-03-21T06:10:37.637112Z",
     "iopub.status.busy": "2021-03-21T06:10:37.636471Z",
     "iopub.status.idle": "2021-03-21T06:10:37.722849Z",
     "shell.execute_reply": "2021-03-21T06:10:37.722178Z"
    },
    "papermill": {
     "duration": 0.173824,
     "end_time": "2021-03-21T06:10:37.722988",
     "exception": false,
     "start_time": "2021-03-21T06:10:37.549164",
     "status": "completed"
    },
    "tags": []
   },
   "outputs": [],
   "source": [
    "et_pred = et.predict(test)"
   ]
  },
  {
   "cell_type": "code",
   "execution_count": 78,
   "id": "facial-edmonton",
   "metadata": {
    "execution": {
     "iopub.execute_input": "2021-03-21T06:10:37.896058Z",
     "iopub.status.busy": "2021-03-21T06:10:37.894925Z",
     "iopub.status.idle": "2021-03-21T06:10:37.899027Z",
     "shell.execute_reply": "2021-03-21T06:10:37.899493Z"
    },
    "papermill": {
     "duration": 0.092872,
     "end_time": "2021-03-21T06:10:37.899666",
     "exception": false,
     "start_time": "2021-03-21T06:10:37.806794",
     "status": "completed"
    },
    "tags": []
   },
   "outputs": [
    {
     "data": {
      "text/plain": [
       "array([  9.586086,  31.722521,   1.03828 , ...,  50.181447, -11.993061,\n",
       "         0.794172])"
      ]
     },
     "execution_count": 78,
     "metadata": {},
     "output_type": "execute_result"
    }
   ],
   "source": [
    "et_pred"
   ]
  },
  {
   "cell_type": "code",
   "execution_count": 79,
   "id": "monthly-membership",
   "metadata": {
    "execution": {
     "iopub.execute_input": "2021-03-21T06:10:38.071144Z",
     "iopub.status.busy": "2021-03-21T06:10:38.070176Z",
     "iopub.status.idle": "2021-03-21T06:10:38.086845Z",
     "shell.execute_reply": "2021-03-21T06:10:38.086211Z"
    },
    "papermill": {
     "duration": 0.103029,
     "end_time": "2021-03-21T06:10:38.086988",
     "exception": false,
     "start_time": "2021-03-21T06:10:37.983959",
     "status": "completed"
    },
    "tags": []
   },
   "outputs": [
    {
     "name": "stdout",
     "output_type": "stream",
     "text": [
      "your submission was succesfull\n"
     ]
    }
   ],
   "source": [
    "output = pd.DataFrame({ 'Id' : np.arange(6701,9995), 'Profit': et_pred })\n",
    "output.to_csv('sub4.csv', index=False)\n",
    "print(\"your submission was succesfull\")"
   ]
  },
  {
   "cell_type": "code",
   "execution_count": 80,
   "id": "mathematical-shell",
   "metadata": {
    "execution": {
     "iopub.execute_input": "2021-03-21T06:10:38.266786Z",
     "iopub.status.busy": "2021-03-21T06:10:38.266116Z",
     "iopub.status.idle": "2021-03-21T06:10:38.268307Z",
     "shell.execute_reply": "2021-03-21T06:10:38.268824Z"
    },
    "papermill": {
     "duration": 0.09577,
     "end_time": "2021-03-21T06:10:38.269022",
     "exception": false,
     "start_time": "2021-03-21T06:10:38.173252",
     "status": "completed"
    },
    "tags": []
   },
   "outputs": [],
   "source": [
    "from sklearn.tree import ExtraTreeRegressor"
   ]
  },
  {
   "cell_type": "code",
   "execution_count": 81,
   "id": "green-praise",
   "metadata": {
    "execution": {
     "iopub.execute_input": "2021-03-21T06:10:38.453043Z",
     "iopub.status.busy": "2021-03-21T06:10:38.447409Z",
     "iopub.status.idle": "2021-03-21T06:10:39.276606Z",
     "shell.execute_reply": "2021-03-21T06:10:39.277062Z"
    },
    "papermill": {
     "duration": 0.922177,
     "end_time": "2021-03-21T06:10:39.277231",
     "exception": false,
     "start_time": "2021-03-21T06:10:38.355054",
     "status": "completed"
    },
    "tags": []
   },
   "outputs": [
    {
     "data": {
      "text/plain": [
       "ExtraTreesRegressor()"
      ]
     },
     "execution_count": 81,
     "metadata": {},
     "output_type": "execute_result"
    }
   ],
   "source": [
    "isf = ExtraTreesRegressor()\n",
    "isf.fit(X_train,y_train)"
   ]
  },
  {
   "cell_type": "code",
   "execution_count": 82,
   "id": "about-singer",
   "metadata": {
    "execution": {
     "iopub.execute_input": "2021-03-21T06:10:39.456126Z",
     "iopub.status.busy": "2021-03-21T06:10:39.455215Z",
     "iopub.status.idle": "2021-03-21T06:10:39.539114Z",
     "shell.execute_reply": "2021-03-21T06:10:39.539597Z"
    },
    "papermill": {
     "duration": 0.176611,
     "end_time": "2021-03-21T06:10:39.539782",
     "exception": false,
     "start_time": "2021-03-21T06:10:39.363171",
     "status": "completed"
    },
    "tags": []
   },
   "outputs": [],
   "source": [
    "isf_predict = isf.predict(X_test)\n"
   ]
  },
  {
   "cell_type": "code",
   "execution_count": 83,
   "id": "ranging-lottery",
   "metadata": {
    "execution": {
     "iopub.execute_input": "2021-03-21T06:10:39.714550Z",
     "iopub.status.busy": "2021-03-21T06:10:39.713583Z",
     "iopub.status.idle": "2021-03-21T06:10:39.814547Z",
     "shell.execute_reply": "2021-03-21T06:10:39.813935Z"
    },
    "papermill": {
     "duration": 0.189386,
     "end_time": "2021-03-21T06:10:39.814693",
     "exception": false,
     "start_time": "2021-03-21T06:10:39.625307",
     "status": "completed"
    },
    "tags": []
   },
   "outputs": [
    {
     "data": {
      "text/plain": [
       "0.9999985562002011"
      ]
     },
     "execution_count": 83,
     "metadata": {},
     "output_type": "execute_result"
    }
   ],
   "source": [
    "isf.score(X_train,y_train)"
   ]
  },
  {
   "cell_type": "code",
   "execution_count": 84,
   "id": "preliminary-blink",
   "metadata": {
    "execution": {
     "iopub.execute_input": "2021-03-21T06:10:40.015228Z",
     "iopub.status.busy": "2021-03-21T06:10:40.014194Z",
     "iopub.status.idle": "2021-03-21T06:10:40.096444Z",
     "shell.execute_reply": "2021-03-21T06:10:40.095801Z"
    },
    "papermill": {
     "duration": 0.175555,
     "end_time": "2021-03-21T06:10:40.096581",
     "exception": false,
     "start_time": "2021-03-21T06:10:39.921026",
     "status": "completed"
    },
    "tags": []
   },
   "outputs": [],
   "source": [
    "isf_predict = isf.predict(test)"
   ]
  },
  {
   "cell_type": "code",
   "execution_count": 85,
   "id": "preliminary-petroleum",
   "metadata": {
    "execution": {
     "iopub.execute_input": "2021-03-21T06:10:40.279830Z",
     "iopub.status.busy": "2021-03-21T06:10:40.272904Z",
     "iopub.status.idle": "2021-03-21T06:10:40.287862Z",
     "shell.execute_reply": "2021-03-21T06:10:40.286877Z"
    },
    "papermill": {
     "duration": 0.10649,
     "end_time": "2021-03-21T06:10:40.288115",
     "exception": false,
     "start_time": "2021-03-21T06:10:40.181625",
     "status": "completed"
    },
    "tags": []
   },
   "outputs": [
    {
     "name": "stdout",
     "output_type": "stream",
     "text": [
      "your submission was succesfull\n"
     ]
    }
   ],
   "source": [
    "output = pd.DataFrame({ 'Id' : np.arange(6701,9995), 'Profit': isf_predict })\n",
    "output.to_csv('sub5.csv', index=False)\n",
    "print(\"your submission was succesfull\")"
   ]
  },
  {
   "cell_type": "code",
   "execution_count": 86,
   "id": "sudden-structure",
   "metadata": {
    "execution": {
     "iopub.execute_input": "2021-03-21T06:10:40.465831Z",
     "iopub.status.busy": "2021-03-21T06:10:40.465192Z",
     "iopub.status.idle": "2021-03-21T06:10:40.479027Z",
     "shell.execute_reply": "2021-03-21T06:10:40.478289Z"
    },
    "papermill": {
     "duration": 0.105596,
     "end_time": "2021-03-21T06:10:40.479188",
     "exception": false,
     "start_time": "2021-03-21T06:10:40.373592",
     "status": "completed"
    },
    "tags": []
   },
   "outputs": [],
   "source": [
    "from sklearn.gaussian_process import GaussianProcessRegressor"
   ]
  },
  {
   "cell_type": "code",
   "execution_count": 87,
   "id": "hydraulic-brooklyn",
   "metadata": {
    "execution": {
     "iopub.execute_input": "2021-03-21T06:10:40.661758Z",
     "iopub.status.busy": "2021-03-21T06:10:40.660822Z",
     "iopub.status.idle": "2021-03-21T06:10:44.047851Z",
     "shell.execute_reply": "2021-03-21T06:10:44.048953Z"
    },
    "papermill": {
     "duration": 3.483952,
     "end_time": "2021-03-21T06:10:44.049231",
     "exception": false,
     "start_time": "2021-03-21T06:10:40.565279",
     "status": "completed"
    },
    "tags": []
   },
   "outputs": [
    {
     "data": {
      "text/plain": [
       "GaussianProcessRegressor()"
      ]
     },
     "execution_count": 87,
     "metadata": {},
     "output_type": "execute_result"
    }
   ],
   "source": [
    "gr = GaussianProcessRegressor()\n",
    "gr.fit(X_train,y_train)"
   ]
  },
  {
   "cell_type": "code",
   "execution_count": 88,
   "id": "logical-prayer",
   "metadata": {
    "execution": {
     "iopub.execute_input": "2021-03-21T06:10:44.233705Z",
     "iopub.status.busy": "2021-03-21T06:10:44.233055Z",
     "iopub.status.idle": "2021-03-21T06:10:44.673211Z",
     "shell.execute_reply": "2021-03-21T06:10:44.673641Z"
    },
    "papermill": {
     "duration": 0.532664,
     "end_time": "2021-03-21T06:10:44.673816",
     "exception": false,
     "start_time": "2021-03-21T06:10:44.141152",
     "status": "completed"
    },
    "tags": []
   },
   "outputs": [
    {
     "data": {
      "text/plain": [
       "array([ -0.59340079,   0.36237718, -11.62055807, ...,   7.56945687,\n",
       "         2.37324911,   1.26695464])"
      ]
     },
     "execution_count": 88,
     "metadata": {},
     "output_type": "execute_result"
    }
   ],
   "source": [
    "gr_predict = gr.predict(X_test)\n",
    "gr_predict"
   ]
  },
  {
   "cell_type": "code",
   "execution_count": 89,
   "id": "iraqi-disclaimer",
   "metadata": {
    "execution": {
     "iopub.execute_input": "2021-03-21T06:10:44.855564Z",
     "iopub.status.busy": "2021-03-21T06:10:44.854917Z",
     "iopub.status.idle": "2021-03-21T06:10:45.274970Z",
     "shell.execute_reply": "2021-03-21T06:10:45.274394Z"
    },
    "papermill": {
     "duration": 0.51364,
     "end_time": "2021-03-21T06:10:45.275125",
     "exception": false,
     "start_time": "2021-03-21T06:10:44.761485",
     "status": "completed"
    },
    "tags": []
   },
   "outputs": [
    {
     "data": {
      "text/plain": [
       "0.9999985562002011"
      ]
     },
     "execution_count": 89,
     "metadata": {},
     "output_type": "execute_result"
    }
   ],
   "source": [
    "gr.score(X_train,y_train)"
   ]
  },
  {
   "cell_type": "code",
   "execution_count": 90,
   "id": "equipped-wrapping",
   "metadata": {
    "execution": {
     "iopub.execute_input": "2021-03-21T06:10:45.457459Z",
     "iopub.status.busy": "2021-03-21T06:10:45.456082Z",
     "iopub.status.idle": "2021-03-21T06:10:45.867507Z",
     "shell.execute_reply": "2021-03-21T06:10:45.866855Z"
    },
    "papermill": {
     "duration": 0.50561,
     "end_time": "2021-03-21T06:10:45.867653",
     "exception": false,
     "start_time": "2021-03-21T06:10:45.362043",
     "status": "completed"
    },
    "tags": []
   },
   "outputs": [
    {
     "data": {
      "text/plain": [
       "array([ 3.47816173,  8.12430931,  1.22951008, ..., -0.40894845,\n",
       "        1.30257126,  0.19325241])"
      ]
     },
     "execution_count": 90,
     "metadata": {},
     "output_type": "execute_result"
    }
   ],
   "source": [
    "gr_predict = gr.predict(test)\n",
    "gr_predict"
   ]
  },
  {
   "cell_type": "code",
   "execution_count": 91,
   "id": "extraordinary-luxembourg",
   "metadata": {
    "execution": {
     "iopub.execute_input": "2021-03-21T06:10:46.052653Z",
     "iopub.status.busy": "2021-03-21T06:10:46.051988Z",
     "iopub.status.idle": "2021-03-21T06:10:46.065834Z",
     "shell.execute_reply": "2021-03-21T06:10:46.066331Z"
    },
    "papermill": {
     "duration": 0.108334,
     "end_time": "2021-03-21T06:10:46.066529",
     "exception": false,
     "start_time": "2021-03-21T06:10:45.958195",
     "status": "completed"
    },
    "tags": []
   },
   "outputs": [
    {
     "name": "stdout",
     "output_type": "stream",
     "text": [
      "your submission was succesfull\n"
     ]
    }
   ],
   "source": [
    "output = pd.DataFrame({ 'Id' : np.arange(6701,9995), 'Profit': gr_predict })\n",
    "output.to_csv('sub6.csv', index=False)\n",
    "print(\"your submission was succesfull\")"
   ]
  },
  {
   "cell_type": "code",
   "execution_count": 92,
   "id": "convenient-floor",
   "metadata": {
    "execution": {
     "iopub.execute_input": "2021-03-21T06:10:46.256478Z",
     "iopub.status.busy": "2021-03-21T06:10:46.255754Z",
     "iopub.status.idle": "2021-03-21T06:10:46.259183Z",
     "shell.execute_reply": "2021-03-21T06:10:46.259625Z"
    },
    "papermill": {
     "duration": 0.101146,
     "end_time": "2021-03-21T06:10:46.259804",
     "exception": false,
     "start_time": "2021-03-21T06:10:46.158658",
     "status": "completed"
    },
    "tags": []
   },
   "outputs": [
    {
     "data": {
      "text/plain": [
       "array([ 3.47816173,  8.12430931,  1.22951008, ..., -0.40894845,\n",
       "        1.30257126,  0.19325241])"
      ]
     },
     "execution_count": 92,
     "metadata": {},
     "output_type": "execute_result"
    }
   ],
   "source": [
    "gr_predict"
   ]
  },
  {
   "cell_type": "code",
   "execution_count": 93,
   "id": "furnished-pleasure",
   "metadata": {
    "execution": {
     "iopub.execute_input": "2021-03-21T06:10:46.442782Z",
     "iopub.status.busy": "2021-03-21T06:10:46.441815Z",
     "iopub.status.idle": "2021-03-21T06:10:47.003870Z",
     "shell.execute_reply": "2021-03-21T06:10:47.004637Z"
    },
    "papermill": {
     "duration": 0.656076,
     "end_time": "2021-03-21T06:10:47.004957",
     "exception": false,
     "start_time": "2021-03-21T06:10:46.348881",
     "status": "completed"
    },
    "tags": []
   },
   "outputs": [
    {
     "data": {
      "text/plain": [
       "XGBRegressor(base_score=0.5, booster='gbtree', colsample_bylevel=1,\n",
       "             colsample_bynode=1, colsample_bytree=1, gamma=0, gpu_id=-1,\n",
       "             importance_type='gain', interaction_constraints='',\n",
       "             learning_rate=0.300000012, max_delta_step=0, max_depth=6,\n",
       "             min_child_weight=1, missing=nan, monotone_constraints='()',\n",
       "             n_estimators=100, n_jobs=4, num_parallel_tree=1, random_state=0,\n",
       "             reg_alpha=0, reg_lambda=1, scale_pos_weight=1, subsample=1,\n",
       "             tree_method='exact', validate_parameters=1, verbosity=None)"
      ]
     },
     "execution_count": 93,
     "metadata": {},
     "output_type": "execute_result"
    }
   ],
   "source": [
    "import xgboost\n",
    "classifier = xgboost.XGBRegressor()\n",
    "classifier.fit(X_train,y_train)"
   ]
  },
  {
   "cell_type": "code",
   "execution_count": 94,
   "id": "worthy-compiler",
   "metadata": {
    "execution": {
     "iopub.execute_input": "2021-03-21T06:10:47.196124Z",
     "iopub.status.busy": "2021-03-21T06:10:47.195412Z",
     "iopub.status.idle": "2021-03-21T06:10:47.198912Z",
     "shell.execute_reply": "2021-03-21T06:10:47.199435Z"
    },
    "papermill": {
     "duration": 0.10365,
     "end_time": "2021-03-21T06:10:47.199644",
     "exception": false,
     "start_time": "2021-03-21T06:10:47.095994",
     "status": "completed"
    },
    "tags": []
   },
   "outputs": [],
   "source": [
    "cl_pred = classifier.predict(X_test)"
   ]
  },
  {
   "cell_type": "code",
   "execution_count": 95,
   "id": "exact-silence",
   "metadata": {
    "execution": {
     "iopub.execute_input": "2021-03-21T06:10:47.387784Z",
     "iopub.status.busy": "2021-03-21T06:10:47.387029Z",
     "iopub.status.idle": "2021-03-21T06:10:47.402122Z",
     "shell.execute_reply": "2021-03-21T06:10:47.401623Z"
    },
    "papermill": {
     "duration": 0.112299,
     "end_time": "2021-03-21T06:10:47.402268",
     "exception": false,
     "start_time": "2021-03-21T06:10:47.289969",
     "status": "completed"
    },
    "tags": []
   },
   "outputs": [
    {
     "data": {
      "text/plain": [
       "0.9989340254337216"
      ]
     },
     "execution_count": 95,
     "metadata": {},
     "output_type": "execute_result"
    }
   ],
   "source": [
    "classifier.score(X_train,y_train)"
   ]
  },
  {
   "cell_type": "code",
   "execution_count": 96,
   "id": "current-fundamentals",
   "metadata": {
    "execution": {
     "iopub.execute_input": "2021-03-21T06:10:47.601461Z",
     "iopub.status.busy": "2021-03-21T06:10:47.600798Z",
     "iopub.status.idle": "2021-03-21T06:10:47.609195Z",
     "shell.execute_reply": "2021-03-21T06:10:47.609670Z"
    },
    "papermill": {
     "duration": 0.117264,
     "end_time": "2021-03-21T06:10:47.609855",
     "exception": false,
     "start_time": "2021-03-21T06:10:47.492591",
     "status": "completed"
    },
    "tags": []
   },
   "outputs": [
    {
     "name": "stdout",
     "output_type": "stream",
     "text": [
      "your submission was succesfull\n"
     ]
    }
   ],
   "source": [
    "output = pd.DataFrame({ 'Id' : np.arange(6701,9995), 'Profit': classifier.predict(test) })\n",
    "output.to_csv('sub7.csv', index=False)\n",
    "print(\"your submission was succesfull\")"
   ]
  },
  {
   "cell_type": "code",
   "execution_count": 97,
   "id": "arabic-mother",
   "metadata": {
    "execution": {
     "iopub.execute_input": "2021-03-21T06:10:47.796285Z",
     "iopub.status.busy": "2021-03-21T06:10:47.795322Z",
     "iopub.status.idle": "2021-03-21T06:10:47.798262Z",
     "shell.execute_reply": "2021-03-21T06:10:47.798784Z"
    },
    "papermill": {
     "duration": 0.098998,
     "end_time": "2021-03-21T06:10:47.798990",
     "exception": false,
     "start_time": "2021-03-21T06:10:47.699992",
     "status": "completed"
    },
    "tags": []
   },
   "outputs": [],
   "source": [
    "from sklearn.metrics import accuracy_score"
   ]
  },
  {
   "cell_type": "code",
   "execution_count": 98,
   "id": "permanent-order",
   "metadata": {
    "execution": {
     "iopub.execute_input": "2021-03-21T06:10:47.984070Z",
     "iopub.status.busy": "2021-03-21T06:10:47.983109Z",
     "iopub.status.idle": "2021-03-21T06:10:47.988355Z",
     "shell.execute_reply": "2021-03-21T06:10:47.987863Z"
    },
    "papermill": {
     "duration": 0.098047,
     "end_time": "2021-03-21T06:10:47.988500",
     "exception": false,
     "start_time": "2021-03-21T06:10:47.890453",
     "status": "completed"
    },
    "tags": []
   },
   "outputs": [],
   "source": [
    "from sklearn.ensemble import AdaBoostRegressor"
   ]
  },
  {
   "cell_type": "code",
   "execution_count": 99,
   "id": "middle-syndication",
   "metadata": {
    "execution": {
     "iopub.execute_input": "2021-03-21T06:10:48.176779Z",
     "iopub.status.busy": "2021-03-21T06:10:48.175933Z",
     "iopub.status.idle": "2021-03-21T06:10:48.289255Z",
     "shell.execute_reply": "2021-03-21T06:10:48.289746Z"
    },
    "papermill": {
     "duration": 0.209996,
     "end_time": "2021-03-21T06:10:48.290019",
     "exception": false,
     "start_time": "2021-03-21T06:10:48.080023",
     "status": "completed"
    },
    "tags": []
   },
   "outputs": [
    {
     "data": {
      "text/plain": [
       "AdaBoostRegressor()"
      ]
     },
     "execution_count": 99,
     "metadata": {},
     "output_type": "execute_result"
    }
   ],
   "source": [
    "ad = AdaBoostRegressor()\n",
    "ad.fit(X_train,y_train)"
   ]
  },
  {
   "cell_type": "code",
   "execution_count": 100,
   "id": "external-deposit",
   "metadata": {
    "execution": {
     "iopub.execute_input": "2021-03-21T06:10:48.477723Z",
     "iopub.status.busy": "2021-03-21T06:10:48.476742Z",
     "iopub.status.idle": "2021-03-21T06:10:48.488906Z",
     "shell.execute_reply": "2021-03-21T06:10:48.488306Z"
    },
    "papermill": {
     "duration": 0.108808,
     "end_time": "2021-03-21T06:10:48.489047",
     "exception": false,
     "start_time": "2021-03-21T06:10:48.380239",
     "status": "completed"
    },
    "tags": []
   },
   "outputs": [
    {
     "data": {
      "text/plain": [
       "array([  60.05578359,   71.89615257, -107.26126393, ...,   60.05578359,\n",
       "         71.89615257,   71.89615257])"
      ]
     },
     "execution_count": 100,
     "metadata": {},
     "output_type": "execute_result"
    }
   ],
   "source": [
    "ad.predict(X_test)"
   ]
  },
  {
   "cell_type": "code",
   "execution_count": 101,
   "id": "attempted-longer",
   "metadata": {
    "execution": {
     "iopub.execute_input": "2021-03-21T06:10:48.678246Z",
     "iopub.status.busy": "2021-03-21T06:10:48.677095Z",
     "iopub.status.idle": "2021-03-21T06:10:48.689922Z",
     "shell.execute_reply": "2021-03-21T06:10:48.689427Z"
    },
    "papermill": {
     "duration": 0.109432,
     "end_time": "2021-03-21T06:10:48.690068",
     "exception": false,
     "start_time": "2021-03-21T06:10:48.580636",
     "status": "completed"
    },
    "tags": []
   },
   "outputs": [
    {
     "data": {
      "text/plain": [
       "0.8525204883507204"
      ]
     },
     "execution_count": 101,
     "metadata": {},
     "output_type": "execute_result"
    }
   ],
   "source": [
    "ad.score(X_train,y_train)"
   ]
  }
 ],
 "metadata": {
  "kernelspec": {
   "display_name": "Python 3",
   "language": "python",
   "name": "python3"
  },
  "language_info": {
   "codemirror_mode": {
    "name": "ipython",
    "version": 3
   },
   "file_extension": ".py",
   "mimetype": "text/x-python",
   "name": "python",
   "nbconvert_exporter": "python",
   "pygments_lexer": "ipython3",
   "version": "3.7.9"
  },
  "papermill": {
   "default_parameters": {},
   "duration": 40.183475,
   "end_time": "2021-03-21T06:10:49.591157",
   "environment_variables": {},
   "exception": null,
   "input_path": "__notebook__.ipynb",
   "output_path": "__notebook__.ipynb",
   "parameters": {},
   "start_time": "2021-03-21T06:10:09.407682",
   "version": "2.3.2"
  }
 },
 "nbformat": 4,
 "nbformat_minor": 5
}
