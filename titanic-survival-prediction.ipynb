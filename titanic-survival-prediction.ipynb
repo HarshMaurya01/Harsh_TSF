{
 "cells": [
  {
   "cell_type": "code",
   "execution_count": 1,
   "id": "charitable-compensation",
   "metadata": {
    "_cell_guid": "b1076dfc-b9ad-4769-8c92-a6c4dae69d19",
    "_uuid": "8f2839f25d086af736a60e9eeb907d3b93b6e0e5",
    "execution": {
     "iopub.execute_input": "2021-05-19T21:27:39.873722Z",
     "iopub.status.busy": "2021-05-19T21:27:39.872979Z",
     "iopub.status.idle": "2021-05-19T21:27:39.878753Z",
     "shell.execute_reply": "2021-05-19T21:27:39.877751Z",
     "shell.execute_reply.started": "2021-05-19T21:17:57.373212Z"
    },
    "papermill": {
     "duration": 0.057793,
     "end_time": "2021-05-19T21:27:39.879002",
     "exception": false,
     "start_time": "2021-05-19T21:27:39.821209",
     "status": "completed"
    },
    "tags": []
   },
   "outputs": [
    {
     "name": "stdout",
     "output_type": "stream",
     "text": [
      "/kaggle/input/titanic/train.csv\n",
      "/kaggle/input/titanic/test.csv\n",
      "/kaggle/input/titanic/gender_submission.csv\n"
     ]
    }
   ],
   "source": [
    "# This Python 3 environment comes with many helpful analytics libraries installed\n",
    "# It is defined by the kaggle/python Docker image: https://github.com/kaggle/docker-python\n",
    "# For example, here's several helpful packages to load\n",
    "\n",
    "import numpy as np # linear algebra\n",
    "import pandas as pd # data processing, CSV file I/O (e.g. pd.read_csv)\n",
    "\n",
    "# Input data files are available in the read-only \"../input/\" directory\n",
    "# For example, running this (by clicking run or pressing Shift+Enter) will list all files under the input directory\n",
    "\n",
    "import os\n",
    "for dirname, _, filenames in os.walk('/kaggle/input'):\n",
    "    for filename in filenames:\n",
    "        print(os.path.join(dirname, filename))\n",
    "\n",
    "# You can write up to 20GB to the current directory (/kaggle/working/) that gets preserved as output when you create a version using \"Save & Run All\" \n",
    "# You can also write temporary files to /kaggle/temp/, but they won't be saved outside of the current session"
   ]
  },
  {
   "cell_type": "code",
   "execution_count": 2,
   "id": "expressed-reservation",
   "metadata": {
    "execution": {
     "iopub.execute_input": "2021-05-19T21:27:39.968725Z",
     "iopub.status.busy": "2021-05-19T21:27:39.967934Z",
     "iopub.status.idle": "2021-05-19T21:27:41.952720Z",
     "shell.execute_reply": "2021-05-19T21:27:41.953279Z",
     "shell.execute_reply.started": "2021-05-19T21:17:59.788113Z"
    },
    "papermill": {
     "duration": 2.031968,
     "end_time": "2021-05-19T21:27:41.953477",
     "exception": false,
     "start_time": "2021-05-19T21:27:39.921509",
     "status": "completed"
    },
    "tags": []
   },
   "outputs": [],
   "source": [
    "import numpy as np\n",
    "import pandas as pd\n",
    "import matplotlib.pyplot as plt \n",
    "import statsmodels.api as sm\n",
    "import seaborn as sns\n",
    "%matplotlib inline"
   ]
  },
  {
   "cell_type": "code",
   "execution_count": 3,
   "id": "lucky-weather",
   "metadata": {
    "execution": {
     "iopub.execute_input": "2021-05-19T21:27:42.039625Z",
     "iopub.status.busy": "2021-05-19T21:27:42.038905Z",
     "iopub.status.idle": "2021-05-19T21:27:42.076155Z",
     "shell.execute_reply": "2021-05-19T21:27:42.076696Z",
     "shell.execute_reply.started": "2021-05-19T21:18:02.030593Z"
    },
    "papermill": {
     "duration": 0.083037,
     "end_time": "2021-05-19T21:27:42.076880",
     "exception": false,
     "start_time": "2021-05-19T21:27:41.993843",
     "status": "completed"
    },
    "tags": []
   },
   "outputs": [],
   "source": [
    "df_train = pd.read_csv('../input/titanic/train.csv')\n",
    "df_test = pd.read_csv('../input/titanic/test.csv')"
   ]
  },
  {
   "cell_type": "code",
   "execution_count": 4,
   "id": "official-harrison",
   "metadata": {
    "execution": {
     "iopub.execute_input": "2021-05-19T21:27:42.167062Z",
     "iopub.status.busy": "2021-05-19T21:27:42.166452Z",
     "iopub.status.idle": "2021-05-19T21:27:42.200416Z",
     "shell.execute_reply": "2021-05-19T21:27:42.200894Z",
     "shell.execute_reply.started": "2021-05-19T20:39:38.197164Z"
    },
    "papermill": {
     "duration": 0.079477,
     "end_time": "2021-05-19T21:27:42.201070",
     "exception": false,
     "start_time": "2021-05-19T21:27:42.121593",
     "status": "completed"
    },
    "tags": []
   },
   "outputs": [
    {
     "data": {
      "text/html": [
       "<div>\n",
       "<style scoped>\n",
       "    .dataframe tbody tr th:only-of-type {\n",
       "        vertical-align: middle;\n",
       "    }\n",
       "\n",
       "    .dataframe tbody tr th {\n",
       "        vertical-align: top;\n",
       "    }\n",
       "\n",
       "    .dataframe thead th {\n",
       "        text-align: right;\n",
       "    }\n",
       "</style>\n",
       "<table border=\"1\" class=\"dataframe\">\n",
       "  <thead>\n",
       "    <tr style=\"text-align: right;\">\n",
       "      <th></th>\n",
       "      <th>PassengerId</th>\n",
       "      <th>Survived</th>\n",
       "      <th>Pclass</th>\n",
       "      <th>Name</th>\n",
       "      <th>Sex</th>\n",
       "      <th>Age</th>\n",
       "      <th>SibSp</th>\n",
       "      <th>Parch</th>\n",
       "      <th>Ticket</th>\n",
       "      <th>Fare</th>\n",
       "      <th>Cabin</th>\n",
       "      <th>Embarked</th>\n",
       "    </tr>\n",
       "  </thead>\n",
       "  <tbody>\n",
       "    <tr>\n",
       "      <th>0</th>\n",
       "      <td>1</td>\n",
       "      <td>0</td>\n",
       "      <td>3</td>\n",
       "      <td>Braund, Mr. Owen Harris</td>\n",
       "      <td>male</td>\n",
       "      <td>22.0</td>\n",
       "      <td>1</td>\n",
       "      <td>0</td>\n",
       "      <td>A/5 21171</td>\n",
       "      <td>7.2500</td>\n",
       "      <td>NaN</td>\n",
       "      <td>S</td>\n",
       "    </tr>\n",
       "    <tr>\n",
       "      <th>1</th>\n",
       "      <td>2</td>\n",
       "      <td>1</td>\n",
       "      <td>1</td>\n",
       "      <td>Cumings, Mrs. John Bradley (Florence Briggs Th...</td>\n",
       "      <td>female</td>\n",
       "      <td>38.0</td>\n",
       "      <td>1</td>\n",
       "      <td>0</td>\n",
       "      <td>PC 17599</td>\n",
       "      <td>71.2833</td>\n",
       "      <td>C85</td>\n",
       "      <td>C</td>\n",
       "    </tr>\n",
       "    <tr>\n",
       "      <th>2</th>\n",
       "      <td>3</td>\n",
       "      <td>1</td>\n",
       "      <td>3</td>\n",
       "      <td>Heikkinen, Miss. Laina</td>\n",
       "      <td>female</td>\n",
       "      <td>26.0</td>\n",
       "      <td>0</td>\n",
       "      <td>0</td>\n",
       "      <td>STON/O2. 3101282</td>\n",
       "      <td>7.9250</td>\n",
       "      <td>NaN</td>\n",
       "      <td>S</td>\n",
       "    </tr>\n",
       "    <tr>\n",
       "      <th>3</th>\n",
       "      <td>4</td>\n",
       "      <td>1</td>\n",
       "      <td>1</td>\n",
       "      <td>Futrelle, Mrs. Jacques Heath (Lily May Peel)</td>\n",
       "      <td>female</td>\n",
       "      <td>35.0</td>\n",
       "      <td>1</td>\n",
       "      <td>0</td>\n",
       "      <td>113803</td>\n",
       "      <td>53.1000</td>\n",
       "      <td>C123</td>\n",
       "      <td>S</td>\n",
       "    </tr>\n",
       "    <tr>\n",
       "      <th>4</th>\n",
       "      <td>5</td>\n",
       "      <td>0</td>\n",
       "      <td>3</td>\n",
       "      <td>Allen, Mr. William Henry</td>\n",
       "      <td>male</td>\n",
       "      <td>35.0</td>\n",
       "      <td>0</td>\n",
       "      <td>0</td>\n",
       "      <td>373450</td>\n",
       "      <td>8.0500</td>\n",
       "      <td>NaN</td>\n",
       "      <td>S</td>\n",
       "    </tr>\n",
       "  </tbody>\n",
       "</table>\n",
       "</div>"
      ],
      "text/plain": [
       "   PassengerId  Survived  Pclass  \\\n",
       "0            1         0       3   \n",
       "1            2         1       1   \n",
       "2            3         1       3   \n",
       "3            4         1       1   \n",
       "4            5         0       3   \n",
       "\n",
       "                                                Name     Sex   Age  SibSp  \\\n",
       "0                            Braund, Mr. Owen Harris    male  22.0      1   \n",
       "1  Cumings, Mrs. John Bradley (Florence Briggs Th...  female  38.0      1   \n",
       "2                             Heikkinen, Miss. Laina  female  26.0      0   \n",
       "3       Futrelle, Mrs. Jacques Heath (Lily May Peel)  female  35.0      1   \n",
       "4                           Allen, Mr. William Henry    male  35.0      0   \n",
       "\n",
       "   Parch            Ticket     Fare Cabin Embarked  \n",
       "0      0         A/5 21171   7.2500   NaN        S  \n",
       "1      0          PC 17599  71.2833   C85        C  \n",
       "2      0  STON/O2. 3101282   7.9250   NaN        S  \n",
       "3      0            113803  53.1000  C123        S  \n",
       "4      0            373450   8.0500   NaN        S  "
      ]
     },
     "execution_count": 4,
     "metadata": {},
     "output_type": "execute_result"
    }
   ],
   "source": [
    "df_train.head(5)"
   ]
  },
  {
   "cell_type": "code",
   "execution_count": 5,
   "id": "governing-level",
   "metadata": {
    "execution": {
     "iopub.execute_input": "2021-05-19T21:27:42.287460Z",
     "iopub.status.busy": "2021-05-19T21:27:42.286832Z",
     "iopub.status.idle": "2021-05-19T21:27:42.294209Z",
     "shell.execute_reply": "2021-05-19T21:27:42.294723Z",
     "shell.execute_reply.started": "2021-05-19T21:18:05.309648Z"
    },
    "papermill": {
     "duration": 0.051904,
     "end_time": "2021-05-19T21:27:42.294891",
     "exception": false,
     "start_time": "2021-05-19T21:27:42.242987",
     "status": "completed"
    },
    "tags": []
   },
   "outputs": [],
   "source": [
    "df_train = df_train.drop(['PassengerId','Name'], axis=1)\n",
    "df_test = df_test.drop(['PassengerId','Name'], axis=1)"
   ]
  },
  {
   "cell_type": "code",
   "execution_count": 6,
   "id": "furnished-imaging",
   "metadata": {
    "execution": {
     "iopub.execute_input": "2021-05-19T21:27:42.391683Z",
     "iopub.status.busy": "2021-05-19T21:27:42.390925Z",
     "iopub.status.idle": "2021-05-19T21:27:42.403870Z",
     "shell.execute_reply": "2021-05-19T21:27:42.404557Z",
     "shell.execute_reply.started": "2021-05-19T20:39:38.230896Z"
    },
    "papermill": {
     "duration": 0.067752,
     "end_time": "2021-05-19T21:27:42.404824",
     "exception": false,
     "start_time": "2021-05-19T21:27:42.337072",
     "status": "completed"
    },
    "tags": []
   },
   "outputs": [
    {
     "name": "stdout",
     "output_type": "stream",
     "text": [
      "<class 'pandas.core.frame.DataFrame'>\n",
      "RangeIndex: 891 entries, 0 to 890\n",
      "Data columns (total 10 columns):\n",
      " #   Column    Non-Null Count  Dtype  \n",
      "---  ------    --------------  -----  \n",
      " 0   Survived  891 non-null    int64  \n",
      " 1   Pclass    891 non-null    int64  \n",
      " 2   Sex       891 non-null    object \n",
      " 3   Age       714 non-null    float64\n",
      " 4   SibSp     891 non-null    int64  \n",
      " 5   Parch     891 non-null    int64  \n",
      " 6   Ticket    891 non-null    object \n",
      " 7   Fare      891 non-null    float64\n",
      " 8   Cabin     204 non-null    object \n",
      " 9   Embarked  889 non-null    object \n",
      "dtypes: float64(2), int64(4), object(4)\n",
      "memory usage: 69.7+ KB\n"
     ]
    }
   ],
   "source": [
    "df_train.info()"
   ]
  },
  {
   "cell_type": "code",
   "execution_count": 7,
   "id": "destroyed-youth",
   "metadata": {
    "execution": {
     "iopub.execute_input": "2021-05-19T21:27:42.493283Z",
     "iopub.status.busy": "2021-05-19T21:27:42.492363Z",
     "iopub.status.idle": "2021-05-19T21:27:42.502046Z",
     "shell.execute_reply": "2021-05-19T21:27:42.501522Z",
     "shell.execute_reply.started": "2021-05-19T20:39:38.256676Z"
    },
    "papermill": {
     "duration": 0.053916,
     "end_time": "2021-05-19T21:27:42.502199",
     "exception": false,
     "start_time": "2021-05-19T21:27:42.448283",
     "status": "completed"
    },
    "tags": []
   },
   "outputs": [
    {
     "data": {
      "text/plain": [
       "Survived      0\n",
       "Pclass        0\n",
       "Sex           0\n",
       "Age         177\n",
       "SibSp         0\n",
       "Parch         0\n",
       "Ticket        0\n",
       "Fare          0\n",
       "Cabin       687\n",
       "Embarked      2\n",
       "dtype: int64"
      ]
     },
     "execution_count": 7,
     "metadata": {},
     "output_type": "execute_result"
    }
   ],
   "source": [
    "df_train.isnull().sum()"
   ]
  },
  {
   "cell_type": "code",
   "execution_count": 8,
   "id": "brazilian-canal",
   "metadata": {
    "execution": {
     "iopub.execute_input": "2021-05-19T21:27:42.593999Z",
     "iopub.status.busy": "2021-05-19T21:27:42.593073Z",
     "iopub.status.idle": "2021-05-19T21:27:42.597310Z",
     "shell.execute_reply": "2021-05-19T21:27:42.597851Z",
     "shell.execute_reply.started": "2021-05-19T20:39:38.268341Z"
    },
    "papermill": {
     "duration": 0.054257,
     "end_time": "2021-05-19T21:27:42.598038",
     "exception": false,
     "start_time": "2021-05-19T21:27:42.543781",
     "status": "completed"
    },
    "tags": []
   },
   "outputs": [],
   "source": [
    "df_train['Age'] = df_train.fillna(df_train['Age'].mean(), axis=0)"
   ]
  },
  {
   "cell_type": "code",
   "execution_count": 9,
   "id": "regular-ladder",
   "metadata": {
    "execution": {
     "iopub.execute_input": "2021-05-19T21:27:42.687758Z",
     "iopub.status.busy": "2021-05-19T21:27:42.686299Z",
     "iopub.status.idle": "2021-05-19T21:27:42.690809Z",
     "shell.execute_reply": "2021-05-19T21:27:42.690328Z",
     "shell.execute_reply.started": "2021-05-19T20:39:38.285993Z"
    },
    "papermill": {
     "duration": 0.050915,
     "end_time": "2021-05-19T21:27:42.690946",
     "exception": false,
     "start_time": "2021-05-19T21:27:42.640031",
     "status": "completed"
    },
    "tags": []
   },
   "outputs": [],
   "source": [
    "df_train = df_train.drop('Cabin',axis=1)"
   ]
  },
  {
   "cell_type": "code",
   "execution_count": 10,
   "id": "experienced-marathon",
   "metadata": {
    "execution": {
     "iopub.execute_input": "2021-05-19T21:27:42.780597Z",
     "iopub.status.busy": "2021-05-19T21:27:42.779625Z",
     "iopub.status.idle": "2021-05-19T21:27:42.950356Z",
     "shell.execute_reply": "2021-05-19T21:27:42.951079Z",
     "shell.execute_reply.started": "2021-05-19T21:18:11.361427Z"
    },
    "papermill": {
     "duration": 0.217808,
     "end_time": "2021-05-19T21:27:42.951331",
     "exception": false,
     "start_time": "2021-05-19T21:27:42.733523",
     "status": "completed"
    },
    "tags": []
   },
   "outputs": [
    {
     "name": "stderr",
     "output_type": "stream",
     "text": [
      "/opt/conda/lib/python3.7/site-packages/seaborn/_decorators.py:43: FutureWarning: Pass the following variable as a keyword arg: x. From version 0.12, the only valid positional argument will be `data`, and passing other arguments without an explicit keyword will result in an error or misinterpretation.\n",
      "  FutureWarning\n"
     ]
    },
    {
     "data": {
      "image/png": "[encoded data removed]",
      "text/plain": [
       "<Figure size 432x288 with 1 Axes>"
      ]
     },
     "metadata": {
      "needs_background": "light"
     },
     "output_type": "display_data"
    }
   ],
   "source": [
    "sns.countplot(df_train['Embarked'])\n",
    "df_train['Embarked'] = df_train['Embarked'].fillna('S',axis=0)"
   ]
  },
  {
   "cell_type": "code",
   "execution_count": 11,
   "id": "associate-drilling",
   "metadata": {
    "execution": {
     "iopub.execute_input": "2021-05-19T21:27:43.055169Z",
     "iopub.status.busy": "2021-05-19T21:27:43.054211Z",
     "iopub.status.idle": "2021-05-19T21:27:50.240249Z",
     "shell.execute_reply": "2021-05-19T21:27:50.240751Z",
     "shell.execute_reply.started": "2021-05-19T21:18:15.534616Z"
    },
    "papermill": {
     "duration": 7.237539,
     "end_time": "2021-05-19T21:27:50.240924",
     "exception": false,
     "start_time": "2021-05-19T21:27:43.003385",
     "status": "completed"
    },
    "tags": []
   },
   "outputs": [
    {
     "data": {
      "text/plain": [
       "<seaborn.axisgrid.PairGrid at 0x7f2ace237050>"
      ]
     },
     "execution_count": 11,
     "metadata": {},
     "output_type": "execute_result"
    },
    {
     "data": {
      "image/png": "[encoded data removed]",
      "text/plain": [
       "<Figure size 1080x1080 with 42 Axes>"
      ]
     },
     "metadata": {
      "needs_background": "light"
     },
     "output_type": "display_data"
    }
   ],
   "source": [
    "sns.pairplot(df_train)"
   ]
  },
  {
   "cell_type": "code",
   "execution_count": 12,
   "id": "stainless-electric",
   "metadata": {
    "execution": {
     "iopub.execute_input": "2021-05-19T21:27:50.346537Z",
     "iopub.status.busy": "2021-05-19T21:27:50.343645Z",
     "iopub.status.idle": "2021-05-19T21:27:50.600771Z",
     "shell.execute_reply": "2021-05-19T21:27:50.600120Z",
     "shell.execute_reply.started": "2021-05-19T21:18:24.046565Z"
    },
    "papermill": {
     "duration": 0.313213,
     "end_time": "2021-05-19T21:27:50.600907",
     "exception": false,
     "start_time": "2021-05-19T21:27:50.287694",
     "status": "completed"
    },
    "tags": []
   },
   "outputs": [
    {
     "name": "stderr",
     "output_type": "stream",
     "text": [
      "/opt/conda/lib/python3.7/site-packages/seaborn/_decorators.py:43: FutureWarning: Pass the following variables as keyword args: x, y. From version 0.12, the only valid positional argument will be `data`, and passing other arguments without an explicit keyword will result in an error or misinterpretation.\n",
      "  FutureWarning\n"
     ]
    },
    {
     "data": {
      "text/plain": [
       "<AxesSubplot:xlabel='Pclass', ylabel='Fare'>"
      ]
     },
     "execution_count": 12,
     "metadata": {},
     "output_type": "execute_result"
    },
    {
     "data": {
      "image/png": "[encoded data removed]",
      "text/plain": [
       "<Figure size 432x288 with 1 Axes>"
      ]
     },
     "metadata": {
      "needs_background": "light"
     },
     "output_type": "display_data"
    }
   ],
   "source": [
    "# ax, fig = plt.subplots(1,2)\n",
    "sns.boxplot(df_train['Pclass'],df_train['Fare'], data= df_train,hue= df_train['Survived'])\n"
   ]
  },
  {
   "cell_type": "code",
   "execution_count": 13,
   "id": "every-large",
   "metadata": {
    "execution": {
     "iopub.execute_input": "2021-05-19T21:27:50.707551Z",
     "iopub.status.busy": "2021-05-19T21:27:50.706694Z",
     "iopub.status.idle": "2021-05-19T21:27:50.964073Z",
     "shell.execute_reply": "2021-05-19T21:27:50.963534Z",
     "shell.execute_reply.started": "2021-05-19T21:18:24.310067Z"
    },
    "papermill": {
     "duration": 0.315248,
     "end_time": "2021-05-19T21:27:50.964250",
     "exception": false,
     "start_time": "2021-05-19T21:27:50.649002",
     "status": "completed"
    },
    "tags": []
   },
   "outputs": [
    {
     "name": "stderr",
     "output_type": "stream",
     "text": [
      "/opt/conda/lib/python3.7/site-packages/seaborn/_decorators.py:43: FutureWarning: Pass the following variables as keyword args: x, y. From version 0.12, the only valid positional argument will be `data`, and passing other arguments without an explicit keyword will result in an error or misinterpretation.\n",
      "  FutureWarning\n"
     ]
    },
    {
     "data": {
      "text/plain": [
       "<AxesSubplot:xlabel='Pclass', ylabel='Fare'>"
      ]
     },
     "execution_count": 13,
     "metadata": {},
     "output_type": "execute_result"
    },
    {
     "data": {
      "image/png": "[encoded data removed]",
      "text/plain": [
       "<Figure size 432x288 with 1 Axes>"
      ]
     },
     "metadata": {
      "needs_background": "light"
     },
     "output_type": "display_data"
    }
   ],
   "source": [
    "sns.boxplot(df_train['Pclass'],df_train['Fare'], data= df_train,hue= df_train['Sex'])"
   ]
  },
  {
   "cell_type": "code",
   "execution_count": 14,
   "id": "falling-theta",
   "metadata": {
    "execution": {
     "iopub.execute_input": "2021-05-19T21:27:51.072503Z",
     "iopub.status.busy": "2021-05-19T21:27:51.071507Z",
     "iopub.status.idle": "2021-05-19T21:27:51.524932Z",
     "shell.execute_reply": "2021-05-19T21:27:51.524264Z",
     "shell.execute_reply.started": "2021-05-19T21:18:24.588219Z"
    },
    "papermill": {
     "duration": 0.511938,
     "end_time": "2021-05-19T21:27:51.525089",
     "exception": false,
     "start_time": "2021-05-19T21:27:51.013151",
     "status": "completed"
    },
    "tags": []
   },
   "outputs": [
    {
     "name": "stderr",
     "output_type": "stream",
     "text": [
      "/opt/conda/lib/python3.7/site-packages/seaborn/_decorators.py:43: FutureWarning: Pass the following variables as keyword args: x, y. From version 0.12, the only valid positional argument will be `data`, and passing other arguments without an explicit keyword will result in an error or misinterpretation.\n",
      "  FutureWarning\n"
     ]
    },
    {
     "data": {
      "text/plain": [
       "<AxesSubplot:xlabel='SibSp', ylabel='Fare'>"
      ]
     },
     "execution_count": 14,
     "metadata": {},
     "output_type": "execute_result"
    },
    {
     "data": {
      "image/png": "[encoded data removed]",
      "text/plain": [
       "<Figure size 432x288 with 1 Axes>"
      ]
     },
     "metadata": {
      "needs_background": "light"
     },
     "output_type": "display_data"
    }
   ],
   "source": [
    "sns.violinplot(df_train['SibSp'],df_train['Fare'], hue = df_train['Embarked'],data = df_train)"
   ]
  },
  {
   "cell_type": "code",
   "execution_count": 15,
   "id": "obvious-yield",
   "metadata": {
    "execution": {
     "iopub.execute_input": "2021-05-19T21:27:51.636848Z",
     "iopub.status.busy": "2021-05-19T21:27:51.635116Z",
     "iopub.status.idle": "2021-05-19T21:27:51.771901Z",
     "shell.execute_reply": "2021-05-19T21:27:51.771369Z",
     "shell.execute_reply.started": "2021-05-19T21:19:27.142052Z"
    },
    "papermill": {
     "duration": 0.196564,
     "end_time": "2021-05-19T21:27:51.772056",
     "exception": false,
     "start_time": "2021-05-19T21:27:51.575492",
     "status": "completed"
    },
    "tags": []
   },
   "outputs": [
    {
     "name": "stderr",
     "output_type": "stream",
     "text": [
      "/opt/conda/lib/python3.7/site-packages/seaborn/_decorators.py:43: FutureWarning: Pass the following variable as a keyword arg: x. From version 0.12, the only valid positional argument will be `data`, and passing other arguments without an explicit keyword will result in an error or misinterpretation.\n",
      "  FutureWarning\n"
     ]
    },
    {
     "data": {
      "text/plain": [
       "<AxesSubplot:xlabel='Survived', ylabel='count'>"
      ]
     },
     "execution_count": 15,
     "metadata": {},
     "output_type": "execute_result"
    },
    {
     "data": {
      "image/png": "[encoded data removed]",
      "text/plain": [
       "<Figure size 432x288 with 1 Axes>"
      ]
     },
     "metadata": {
      "needs_background": "light"
     },
     "output_type": "display_data"
    }
   ],
   "source": [
    "sns.countplot(df_train['Survived'],hue='Sex',data=df_train)"
   ]
  },
  {
   "cell_type": "code",
   "execution_count": 16,
   "id": "failing-excitement",
   "metadata": {
    "execution": {
     "iopub.execute_input": "2021-05-19T21:27:51.885754Z",
     "iopub.status.busy": "2021-05-19T21:27:51.884264Z",
     "iopub.status.idle": "2021-05-19T21:27:52.054801Z",
     "shell.execute_reply": "2021-05-19T21:27:52.054134Z",
     "shell.execute_reply.started": "2021-05-19T21:20:49.251371Z"
    },
    "papermill": {
     "duration": 0.23066,
     "end_time": "2021-05-19T21:27:52.054941",
     "exception": false,
     "start_time": "2021-05-19T21:27:51.824281",
     "status": "completed"
    },
    "tags": []
   },
   "outputs": [
    {
     "name": "stderr",
     "output_type": "stream",
     "text": [
      "/opt/conda/lib/python3.7/site-packages/seaborn/_decorators.py:43: FutureWarning: Pass the following variable as a keyword arg: x. From version 0.12, the only valid positional argument will be `data`, and passing other arguments without an explicit keyword will result in an error or misinterpretation.\n",
      "  FutureWarning\n"
     ]
    },
    {
     "data": {
      "text/plain": [
       "<AxesSubplot:xlabel='Survived', ylabel='count'>"
      ]
     },
     "execution_count": 16,
     "metadata": {},
     "output_type": "execute_result"
    },
    {
     "data": {
      "image/png": "[encoded data removed]",
      "text/plain": [
       "<Figure size 432x288 with 1 Axes>"
      ]
     },
     "metadata": {
      "needs_background": "light"
     },
     "output_type": "display_data"
    }
   ],
   "source": [
    "sns.countplot(df_train['Survived'],hue='Embarked',data=df_train)"
   ]
  },
  {
   "cell_type": "code",
   "execution_count": 17,
   "id": "acoustic-relations",
   "metadata": {
    "execution": {
     "iopub.execute_input": "2021-05-19T21:27:52.210451Z",
     "iopub.status.busy": "2021-05-19T21:27:52.209153Z",
     "iopub.status.idle": "2021-05-19T21:27:52.564426Z",
     "shell.execute_reply": "2021-05-19T21:27:52.565356Z",
     "shell.execute_reply.started": "2021-05-19T21:26:16.186162Z"
    },
    "papermill": {
     "duration": 0.456602,
     "end_time": "2021-05-19T21:27:52.565634",
     "exception": false,
     "start_time": "2021-05-19T21:27:52.109032",
     "status": "completed"
    },
    "tags": []
   },
   "outputs": [
    {
     "name": "stderr",
     "output_type": "stream",
     "text": [
      "/opt/conda/lib/python3.7/site-packages/seaborn/_decorators.py:43: FutureWarning: Pass the following variables as keyword args: x, y. From version 0.12, the only valid positional argument will be `data`, and passing other arguments without an explicit keyword will result in an error or misinterpretation.\n",
      "  FutureWarning\n"
     ]
    },
    {
     "ename": "TypeError",
     "evalue": "No loop matching the specified signature and casting was found for ufunc svd_n_s",
     "output_type": "error",
     "traceback": [
      "\u001b[0;31m---------------------------------------------------------------------------\u001b[0m",
      "\u001b[0;31mTypeError\u001b[0m                                 Traceback (most recent call last)",
      "\u001b[0;32m<ipython-input-17-8d0fee8fe60c>\u001b[0m in \u001b[0;36m<module>\u001b[0;34m\u001b[0m\n\u001b[0;32m----> 1\u001b[0;31m \u001b[0msns\u001b[0m\u001b[0;34m.\u001b[0m\u001b[0mlmplot\u001b[0m\u001b[0;34m(\u001b[0m\u001b[0;34m'Age'\u001b[0m\u001b[0;34m,\u001b[0m\u001b[0;34m'Fare'\u001b[0m\u001b[0;34m,\u001b[0m\u001b[0mdata\u001b[0m\u001b[0;34m=\u001b[0m\u001b[0mdf_train\u001b[0m\u001b[0;34m,\u001b[0m\u001b[0mpalette\u001b[0m\u001b[0;34m=\u001b[0m\u001b[0;34m'virdis'\u001b[0m\u001b[0;34m)\u001b[0m\u001b[0;34m\u001b[0m\u001b[0;34m\u001b[0m\u001b[0m\n\u001b[0m",
      "\u001b[0;32m/opt/conda/lib/python3.7/site-packages/seaborn/_decorators.py\u001b[0m in \u001b[0;36minner_f\u001b[0;34m(*args, **kwargs)\u001b[0m\n\u001b[1;32m     44\u001b[0m             )\n\u001b[1;32m     45\u001b[0m         \u001b[0mkwargs\u001b[0m\u001b[0;34m.\u001b[0m\u001b[0mupdate\u001b[0m\u001b[0;34m(\u001b[0m\u001b[0;34m{\u001b[0m\u001b[0mk\u001b[0m\u001b[0;34m:\u001b[0m \u001b[0marg\u001b[0m \u001b[0;32mfor\u001b[0m \u001b[0mk\u001b[0m\u001b[0;34m,\u001b[0m \u001b[0marg\u001b[0m \u001b[0;32min\u001b[0m \u001b[0mzip\u001b[0m\u001b[0;34m(\u001b[0m\u001b[0msig\u001b[0m\u001b[0;34m.\u001b[0m\u001b[0mparameters\u001b[0m\u001b[0;34m,\u001b[0m \u001b[0margs\u001b[0m\u001b[0;34m)\u001b[0m\u001b[0;34m}\u001b[0m\u001b[0;34m)\u001b[0m\u001b[0;34m\u001b[0m\u001b[0;34m\u001b[0m\u001b[0m\n\u001b[0;32m---> 46\u001b[0;31m         \u001b[0;32mreturn\u001b[0m \u001b[0mf\u001b[0m\u001b[0;34m(\u001b[0m\u001b[0;34m**\u001b[0m\u001b[0mkwargs\u001b[0m\u001b[0;34m)\u001b[0m\u001b[0;34m\u001b[0m\u001b[0;34m\u001b[0m\u001b[0m\n\u001b[0m\u001b[1;32m     47\u001b[0m     \u001b[0;32mreturn\u001b[0m \u001b[0minner_f\u001b[0m\u001b[0;34m\u001b[0m\u001b[0;34m\u001b[0m\u001b[0m\n\u001b[1;32m     48\u001b[0m \u001b[0;34m\u001b[0m\u001b[0m\n",
      "\u001b[0;32m/opt/conda/lib/python3.7/site-packages/seaborn/regression.py\u001b[0m in \u001b[0;36mlmplot\u001b[0;34m(x, y, data, hue, col, row, palette, col_wrap, height, aspect, markers, sharex, sharey, hue_order, col_order, row_order, legend, legend_out, x_estimator, x_bins, x_ci, scatter, fit_reg, ci, n_boot, units, seed, order, logistic, lowess, robust, logx, x_partial, y_partial, truncate, x_jitter, y_jitter, scatter_kws, line_kws, size)\u001b[0m\n\u001b[1;32m    626\u001b[0m         \u001b[0mscatter_kws\u001b[0m\u001b[0;34m=\u001b[0m\u001b[0mscatter_kws\u001b[0m\u001b[0;34m,\u001b[0m \u001b[0mline_kws\u001b[0m\u001b[0;34m=\u001b[0m\u001b[0mline_kws\u001b[0m\u001b[0;34m,\u001b[0m\u001b[0;34m\u001b[0m\u001b[0;34m\u001b[0m\u001b[0m\n\u001b[1;32m    627\u001b[0m     )\n\u001b[0;32m--> 628\u001b[0;31m     \u001b[0mfacets\u001b[0m\u001b[0;34m.\u001b[0m\u001b[0mmap_dataframe\u001b[0m\u001b[0;34m(\u001b[0m\u001b[0mregplot\u001b[0m\u001b[0;34m,\u001b[0m \u001b[0mx\u001b[0m\u001b[0;34m=\u001b[0m\u001b[0mx\u001b[0m\u001b[0;34m,\u001b[0m \u001b[0my\u001b[0m\u001b[0;34m=\u001b[0m\u001b[0my\u001b[0m\u001b[0;34m,\u001b[0m \u001b[0;34m**\u001b[0m\u001b[0mregplot_kws\u001b[0m\u001b[0;34m)\u001b[0m\u001b[0;34m\u001b[0m\u001b[0;34m\u001b[0m\u001b[0m\n\u001b[0m\u001b[1;32m    629\u001b[0m \u001b[0;34m\u001b[0m\u001b[0m\n\u001b[1;32m    630\u001b[0m     \u001b[0;31m# TODO this will need to change when we relax string requirement\u001b[0m\u001b[0;34m\u001b[0m\u001b[0;34m\u001b[0m\u001b[0;34m\u001b[0m\u001b[0m\n",
      "\u001b[0;32m/opt/conda/lib/python3.7/site-packages/seaborn/axisgrid.py\u001b[0m in \u001b[0;36mmap_dataframe\u001b[0;34m(self, func, *args, **kwargs)\u001b[0m\n\u001b[1;32m    748\u001b[0m \u001b[0;34m\u001b[0m\u001b[0m\n\u001b[1;32m    749\u001b[0m             \u001b[0;31m# Draw the plot\u001b[0m\u001b[0;34m\u001b[0m\u001b[0;34m\u001b[0m\u001b[0;34m\u001b[0m\u001b[0m\n\u001b[0;32m--> 750\u001b[0;31m             \u001b[0mself\u001b[0m\u001b[0;34m.\u001b[0m\u001b[0m_facet_plot\u001b[0m\u001b[0;34m(\u001b[0m\u001b[0mfunc\u001b[0m\u001b[0;34m,\u001b[0m \u001b[0max\u001b[0m\u001b[0;34m,\u001b[0m \u001b[0margs\u001b[0m\u001b[0;34m,\u001b[0m \u001b[0mkwargs\u001b[0m\u001b[0;34m)\u001b[0m\u001b[0;34m\u001b[0m\u001b[0;34m\u001b[0m\u001b[0m\n\u001b[0m\u001b[1;32m    751\u001b[0m \u001b[0;34m\u001b[0m\u001b[0m\n\u001b[1;32m    752\u001b[0m         \u001b[0;31m# Finalize the annotations and layout\u001b[0m\u001b[0;34m\u001b[0m\u001b[0;34m\u001b[0m\u001b[0;34m\u001b[0m\u001b[0m\n",
      "\u001b[0;32m/opt/conda/lib/python3.7/site-packages/seaborn/axisgrid.py\u001b[0m in \u001b[0;36m_facet_plot\u001b[0;34m(self, func, ax, plot_args, plot_kwargs)\u001b[0m\n\u001b[1;32m    773\u001b[0m             \u001b[0mplot_args\u001b[0m \u001b[0;34m=\u001b[0m \u001b[0;34m[\u001b[0m\u001b[0;34m]\u001b[0m\u001b[0;34m\u001b[0m\u001b[0;34m\u001b[0m\u001b[0m\n\u001b[1;32m    774\u001b[0m             \u001b[0mplot_kwargs\u001b[0m\u001b[0;34m[\u001b[0m\u001b[0;34m\"ax\"\u001b[0m\u001b[0;34m]\u001b[0m \u001b[0;34m=\u001b[0m \u001b[0max\u001b[0m\u001b[0;34m\u001b[0m\u001b[0;34m\u001b[0m\u001b[0m\n\u001b[0;32m--> 775\u001b[0;31m         \u001b[0mfunc\u001b[0m\u001b[0;34m(\u001b[0m\u001b[0;34m*\u001b[0m\u001b[0mplot_args\u001b[0m\u001b[0;34m,\u001b[0m \u001b[0;34m**\u001b[0m\u001b[0mplot_kwargs\u001b[0m\u001b[0;34m)\u001b[0m\u001b[0;34m\u001b[0m\u001b[0;34m\u001b[0m\u001b[0m\n\u001b[0m\u001b[1;32m    776\u001b[0m \u001b[0;34m\u001b[0m\u001b[0m\n\u001b[1;32m    777\u001b[0m         \u001b[0;31m# Sort out the supporting information\u001b[0m\u001b[0;34m\u001b[0m\u001b[0;34m\u001b[0m\u001b[0;34m\u001b[0m\u001b[0m\n",
      "\u001b[0;32m/opt/conda/lib/python3.7/site-packages/seaborn/_decorators.py\u001b[0m in \u001b[0;36minner_f\u001b[0;34m(*args, **kwargs)\u001b[0m\n\u001b[1;32m     44\u001b[0m             )\n\u001b[1;32m     45\u001b[0m         \u001b[0mkwargs\u001b[0m\u001b[0;34m.\u001b[0m\u001b[0mupdate\u001b[0m\u001b[0;34m(\u001b[0m\u001b[0;34m{\u001b[0m\u001b[0mk\u001b[0m\u001b[0;34m:\u001b[0m \u001b[0marg\u001b[0m \u001b[0;32mfor\u001b[0m \u001b[0mk\u001b[0m\u001b[0;34m,\u001b[0m \u001b[0marg\u001b[0m \u001b[0;32min\u001b[0m \u001b[0mzip\u001b[0m\u001b[0;34m(\u001b[0m\u001b[0msig\u001b[0m\u001b[0;34m.\u001b[0m\u001b[0mparameters\u001b[0m\u001b[0;34m,\u001b[0m \u001b[0margs\u001b[0m\u001b[0;34m)\u001b[0m\u001b[0;34m}\u001b[0m\u001b[0;34m)\u001b[0m\u001b[0;34m\u001b[0m\u001b[0;34m\u001b[0m\u001b[0m\n\u001b[0;32m---> 46\u001b[0;31m         \u001b[0;32mreturn\u001b[0m \u001b[0mf\u001b[0m\u001b[0;34m(\u001b[0m\u001b[0;34m**\u001b[0m\u001b[0mkwargs\u001b[0m\u001b[0;34m)\u001b[0m\u001b[0;34m\u001b[0m\u001b[0;34m\u001b[0m\u001b[0m\n\u001b[0m\u001b[1;32m     47\u001b[0m     \u001b[0;32mreturn\u001b[0m \u001b[0minner_f\u001b[0m\u001b[0;34m\u001b[0m\u001b[0;34m\u001b[0m\u001b[0m\n\u001b[1;32m     48\u001b[0m \u001b[0;34m\u001b[0m\u001b[0m\n",
      "\u001b[0;32m/opt/conda/lib/python3.7/site-packages/seaborn/regression.py\u001b[0m in \u001b[0;36mregplot\u001b[0;34m(x, y, data, x_estimator, x_bins, x_ci, scatter, fit_reg, ci, n_boot, units, seed, order, logistic, lowess, robust, logx, x_partial, y_partial, truncate, dropna, x_jitter, y_jitter, label, color, marker, scatter_kws, line_kws, ax)\u001b[0m\n\u001b[1;32m    836\u001b[0m     \u001b[0mscatter_kws\u001b[0m\u001b[0;34m[\u001b[0m\u001b[0;34m\"marker\"\u001b[0m\u001b[0;34m]\u001b[0m \u001b[0;34m=\u001b[0m \u001b[0mmarker\u001b[0m\u001b[0;34m\u001b[0m\u001b[0;34m\u001b[0m\u001b[0m\n\u001b[1;32m    837\u001b[0m     \u001b[0mline_kws\u001b[0m \u001b[0;34m=\u001b[0m \u001b[0;34m{\u001b[0m\u001b[0;34m}\u001b[0m \u001b[0;32mif\u001b[0m \u001b[0mline_kws\u001b[0m \u001b[0;32mis\u001b[0m \u001b[0;32mNone\u001b[0m \u001b[0;32melse\u001b[0m \u001b[0mcopy\u001b[0m\u001b[0;34m.\u001b[0m\u001b[0mcopy\u001b[0m\u001b[0;34m(\u001b[0m\u001b[0mline_kws\u001b[0m\u001b[0;34m)\u001b[0m\u001b[0;34m\u001b[0m\u001b[0;34m\u001b[0m\u001b[0m\n\u001b[0;32m--> 838\u001b[0;31m     \u001b[0mplotter\u001b[0m\u001b[0;34m.\u001b[0m\u001b[0mplot\u001b[0m\u001b[0;34m(\u001b[0m\u001b[0max\u001b[0m\u001b[0;34m,\u001b[0m \u001b[0mscatter_kws\u001b[0m\u001b[0;34m,\u001b[0m \u001b[0mline_kws\u001b[0m\u001b[0;34m)\u001b[0m\u001b[0;34m\u001b[0m\u001b[0;34m\u001b[0m\u001b[0m\n\u001b[0m\u001b[1;32m    839\u001b[0m     \u001b[0;32mreturn\u001b[0m \u001b[0max\u001b[0m\u001b[0;34m\u001b[0m\u001b[0;34m\u001b[0m\u001b[0m\n\u001b[1;32m    840\u001b[0m \u001b[0;34m\u001b[0m\u001b[0m\n",
      "\u001b[0;32m/opt/conda/lib/python3.7/site-packages/seaborn/regression.py\u001b[0m in \u001b[0;36mplot\u001b[0;34m(self, ax, scatter_kws, line_kws)\u001b[0m\n\u001b[1;32m    368\u001b[0m \u001b[0;34m\u001b[0m\u001b[0m\n\u001b[1;32m    369\u001b[0m         \u001b[0;32mif\u001b[0m \u001b[0mself\u001b[0m\u001b[0;34m.\u001b[0m\u001b[0mfit_reg\u001b[0m\u001b[0;34m:\u001b[0m\u001b[0;34m\u001b[0m\u001b[0;34m\u001b[0m\u001b[0m\n\u001b[0;32m--> 370\u001b[0;31m             \u001b[0mself\u001b[0m\u001b[0;34m.\u001b[0m\u001b[0mlineplot\u001b[0m\u001b[0;34m(\u001b[0m\u001b[0max\u001b[0m\u001b[0;34m,\u001b[0m \u001b[0mline_kws\u001b[0m\u001b[0;34m)\u001b[0m\u001b[0;34m\u001b[0m\u001b[0;34m\u001b[0m\u001b[0m\n\u001b[0m\u001b[1;32m    371\u001b[0m \u001b[0;34m\u001b[0m\u001b[0m\n\u001b[1;32m    372\u001b[0m         \u001b[0;31m# Label the axes\u001b[0m\u001b[0;34m\u001b[0m\u001b[0;34m\u001b[0m\u001b[0;34m\u001b[0m\u001b[0m\n",
      "\u001b[0;32m/opt/conda/lib/python3.7/site-packages/seaborn/regression.py\u001b[0m in \u001b[0;36mlineplot\u001b[0;34m(self, ax, kws)\u001b[0m\n\u001b[1;32m    411\u001b[0m         \u001b[0;34m\"\"\"Draw the model.\"\"\"\u001b[0m\u001b[0;34m\u001b[0m\u001b[0;34m\u001b[0m\u001b[0m\n\u001b[1;32m    412\u001b[0m         \u001b[0;31m# Fit the regression model\u001b[0m\u001b[0;34m\u001b[0m\u001b[0;34m\u001b[0m\u001b[0;34m\u001b[0m\u001b[0m\n\u001b[0;32m--> 413\u001b[0;31m         \u001b[0mgrid\u001b[0m\u001b[0;34m,\u001b[0m \u001b[0myhat\u001b[0m\u001b[0;34m,\u001b[0m \u001b[0merr_bands\u001b[0m \u001b[0;34m=\u001b[0m \u001b[0mself\u001b[0m\u001b[0;34m.\u001b[0m\u001b[0mfit_regression\u001b[0m\u001b[0;34m(\u001b[0m\u001b[0max\u001b[0m\u001b[0;34m)\u001b[0m\u001b[0;34m\u001b[0m\u001b[0;34m\u001b[0m\u001b[0m\n\u001b[0m\u001b[1;32m    414\u001b[0m         \u001b[0medges\u001b[0m \u001b[0;34m=\u001b[0m \u001b[0mgrid\u001b[0m\u001b[0;34m[\u001b[0m\u001b[0;36m0\u001b[0m\u001b[0;34m]\u001b[0m\u001b[0;34m,\u001b[0m \u001b[0mgrid\u001b[0m\u001b[0;34m[\u001b[0m\u001b[0;34m-\u001b[0m\u001b[0;36m1\u001b[0m\u001b[0;34m]\u001b[0m\u001b[0;34m\u001b[0m\u001b[0;34m\u001b[0m\u001b[0m\n\u001b[1;32m    415\u001b[0m \u001b[0;34m\u001b[0m\u001b[0m\n",
      "\u001b[0;32m/opt/conda/lib/python3.7/site-packages/seaborn/regression.py\u001b[0m in \u001b[0;36mfit_regression\u001b[0;34m(self, ax, x_range, grid)\u001b[0m\n\u001b[1;32m    219\u001b[0m             \u001b[0myhat\u001b[0m\u001b[0;34m,\u001b[0m \u001b[0myhat_boots\u001b[0m \u001b[0;34m=\u001b[0m \u001b[0mself\u001b[0m\u001b[0;34m.\u001b[0m\u001b[0mfit_logx\u001b[0m\u001b[0;34m(\u001b[0m\u001b[0mgrid\u001b[0m\u001b[0;34m)\u001b[0m\u001b[0;34m\u001b[0m\u001b[0;34m\u001b[0m\u001b[0m\n\u001b[1;32m    220\u001b[0m         \u001b[0;32melse\u001b[0m\u001b[0;34m:\u001b[0m\u001b[0;34m\u001b[0m\u001b[0;34m\u001b[0m\u001b[0m\n\u001b[0;32m--> 221\u001b[0;31m             \u001b[0myhat\u001b[0m\u001b[0;34m,\u001b[0m \u001b[0myhat_boots\u001b[0m \u001b[0;34m=\u001b[0m \u001b[0mself\u001b[0m\u001b[0;34m.\u001b[0m\u001b[0mfit_fast\u001b[0m\u001b[0;34m(\u001b[0m\u001b[0mgrid\u001b[0m\u001b[0;34m)\u001b[0m\u001b[0;34m\u001b[0m\u001b[0;34m\u001b[0m\u001b[0m\n\u001b[0m\u001b[1;32m    222\u001b[0m \u001b[0;34m\u001b[0m\u001b[0m\n\u001b[1;32m    223\u001b[0m         \u001b[0;31m# Compute the confidence interval at each grid point\u001b[0m\u001b[0;34m\u001b[0m\u001b[0;34m\u001b[0m\u001b[0;34m\u001b[0m\u001b[0m\n",
      "\u001b[0;32m/opt/conda/lib/python3.7/site-packages/seaborn/regression.py\u001b[0m in \u001b[0;36mfit_fast\u001b[0;34m(self, grid)\u001b[0m\n\u001b[1;32m    236\u001b[0m         \u001b[0mX\u001b[0m\u001b[0;34m,\u001b[0m \u001b[0my\u001b[0m \u001b[0;34m=\u001b[0m \u001b[0mnp\u001b[0m\u001b[0;34m.\u001b[0m\u001b[0mc_\u001b[0m\u001b[0;34m[\u001b[0m\u001b[0mnp\u001b[0m\u001b[0;34m.\u001b[0m\u001b[0mones\u001b[0m\u001b[0;34m(\u001b[0m\u001b[0mlen\u001b[0m\u001b[0;34m(\u001b[0m\u001b[0mself\u001b[0m\u001b[0;34m.\u001b[0m\u001b[0mx\u001b[0m\u001b[0;34m)\u001b[0m\u001b[0;34m)\u001b[0m\u001b[0;34m,\u001b[0m \u001b[0mself\u001b[0m\u001b[0;34m.\u001b[0m\u001b[0mx\u001b[0m\u001b[0;34m]\u001b[0m\u001b[0;34m,\u001b[0m \u001b[0mself\u001b[0m\u001b[0;34m.\u001b[0m\u001b[0my\u001b[0m\u001b[0;34m\u001b[0m\u001b[0;34m\u001b[0m\u001b[0m\n\u001b[1;32m    237\u001b[0m         \u001b[0mgrid\u001b[0m \u001b[0;34m=\u001b[0m \u001b[0mnp\u001b[0m\u001b[0;34m.\u001b[0m\u001b[0mc_\u001b[0m\u001b[0;34m[\u001b[0m\u001b[0mnp\u001b[0m\u001b[0;34m.\u001b[0m\u001b[0mones\u001b[0m\u001b[0;34m(\u001b[0m\u001b[0mlen\u001b[0m\u001b[0;34m(\u001b[0m\u001b[0mgrid\u001b[0m\u001b[0;34m)\u001b[0m\u001b[0;34m)\u001b[0m\u001b[0;34m,\u001b[0m \u001b[0mgrid\u001b[0m\u001b[0;34m]\u001b[0m\u001b[0;34m\u001b[0m\u001b[0;34m\u001b[0m\u001b[0m\n\u001b[0;32m--> 238\u001b[0;31m         \u001b[0myhat\u001b[0m \u001b[0;34m=\u001b[0m \u001b[0mgrid\u001b[0m\u001b[0;34m.\u001b[0m\u001b[0mdot\u001b[0m\u001b[0;34m(\u001b[0m\u001b[0mreg_func\u001b[0m\u001b[0;34m(\u001b[0m\u001b[0mX\u001b[0m\u001b[0;34m,\u001b[0m \u001b[0my\u001b[0m\u001b[0;34m)\u001b[0m\u001b[0;34m)\u001b[0m\u001b[0;34m\u001b[0m\u001b[0;34m\u001b[0m\u001b[0m\n\u001b[0m\u001b[1;32m    239\u001b[0m         \u001b[0;32mif\u001b[0m \u001b[0mself\u001b[0m\u001b[0;34m.\u001b[0m\u001b[0mci\u001b[0m \u001b[0;32mis\u001b[0m \u001b[0;32mNone\u001b[0m\u001b[0;34m:\u001b[0m\u001b[0;34m\u001b[0m\u001b[0;34m\u001b[0m\u001b[0m\n\u001b[1;32m    240\u001b[0m             \u001b[0;32mreturn\u001b[0m \u001b[0myhat\u001b[0m\u001b[0;34m,\u001b[0m \u001b[0;32mNone\u001b[0m\u001b[0;34m\u001b[0m\u001b[0;34m\u001b[0m\u001b[0m\n",
      "\u001b[0;32m/opt/conda/lib/python3.7/site-packages/seaborn/regression.py\u001b[0m in \u001b[0;36mreg_func\u001b[0;34m(_x, _y)\u001b[0m\n\u001b[1;32m    232\u001b[0m         \u001b[0;34m\"\"\"Low-level regression and prediction using linear algebra.\"\"\"\u001b[0m\u001b[0;34m\u001b[0m\u001b[0;34m\u001b[0m\u001b[0m\n\u001b[1;32m    233\u001b[0m         \u001b[0;32mdef\u001b[0m \u001b[0mreg_func\u001b[0m\u001b[0;34m(\u001b[0m\u001b[0m_x\u001b[0m\u001b[0;34m,\u001b[0m \u001b[0m_y\u001b[0m\u001b[0;34m)\u001b[0m\u001b[0;34m:\u001b[0m\u001b[0;34m\u001b[0m\u001b[0;34m\u001b[0m\u001b[0m\n\u001b[0;32m--> 234\u001b[0;31m             \u001b[0;32mreturn\u001b[0m \u001b[0mnp\u001b[0m\u001b[0;34m.\u001b[0m\u001b[0mlinalg\u001b[0m\u001b[0;34m.\u001b[0m\u001b[0mpinv\u001b[0m\u001b[0;34m(\u001b[0m\u001b[0m_x\u001b[0m\u001b[0;34m)\u001b[0m\u001b[0;34m.\u001b[0m\u001b[0mdot\u001b[0m\u001b[0;34m(\u001b[0m\u001b[0m_y\u001b[0m\u001b[0;34m)\u001b[0m\u001b[0;34m\u001b[0m\u001b[0;34m\u001b[0m\u001b[0m\n\u001b[0m\u001b[1;32m    235\u001b[0m \u001b[0;34m\u001b[0m\u001b[0m\n\u001b[1;32m    236\u001b[0m         \u001b[0mX\u001b[0m\u001b[0;34m,\u001b[0m \u001b[0my\u001b[0m \u001b[0;34m=\u001b[0m \u001b[0mnp\u001b[0m\u001b[0;34m.\u001b[0m\u001b[0mc_\u001b[0m\u001b[0;34m[\u001b[0m\u001b[0mnp\u001b[0m\u001b[0;34m.\u001b[0m\u001b[0mones\u001b[0m\u001b[0;34m(\u001b[0m\u001b[0mlen\u001b[0m\u001b[0;34m(\u001b[0m\u001b[0mself\u001b[0m\u001b[0;34m.\u001b[0m\u001b[0mx\u001b[0m\u001b[0;34m)\u001b[0m\u001b[0;34m)\u001b[0m\u001b[0;34m,\u001b[0m \u001b[0mself\u001b[0m\u001b[0;34m.\u001b[0m\u001b[0mx\u001b[0m\u001b[0;34m]\u001b[0m\u001b[0;34m,\u001b[0m \u001b[0mself\u001b[0m\u001b[0;34m.\u001b[0m\u001b[0my\u001b[0m\u001b[0;34m\u001b[0m\u001b[0;34m\u001b[0m\u001b[0m\n",
      "\u001b[0;32m<__array_function__ internals>\u001b[0m in \u001b[0;36mpinv\u001b[0;34m(*args, **kwargs)\u001b[0m\n",
      "\u001b[0;32m/opt/conda/lib/python3.7/site-packages/numpy/linalg/linalg.py\u001b[0m in \u001b[0;36mpinv\u001b[0;34m(a, rcond, hermitian)\u001b[0m\n\u001b[1;32m   2001\u001b[0m         \u001b[0;32mreturn\u001b[0m \u001b[0mwrap\u001b[0m\u001b[0;34m(\u001b[0m\u001b[0mres\u001b[0m\u001b[0;34m)\u001b[0m\u001b[0;34m\u001b[0m\u001b[0;34m\u001b[0m\u001b[0m\n\u001b[1;32m   2002\u001b[0m     \u001b[0ma\u001b[0m \u001b[0;34m=\u001b[0m \u001b[0ma\u001b[0m\u001b[0;34m.\u001b[0m\u001b[0mconjugate\u001b[0m\u001b[0;34m(\u001b[0m\u001b[0;34m)\u001b[0m\u001b[0;34m\u001b[0m\u001b[0;34m\u001b[0m\u001b[0m\n\u001b[0;32m-> 2003\u001b[0;31m     \u001b[0mu\u001b[0m\u001b[0;34m,\u001b[0m \u001b[0ms\u001b[0m\u001b[0;34m,\u001b[0m \u001b[0mvt\u001b[0m \u001b[0;34m=\u001b[0m \u001b[0msvd\u001b[0m\u001b[0;34m(\u001b[0m\u001b[0ma\u001b[0m\u001b[0;34m,\u001b[0m \u001b[0mfull_matrices\u001b[0m\u001b[0;34m=\u001b[0m\u001b[0;32mFalse\u001b[0m\u001b[0;34m,\u001b[0m \u001b[0mhermitian\u001b[0m\u001b[0;34m=\u001b[0m\u001b[0mhermitian\u001b[0m\u001b[0;34m)\u001b[0m\u001b[0;34m\u001b[0m\u001b[0;34m\u001b[0m\u001b[0m\n\u001b[0m\u001b[1;32m   2004\u001b[0m \u001b[0;34m\u001b[0m\u001b[0m\n\u001b[1;32m   2005\u001b[0m     \u001b[0;31m# discard small singular values\u001b[0m\u001b[0;34m\u001b[0m\u001b[0;34m\u001b[0m\u001b[0;34m\u001b[0m\u001b[0m\n",
      "\u001b[0;32m<__array_function__ internals>\u001b[0m in \u001b[0;36msvd\u001b[0;34m(*args, **kwargs)\u001b[0m\n",
      "\u001b[0;32m/opt/conda/lib/python3.7/site-packages/numpy/linalg/linalg.py\u001b[0m in \u001b[0;36msvd\u001b[0;34m(a, full_matrices, compute_uv, hermitian)\u001b[0m\n\u001b[1;32m   1659\u001b[0m \u001b[0;34m\u001b[0m\u001b[0m\n\u001b[1;32m   1660\u001b[0m         \u001b[0msignature\u001b[0m \u001b[0;34m=\u001b[0m \u001b[0;34m'D->DdD'\u001b[0m \u001b[0;32mif\u001b[0m \u001b[0misComplexType\u001b[0m\u001b[0;34m(\u001b[0m\u001b[0mt\u001b[0m\u001b[0;34m)\u001b[0m \u001b[0;32melse\u001b[0m \u001b[0;34m'd->ddd'\u001b[0m\u001b[0;34m\u001b[0m\u001b[0;34m\u001b[0m\u001b[0m\n\u001b[0;32m-> 1661\u001b[0;31m         \u001b[0mu\u001b[0m\u001b[0;34m,\u001b[0m \u001b[0ms\u001b[0m\u001b[0;34m,\u001b[0m \u001b[0mvh\u001b[0m \u001b[0;34m=\u001b[0m \u001b[0mgufunc\u001b[0m\u001b[0;34m(\u001b[0m\u001b[0ma\u001b[0m\u001b[0;34m,\u001b[0m \u001b[0msignature\u001b[0m\u001b[0;34m=\u001b[0m\u001b[0msignature\u001b[0m\u001b[0;34m,\u001b[0m \u001b[0mextobj\u001b[0m\u001b[0;34m=\u001b[0m\u001b[0mextobj\u001b[0m\u001b[0;34m)\u001b[0m\u001b[0;34m\u001b[0m\u001b[0;34m\u001b[0m\u001b[0m\n\u001b[0m\u001b[1;32m   1662\u001b[0m         \u001b[0mu\u001b[0m \u001b[0;34m=\u001b[0m \u001b[0mu\u001b[0m\u001b[0;34m.\u001b[0m\u001b[0mastype\u001b[0m\u001b[0;34m(\u001b[0m\u001b[0mresult_t\u001b[0m\u001b[0;34m,\u001b[0m \u001b[0mcopy\u001b[0m\u001b[0;34m=\u001b[0m\u001b[0;32mFalse\u001b[0m\u001b[0;34m)\u001b[0m\u001b[0;34m\u001b[0m\u001b[0;34m\u001b[0m\u001b[0m\n\u001b[1;32m   1663\u001b[0m         \u001b[0ms\u001b[0m \u001b[0;34m=\u001b[0m \u001b[0ms\u001b[0m\u001b[0;34m.\u001b[0m\u001b[0mastype\u001b[0m\u001b[0;34m(\u001b[0m\u001b[0m_realType\u001b[0m\u001b[0;34m(\u001b[0m\u001b[0mresult_t\u001b[0m\u001b[0;34m)\u001b[0m\u001b[0;34m,\u001b[0m \u001b[0mcopy\u001b[0m\u001b[0;34m=\u001b[0m\u001b[0;32mFalse\u001b[0m\u001b[0;34m)\u001b[0m\u001b[0;34m\u001b[0m\u001b[0;34m\u001b[0m\u001b[0m\n",
      "\u001b[0;31mTypeError\u001b[0m: No loop matching the specified signature and casting was found for ufunc svd_n_s"
     ]
    },
    {
     "data": {
      "image/png": "[encoded data removed]",
      "text/plain": [
       "<Figure size 360x360 with 1 Axes>"
      ]
     },
     "metadata": {
      "needs_background": "light"
     },
     "output_type": "display_data"
    }
   ],
   "source": [
    "sns.lmplot('Age','Fare',data=df_train,palette='virdis')"
   ]
  },
  {
   "cell_type": "code",
   "execution_count": null,
   "id": "acceptable-shakespeare",
   "metadata": {
    "papermill": {
     "duration": 0.054025,
     "end_time": "2021-05-19T21:27:52.675625",
     "exception": false,
     "start_time": "2021-05-19T21:27:52.621600",
     "status": "completed"
    },
    "tags": []
   },
   "outputs": [],
   "source": []
  },
  {
   "cell_type": "code",
   "execution_count": 18,
   "id": "adjacent-childhood",
   "metadata": {
    "execution": {
     "iopub.execute_input": "2021-05-19T21:27:52.793988Z",
     "iopub.status.busy": "2021-05-19T21:27:52.793081Z",
     "iopub.status.idle": "2021-05-19T21:27:52.797676Z",
     "shell.execute_reply": "2021-05-19T21:27:52.797189Z",
     "shell.execute_reply.started": "2021-05-19T20:39:38.428957Z"
    },
    "papermill": {
     "duration": 0.065736,
     "end_time": "2021-05-19T21:27:52.797812",
     "exception": false,
     "start_time": "2021-05-19T21:27:52.732076",
     "status": "completed"
    },
    "tags": []
   },
   "outputs": [
    {
     "data": {
      "text/plain": [
       "Pclass        0\n",
       "Sex           0\n",
       "Age          86\n",
       "SibSp         0\n",
       "Parch         0\n",
       "Ticket        0\n",
       "Fare          1\n",
       "Cabin       327\n",
       "Embarked      0\n",
       "dtype: int64"
      ]
     },
     "execution_count": 18,
     "metadata": {},
     "output_type": "execute_result"
    }
   ],
   "source": [
    "df_test.isnull().sum()"
   ]
  },
  {
   "cell_type": "code",
   "execution_count": 19,
   "id": "healthy-underground",
   "metadata": {
    "execution": {
     "iopub.execute_input": "2021-05-19T21:27:52.916872Z",
     "iopub.status.busy": "2021-05-19T21:27:52.916113Z",
     "iopub.status.idle": "2021-05-19T21:27:52.920196Z",
     "shell.execute_reply": "2021-05-19T21:27:52.919432Z",
     "shell.execute_reply.started": "2021-05-19T20:39:38.441203Z"
    },
    "papermill": {
     "duration": 0.06751,
     "end_time": "2021-05-19T21:27:52.920365",
     "exception": false,
     "start_time": "2021-05-19T21:27:52.852855",
     "status": "completed"
    },
    "tags": []
   },
   "outputs": [],
   "source": [
    "df_test = df_test.drop('Cabin',axis=1)\n",
    "df_test['Age'] = df_test['Age'].fillna(df_test['Age'].mean(),axis=0)\n",
    "df_test['Fare'] = df_test['Fare'].fillna(df_test['Fare'].mean(),axis=0)"
   ]
  },
  {
   "cell_type": "code",
   "execution_count": 20,
   "id": "alpine-resolution",
   "metadata": {
    "execution": {
     "iopub.execute_input": "2021-05-19T21:27:53.036626Z",
     "iopub.status.busy": "2021-05-19T21:27:53.035871Z",
     "iopub.status.idle": "2021-05-19T21:27:53.039031Z",
     "shell.execute_reply": "2021-05-19T21:27:53.039461Z",
     "shell.execute_reply.started": "2021-05-19T20:39:38.453040Z"
    },
    "papermill": {
     "duration": 0.064161,
     "end_time": "2021-05-19T21:27:53.039619",
     "exception": false,
     "start_time": "2021-05-19T21:27:52.975458",
     "status": "completed"
    },
    "tags": []
   },
   "outputs": [
    {
     "data": {
      "text/plain": [
       "(891, 9)"
      ]
     },
     "execution_count": 20,
     "metadata": {},
     "output_type": "execute_result"
    }
   ],
   "source": [
    "df_train.shape"
   ]
  },
  {
   "cell_type": "code",
   "execution_count": 21,
   "id": "authentic-louis",
   "metadata": {
    "execution": {
     "iopub.execute_input": "2021-05-19T21:27:53.154866Z",
     "iopub.status.busy": "2021-05-19T21:27:53.154023Z",
     "iopub.status.idle": "2021-05-19T21:27:53.157770Z",
     "shell.execute_reply": "2021-05-19T21:27:53.158203Z",
     "shell.execute_reply.started": "2021-05-19T20:39:38.468269Z"
    },
    "papermill": {
     "duration": 0.064408,
     "end_time": "2021-05-19T21:27:53.158359",
     "exception": false,
     "start_time": "2021-05-19T21:27:53.093951",
     "status": "completed"
    },
    "tags": []
   },
   "outputs": [
    {
     "data": {
      "text/plain": [
       "(418, 8)"
      ]
     },
     "execution_count": 21,
     "metadata": {},
     "output_type": "execute_result"
    }
   ],
   "source": [
    "df_test.shape"
   ]
  },
  {
   "cell_type": "code",
   "execution_count": 22,
   "id": "departmental-litigation",
   "metadata": {
    "execution": {
     "iopub.execute_input": "2021-05-19T21:27:53.274882Z",
     "iopub.status.busy": "2021-05-19T21:27:53.274224Z",
     "iopub.status.idle": "2021-05-19T21:27:53.354049Z",
     "shell.execute_reply": "2021-05-19T21:27:53.353386Z",
     "shell.execute_reply.started": "2021-05-19T20:39:38.486085Z"
    },
    "papermill": {
     "duration": 0.138656,
     "end_time": "2021-05-19T21:27:53.354211",
     "exception": false,
     "start_time": "2021-05-19T21:27:53.215555",
     "status": "completed"
    },
    "tags": []
   },
   "outputs": [],
   "source": [
    "from sklearn.preprocessing import LabelEncoder"
   ]
  },
  {
   "cell_type": "code",
   "execution_count": 23,
   "id": "optical-cache",
   "metadata": {
    "execution": {
     "iopub.execute_input": "2021-05-19T21:27:53.473864Z",
     "iopub.status.busy": "2021-05-19T21:27:53.472999Z",
     "iopub.status.idle": "2021-05-19T21:27:53.475762Z",
     "shell.execute_reply": "2021-05-19T21:27:53.475229Z",
     "shell.execute_reply.started": "2021-05-19T20:39:38.496503Z"
    },
    "papermill": {
     "duration": 0.067173,
     "end_time": "2021-05-19T21:27:53.475895",
     "exception": false,
     "start_time": "2021-05-19T21:27:53.408722",
     "status": "completed"
    },
    "tags": []
   },
   "outputs": [],
   "source": [
    "label = LabelEncoder()\n",
    "df_train['Sex'] = label.fit_transform(df_train['Sex'])\n",
    "df_train['Embarked'] = label.fit_transform(df_train['Embarked'])\n",
    "df_train['Ticket'] = label.fit_transform(df_train['Ticket'])"
   ]
  },
  {
   "cell_type": "code",
   "execution_count": 24,
   "id": "impressive-joint",
   "metadata": {
    "execution": {
     "iopub.execute_input": "2021-05-19T21:27:53.605376Z",
     "iopub.status.busy": "2021-05-19T21:27:53.604379Z",
     "iopub.status.idle": "2021-05-19T21:27:53.609479Z",
     "shell.execute_reply": "2021-05-19T21:27:53.608818Z",
     "shell.execute_reply.started": "2021-05-19T20:39:38.518086Z"
    },
    "papermill": {
     "duration": 0.07891,
     "end_time": "2021-05-19T21:27:53.609652",
     "exception": false,
     "start_time": "2021-05-19T21:27:53.530742",
     "status": "completed"
    },
    "tags": []
   },
   "outputs": [
    {
     "data": {
      "text/html": [
       "<div>\n",
       "<style scoped>\n",
       "    .dataframe tbody tr th:only-of-type {\n",
       "        vertical-align: middle;\n",
       "    }\n",
       "\n",
       "    .dataframe tbody tr th {\n",
       "        vertical-align: top;\n",
       "    }\n",
       "\n",
       "    .dataframe thead th {\n",
       "        text-align: right;\n",
       "    }\n",
       "</style>\n",
       "<table border=\"1\" class=\"dataframe\">\n",
       "  <thead>\n",
       "    <tr style=\"text-align: right;\">\n",
       "      <th></th>\n",
       "      <th>Survived</th>\n",
       "      <th>Pclass</th>\n",
       "      <th>Sex</th>\n",
       "      <th>Age</th>\n",
       "      <th>SibSp</th>\n",
       "      <th>Parch</th>\n",
       "      <th>Ticket</th>\n",
       "      <th>Fare</th>\n",
       "      <th>Embarked</th>\n",
       "    </tr>\n",
       "  </thead>\n",
       "  <tbody>\n",
       "    <tr>\n",
       "      <th>0</th>\n",
       "      <td>0</td>\n",
       "      <td>3</td>\n",
       "      <td>1</td>\n",
       "      <td>0</td>\n",
       "      <td>1</td>\n",
       "      <td>0</td>\n",
       "      <td>523</td>\n",
       "      <td>7.2500</td>\n",
       "      <td>2</td>\n",
       "    </tr>\n",
       "    <tr>\n",
       "      <th>1</th>\n",
       "      <td>1</td>\n",
       "      <td>1</td>\n",
       "      <td>0</td>\n",
       "      <td>1</td>\n",
       "      <td>1</td>\n",
       "      <td>0</td>\n",
       "      <td>596</td>\n",
       "      <td>71.2833</td>\n",
       "      <td>0</td>\n",
       "    </tr>\n",
       "    <tr>\n",
       "      <th>2</th>\n",
       "      <td>1</td>\n",
       "      <td>3</td>\n",
       "      <td>0</td>\n",
       "      <td>1</td>\n",
       "      <td>0</td>\n",
       "      <td>0</td>\n",
       "      <td>669</td>\n",
       "      <td>7.9250</td>\n",
       "      <td>2</td>\n",
       "    </tr>\n",
       "    <tr>\n",
       "      <th>3</th>\n",
       "      <td>1</td>\n",
       "      <td>1</td>\n",
       "      <td>0</td>\n",
       "      <td>1</td>\n",
       "      <td>1</td>\n",
       "      <td>0</td>\n",
       "      <td>49</td>\n",
       "      <td>53.1000</td>\n",
       "      <td>2</td>\n",
       "    </tr>\n",
       "    <tr>\n",
       "      <th>4</th>\n",
       "      <td>0</td>\n",
       "      <td>3</td>\n",
       "      <td>1</td>\n",
       "      <td>0</td>\n",
       "      <td>0</td>\n",
       "      <td>0</td>\n",
       "      <td>472</td>\n",
       "      <td>8.0500</td>\n",
       "      <td>2</td>\n",
       "    </tr>\n",
       "    <tr>\n",
       "      <th>...</th>\n",
       "      <td>...</td>\n",
       "      <td>...</td>\n",
       "      <td>...</td>\n",
       "      <td>...</td>\n",
       "      <td>...</td>\n",
       "      <td>...</td>\n",
       "      <td>...</td>\n",
       "      <td>...</td>\n",
       "      <td>...</td>\n",
       "    </tr>\n",
       "    <tr>\n",
       "      <th>886</th>\n",
       "      <td>0</td>\n",
       "      <td>2</td>\n",
       "      <td>1</td>\n",
       "      <td>0</td>\n",
       "      <td>0</td>\n",
       "      <td>0</td>\n",
       "      <td>101</td>\n",
       "      <td>13.0000</td>\n",
       "      <td>2</td>\n",
       "    </tr>\n",
       "    <tr>\n",
       "      <th>887</th>\n",
       "      <td>1</td>\n",
       "      <td>1</td>\n",
       "      <td>0</td>\n",
       "      <td>1</td>\n",
       "      <td>0</td>\n",
       "      <td>0</td>\n",
       "      <td>14</td>\n",
       "      <td>30.0000</td>\n",
       "      <td>2</td>\n",
       "    </tr>\n",
       "    <tr>\n",
       "      <th>888</th>\n",
       "      <td>0</td>\n",
       "      <td>3</td>\n",
       "      <td>0</td>\n",
       "      <td>0</td>\n",
       "      <td>1</td>\n",
       "      <td>2</td>\n",
       "      <td>675</td>\n",
       "      <td>23.4500</td>\n",
       "      <td>2</td>\n",
       "    </tr>\n",
       "    <tr>\n",
       "      <th>889</th>\n",
       "      <td>1</td>\n",
       "      <td>1</td>\n",
       "      <td>1</td>\n",
       "      <td>1</td>\n",
       "      <td>0</td>\n",
       "      <td>0</td>\n",
       "      <td>8</td>\n",
       "      <td>30.0000</td>\n",
       "      <td>0</td>\n",
       "    </tr>\n",
       "    <tr>\n",
       "      <th>890</th>\n",
       "      <td>0</td>\n",
       "      <td>3</td>\n",
       "      <td>1</td>\n",
       "      <td>0</td>\n",
       "      <td>0</td>\n",
       "      <td>0</td>\n",
       "      <td>466</td>\n",
       "      <td>7.7500</td>\n",
       "      <td>1</td>\n",
       "    </tr>\n",
       "  </tbody>\n",
       "</table>\n",
       "<p>891 rows × 9 columns</p>\n",
       "</div>"
      ],
      "text/plain": [
       "     Survived  Pclass  Sex Age  SibSp  Parch  Ticket     Fare  Embarked\n",
       "0           0       3    1   0      1      0     523   7.2500         2\n",
       "1           1       1    0   1      1      0     596  71.2833         0\n",
       "2           1       3    0   1      0      0     669   7.9250         2\n",
       "3           1       1    0   1      1      0      49  53.1000         2\n",
       "4           0       3    1   0      0      0     472   8.0500         2\n",
       "..        ...     ...  ...  ..    ...    ...     ...      ...       ...\n",
       "886         0       2    1   0      0      0     101  13.0000         2\n",
       "887         1       1    0   1      0      0      14  30.0000         2\n",
       "888         0       3    0   0      1      2     675  23.4500         2\n",
       "889         1       1    1   1      0      0       8  30.0000         0\n",
       "890         0       3    1   0      0      0     466   7.7500         1\n",
       "\n",
       "[891 rows x 9 columns]"
      ]
     },
     "execution_count": 24,
     "metadata": {},
     "output_type": "execute_result"
    }
   ],
   "source": [
    "df_train"
   ]
  },
  {
   "cell_type": "code",
   "execution_count": 25,
   "id": "liberal-pizza",
   "metadata": {
    "execution": {
     "iopub.execute_input": "2021-05-19T21:27:53.744110Z",
     "iopub.status.busy": "2021-05-19T21:27:53.743118Z",
     "iopub.status.idle": "2021-05-19T21:27:53.747741Z",
     "shell.execute_reply": "2021-05-19T21:27:53.747111Z",
     "shell.execute_reply.started": "2021-05-19T20:39:38.549647Z"
    },
    "papermill": {
     "duration": 0.082336,
     "end_time": "2021-05-19T21:27:53.747874",
     "exception": false,
     "start_time": "2021-05-19T21:27:53.665538",
     "status": "completed"
    },
    "tags": []
   },
   "outputs": [
    {
     "data": {
      "text/html": [
       "<div>\n",
       "<style scoped>\n",
       "    .dataframe tbody tr th:only-of-type {\n",
       "        vertical-align: middle;\n",
       "    }\n",
       "\n",
       "    .dataframe tbody tr th {\n",
       "        vertical-align: top;\n",
       "    }\n",
       "\n",
       "    .dataframe thead th {\n",
       "        text-align: right;\n",
       "    }\n",
       "</style>\n",
       "<table border=\"1\" class=\"dataframe\">\n",
       "  <thead>\n",
       "    <tr style=\"text-align: right;\">\n",
       "      <th></th>\n",
       "      <th>Pclass</th>\n",
       "      <th>Sex</th>\n",
       "      <th>Age</th>\n",
       "      <th>SibSp</th>\n",
       "      <th>Parch</th>\n",
       "      <th>Ticket</th>\n",
       "      <th>Fare</th>\n",
       "      <th>Embarked</th>\n",
       "    </tr>\n",
       "  </thead>\n",
       "  <tbody>\n",
       "    <tr>\n",
       "      <th>0</th>\n",
       "      <td>3</td>\n",
       "      <td>male</td>\n",
       "      <td>34.50000</td>\n",
       "      <td>0</td>\n",
       "      <td>0</td>\n",
       "      <td>330911</td>\n",
       "      <td>7.8292</td>\n",
       "      <td>Q</td>\n",
       "    </tr>\n",
       "    <tr>\n",
       "      <th>1</th>\n",
       "      <td>3</td>\n",
       "      <td>female</td>\n",
       "      <td>47.00000</td>\n",
       "      <td>1</td>\n",
       "      <td>0</td>\n",
       "      <td>363272</td>\n",
       "      <td>7.0000</td>\n",
       "      <td>S</td>\n",
       "    </tr>\n",
       "    <tr>\n",
       "      <th>2</th>\n",
       "      <td>2</td>\n",
       "      <td>male</td>\n",
       "      <td>62.00000</td>\n",
       "      <td>0</td>\n",
       "      <td>0</td>\n",
       "      <td>240276</td>\n",
       "      <td>9.6875</td>\n",
       "      <td>Q</td>\n",
       "    </tr>\n",
       "    <tr>\n",
       "      <th>3</th>\n",
       "      <td>3</td>\n",
       "      <td>male</td>\n",
       "      <td>27.00000</td>\n",
       "      <td>0</td>\n",
       "      <td>0</td>\n",
       "      <td>315154</td>\n",
       "      <td>8.6625</td>\n",
       "      <td>S</td>\n",
       "    </tr>\n",
       "    <tr>\n",
       "      <th>4</th>\n",
       "      <td>3</td>\n",
       "      <td>female</td>\n",
       "      <td>22.00000</td>\n",
       "      <td>1</td>\n",
       "      <td>1</td>\n",
       "      <td>3101298</td>\n",
       "      <td>12.2875</td>\n",
       "      <td>S</td>\n",
       "    </tr>\n",
       "    <tr>\n",
       "      <th>...</th>\n",
       "      <td>...</td>\n",
       "      <td>...</td>\n",
       "      <td>...</td>\n",
       "      <td>...</td>\n",
       "      <td>...</td>\n",
       "      <td>...</td>\n",
       "      <td>...</td>\n",
       "      <td>...</td>\n",
       "    </tr>\n",
       "    <tr>\n",
       "      <th>413</th>\n",
       "      <td>3</td>\n",
       "      <td>male</td>\n",
       "      <td>30.27259</td>\n",
       "      <td>0</td>\n",
       "      <td>0</td>\n",
       "      <td>A.5. 3236</td>\n",
       "      <td>8.0500</td>\n",
       "      <td>S</td>\n",
       "    </tr>\n",
       "    <tr>\n",
       "      <th>414</th>\n",
       "      <td>1</td>\n",
       "      <td>female</td>\n",
       "      <td>39.00000</td>\n",
       "      <td>0</td>\n",
       "      <td>0</td>\n",
       "      <td>PC 17758</td>\n",
       "      <td>108.9000</td>\n",
       "      <td>C</td>\n",
       "    </tr>\n",
       "    <tr>\n",
       "      <th>415</th>\n",
       "      <td>3</td>\n",
       "      <td>male</td>\n",
       "      <td>38.50000</td>\n",
       "      <td>0</td>\n",
       "      <td>0</td>\n",
       "      <td>SOTON/O.Q. 3101262</td>\n",
       "      <td>7.2500</td>\n",
       "      <td>S</td>\n",
       "    </tr>\n",
       "    <tr>\n",
       "      <th>416</th>\n",
       "      <td>3</td>\n",
       "      <td>male</td>\n",
       "      <td>30.27259</td>\n",
       "      <td>0</td>\n",
       "      <td>0</td>\n",
       "      <td>359309</td>\n",
       "      <td>8.0500</td>\n",
       "      <td>S</td>\n",
       "    </tr>\n",
       "    <tr>\n",
       "      <th>417</th>\n",
       "      <td>3</td>\n",
       "      <td>male</td>\n",
       "      <td>30.27259</td>\n",
       "      <td>1</td>\n",
       "      <td>1</td>\n",
       "      <td>2668</td>\n",
       "      <td>22.3583</td>\n",
       "      <td>C</td>\n",
       "    </tr>\n",
       "  </tbody>\n",
       "</table>\n",
       "<p>418 rows × 8 columns</p>\n",
       "</div>"
      ],
      "text/plain": [
       "     Pclass     Sex       Age  SibSp  Parch              Ticket      Fare  \\\n",
       "0         3    male  34.50000      0      0              330911    7.8292   \n",
       "1         3  female  47.00000      1      0              363272    7.0000   \n",
       "2         2    male  62.00000      0      0              240276    9.6875   \n",
       "3         3    male  27.00000      0      0              315154    8.6625   \n",
       "4         3  female  22.00000      1      1             3101298   12.2875   \n",
       "..      ...     ...       ...    ...    ...                 ...       ...   \n",
       "413       3    male  30.27259      0      0           A.5. 3236    8.0500   \n",
       "414       1  female  39.00000      0      0            PC 17758  108.9000   \n",
       "415       3    male  38.50000      0      0  SOTON/O.Q. 3101262    7.2500   \n",
       "416       3    male  30.27259      0      0              359309    8.0500   \n",
       "417       3    male  30.27259      1      1                2668   22.3583   \n",
       "\n",
       "    Embarked  \n",
       "0          Q  \n",
       "1          S  \n",
       "2          Q  \n",
       "3          S  \n",
       "4          S  \n",
       "..       ...  \n",
       "413        S  \n",
       "414        C  \n",
       "415        S  \n",
       "416        S  \n",
       "417        C  \n",
       "\n",
       "[418 rows x 8 columns]"
      ]
     },
     "execution_count": 25,
     "metadata": {},
     "output_type": "execute_result"
    }
   ],
   "source": [
    "df_test"
   ]
  },
  {
   "cell_type": "code",
   "execution_count": 26,
   "id": "involved-oklahoma",
   "metadata": {
    "execution": {
     "iopub.execute_input": "2021-05-19T21:27:53.869230Z",
     "iopub.status.busy": "2021-05-19T21:27:53.868190Z",
     "iopub.status.idle": "2021-05-19T21:27:53.874769Z",
     "shell.execute_reply": "2021-05-19T21:27:53.874195Z",
     "shell.execute_reply.started": "2021-05-19T20:40:21.443286Z"
    },
    "papermill": {
     "duration": 0.071083,
     "end_time": "2021-05-19T21:27:53.874931",
     "exception": false,
     "start_time": "2021-05-19T21:27:53.803848",
     "status": "completed"
    },
    "tags": []
   },
   "outputs": [],
   "source": [
    "df_test['Sex'] = label.fit_transform(df_test['Sex'])\n",
    "df_test['Embarked'] = label.fit_transform(df_test['Embarked'])\n",
    "df_test['Ticket'] = label.fit_transform(df_test['Ticket'])"
   ]
  },
  {
   "cell_type": "code",
   "execution_count": 27,
   "id": "aerial-determination",
   "metadata": {
    "execution": {
     "iopub.execute_input": "2021-05-19T21:27:54.003298Z",
     "iopub.status.busy": "2021-05-19T21:27:54.002491Z",
     "iopub.status.idle": "2021-05-19T21:27:54.004524Z",
     "shell.execute_reply": "2021-05-19T21:27:54.005022Z",
     "shell.execute_reply.started": "2021-05-19T20:43:11.164905Z"
    },
    "papermill": {
     "duration": 0.072591,
     "end_time": "2021-05-19T21:27:54.005267",
     "exception": false,
     "start_time": "2021-05-19T21:27:53.932676",
     "status": "completed"
    },
    "tags": []
   },
   "outputs": [],
   "source": [
    "df_train['Age'] = df_train['Age'].astype('float32')\n",
    "df_train['Fare'] = df_train['Fare'].astype('float32')\n",
    "df_train['Pclass'] = df_train['Pclass'].astype('float32')\n",
    "df_train['Parch'] = df_train['Parch'].astype('float32')\n",
    "df_train['Sex'] = df_train['Sex'].astype('float32')\n",
    "df_train['SibSp'] = df_train['SibSp'].astype('float32')\n",
    "df_train['Ticket'] = df_train['Ticket'].astype('float32')\n",
    "df_train['Embarked'] = df_train['Embarked'].astype('float32')\n",
    "df_train['Survived'] = df_train['Survived'].astype('float32')\n"
   ]
  },
  {
   "cell_type": "code",
   "execution_count": 28,
   "id": "second-private",
   "metadata": {
    "execution": {
     "iopub.execute_input": "2021-05-19T21:27:54.124236Z",
     "iopub.status.busy": "2021-05-19T21:27:54.123493Z",
     "iopub.status.idle": "2021-05-19T21:27:54.133291Z",
     "shell.execute_reply": "2021-05-19T21:27:54.133736Z",
     "shell.execute_reply.started": "2021-05-19T20:52:07.971917Z"
    },
    "papermill": {
     "duration": 0.072033,
     "end_time": "2021-05-19T21:27:54.133928",
     "exception": false,
     "start_time": "2021-05-19T21:27:54.061895",
     "status": "completed"
    },
    "tags": []
   },
   "outputs": [],
   "source": [
    "df_test['Age'] = df_test['Age'].astype('float32')\n",
    "df_test['Fare'] = df_test['Fare'].astype('float32')\n",
    "df_test['Pclass'] = df_test['Pclass'].astype('float32')\n",
    "df_test['Parch'] = df_test['Parch'].astype('float32')\n",
    "df_test['Sex'] = df_test['Sex'].astype('float32')\n",
    "df_test['SibSp'] = df_test['SibSp'].astype('float32')\n",
    "df_test['Ticket'] = df_test['Ticket'].astype('float32')\n",
    "df_test['Embarked'] = df_test['Embarked'].astype('float32')"
   ]
  },
  {
   "cell_type": "code",
   "execution_count": 29,
   "id": "black-satin",
   "metadata": {
    "execution": {
     "iopub.execute_input": "2021-05-19T21:27:54.279681Z",
     "iopub.status.busy": "2021-05-19T21:27:54.278871Z",
     "iopub.status.idle": "2021-05-19T21:27:54.286637Z",
     "shell.execute_reply": "2021-05-19T21:27:54.287098Z",
     "shell.execute_reply.started": "2021-05-19T20:43:19.598516Z"
    },
    "papermill": {
     "duration": 0.091757,
     "end_time": "2021-05-19T21:27:54.287354",
     "exception": false,
     "start_time": "2021-05-19T21:27:54.195597",
     "status": "completed"
    },
    "tags": []
   },
   "outputs": [],
   "source": [
    "y = df_train['Survived']\n",
    "X = df_train.drop('Survived',axis=1)"
   ]
  },
  {
   "cell_type": "code",
   "execution_count": 30,
   "id": "official-treat",
   "metadata": {
    "execution": {
     "iopub.execute_input": "2021-05-19T21:27:54.410362Z",
     "iopub.status.busy": "2021-05-19T21:27:54.409666Z",
     "iopub.status.idle": "2021-05-19T21:27:54.480061Z",
     "shell.execute_reply": "2021-05-19T21:27:54.479401Z",
     "shell.execute_reply.started": "2021-05-19T20:45:21.836571Z"
    },
    "papermill": {
     "duration": 0.132819,
     "end_time": "2021-05-19T21:27:54.480248",
     "exception": false,
     "start_time": "2021-05-19T21:27:54.347429",
     "status": "completed"
    },
    "tags": []
   },
   "outputs": [],
   "source": [
    "from sklearn.model_selection import train_test_split\n",
    "X_train, X_test, y_train, y_test = train_test_split(X, y, test_size=0.3, random_state=42)"
   ]
  },
  {
   "cell_type": "code",
   "execution_count": 31,
   "id": "tribal-norway",
   "metadata": {
    "execution": {
     "iopub.execute_input": "2021-05-19T21:27:54.600882Z",
     "iopub.status.busy": "2021-05-19T21:27:54.600149Z",
     "iopub.status.idle": "2021-05-19T21:27:55.030543Z",
     "shell.execute_reply": "2021-05-19T21:27:55.031016Z",
     "shell.execute_reply.started": "2021-05-19T20:45:32.021837Z"
    },
    "papermill": {
     "duration": 0.494305,
     "end_time": "2021-05-19T21:27:55.031267",
     "exception": false,
     "start_time": "2021-05-19T21:27:54.536962",
     "status": "completed"
    },
    "tags": []
   },
   "outputs": [
    {
     "data": {
      "text/plain": [
       "RandomForestClassifier()"
      ]
     },
     "execution_count": 31,
     "metadata": {},
     "output_type": "execute_result"
    }
   ],
   "source": [
    "from sklearn.ensemble import RandomForestClassifier\n",
    "rf = RandomForestClassifier()\n",
    "rf.fit(X_train,y_train)"
   ]
  },
  {
   "cell_type": "code",
   "execution_count": 32,
   "id": "fewer-spectacular",
   "metadata": {
    "execution": {
     "iopub.execute_input": "2021-05-19T21:27:55.156534Z",
     "iopub.status.busy": "2021-05-19T21:27:55.155461Z",
     "iopub.status.idle": "2021-05-19T21:27:55.172588Z",
     "shell.execute_reply": "2021-05-19T21:27:55.171971Z",
     "shell.execute_reply.started": "2021-05-19T20:45:50.602592Z"
    },
    "papermill": {
     "duration": 0.083818,
     "end_time": "2021-05-19T21:27:55.172767",
     "exception": false,
     "start_time": "2021-05-19T21:27:55.088949",
     "status": "completed"
    },
    "tags": []
   },
   "outputs": [],
   "source": [
    "predict = rf.predict(X_test)"
   ]
  },
  {
   "cell_type": "code",
   "execution_count": 33,
   "id": "rural-farmer",
   "metadata": {
    "execution": {
     "iopub.execute_input": "2021-05-19T21:27:55.290529Z",
     "iopub.status.busy": "2021-05-19T21:27:55.289821Z",
     "iopub.status.idle": "2021-05-19T21:27:55.315482Z",
     "shell.execute_reply": "2021-05-19T21:27:55.314794Z",
     "shell.execute_reply.started": "2021-05-19T20:46:07.158673Z"
    },
    "papermill": {
     "duration": 0.085554,
     "end_time": "2021-05-19T21:27:55.315662",
     "exception": false,
     "start_time": "2021-05-19T21:27:55.230108",
     "status": "completed"
    },
    "tags": []
   },
   "outputs": [
    {
     "data": {
      "text/plain": [
       "1.0"
      ]
     },
     "execution_count": 33,
     "metadata": {},
     "output_type": "execute_result"
    }
   ],
   "source": [
    "rf.score(X_train,y_train)"
   ]
  },
  {
   "cell_type": "code",
   "execution_count": 34,
   "id": "reduced-mission",
   "metadata": {
    "execution": {
     "iopub.execute_input": "2021-05-19T21:27:55.436669Z",
     "iopub.status.busy": "2021-05-19T21:27:55.436026Z",
     "iopub.status.idle": "2021-05-19T21:27:55.438828Z",
     "shell.execute_reply": "2021-05-19T21:27:55.439396Z",
     "shell.execute_reply.started": "2021-05-19T20:46:31.032502Z"
    },
    "papermill": {
     "duration": 0.066839,
     "end_time": "2021-05-19T21:27:55.439582",
     "exception": false,
     "start_time": "2021-05-19T21:27:55.372743",
     "status": "completed"
    },
    "tags": []
   },
   "outputs": [],
   "source": [
    "from sklearn.metrics import accuracy_score, confusion_matrix, classification_report"
   ]
  },
  {
   "cell_type": "code",
   "execution_count": 35,
   "id": "simple-stranger",
   "metadata": {
    "execution": {
     "iopub.execute_input": "2021-05-19T21:27:55.560138Z",
     "iopub.status.busy": "2021-05-19T21:27:55.559261Z",
     "iopub.status.idle": "2021-05-19T21:27:55.564118Z",
     "shell.execute_reply": "2021-05-19T21:27:55.563388Z",
     "shell.execute_reply.started": "2021-05-19T20:47:07.673888Z"
    },
    "papermill": {
     "duration": 0.068447,
     "end_time": "2021-05-19T21:27:55.564335",
     "exception": false,
     "start_time": "2021-05-19T21:27:55.495888",
     "status": "completed"
    },
    "tags": []
   },
   "outputs": [
    {
     "name": "stdout",
     "output_type": "stream",
     "text": [
      "{'accuracy': 1.0}\n"
     ]
    }
   ],
   "source": [
    "print({'accuracy':accuracy_score(y_test,predict)})"
   ]
  },
  {
   "cell_type": "code",
   "execution_count": 36,
   "id": "spread-trader",
   "metadata": {
    "execution": {
     "iopub.execute_input": "2021-05-19T21:27:55.687279Z",
     "iopub.status.busy": "2021-05-19T21:27:55.686603Z",
     "iopub.status.idle": "2021-05-19T21:27:55.695099Z",
     "shell.execute_reply": "2021-05-19T21:27:55.694573Z",
     "shell.execute_reply.started": "2021-05-19T20:47:25.274399Z"
    },
    "papermill": {
     "duration": 0.071451,
     "end_time": "2021-05-19T21:27:55.695269",
     "exception": false,
     "start_time": "2021-05-19T21:27:55.623818",
     "status": "completed"
    },
    "tags": []
   },
   "outputs": [
    {
     "data": {
      "text/plain": [
       "array([[157,   0],\n",
       "       [  0, 111]])"
      ]
     },
     "execution_count": 36,
     "metadata": {},
     "output_type": "execute_result"
    }
   ],
   "source": [
    "confusion_matrix(y_test,predict)"
   ]
  },
  {
   "cell_type": "code",
   "execution_count": 37,
   "id": "final-nepal",
   "metadata": {
    "execution": {
     "iopub.execute_input": "2021-05-19T21:27:55.815585Z",
     "iopub.status.busy": "2021-05-19T21:27:55.814619Z",
     "iopub.status.idle": "2021-05-19T21:27:55.841953Z",
     "shell.execute_reply": "2021-05-19T21:27:55.842471Z",
     "shell.execute_reply.started": "2021-05-19T20:52:45.523405Z"
    },
    "papermill": {
     "duration": 0.089732,
     "end_time": "2021-05-19T21:27:55.842882",
     "exception": false,
     "start_time": "2021-05-19T21:27:55.753150",
     "status": "completed"
    },
    "tags": []
   },
   "outputs": [
    {
     "data": {
      "text/plain": [
       "array([1., 1., 1., 1., 1., 1., 1., 1., 1., 1., 1., 1., 1., 1., 1., 1., 1.,\n",
       "       1., 1., 1., 1., 1., 1., 1., 1., 1., 1., 1., 1., 1., 1., 1., 1., 1.,\n",
       "       1., 1., 1., 1., 1., 1., 1., 1., 1., 1., 1., 1., 1., 1., 1., 1., 1.,\n",
       "       1., 1., 1., 1., 1., 1., 1., 1., 1., 1., 1., 1., 1., 1., 1., 1., 1.,\n",
       "       1., 1., 1., 1., 1., 1., 1., 1., 1., 1., 1., 1., 1., 1., 1., 1., 1.,\n",
       "       1., 1., 1., 1., 1., 1., 1., 1., 1., 1., 1., 1., 1., 1., 1., 1., 1.,\n",
       "       1., 1., 1., 1., 1., 1., 1., 1., 1., 1., 1., 1., 1., 1., 1., 1., 1.,\n",
       "       1., 1., 1., 1., 1., 1., 1., 1., 1., 1., 1., 1., 1., 1., 1., 1., 1.,\n",
       "       1., 1., 1., 1., 1., 1., 1., 1., 1., 1., 1., 1., 1., 1., 1., 1., 1.,\n",
       "       1., 1., 1., 1., 1., 1., 1., 1., 1., 1., 1., 1., 1., 1., 1., 1., 1.,\n",
       "       1., 1., 1., 1., 1., 1., 1., 1., 1., 1., 1., 1., 1., 1., 1., 1., 1.,\n",
       "       1., 1., 1., 1., 1., 1., 1., 1., 1., 1., 1., 1., 1., 1., 0., 1., 1.,\n",
       "       1., 1., 1., 1., 1., 1., 1., 1., 1., 1., 1., 1., 1., 1., 1., 1., 1.,\n",
       "       1., 1., 1., 1., 1., 1., 1., 1., 1., 1., 1., 1., 1., 1., 1., 1., 1.,\n",
       "       1., 1., 1., 1., 1., 1., 1., 1., 1., 1., 1., 1., 1., 1., 1., 1., 1.,\n",
       "       1., 1., 1., 1., 1., 1., 1., 1., 1., 1., 1., 1., 1., 1., 1., 1., 1.,\n",
       "       1., 1., 1., 1., 1., 1., 1., 1., 1., 1., 1., 1., 1., 1., 1., 1., 1.,\n",
       "       1., 1., 1., 1., 1., 1., 1., 1., 1., 1., 1., 1., 1., 1., 1., 1., 1.,\n",
       "       1., 1., 1., 1., 1., 1., 1., 1., 1., 1., 1., 1., 1., 1., 1., 1., 1.,\n",
       "       1., 1., 1., 1., 1., 1., 1., 1., 1., 1., 1., 1., 1., 1., 1., 1., 1.,\n",
       "       1., 1., 1., 1., 1., 1., 1., 1., 1., 1., 1., 1., 1., 1., 0., 1., 1.,\n",
       "       1., 1., 1., 1., 1., 1., 1., 1., 1., 1., 1., 1., 1., 1., 1., 1., 1.,\n",
       "       1., 1., 1., 1., 1., 1., 1., 1., 1., 1., 1., 1., 1., 1., 1., 1., 1.,\n",
       "       1., 1., 1., 1., 1., 1., 1., 1., 1., 1., 1., 1., 1., 1., 1., 1., 1.,\n",
       "       1., 1., 1., 1., 1., 1., 1., 1., 1., 1.], dtype=float32)"
      ]
     },
     "execution_count": 37,
     "metadata": {},
     "output_type": "execute_result"
    }
   ],
   "source": [
    "rf.predict(df_test)"
   ]
  },
  {
   "cell_type": "code",
   "execution_count": null,
   "id": "active-anderson",
   "metadata": {
    "papermill": {
     "duration": 0.057908,
     "end_time": "2021-05-19T21:27:55.959595",
     "exception": false,
     "start_time": "2021-05-19T21:27:55.901687",
     "status": "completed"
    },
    "tags": []
   },
   "outputs": [],
   "source": []
  },
  {
   "cell_type": "code",
   "execution_count": 38,
   "id": "mechanical-chase",
   "metadata": {
    "execution": {
     "iopub.execute_input": "2021-05-19T21:27:56.080770Z",
     "iopub.status.busy": "2021-05-19T21:27:56.079821Z",
     "iopub.status.idle": "2021-05-19T21:27:56.093013Z",
     "shell.execute_reply": "2021-05-19T21:27:56.092086Z",
     "shell.execute_reply.started": "2021-05-19T20:50:31.001788Z"
    },
    "papermill": {
     "duration": 0.075271,
     "end_time": "2021-05-19T21:27:56.093248",
     "exception": false,
     "start_time": "2021-05-19T21:27:56.017977",
     "status": "completed"
    },
    "tags": []
   },
   "outputs": [
    {
     "name": "stdout",
     "output_type": "stream",
     "text": [
      "              precision    recall  f1-score   support\n",
      "\n",
      "         0.0       1.00      1.00      1.00       157\n",
      "         1.0       1.00      1.00      1.00       111\n",
      "\n",
      "    accuracy                           1.00       268\n",
      "   macro avg       1.00      1.00      1.00       268\n",
      "weighted avg       1.00      1.00      1.00       268\n",
      "\n"
     ]
    }
   ],
   "source": [
    "print(classification_report(y_test,predict))"
   ]
  },
  {
   "cell_type": "code",
   "execution_count": 39,
   "id": "resident-artwork",
   "metadata": {
    "execution": {
     "iopub.execute_input": "2021-05-19T21:27:56.219235Z",
     "iopub.status.busy": "2021-05-19T21:27:56.218568Z",
     "iopub.status.idle": "2021-05-19T21:27:56.222047Z",
     "shell.execute_reply": "2021-05-19T21:27:56.221528Z",
     "shell.execute_reply.started": "2021-05-19T20:48:41.851731Z"
    },
    "papermill": {
     "duration": 0.068582,
     "end_time": "2021-05-19T21:27:56.222219",
     "exception": false,
     "start_time": "2021-05-19T21:27:56.153637",
     "status": "completed"
    },
    "tags": []
   },
   "outputs": [],
   "source": [
    "from sklearn.tree import DecisionTreeClassifier"
   ]
  },
  {
   "cell_type": "code",
   "execution_count": 40,
   "id": "wrapped-satin",
   "metadata": {
    "execution": {
     "iopub.execute_input": "2021-05-19T21:27:56.343130Z",
     "iopub.status.busy": "2021-05-19T21:27:56.342438Z",
     "iopub.status.idle": "2021-05-19T21:27:56.355955Z",
     "shell.execute_reply": "2021-05-19T21:27:56.355465Z",
     "shell.execute_reply.started": "2021-05-19T20:49:40.878864Z"
    },
    "papermill": {
     "duration": 0.075265,
     "end_time": "2021-05-19T21:27:56.356110",
     "exception": false,
     "start_time": "2021-05-19T21:27:56.280845",
     "status": "completed"
    },
    "tags": []
   },
   "outputs": [
    {
     "data": {
      "text/plain": [
       "1.0"
      ]
     },
     "execution_count": 40,
     "metadata": {},
     "output_type": "execute_result"
    }
   ],
   "source": [
    "tree = DecisionTreeClassifier()\n",
    "tree.fit(X_train,y_train)\n",
    "tree_predict = tree.predict(X_test)\n",
    "tree.score(X_train,y_train)"
   ]
  },
  {
   "cell_type": "code",
   "execution_count": 41,
   "id": "suited-compilation",
   "metadata": {
    "execution": {
     "iopub.execute_input": "2021-05-19T21:27:56.481568Z",
     "iopub.status.busy": "2021-05-19T21:27:56.480747Z",
     "iopub.status.idle": "2021-05-19T21:27:56.487993Z",
     "shell.execute_reply": "2021-05-19T21:27:56.487385Z",
     "shell.execute_reply.started": "2021-05-19T20:50:00.056209Z"
    },
    "papermill": {
     "duration": 0.072587,
     "end_time": "2021-05-19T21:27:56.488150",
     "exception": false,
     "start_time": "2021-05-19T21:27:56.415563",
     "status": "completed"
    },
    "tags": []
   },
   "outputs": [
    {
     "data": {
      "text/plain": [
       "array([[157,   0],\n",
       "       [  0, 111]])"
      ]
     },
     "execution_count": 41,
     "metadata": {},
     "output_type": "execute_result"
    }
   ],
   "source": [
    "confusion_matrix(y_test,tree_predict)"
   ]
  },
  {
   "cell_type": "code",
   "execution_count": 42,
   "id": "thermal-aluminum",
   "metadata": {
    "execution": {
     "iopub.execute_input": "2021-05-19T21:27:56.612789Z",
     "iopub.status.busy": "2021-05-19T21:27:56.611868Z",
     "iopub.status.idle": "2021-05-19T21:28:02.587413Z",
     "shell.execute_reply": "2021-05-19T21:28:02.587947Z",
     "shell.execute_reply.started": "2021-05-19T20:54:43.639297Z"
    },
    "papermill": {
     "duration": 6.040783,
     "end_time": "2021-05-19T21:28:02.588154",
     "exception": false,
     "start_time": "2021-05-19T21:27:56.547371",
     "status": "completed"
    },
    "tags": []
   },
   "outputs": [],
   "source": [
    "import tensorflow as tf"
   ]
  },
  {
   "cell_type": "code",
   "execution_count": 43,
   "id": "gross-cutting",
   "metadata": {
    "execution": {
     "iopub.execute_input": "2021-05-19T21:28:02.712084Z",
     "iopub.status.busy": "2021-05-19T21:28:02.711093Z",
     "iopub.status.idle": "2021-05-19T21:28:02.781006Z",
     "shell.execute_reply": "2021-05-19T21:28:02.781612Z",
     "shell.execute_reply.started": "2021-05-19T20:55:37.686804Z"
    },
    "papermill": {
     "duration": 0.133848,
     "end_time": "2021-05-19T21:28:02.781844",
     "exception": false,
     "start_time": "2021-05-19T21:28:02.647996",
     "status": "completed"
    },
    "tags": []
   },
   "outputs": [],
   "source": [
    "from keras.layers import Dense, Dropout, BatchNormalization\n",
    "from keras.models import Sequential"
   ]
  },
  {
   "cell_type": "code",
   "execution_count": 44,
   "id": "breeding-think",
   "metadata": {
    "execution": {
     "iopub.execute_input": "2021-05-19T21:28:02.906693Z",
     "iopub.status.busy": "2021-05-19T21:28:02.905935Z",
     "iopub.status.idle": "2021-05-19T21:28:02.943833Z",
     "shell.execute_reply": "2021-05-19T21:28:02.944417Z",
     "shell.execute_reply.started": "2021-05-19T21:01:48.500215Z"
    },
    "papermill": {
     "duration": 0.103529,
     "end_time": "2021-05-19T21:28:02.944628",
     "exception": false,
     "start_time": "2021-05-19T21:28:02.841099",
     "status": "completed"
    },
    "tags": []
   },
   "outputs": [],
   "source": [
    "model = Sequential()"
   ]
  },
  {
   "cell_type": "code",
   "execution_count": 45,
   "id": "bearing-gathering",
   "metadata": {
    "execution": {
     "iopub.execute_input": "2021-05-19T21:28:03.067768Z",
     "iopub.status.busy": "2021-05-19T21:28:03.066808Z",
     "iopub.status.idle": "2021-05-19T21:28:03.072468Z",
     "shell.execute_reply": "2021-05-19T21:28:03.073020Z",
     "shell.execute_reply.started": "2021-05-19T20:56:45.493322Z"
    },
    "papermill": {
     "duration": 0.068815,
     "end_time": "2021-05-19T21:28:03.073218",
     "exception": false,
     "start_time": "2021-05-19T21:28:03.004403",
     "status": "completed"
    },
    "tags": []
   },
   "outputs": [
    {
     "data": {
      "text/plain": [
       "((623, 8), (623,))"
      ]
     },
     "execution_count": 45,
     "metadata": {},
     "output_type": "execute_result"
    }
   ],
   "source": [
    "X_train.shape,y_train.shape"
   ]
  },
  {
   "cell_type": "code",
   "execution_count": 46,
   "id": "quantitative-excuse",
   "metadata": {
    "execution": {
     "iopub.execute_input": "2021-05-19T21:28:03.195897Z",
     "iopub.status.busy": "2021-05-19T21:28:03.194939Z",
     "iopub.status.idle": "2021-05-19T21:28:03.227502Z",
     "shell.execute_reply": "2021-05-19T21:28:03.228014Z",
     "shell.execute_reply.started": "2021-05-19T21:02:00.265829Z"
    },
    "papermill": {
     "duration": 0.096155,
     "end_time": "2021-05-19T21:28:03.228263",
     "exception": false,
     "start_time": "2021-05-19T21:28:03.132108",
     "status": "completed"
    },
    "tags": []
   },
   "outputs": [],
   "source": [
    "model.add(tf.keras.layers.BatchNormalization())\n",
    "model.add(Dense(8, activation='sigmoid'))\n",
    "model.add(Dense(1, activation='sigmoid'))\n",
    "model.compile(optimizer='sgd',loss='binary_crossentropy',metrics=['accuracy'])"
   ]
  },
  {
   "cell_type": "code",
   "execution_count": 47,
   "id": "experienced-likelihood",
   "metadata": {
    "execution": {
     "iopub.execute_input": "2021-05-19T21:28:03.350419Z",
     "iopub.status.busy": "2021-05-19T21:28:03.349488Z",
     "iopub.status.idle": "2021-05-19T21:28:13.727268Z",
     "shell.execute_reply": "2021-05-19T21:28:13.727794Z",
     "shell.execute_reply.started": "2021-05-19T21:02:02.754450Z"
    },
    "papermill": {
     "duration": 10.44068,
     "end_time": "2021-05-19T21:28:13.727988",
     "exception": false,
     "start_time": "2021-05-19T21:28:03.287308",
     "status": "completed"
    },
    "tags": []
   },
   "outputs": [
    {
     "name": "stdout",
     "output_type": "stream",
     "text": [
      "Epoch 1/100\n",
      "20/20 [==============================] - 1s 34ms/step - loss: 0.5793 - accuracy: 0.6403 - val_loss: 0.7344 - val_accuracy: 0.5858\n",
      "Epoch 2/100\n",
      "20/20 [==============================] - 0s 5ms/step - loss: 0.5814 - accuracy: 0.6185 - val_loss: 0.6766 - val_accuracy: 0.5858\n",
      "Epoch 3/100\n",
      "20/20 [==============================] - 0s 5ms/step - loss: 0.5291 - accuracy: 0.6552 - val_loss: 0.6376 - val_accuracy: 0.5858\n",
      "Epoch 4/100\n",
      "20/20 [==============================] - 0s 5ms/step - loss: 0.5372 - accuracy: 0.6312 - val_loss: 0.6076 - val_accuracy: 0.5858\n",
      "Epoch 5/100\n",
      "20/20 [==============================] - 0s 4ms/step - loss: 0.5187 - accuracy: 0.6316 - val_loss: 0.5821 - val_accuracy: 0.5858\n",
      "Epoch 6/100\n",
      "20/20 [==============================] - 0s 5ms/step - loss: 0.5067 - accuracy: 0.6457 - val_loss: 0.5596 - val_accuracy: 0.5896\n",
      "Epoch 7/100\n",
      "20/20 [==============================] - 0s 4ms/step - loss: 0.5116 - accuracy: 0.6337 - val_loss: 0.5392 - val_accuracy: 0.5970\n",
      "Epoch 8/100\n",
      "20/20 [==============================] - 0s 5ms/step - loss: 0.5088 - accuracy: 0.6373 - val_loss: 0.5211 - val_accuracy: 0.6269\n",
      "Epoch 9/100\n",
      "20/20 [==============================] - 0s 5ms/step - loss: 0.4694 - accuracy: 0.7272 - val_loss: 0.5035 - val_accuracy: 0.6679\n",
      "Epoch 10/100\n",
      "20/20 [==============================] - 0s 4ms/step - loss: 0.4774 - accuracy: 0.7310 - val_loss: 0.4868 - val_accuracy: 0.7127\n",
      "Epoch 11/100\n",
      "20/20 [==============================] - 0s 4ms/step - loss: 0.4685 - accuracy: 0.7823 - val_loss: 0.4710 - val_accuracy: 0.7612\n",
      "Epoch 12/100\n",
      "20/20 [==============================] - 0s 4ms/step - loss: 0.4422 - accuracy: 0.8358 - val_loss: 0.4557 - val_accuracy: 0.8246\n",
      "Epoch 13/100\n",
      "20/20 [==============================] - 0s 4ms/step - loss: 0.4306 - accuracy: 0.8555 - val_loss: 0.4409 - val_accuracy: 0.8731\n",
      "Epoch 14/100\n",
      "20/20 [==============================] - 0s 4ms/step - loss: 0.4218 - accuracy: 0.8787 - val_loss: 0.4268 - val_accuracy: 0.9216\n",
      "Epoch 15/100\n",
      "20/20 [==============================] - 0s 4ms/step - loss: 0.3921 - accuracy: 0.9422 - val_loss: 0.4129 - val_accuracy: 0.9291\n",
      "Epoch 16/100\n",
      "20/20 [==============================] - 0s 5ms/step - loss: 0.3930 - accuracy: 0.9652 - val_loss: 0.3995 - val_accuracy: 0.9552\n",
      "Epoch 17/100\n",
      "20/20 [==============================] - 0s 5ms/step - loss: 0.3912 - accuracy: 0.9557 - val_loss: 0.3864 - val_accuracy: 0.9739\n",
      "Epoch 18/100\n",
      "20/20 [==============================] - 0s 5ms/step - loss: 0.3950 - accuracy: 0.9299 - val_loss: 0.3737 - val_accuracy: 0.9813\n",
      "Epoch 19/100\n",
      "20/20 [==============================] - 0s 5ms/step - loss: 0.3631 - accuracy: 0.9632 - val_loss: 0.3614 - val_accuracy: 0.9963\n",
      "Epoch 20/100\n",
      "20/20 [==============================] - 0s 5ms/step - loss: 0.3502 - accuracy: 0.9833 - val_loss: 0.3493 - val_accuracy: 1.0000\n",
      "Epoch 21/100\n",
      "20/20 [==============================] - 0s 5ms/step - loss: 0.3440 - accuracy: 0.9853 - val_loss: 0.3377 - val_accuracy: 1.0000\n",
      "Epoch 22/100\n",
      "20/20 [==============================] - 0s 5ms/step - loss: 0.3402 - accuracy: 0.9857 - val_loss: 0.3262 - val_accuracy: 1.0000\n",
      "Epoch 23/100\n",
      "20/20 [==============================] - 0s 5ms/step - loss: 0.3294 - accuracy: 0.9825 - val_loss: 0.3150 - val_accuracy: 1.0000\n",
      "Epoch 24/100\n",
      "20/20 [==============================] - 0s 5ms/step - loss: 0.3020 - accuracy: 0.9974 - val_loss: 0.3044 - val_accuracy: 1.0000\n",
      "Epoch 25/100\n",
      "20/20 [==============================] - 0s 5ms/step - loss: 0.2983 - accuracy: 0.9937 - val_loss: 0.2940 - val_accuracy: 1.0000\n",
      "Epoch 26/100\n",
      "20/20 [==============================] - 0s 5ms/step - loss: 0.2939 - accuracy: 0.9988 - val_loss: 0.2840 - val_accuracy: 1.0000\n",
      "Epoch 27/100\n",
      "20/20 [==============================] - 0s 4ms/step - loss: 0.2869 - accuracy: 0.9956 - val_loss: 0.2742 - val_accuracy: 1.0000\n",
      "Epoch 28/100\n",
      "20/20 [==============================] - 0s 4ms/step - loss: 0.2748 - accuracy: 1.0000 - val_loss: 0.2647 - val_accuracy: 1.0000\n",
      "Epoch 29/100\n",
      "20/20 [==============================] - 0s 4ms/step - loss: 0.2685 - accuracy: 0.9998 - val_loss: 0.2552 - val_accuracy: 1.0000\n",
      "Epoch 30/100\n",
      "20/20 [==============================] - 0s 4ms/step - loss: 0.2506 - accuracy: 0.9994 - val_loss: 0.2463 - val_accuracy: 1.0000\n",
      "Epoch 31/100\n",
      "20/20 [==============================] - 0s 4ms/step - loss: 0.2480 - accuracy: 0.9991 - val_loss: 0.2377 - val_accuracy: 1.0000\n",
      "Epoch 32/100\n",
      "20/20 [==============================] - 0s 4ms/step - loss: 0.2405 - accuracy: 1.0000 - val_loss: 0.2295 - val_accuracy: 1.0000\n",
      "Epoch 33/100\n",
      "20/20 [==============================] - 0s 4ms/step - loss: 0.2365 - accuracy: 1.0000 - val_loss: 0.2217 - val_accuracy: 1.0000\n",
      "Epoch 34/100\n",
      "20/20 [==============================] - 0s 4ms/step - loss: 0.2234 - accuracy: 1.0000 - val_loss: 0.2143 - val_accuracy: 1.0000\n",
      "Epoch 35/100\n",
      "20/20 [==============================] - 0s 4ms/step - loss: 0.2214 - accuracy: 1.0000 - val_loss: 0.2070 - val_accuracy: 1.0000\n",
      "Epoch 36/100\n",
      "20/20 [==============================] - 0s 4ms/step - loss: 0.2074 - accuracy: 1.0000 - val_loss: 0.2001 - val_accuracy: 1.0000\n",
      "Epoch 37/100\n",
      "20/20 [==============================] - 0s 4ms/step - loss: 0.1993 - accuracy: 1.0000 - val_loss: 0.1937 - val_accuracy: 1.0000\n",
      "Epoch 38/100\n",
      "20/20 [==============================] - 0s 4ms/step - loss: 0.1899 - accuracy: 1.0000 - val_loss: 0.1875 - val_accuracy: 1.0000\n",
      "Epoch 39/100\n",
      "20/20 [==============================] - 0s 4ms/step - loss: 0.1935 - accuracy: 1.0000 - val_loss: 0.1812 - val_accuracy: 1.0000\n",
      "Epoch 40/100\n",
      "20/20 [==============================] - 0s 4ms/step - loss: 0.1885 - accuracy: 1.0000 - val_loss: 0.1751 - val_accuracy: 1.0000\n",
      "Epoch 41/100\n",
      "20/20 [==============================] - 0s 5ms/step - loss: 0.1822 - accuracy: 1.0000 - val_loss: 0.1694 - val_accuracy: 1.0000\n",
      "Epoch 42/100\n",
      "20/20 [==============================] - 0s 4ms/step - loss: 0.1789 - accuracy: 1.0000 - val_loss: 0.1638 - val_accuracy: 1.0000\n",
      "Epoch 43/100\n",
      "20/20 [==============================] - 0s 4ms/step - loss: 0.1687 - accuracy: 1.0000 - val_loss: 0.1587 - val_accuracy: 1.0000\n",
      "Epoch 44/100\n",
      "20/20 [==============================] - 0s 4ms/step - loss: 0.1642 - accuracy: 1.0000 - val_loss: 0.1538 - val_accuracy: 1.0000\n",
      "Epoch 45/100\n",
      "20/20 [==============================] - 0s 4ms/step - loss: 0.1634 - accuracy: 1.0000 - val_loss: 0.1494 - val_accuracy: 1.0000\n",
      "Epoch 46/100\n",
      "20/20 [==============================] - 0s 4ms/step - loss: 0.1664 - accuracy: 0.9984 - val_loss: 0.1445 - val_accuracy: 1.0000\n",
      "Epoch 47/100\n",
      "20/20 [==============================] - 0s 4ms/step - loss: 0.1470 - accuracy: 1.0000 - val_loss: 0.1403 - val_accuracy: 1.0000\n",
      "Epoch 48/100\n",
      "20/20 [==============================] - 0s 4ms/step - loss: 0.1478 - accuracy: 1.0000 - val_loss: 0.1359 - val_accuracy: 1.0000\n",
      "Epoch 49/100\n",
      "20/20 [==============================] - 0s 5ms/step - loss: 0.1390 - accuracy: 1.0000 - val_loss: 0.1322 - val_accuracy: 1.0000\n",
      "Epoch 50/100\n",
      "20/20 [==============================] - 0s 4ms/step - loss: 0.1366 - accuracy: 1.0000 - val_loss: 0.1285 - val_accuracy: 1.0000\n",
      "Epoch 51/100\n",
      "20/20 [==============================] - 0s 5ms/step - loss: 0.1332 - accuracy: 1.0000 - val_loss: 0.1251 - val_accuracy: 1.0000\n",
      "Epoch 52/100\n",
      "20/20 [==============================] - 0s 4ms/step - loss: 0.1320 - accuracy: 1.0000 - val_loss: 0.1218 - val_accuracy: 1.0000\n",
      "Epoch 53/100\n",
      "20/20 [==============================] - 0s 4ms/step - loss: 0.1312 - accuracy: 1.0000 - val_loss: 0.1185 - val_accuracy: 1.0000\n",
      "Epoch 54/100\n",
      "20/20 [==============================] - 0s 4ms/step - loss: 0.1272 - accuracy: 1.0000 - val_loss: 0.1151 - val_accuracy: 1.0000\n",
      "Epoch 55/100\n",
      "20/20 [==============================] - 0s 4ms/step - loss: 0.1223 - accuracy: 1.0000 - val_loss: 0.1119 - val_accuracy: 1.0000\n",
      "Epoch 56/100\n",
      "20/20 [==============================] - 0s 4ms/step - loss: 0.1207 - accuracy: 1.0000 - val_loss: 0.1090 - val_accuracy: 1.0000\n",
      "Epoch 57/100\n",
      "20/20 [==============================] - 0s 5ms/step - loss: 0.1120 - accuracy: 1.0000 - val_loss: 0.1065 - val_accuracy: 1.0000\n",
      "Epoch 58/100\n",
      "20/20 [==============================] - 0s 4ms/step - loss: 0.1127 - accuracy: 1.0000 - val_loss: 0.1038 - val_accuracy: 1.0000\n",
      "Epoch 59/100\n",
      "20/20 [==============================] - 0s 4ms/step - loss: 0.1128 - accuracy: 1.0000 - val_loss: 0.1010 - val_accuracy: 1.0000\n",
      "Epoch 60/100\n",
      "20/20 [==============================] - 0s 4ms/step - loss: 0.1056 - accuracy: 1.0000 - val_loss: 0.0985 - val_accuracy: 1.0000\n",
      "Epoch 61/100\n",
      "20/20 [==============================] - 0s 4ms/step - loss: 0.1032 - accuracy: 1.0000 - val_loss: 0.0962 - val_accuracy: 1.0000\n",
      "Epoch 62/100\n",
      "20/20 [==============================] - 0s 4ms/step - loss: 0.0984 - accuracy: 1.0000 - val_loss: 0.0940 - val_accuracy: 1.0000\n",
      "Epoch 63/100\n",
      "20/20 [==============================] - 0s 4ms/step - loss: 0.0982 - accuracy: 1.0000 - val_loss: 0.0918 - val_accuracy: 1.0000\n",
      "Epoch 64/100\n",
      "20/20 [==============================] - 0s 4ms/step - loss: 0.1018 - accuracy: 1.0000 - val_loss: 0.0898 - val_accuracy: 1.0000\n",
      "Epoch 65/100\n",
      "20/20 [==============================] - 0s 5ms/step - loss: 0.0932 - accuracy: 1.0000 - val_loss: 0.0880 - val_accuracy: 1.0000\n",
      "Epoch 66/100\n",
      "20/20 [==============================] - 0s 5ms/step - loss: 0.0936 - accuracy: 1.0000 - val_loss: 0.0860 - val_accuracy: 1.0000\n",
      "Epoch 67/100\n",
      "20/20 [==============================] - 0s 4ms/step - loss: 0.0996 - accuracy: 1.0000 - val_loss: 0.0840 - val_accuracy: 1.0000\n",
      "Epoch 68/100\n",
      "20/20 [==============================] - 0s 5ms/step - loss: 0.0915 - accuracy: 1.0000 - val_loss: 0.0823 - val_accuracy: 1.0000\n",
      "Epoch 69/100\n",
      "20/20 [==============================] - 0s 4ms/step - loss: 0.0879 - accuracy: 1.0000 - val_loss: 0.0806 - val_accuracy: 1.0000\n",
      "Epoch 70/100\n",
      "20/20 [==============================] - 0s 4ms/step - loss: 0.0833 - accuracy: 1.0000 - val_loss: 0.0790 - val_accuracy: 1.0000\n",
      "Epoch 71/100\n",
      "20/20 [==============================] - 0s 4ms/step - loss: 0.0814 - accuracy: 1.0000 - val_loss: 0.0775 - val_accuracy: 1.0000\n",
      "Epoch 72/100\n",
      "20/20 [==============================] - 0s 4ms/step - loss: 0.0843 - accuracy: 1.0000 - val_loss: 0.0759 - val_accuracy: 1.0000\n",
      "Epoch 73/100\n",
      "20/20 [==============================] - 0s 4ms/step - loss: 0.0824 - accuracy: 1.0000 - val_loss: 0.0743 - val_accuracy: 1.0000\n",
      "Epoch 74/100\n",
      "20/20 [==============================] - 0s 5ms/step - loss: 0.0773 - accuracy: 1.0000 - val_loss: 0.0728 - val_accuracy: 1.0000\n",
      "Epoch 75/100\n",
      "20/20 [==============================] - 0s 5ms/step - loss: 0.0773 - accuracy: 1.0000 - val_loss: 0.0715 - val_accuracy: 1.0000\n",
      "Epoch 76/100\n",
      "20/20 [==============================] - 0s 4ms/step - loss: 0.0767 - accuracy: 1.0000 - val_loss: 0.0702 - val_accuracy: 1.0000\n",
      "Epoch 77/100\n",
      "20/20 [==============================] - 0s 4ms/step - loss: 0.0731 - accuracy: 1.0000 - val_loss: 0.0689 - val_accuracy: 1.0000\n",
      "Epoch 78/100\n",
      "20/20 [==============================] - 0s 4ms/step - loss: 0.0714 - accuracy: 1.0000 - val_loss: 0.0676 - val_accuracy: 1.0000\n",
      "Epoch 79/100\n",
      "20/20 [==============================] - 0s 4ms/step - loss: 0.0680 - accuracy: 1.0000 - val_loss: 0.0665 - val_accuracy: 1.0000\n",
      "Epoch 80/100\n",
      "20/20 [==============================] - 0s 4ms/step - loss: 0.0710 - accuracy: 1.0000 - val_loss: 0.0654 - val_accuracy: 1.0000\n",
      "Epoch 81/100\n",
      "20/20 [==============================] - 0s 4ms/step - loss: 0.0692 - accuracy: 1.0000 - val_loss: 0.0642 - val_accuracy: 1.0000\n",
      "Epoch 82/100\n",
      "20/20 [==============================] - 0s 4ms/step - loss: 0.0679 - accuracy: 1.0000 - val_loss: 0.0630 - val_accuracy: 1.0000\n",
      "Epoch 83/100\n",
      "20/20 [==============================] - 0s 5ms/step - loss: 0.0661 - accuracy: 1.0000 - val_loss: 0.0619 - val_accuracy: 1.0000\n",
      "Epoch 84/100\n",
      "20/20 [==============================] - 0s 4ms/step - loss: 0.0639 - accuracy: 1.0000 - val_loss: 0.0609 - val_accuracy: 1.0000\n",
      "Epoch 85/100\n",
      "20/20 [==============================] - 0s 4ms/step - loss: 0.0645 - accuracy: 1.0000 - val_loss: 0.0600 - val_accuracy: 1.0000\n",
      "Epoch 86/100\n",
      "20/20 [==============================] - 0s 5ms/step - loss: 0.0624 - accuracy: 1.0000 - val_loss: 0.0588 - val_accuracy: 1.0000\n",
      "Epoch 87/100\n",
      "20/20 [==============================] - 0s 4ms/step - loss: 0.0624 - accuracy: 1.0000 - val_loss: 0.0579 - val_accuracy: 1.0000\n",
      "Epoch 88/100\n",
      "20/20 [==============================] - 0s 4ms/step - loss: 0.0637 - accuracy: 1.0000 - val_loss: 0.0569 - val_accuracy: 1.0000\n",
      "Epoch 89/100\n",
      "20/20 [==============================] - 0s 4ms/step - loss: 0.0581 - accuracy: 1.0000 - val_loss: 0.0561 - val_accuracy: 1.0000\n",
      "Epoch 90/100\n",
      "20/20 [==============================] - 0s 4ms/step - loss: 0.0572 - accuracy: 1.0000 - val_loss: 0.0552 - val_accuracy: 1.0000\n",
      "Epoch 91/100\n",
      "20/20 [==============================] - 0s 5ms/step - loss: 0.0592 - accuracy: 1.0000 - val_loss: 0.0544 - val_accuracy: 1.0000\n",
      "Epoch 92/100\n",
      "20/20 [==============================] - 0s 5ms/step - loss: 0.0606 - accuracy: 1.0000 - val_loss: 0.0534 - val_accuracy: 1.0000\n",
      "Epoch 93/100\n",
      "20/20 [==============================] - 0s 4ms/step - loss: 0.0570 - accuracy: 1.0000 - val_loss: 0.0526 - val_accuracy: 1.0000\n",
      "Epoch 94/100\n",
      "20/20 [==============================] - 0s 4ms/step - loss: 0.0602 - accuracy: 1.0000 - val_loss: 0.0517 - val_accuracy: 1.0000\n",
      "Epoch 95/100\n",
      "20/20 [==============================] - 0s 4ms/step - loss: 0.0568 - accuracy: 1.0000 - val_loss: 0.0510 - val_accuracy: 1.0000\n",
      "Epoch 96/100\n",
      "20/20 [==============================] - 0s 4ms/step - loss: 0.0577 - accuracy: 1.0000 - val_loss: 0.0503 - val_accuracy: 1.0000\n",
      "Epoch 97/100\n",
      "20/20 [==============================] - 0s 5ms/step - loss: 0.0538 - accuracy: 1.0000 - val_loss: 0.0497 - val_accuracy: 1.0000\n",
      "Epoch 98/100\n",
      "20/20 [==============================] - 0s 5ms/step - loss: 0.0542 - accuracy: 1.0000 - val_loss: 0.0490 - val_accuracy: 1.0000\n",
      "Epoch 99/100\n",
      "20/20 [==============================] - 0s 5ms/step - loss: 0.0509 - accuracy: 1.0000 - val_loss: 0.0483 - val_accuracy: 1.0000\n",
      "Epoch 100/100\n",
      "20/20 [==============================] - 0s 5ms/step - loss: 0.0498 - accuracy: 1.0000 - val_loss: 0.0477 - val_accuracy: 1.0000\n"
     ]
    },
    {
     "data": {
      "text/plain": [
       "<tensorflow.python.keras.callbacks.History at 0x7f2aa005cb10>"
      ]
     },
     "execution_count": 47,
     "metadata": {},
     "output_type": "execute_result"
    }
   ],
   "source": [
    "model.fit(X_train,y_train,epochs=100,verbose=1,validation_data=(X_test,y_test),batch_size=32)"
   ]
  },
  {
   "cell_type": "code",
   "execution_count": 48,
   "id": "immediate-eclipse",
   "metadata": {
    "execution": {
     "iopub.execute_input": "2021-05-19T21:28:13.972557Z",
     "iopub.status.busy": "2021-05-19T21:28:13.971909Z",
     "iopub.status.idle": "2021-05-19T21:28:13.978673Z",
     "shell.execute_reply": "2021-05-19T21:28:13.979208Z",
     "shell.execute_reply.started": "2021-05-19T21:02:52.727061Z"
    },
    "papermill": {
     "duration": 0.130676,
     "end_time": "2021-05-19T21:28:13.979381",
     "exception": false,
     "start_time": "2021-05-19T21:28:13.848705",
     "status": "completed"
    },
    "tags": []
   },
   "outputs": [],
   "source": [
    "result = pd.DataFrame(model.history.history)"
   ]
  },
  {
   "cell_type": "code",
   "execution_count": 49,
   "id": "white-bargain",
   "metadata": {
    "execution": {
     "iopub.execute_input": "2021-05-19T21:28:14.226866Z",
     "iopub.status.busy": "2021-05-19T21:28:14.226225Z",
     "iopub.status.idle": "2021-05-19T21:28:14.432994Z",
     "shell.execute_reply": "2021-05-19T21:28:14.433503Z",
     "shell.execute_reply.started": "2021-05-19T21:03:01.077122Z"
    },
    "papermill": {
     "duration": 0.333159,
     "end_time": "2021-05-19T21:28:14.433682",
     "exception": false,
     "start_time": "2021-05-19T21:28:14.100523",
     "status": "completed"
    },
    "tags": []
   },
   "outputs": [
    {
     "data": {
      "text/plain": [
       "<AxesSubplot:>"
      ]
     },
     "execution_count": 49,
     "metadata": {},
     "output_type": "execute_result"
    },
    {
     "data": {
      "image/png": "[encoded data removed]",
      "text/plain": [
       "<Figure size 432x288 with 1 Axes>"
      ]
     },
     "metadata": {
      "needs_background": "light"
     },
     "output_type": "display_data"
    }
   ],
   "source": [
    "result.plot()"
   ]
  },
  {
   "cell_type": "code",
   "execution_count": 50,
   "id": "bottom-newspaper",
   "metadata": {
    "execution": {
     "iopub.execute_input": "2021-05-19T21:28:14.683516Z",
     "iopub.status.busy": "2021-05-19T21:28:14.682902Z",
     "iopub.status.idle": "2021-05-19T21:28:14.844892Z",
     "shell.execute_reply": "2021-05-19T21:28:14.843312Z",
     "shell.execute_reply.started": "2021-05-19T21:06:10.191962Z"
    },
    "papermill": {
     "duration": 0.288371,
     "end_time": "2021-05-19T21:28:14.845108",
     "exception": false,
     "start_time": "2021-05-19T21:28:14.556737",
     "status": "completed"
    },
    "tags": []
   },
   "outputs": [
    {
     "name": "stdout",
     "output_type": "stream",
     "text": [
      "Survived\n",
      "Survived\n",
      "Survived\n",
      "Survived\n",
      "Survived\n",
      "Survived\n",
      "Survived\n",
      "Survived\n",
      "Survived\n",
      "Survived\n",
      "Survived\n",
      "Survived\n",
      "Survived\n",
      "Survived\n",
      "Survived\n",
      "Survived\n",
      "Survived\n",
      "Survived\n",
      "Survived\n",
      "Survived\n",
      "Survived\n",
      "Survived\n",
      "Survived\n",
      "Survived\n",
      "Survived\n",
      "Survived\n",
      "Survived\n",
      "Survived\n",
      "Survived\n",
      "Survived\n",
      "Survived\n",
      "Survived\n",
      "Survived\n",
      "Survived\n",
      "Survived\n",
      "Survived\n",
      "Survived\n",
      "Survived\n",
      "Survived\n",
      "Survived\n",
      "Survived\n",
      "Survived\n",
      "Survived\n",
      "Survived\n",
      "Survived\n",
      "Survived\n",
      "Survived\n",
      "Survived\n",
      "Survived\n",
      "Survived\n",
      "Survived\n",
      "Survived\n",
      "Survived\n",
      "Survived\n",
      "Survived\n",
      "Survived\n",
      "Survived\n",
      "Survived\n",
      "Survived\n",
      "Survived\n",
      "Survived\n",
      "Survived\n",
      "Survived\n",
      "Survived\n",
      "Survived\n",
      "Survived\n",
      "Survived\n",
      "Survived\n",
      "Survived\n",
      "Survived\n",
      "Survived\n",
      "Survived\n",
      "Survived\n",
      "Survived\n",
      "Survived\n",
      "Survived\n",
      "Survived\n",
      "Survived\n",
      "Survived\n",
      "Survived\n",
      "Survived\n",
      "Survived\n",
      "Survived\n",
      "Survived\n",
      "Survived\n",
      "Survived\n",
      "Survived\n",
      "Survived\n",
      "Survived\n",
      "Survived\n",
      "Survived\n",
      "Survived\n",
      "Survived\n",
      "Survived\n",
      "Survived\n",
      "Survived\n",
      "Survived\n",
      "Survived\n",
      "Survived\n",
      "Survived\n",
      "Survived\n",
      "Survived\n",
      "Survived\n",
      "Survived\n",
      "Survived\n",
      "Survived\n",
      "Survived\n",
      "Survived\n",
      "Survived\n",
      "Survived\n",
      "Survived\n",
      "Survived\n",
      "Survived\n",
      "Survived\n",
      "Survived\n",
      "Survived\n",
      "Survived\n",
      "Survived\n",
      "Survived\n",
      "Survived\n",
      "Survived\n",
      "Survived\n",
      "Survived\n",
      "Survived\n",
      "Survived\n",
      "Survived\n",
      "Survived\n",
      "Survived\n",
      "Survived\n",
      "Survived\n",
      "Survived\n",
      "Survived\n",
      "Survived\n",
      "Survived\n",
      "Survived\n",
      "Survived\n",
      "Survived\n",
      "Survived\n",
      "Survived\n",
      "Survived\n",
      "Survived\n",
      "Survived\n",
      "Survived\n",
      "Survived\n",
      "Survived\n",
      "Survived\n",
      "Survived\n",
      "Survived\n",
      "Survived\n",
      "Survived\n",
      "Survived\n",
      "Survived\n",
      "Survived\n",
      "Survived\n",
      "Survived\n",
      "Survived\n",
      "Survived\n",
      "Survived\n",
      "Survived\n",
      "Survived\n",
      "Survived\n",
      "Survived\n",
      "Survived\n",
      "Survived\n",
      "Survived\n",
      "Survived\n",
      "Survived\n",
      "Survived\n",
      "Survived\n",
      "Survived\n",
      "Survived\n",
      "Survived\n",
      "Survived\n",
      "Survived\n",
      "Survived\n",
      "Survived\n",
      "Survived\n",
      "Survived\n",
      "Survived\n",
      "Survived\n",
      "Survived\n",
      "Survived\n",
      "Survived\n",
      "Survived\n",
      "Survived\n",
      "Survived\n",
      "Survived\n",
      "Survived\n",
      "Survived\n",
      "Survived\n",
      "Survived\n",
      "Survived\n",
      "Survived\n",
      "Survived\n",
      "Survived\n",
      "Survived\n",
      "Survived\n",
      "Survived\n",
      "Survived\n",
      "Survived\n",
      "Survived\n",
      "Not Survived\n",
      "Survived\n",
      "Survived\n",
      "Survived\n",
      "Survived\n",
      "Survived\n",
      "Survived\n",
      "Survived\n",
      "Survived\n",
      "Survived\n",
      "Survived\n",
      "Survived\n",
      "Survived\n",
      "Survived\n",
      "Survived\n",
      "Survived\n",
      "Survived\n",
      "Survived\n",
      "Survived\n",
      "Survived\n",
      "Survived\n",
      "Survived\n",
      "Survived\n",
      "Survived\n",
      "Survived\n",
      "Survived\n",
      "Survived\n",
      "Survived\n",
      "Survived\n",
      "Survived\n",
      "Survived\n",
      "Survived\n",
      "Survived\n",
      "Survived\n",
      "Survived\n",
      "Survived\n",
      "Survived\n",
      "Survived\n",
      "Survived\n",
      "Survived\n",
      "Survived\n",
      "Survived\n",
      "Survived\n",
      "Survived\n",
      "Survived\n",
      "Survived\n",
      "Survived\n",
      "Survived\n",
      "Survived\n",
      "Survived\n",
      "Survived\n",
      "Survived\n",
      "Survived\n",
      "Survived\n",
      "Survived\n",
      "Survived\n",
      "Survived\n",
      "Survived\n",
      "Survived\n",
      "Survived\n",
      "Survived\n",
      "Survived\n",
      "Survived\n",
      "Survived\n",
      "Survived\n",
      "Survived\n",
      "Survived\n",
      "Survived\n",
      "Survived\n",
      "Survived\n",
      "Survived\n",
      "Survived\n",
      "Survived\n",
      "Survived\n",
      "Survived\n",
      "Survived\n",
      "Survived\n",
      "Survived\n",
      "Survived\n",
      "Survived\n",
      "Survived\n",
      "Survived\n",
      "Survived\n",
      "Survived\n",
      "Survived\n",
      "Survived\n",
      "Survived\n",
      "Survived\n",
      "Survived\n",
      "Survived\n",
      "Survived\n",
      "Survived\n",
      "Survived\n",
      "Survived\n",
      "Survived\n",
      "Survived\n",
      "Survived\n",
      "Survived\n",
      "Survived\n",
      "Survived\n",
      "Survived\n",
      "Survived\n",
      "Survived\n",
      "Survived\n",
      "Survived\n",
      "Survived\n",
      "Survived\n",
      "Survived\n",
      "Survived\n",
      "Survived\n",
      "Survived\n",
      "Survived\n",
      "Survived\n",
      "Survived\n",
      "Survived\n",
      "Survived\n",
      "Survived\n",
      "Survived\n",
      "Survived\n",
      "Survived\n",
      "Survived\n",
      "Survived\n",
      "Survived\n",
      "Survived\n",
      "Survived\n",
      "Survived\n",
      "Survived\n",
      "Survived\n",
      "Survived\n",
      "Survived\n",
      "Survived\n",
      "Survived\n",
      "Survived\n",
      "Survived\n",
      "Survived\n",
      "Survived\n",
      "Survived\n",
      "Survived\n",
      "Survived\n",
      "Survived\n",
      "Survived\n",
      "Survived\n",
      "Survived\n",
      "Survived\n",
      "Survived\n",
      "Survived\n",
      "Survived\n",
      "Survived\n",
      "Survived\n",
      "Survived\n",
      "Survived\n",
      "Survived\n",
      "Survived\n",
      "Not Survived\n",
      "Survived\n",
      "Survived\n",
      "Survived\n",
      "Survived\n",
      "Survived\n",
      "Survived\n",
      "Survived\n",
      "Survived\n",
      "Survived\n",
      "Survived\n",
      "Survived\n",
      "Survived\n",
      "Survived\n",
      "Survived\n",
      "Survived\n",
      "Survived\n",
      "Survived\n",
      "Survived\n",
      "Survived\n",
      "Survived\n",
      "Survived\n",
      "Survived\n",
      "Survived\n",
      "Survived\n",
      "Survived\n",
      "Survived\n",
      "Survived\n",
      "Survived\n",
      "Survived\n",
      "Survived\n",
      "Survived\n",
      "Survived\n",
      "Survived\n",
      "Survived\n",
      "Survived\n",
      "Survived\n",
      "Survived\n",
      "Survived\n",
      "Survived\n",
      "Survived\n",
      "Survived\n",
      "Survived\n",
      "Survived\n",
      "Survived\n",
      "Survived\n",
      "Survived\n",
      "Survived\n",
      "Survived\n",
      "Survived\n",
      "Survived\n",
      "Survived\n",
      "Survived\n",
      "Survived\n",
      "Survived\n",
      "Survived\n",
      "Survived\n",
      "Survived\n",
      "Survived\n",
      "Survived\n",
      "Survived\n",
      "Survived\n",
      "Survived\n",
      "Survived\n"
     ]
    }
   ],
   "source": [
    "for i in model.predict(df_test):\n",
    "    if i > 0.5:\n",
    "        print('Survived')\n",
    "    else:\n",
    "        print('Not Survived')"
   ]
  }
 ],
 "metadata": {
  "kernelspec": {
   "display_name": "Python 3",
   "language": "python",
   "name": "python3"
  },
  "language_info": {
   "codemirror_mode": {
    "name": "ipython",
    "version": 3
   },
   "file_extension": ".py",
   "mimetype": "text/x-python",
   "name": "python",
   "nbconvert_exporter": "python",
   "pygments_lexer": "ipython3",
   "version": "3.7.9"
  },
  "papermill": {
   "default_parameters": {},
   "duration": 43.756099,
   "end_time": "2021-05-19T21:28:16.886438",
   "environment_variables": {},
   "exception": null,
   "input_path": "__notebook__.ipynb",
   "output_path": "__notebook__.ipynb",
   "parameters": {},
   "start_time": "2021-05-19T21:27:33.130339",
   "version": "2.3.2"
  }
 },
 "nbformat": 4,
 "nbformat_minor": 5
}
