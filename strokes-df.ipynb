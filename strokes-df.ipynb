{
 "cells": [
  {
   "cell_type": "code",
   "execution_count": 1,
   "metadata": {
    "_cell_guid": "b1076dfc-b9ad-4769-8c92-a6c4dae69d19",
    "_uuid": "8f2839f25d086af736a60e9eeb907d3b93b6e0e5",
    "execution": {
     "iopub.execute_input": "2021-03-09T09:56:37.173186Z",
     "iopub.status.busy": "2021-03-09T09:56:37.172329Z",
     "iopub.status.idle": "2021-03-09T09:56:39.264554Z",
     "shell.execute_reply": "2021-03-09T09:56:39.263692Z"
    },
    "papermill": {
     "duration": 2.145285,
     "end_time": "2021-03-09T09:56:39.264836",
     "exception": false,
     "start_time": "2021-03-09T09:56:37.119551",
     "status": "completed"
    },
    "tags": []
   },
   "outputs": [],
   "source": [
    "import numpy as np\n",
    "import pandas as pd\n",
    "import matplotlib.pyplot as plt\n",
    "import seaborn as sns\n",
    "import statsmodels.api as sm"
   ]
  },
  {
   "cell_type": "code",
   "execution_count": 2,
   "metadata": {
    "execution": {
     "iopub.execute_input": "2021-03-09T09:56:39.355863Z",
     "iopub.status.busy": "2021-03-09T09:56:39.355116Z",
     "iopub.status.idle": "2021-03-09T09:56:39.393790Z",
     "shell.execute_reply": "2021-03-09T09:56:39.393125Z"
    },
    "papermill": {
     "duration": 0.086055,
     "end_time": "2021-03-09T09:56:39.393950",
     "exception": false,
     "start_time": "2021-03-09T09:56:39.307895",
     "status": "completed"
    },
    "tags": []
   },
   "outputs": [],
   "source": [
    "df = pd.read_csv('../input/stroke-prediction-dataset/healthcare-dataset-stroke-data.csv')"
   ]
  },
  {
   "cell_type": "code",
   "execution_count": 3,
   "metadata": {
    "execution": {
     "iopub.execute_input": "2021-03-09T09:56:39.505460Z",
     "iopub.status.busy": "2021-03-09T09:56:39.504741Z",
     "iopub.status.idle": "2021-03-09T09:56:39.536613Z",
     "shell.execute_reply": "2021-03-09T09:56:39.535963Z"
    },
    "papermill": {
     "duration": 0.097032,
     "end_time": "2021-03-09T09:56:39.536764",
     "exception": false,
     "start_time": "2021-03-09T09:56:39.439732",
     "status": "completed"
    },
    "tags": []
   },
   "outputs": [
    {
     "data": {
      "text/html": [
       "<div>\n",
       "<style scoped>\n",
       "    .dataframe tbody tr th:only-of-type {\n",
       "        vertical-align: middle;\n",
       "    }\n",
       "\n",
       "    .dataframe tbody tr th {\n",
       "        vertical-align: top;\n",
       "    }\n",
       "\n",
       "    .dataframe thead th {\n",
       "        text-align: right;\n",
       "    }\n",
       "</style>\n",
       "<table border=\"1\" class=\"dataframe\">\n",
       "  <thead>\n",
       "    <tr style=\"text-align: right;\">\n",
       "      <th></th>\n",
       "      <th>id</th>\n",
       "      <th>gender</th>\n",
       "      <th>age</th>\n",
       "      <th>hypertension</th>\n",
       "      <th>heart_disease</th>\n",
       "      <th>ever_married</th>\n",
       "      <th>work_type</th>\n",
       "      <th>Residence_type</th>\n",
       "      <th>avg_glucose_level</th>\n",
       "      <th>bmi</th>\n",
       "      <th>smoking_status</th>\n",
       "      <th>stroke</th>\n",
       "    </tr>\n",
       "  </thead>\n",
       "  <tbody>\n",
       "    <tr>\n",
       "      <th>0</th>\n",
       "      <td>9046</td>\n",
       "      <td>Male</td>\n",
       "      <td>67.0</td>\n",
       "      <td>0</td>\n",
       "      <td>1</td>\n",
       "      <td>Yes</td>\n",
       "      <td>Private</td>\n",
       "      <td>Urban</td>\n",
       "      <td>228.69</td>\n",
       "      <td>36.6</td>\n",
       "      <td>formerly smoked</td>\n",
       "      <td>1</td>\n",
       "    </tr>\n",
       "    <tr>\n",
       "      <th>1</th>\n",
       "      <td>51676</td>\n",
       "      <td>Female</td>\n",
       "      <td>61.0</td>\n",
       "      <td>0</td>\n",
       "      <td>0</td>\n",
       "      <td>Yes</td>\n",
       "      <td>Self-employed</td>\n",
       "      <td>Rural</td>\n",
       "      <td>202.21</td>\n",
       "      <td>NaN</td>\n",
       "      <td>never smoked</td>\n",
       "      <td>1</td>\n",
       "    </tr>\n",
       "    <tr>\n",
       "      <th>2</th>\n",
       "      <td>31112</td>\n",
       "      <td>Male</td>\n",
       "      <td>80.0</td>\n",
       "      <td>0</td>\n",
       "      <td>1</td>\n",
       "      <td>Yes</td>\n",
       "      <td>Private</td>\n",
       "      <td>Rural</td>\n",
       "      <td>105.92</td>\n",
       "      <td>32.5</td>\n",
       "      <td>never smoked</td>\n",
       "      <td>1</td>\n",
       "    </tr>\n",
       "    <tr>\n",
       "      <th>3</th>\n",
       "      <td>60182</td>\n",
       "      <td>Female</td>\n",
       "      <td>49.0</td>\n",
       "      <td>0</td>\n",
       "      <td>0</td>\n",
       "      <td>Yes</td>\n",
       "      <td>Private</td>\n",
       "      <td>Urban</td>\n",
       "      <td>171.23</td>\n",
       "      <td>34.4</td>\n",
       "      <td>smokes</td>\n",
       "      <td>1</td>\n",
       "    </tr>\n",
       "    <tr>\n",
       "      <th>4</th>\n",
       "      <td>1665</td>\n",
       "      <td>Female</td>\n",
       "      <td>79.0</td>\n",
       "      <td>1</td>\n",
       "      <td>0</td>\n",
       "      <td>Yes</td>\n",
       "      <td>Self-employed</td>\n",
       "      <td>Rural</td>\n",
       "      <td>174.12</td>\n",
       "      <td>24.0</td>\n",
       "      <td>never smoked</td>\n",
       "      <td>1</td>\n",
       "    </tr>\n",
       "    <tr>\n",
       "      <th>...</th>\n",
       "      <td>...</td>\n",
       "      <td>...</td>\n",
       "      <td>...</td>\n",
       "      <td>...</td>\n",
       "      <td>...</td>\n",
       "      <td>...</td>\n",
       "      <td>...</td>\n",
       "      <td>...</td>\n",
       "      <td>...</td>\n",
       "      <td>...</td>\n",
       "      <td>...</td>\n",
       "      <td>...</td>\n",
       "    </tr>\n",
       "    <tr>\n",
       "      <th>5105</th>\n",
       "      <td>18234</td>\n",
       "      <td>Female</td>\n",
       "      <td>80.0</td>\n",
       "      <td>1</td>\n",
       "      <td>0</td>\n",
       "      <td>Yes</td>\n",
       "      <td>Private</td>\n",
       "      <td>Urban</td>\n",
       "      <td>83.75</td>\n",
       "      <td>NaN</td>\n",
       "      <td>never smoked</td>\n",
       "      <td>0</td>\n",
       "    </tr>\n",
       "    <tr>\n",
       "      <th>5106</th>\n",
       "      <td>44873</td>\n",
       "      <td>Female</td>\n",
       "      <td>81.0</td>\n",
       "      <td>0</td>\n",
       "      <td>0</td>\n",
       "      <td>Yes</td>\n",
       "      <td>Self-employed</td>\n",
       "      <td>Urban</td>\n",
       "      <td>125.20</td>\n",
       "      <td>40.0</td>\n",
       "      <td>never smoked</td>\n",
       "      <td>0</td>\n",
       "    </tr>\n",
       "    <tr>\n",
       "      <th>5107</th>\n",
       "      <td>19723</td>\n",
       "      <td>Female</td>\n",
       "      <td>35.0</td>\n",
       "      <td>0</td>\n",
       "      <td>0</td>\n",
       "      <td>Yes</td>\n",
       "      <td>Self-employed</td>\n",
       "      <td>Rural</td>\n",
       "      <td>82.99</td>\n",
       "      <td>30.6</td>\n",
       "      <td>never smoked</td>\n",
       "      <td>0</td>\n",
       "    </tr>\n",
       "    <tr>\n",
       "      <th>5108</th>\n",
       "      <td>37544</td>\n",
       "      <td>Male</td>\n",
       "      <td>51.0</td>\n",
       "      <td>0</td>\n",
       "      <td>0</td>\n",
       "      <td>Yes</td>\n",
       "      <td>Private</td>\n",
       "      <td>Rural</td>\n",
       "      <td>166.29</td>\n",
       "      <td>25.6</td>\n",
       "      <td>formerly smoked</td>\n",
       "      <td>0</td>\n",
       "    </tr>\n",
       "    <tr>\n",
       "      <th>5109</th>\n",
       "      <td>44679</td>\n",
       "      <td>Female</td>\n",
       "      <td>44.0</td>\n",
       "      <td>0</td>\n",
       "      <td>0</td>\n",
       "      <td>Yes</td>\n",
       "      <td>Govt_job</td>\n",
       "      <td>Urban</td>\n",
       "      <td>85.28</td>\n",
       "      <td>26.2</td>\n",
       "      <td>Unknown</td>\n",
       "      <td>0</td>\n",
       "    </tr>\n",
       "  </tbody>\n",
       "</table>\n",
       "<p>5110 rows × 12 columns</p>\n",
       "</div>"
      ],
      "text/plain": [
       "         id  gender   age  hypertension  heart_disease ever_married  \\\n",
       "0      9046    Male  67.0             0              1          Yes   \n",
       "1     51676  Female  61.0             0              0          Yes   \n",
       "2     31112    Male  80.0             0              1          Yes   \n",
       "3     60182  Female  49.0             0              0          Yes   \n",
       "4      1665  Female  79.0             1              0          Yes   \n",
       "...     ...     ...   ...           ...            ...          ...   \n",
       "5105  18234  Female  80.0             1              0          Yes   \n",
       "5106  44873  Female  81.0             0              0          Yes   \n",
       "5107  19723  Female  35.0             0              0          Yes   \n",
       "5108  37544    Male  51.0             0              0          Yes   \n",
       "5109  44679  Female  44.0             0              0          Yes   \n",
       "\n",
       "          work_type Residence_type  avg_glucose_level   bmi   smoking_status  \\\n",
       "0           Private          Urban             228.69  36.6  formerly smoked   \n",
       "1     Self-employed          Rural             202.21   NaN     never smoked   \n",
       "2           Private          Rural             105.92  32.5     never smoked   \n",
       "3           Private          Urban             171.23  34.4           smokes   \n",
       "4     Self-employed          Rural             174.12  24.0     never smoked   \n",
       "...             ...            ...                ...   ...              ...   \n",
       "5105        Private          Urban              83.75   NaN     never smoked   \n",
       "5106  Self-employed          Urban             125.20  40.0     never smoked   \n",
       "5107  Self-employed          Rural              82.99  30.6     never smoked   \n",
       "5108        Private          Rural             166.29  25.6  formerly smoked   \n",
       "5109       Govt_job          Urban              85.28  26.2          Unknown   \n",
       "\n",
       "      stroke  \n",
       "0          1  \n",
       "1          1  \n",
       "2          1  \n",
       "3          1  \n",
       "4          1  \n",
       "...      ...  \n",
       "5105       0  \n",
       "5106       0  \n",
       "5107       0  \n",
       "5108       0  \n",
       "5109       0  \n",
       "\n",
       "[5110 rows x 12 columns]"
      ]
     },
     "execution_count": 3,
     "metadata": {},
     "output_type": "execute_result"
    }
   ],
   "source": [
    "df"
   ]
  },
  {
   "cell_type": "code",
   "execution_count": 4,
   "metadata": {
    "execution": {
     "iopub.execute_input": "2021-03-09T09:56:39.646498Z",
     "iopub.status.busy": "2021-03-09T09:56:39.645466Z",
     "iopub.status.idle": "2021-03-09T09:56:39.650682Z",
     "shell.execute_reply": "2021-03-09T09:56:39.650035Z"
    },
    "papermill": {
     "duration": 0.070517,
     "end_time": "2021-03-09T09:56:39.650848",
     "exception": false,
     "start_time": "2021-03-09T09:56:39.580331",
     "status": "completed"
    },
    "tags": []
   },
   "outputs": [
    {
     "name": "stdout",
     "output_type": "stream",
     "text": [
      "<class 'pandas.core.frame.DataFrame'>\n",
      "RangeIndex: 5110 entries, 0 to 5109\n",
      "Data columns (total 12 columns):\n",
      " #   Column             Non-Null Count  Dtype  \n",
      "---  ------             --------------  -----  \n",
      " 0   id                 5110 non-null   int64  \n",
      " 1   gender             5110 non-null   object \n",
      " 2   age                5110 non-null   float64\n",
      " 3   hypertension       5110 non-null   int64  \n",
      " 4   heart_disease      5110 non-null   int64  \n",
      " 5   ever_married       5110 non-null   object \n",
      " 6   work_type          5110 non-null   object \n",
      " 7   Residence_type     5110 non-null   object \n",
      " 8   avg_glucose_level  5110 non-null   float64\n",
      " 9   bmi                4909 non-null   float64\n",
      " 10  smoking_status     5110 non-null   object \n",
      " 11  stroke             5110 non-null   int64  \n",
      "dtypes: float64(3), int64(4), object(5)\n",
      "memory usage: 479.2+ KB\n"
     ]
    }
   ],
   "source": [
    "df.info()"
   ]
  },
  {
   "cell_type": "code",
   "execution_count": 5,
   "metadata": {
    "execution": {
     "iopub.execute_input": "2021-03-09T09:56:39.744893Z",
     "iopub.status.busy": "2021-03-09T09:56:39.743985Z",
     "iopub.status.idle": "2021-03-09T09:56:39.748809Z",
     "shell.execute_reply": "2021-03-09T09:56:39.747930Z"
    },
    "papermill": {
     "duration": 0.05468,
     "end_time": "2021-03-09T09:56:39.748979",
     "exception": false,
     "start_time": "2021-03-09T09:56:39.694299",
     "status": "completed"
    },
    "tags": []
   },
   "outputs": [
    {
     "data": {
      "text/plain": [
       "28.893236911794673"
      ]
     },
     "execution_count": 5,
     "metadata": {},
     "output_type": "execute_result"
    }
   ],
   "source": [
    "df['bmi'].mean()"
   ]
  },
  {
   "cell_type": "code",
   "execution_count": 6,
   "metadata": {
    "execution": {
     "iopub.execute_input": "2021-03-09T09:56:39.882391Z",
     "iopub.status.busy": "2021-03-09T09:56:39.881287Z",
     "iopub.status.idle": "2021-03-09T09:56:39.889421Z",
     "shell.execute_reply": "2021-03-09T09:56:39.888808Z"
    },
    "papermill": {
     "duration": 0.07603,
     "end_time": "2021-03-09T09:56:39.889578",
     "exception": false,
     "start_time": "2021-03-09T09:56:39.813548",
     "status": "completed"
    },
    "tags": []
   },
   "outputs": [],
   "source": [
    "df['bmi'] = df['bmi'].fillna(df['bmi'].mean(),axis=0)"
   ]
  },
  {
   "cell_type": "code",
   "execution_count": 7,
   "metadata": {
    "execution": {
     "iopub.execute_input": "2021-03-09T09:56:39.995991Z",
     "iopub.status.busy": "2021-03-09T09:56:39.995282Z",
     "iopub.status.idle": "2021-03-09T09:56:40.022005Z",
     "shell.execute_reply": "2021-03-09T09:56:40.022506Z"
    },
    "papermill": {
     "duration": 0.077683,
     "end_time": "2021-03-09T09:56:40.022722",
     "exception": false,
     "start_time": "2021-03-09T09:56:39.945039",
     "status": "completed"
    },
    "tags": []
   },
   "outputs": [
    {
     "data": {
      "text/html": [
       "<div>\n",
       "<style scoped>\n",
       "    .dataframe tbody tr th:only-of-type {\n",
       "        vertical-align: middle;\n",
       "    }\n",
       "\n",
       "    .dataframe tbody tr th {\n",
       "        vertical-align: top;\n",
       "    }\n",
       "\n",
       "    .dataframe thead th {\n",
       "        text-align: right;\n",
       "    }\n",
       "</style>\n",
       "<table border=\"1\" class=\"dataframe\">\n",
       "  <thead>\n",
       "    <tr style=\"text-align: right;\">\n",
       "      <th></th>\n",
       "      <th>id</th>\n",
       "      <th>gender</th>\n",
       "      <th>age</th>\n",
       "      <th>hypertension</th>\n",
       "      <th>heart_disease</th>\n",
       "      <th>ever_married</th>\n",
       "      <th>work_type</th>\n",
       "      <th>Residence_type</th>\n",
       "      <th>avg_glucose_level</th>\n",
       "      <th>bmi</th>\n",
       "      <th>smoking_status</th>\n",
       "      <th>stroke</th>\n",
       "    </tr>\n",
       "  </thead>\n",
       "  <tbody>\n",
       "    <tr>\n",
       "      <th>0</th>\n",
       "      <td>9046</td>\n",
       "      <td>Male</td>\n",
       "      <td>67.0</td>\n",
       "      <td>0</td>\n",
       "      <td>1</td>\n",
       "      <td>Yes</td>\n",
       "      <td>Private</td>\n",
       "      <td>Urban</td>\n",
       "      <td>228.69</td>\n",
       "      <td>36.600000</td>\n",
       "      <td>formerly smoked</td>\n",
       "      <td>1</td>\n",
       "    </tr>\n",
       "    <tr>\n",
       "      <th>1</th>\n",
       "      <td>51676</td>\n",
       "      <td>Female</td>\n",
       "      <td>61.0</td>\n",
       "      <td>0</td>\n",
       "      <td>0</td>\n",
       "      <td>Yes</td>\n",
       "      <td>Self-employed</td>\n",
       "      <td>Rural</td>\n",
       "      <td>202.21</td>\n",
       "      <td>28.893237</td>\n",
       "      <td>never smoked</td>\n",
       "      <td>1</td>\n",
       "    </tr>\n",
       "    <tr>\n",
       "      <th>2</th>\n",
       "      <td>31112</td>\n",
       "      <td>Male</td>\n",
       "      <td>80.0</td>\n",
       "      <td>0</td>\n",
       "      <td>1</td>\n",
       "      <td>Yes</td>\n",
       "      <td>Private</td>\n",
       "      <td>Rural</td>\n",
       "      <td>105.92</td>\n",
       "      <td>32.500000</td>\n",
       "      <td>never smoked</td>\n",
       "      <td>1</td>\n",
       "    </tr>\n",
       "    <tr>\n",
       "      <th>3</th>\n",
       "      <td>60182</td>\n",
       "      <td>Female</td>\n",
       "      <td>49.0</td>\n",
       "      <td>0</td>\n",
       "      <td>0</td>\n",
       "      <td>Yes</td>\n",
       "      <td>Private</td>\n",
       "      <td>Urban</td>\n",
       "      <td>171.23</td>\n",
       "      <td>34.400000</td>\n",
       "      <td>smokes</td>\n",
       "      <td>1</td>\n",
       "    </tr>\n",
       "    <tr>\n",
       "      <th>4</th>\n",
       "      <td>1665</td>\n",
       "      <td>Female</td>\n",
       "      <td>79.0</td>\n",
       "      <td>1</td>\n",
       "      <td>0</td>\n",
       "      <td>Yes</td>\n",
       "      <td>Self-employed</td>\n",
       "      <td>Rural</td>\n",
       "      <td>174.12</td>\n",
       "      <td>24.000000</td>\n",
       "      <td>never smoked</td>\n",
       "      <td>1</td>\n",
       "    </tr>\n",
       "    <tr>\n",
       "      <th>...</th>\n",
       "      <td>...</td>\n",
       "      <td>...</td>\n",
       "      <td>...</td>\n",
       "      <td>...</td>\n",
       "      <td>...</td>\n",
       "      <td>...</td>\n",
       "      <td>...</td>\n",
       "      <td>...</td>\n",
       "      <td>...</td>\n",
       "      <td>...</td>\n",
       "      <td>...</td>\n",
       "      <td>...</td>\n",
       "    </tr>\n",
       "    <tr>\n",
       "      <th>5105</th>\n",
       "      <td>18234</td>\n",
       "      <td>Female</td>\n",
       "      <td>80.0</td>\n",
       "      <td>1</td>\n",
       "      <td>0</td>\n",
       "      <td>Yes</td>\n",
       "      <td>Private</td>\n",
       "      <td>Urban</td>\n",
       "      <td>83.75</td>\n",
       "      <td>28.893237</td>\n",
       "      <td>never smoked</td>\n",
       "      <td>0</td>\n",
       "    </tr>\n",
       "    <tr>\n",
       "      <th>5106</th>\n",
       "      <td>44873</td>\n",
       "      <td>Female</td>\n",
       "      <td>81.0</td>\n",
       "      <td>0</td>\n",
       "      <td>0</td>\n",
       "      <td>Yes</td>\n",
       "      <td>Self-employed</td>\n",
       "      <td>Urban</td>\n",
       "      <td>125.20</td>\n",
       "      <td>40.000000</td>\n",
       "      <td>never smoked</td>\n",
       "      <td>0</td>\n",
       "    </tr>\n",
       "    <tr>\n",
       "      <th>5107</th>\n",
       "      <td>19723</td>\n",
       "      <td>Female</td>\n",
       "      <td>35.0</td>\n",
       "      <td>0</td>\n",
       "      <td>0</td>\n",
       "      <td>Yes</td>\n",
       "      <td>Self-employed</td>\n",
       "      <td>Rural</td>\n",
       "      <td>82.99</td>\n",
       "      <td>30.600000</td>\n",
       "      <td>never smoked</td>\n",
       "      <td>0</td>\n",
       "    </tr>\n",
       "    <tr>\n",
       "      <th>5108</th>\n",
       "      <td>37544</td>\n",
       "      <td>Male</td>\n",
       "      <td>51.0</td>\n",
       "      <td>0</td>\n",
       "      <td>0</td>\n",
       "      <td>Yes</td>\n",
       "      <td>Private</td>\n",
       "      <td>Rural</td>\n",
       "      <td>166.29</td>\n",
       "      <td>25.600000</td>\n",
       "      <td>formerly smoked</td>\n",
       "      <td>0</td>\n",
       "    </tr>\n",
       "    <tr>\n",
       "      <th>5109</th>\n",
       "      <td>44679</td>\n",
       "      <td>Female</td>\n",
       "      <td>44.0</td>\n",
       "      <td>0</td>\n",
       "      <td>0</td>\n",
       "      <td>Yes</td>\n",
       "      <td>Govt_job</td>\n",
       "      <td>Urban</td>\n",
       "      <td>85.28</td>\n",
       "      <td>26.200000</td>\n",
       "      <td>Unknown</td>\n",
       "      <td>0</td>\n",
       "    </tr>\n",
       "  </tbody>\n",
       "</table>\n",
       "<p>5110 rows × 12 columns</p>\n",
       "</div>"
      ],
      "text/plain": [
       "         id  gender   age  hypertension  heart_disease ever_married  \\\n",
       "0      9046    Male  67.0             0              1          Yes   \n",
       "1     51676  Female  61.0             0              0          Yes   \n",
       "2     31112    Male  80.0             0              1          Yes   \n",
       "3     60182  Female  49.0             0              0          Yes   \n",
       "4      1665  Female  79.0             1              0          Yes   \n",
       "...     ...     ...   ...           ...            ...          ...   \n",
       "5105  18234  Female  80.0             1              0          Yes   \n",
       "5106  44873  Female  81.0             0              0          Yes   \n",
       "5107  19723  Female  35.0             0              0          Yes   \n",
       "5108  37544    Male  51.0             0              0          Yes   \n",
       "5109  44679  Female  44.0             0              0          Yes   \n",
       "\n",
       "          work_type Residence_type  avg_glucose_level        bmi  \\\n",
       "0           Private          Urban             228.69  36.600000   \n",
       "1     Self-employed          Rural             202.21  28.893237   \n",
       "2           Private          Rural             105.92  32.500000   \n",
       "3           Private          Urban             171.23  34.400000   \n",
       "4     Self-employed          Rural             174.12  24.000000   \n",
       "...             ...            ...                ...        ...   \n",
       "5105        Private          Urban              83.75  28.893237   \n",
       "5106  Self-employed          Urban             125.20  40.000000   \n",
       "5107  Self-employed          Rural              82.99  30.600000   \n",
       "5108        Private          Rural             166.29  25.600000   \n",
       "5109       Govt_job          Urban              85.28  26.200000   \n",
       "\n",
       "       smoking_status  stroke  \n",
       "0     formerly smoked       1  \n",
       "1        never smoked       1  \n",
       "2        never smoked       1  \n",
       "3              smokes       1  \n",
       "4        never smoked       1  \n",
       "...               ...     ...  \n",
       "5105     never smoked       0  \n",
       "5106     never smoked       0  \n",
       "5107     never smoked       0  \n",
       "5108  formerly smoked       0  \n",
       "5109          Unknown       0  \n",
       "\n",
       "[5110 rows x 12 columns]"
      ]
     },
     "execution_count": 7,
     "metadata": {},
     "output_type": "execute_result"
    }
   ],
   "source": [
    "df"
   ]
  },
  {
   "cell_type": "code",
   "execution_count": 8,
   "metadata": {
    "execution": {
     "iopub.execute_input": "2021-03-09T09:56:40.117821Z",
     "iopub.status.busy": "2021-03-09T09:56:40.116880Z",
     "iopub.status.idle": "2021-03-09T09:56:40.136334Z",
     "shell.execute_reply": "2021-03-09T09:56:40.136850Z"
    },
    "papermill": {
     "duration": 0.068986,
     "end_time": "2021-03-09T09:56:40.137051",
     "exception": false,
     "start_time": "2021-03-09T09:56:40.068065",
     "status": "completed"
    },
    "tags": []
   },
   "outputs": [
    {
     "name": "stdout",
     "output_type": "stream",
     "text": [
      "<class 'pandas.core.frame.DataFrame'>\n",
      "RangeIndex: 5110 entries, 0 to 5109\n",
      "Data columns (total 12 columns):\n",
      " #   Column             Non-Null Count  Dtype  \n",
      "---  ------             --------------  -----  \n",
      " 0   id                 5110 non-null   int64  \n",
      " 1   gender             5110 non-null   object \n",
      " 2   age                5110 non-null   float64\n",
      " 3   hypertension       5110 non-null   int64  \n",
      " 4   heart_disease      5110 non-null   int64  \n",
      " 5   ever_married       5110 non-null   object \n",
      " 6   work_type          5110 non-null   object \n",
      " 7   Residence_type     5110 non-null   object \n",
      " 8   avg_glucose_level  5110 non-null   float64\n",
      " 9   bmi                5110 non-null   float64\n",
      " 10  smoking_status     5110 non-null   object \n",
      " 11  stroke             5110 non-null   int64  \n",
      "dtypes: float64(3), int64(4), object(5)\n",
      "memory usage: 479.2+ KB\n"
     ]
    }
   ],
   "source": [
    "df.info()"
   ]
  },
  {
   "cell_type": "code",
   "execution_count": 9,
   "metadata": {
    "execution": {
     "iopub.execute_input": "2021-03-09T09:56:40.240732Z",
     "iopub.status.busy": "2021-03-09T09:56:40.239392Z",
     "iopub.status.idle": "2021-03-09T09:56:40.253119Z",
     "shell.execute_reply": "2021-03-09T09:56:40.252386Z"
    },
    "papermill": {
     "duration": 0.066361,
     "end_time": "2021-03-09T09:56:40.253272",
     "exception": false,
     "start_time": "2021-03-09T09:56:40.186911",
     "status": "completed"
    },
    "tags": []
   },
   "outputs": [
    {
     "data": {
      "text/plain": [
       "0"
      ]
     },
     "execution_count": 9,
     "metadata": {},
     "output_type": "execute_result"
    }
   ],
   "source": [
    "df.duplicated().sum()"
   ]
  },
  {
   "cell_type": "code",
   "execution_count": 10,
   "metadata": {
    "execution": {
     "iopub.execute_input": "2021-03-09T09:56:40.361789Z",
     "iopub.status.busy": "2021-03-09T09:56:40.360983Z",
     "iopub.status.idle": "2021-03-09T09:56:40.564222Z",
     "shell.execute_reply": "2021-03-09T09:56:40.564721Z"
    },
    "papermill": {
     "duration": 0.261007,
     "end_time": "2021-03-09T09:56:40.564930",
     "exception": false,
     "start_time": "2021-03-09T09:56:40.303923",
     "status": "completed"
    },
    "tags": []
   },
   "outputs": [
    {
     "data": {
      "text/plain": [
       "<AxesSubplot:xlabel='gender'>"
      ]
     },
     "execution_count": 10,
     "metadata": {},
     "output_type": "execute_result"
    },
    {
     "data": {
      "image/png": "[encoded data removed]",
      "text/plain": [
       "<Figure size 432x288 with 1 Axes>"
      ]
     },
     "metadata": {
      "needs_background": "light"
     },
     "output_type": "display_data"
    }
   ],
   "source": [
    "gen = df[['gender','hypertension']]\n",
    "gen.groupby(['gender'],axis=0).sum().plot.bar()"
   ]
  },
  {
   "cell_type": "code",
   "execution_count": 11,
   "metadata": {
    "execution": {
     "iopub.execute_input": "2021-03-09T09:56:40.672343Z",
     "iopub.status.busy": "2021-03-09T09:56:40.671102Z",
     "iopub.status.idle": "2021-03-09T09:56:40.843012Z",
     "shell.execute_reply": "2021-03-09T09:56:40.842382Z"
    },
    "papermill": {
     "duration": 0.231663,
     "end_time": "2021-03-09T09:56:40.843168",
     "exception": false,
     "start_time": "2021-03-09T09:56:40.611505",
     "status": "completed"
    },
    "tags": []
   },
   "outputs": [
    {
     "data": {
      "text/plain": [
       "<AxesSubplot:xlabel='gender'>"
      ]
     },
     "execution_count": 11,
     "metadata": {},
     "output_type": "execute_result"
    },
    {
     "data": {
      "image/png": "[encoded data removed]",
      "text/plain": [
       "<Figure size 432x288 with 1 Axes>"
      ]
     },
     "metadata": {
      "needs_background": "light"
     },
     "output_type": "display_data"
    }
   ],
   "source": [
    "hd = df[['gender','heart_disease']]\n",
    "hd.groupby(['gender'],axis=0).sum().plot.bar()"
   ]
  },
  {
   "cell_type": "code",
   "execution_count": 12,
   "metadata": {
    "execution": {
     "iopub.execute_input": "2021-03-09T09:56:40.970088Z",
     "iopub.status.busy": "2021-03-09T09:56:40.965995Z",
     "iopub.status.idle": "2021-03-09T09:56:41.542507Z",
     "shell.execute_reply": "2021-03-09T09:56:41.541895Z"
    },
    "papermill": {
     "duration": 0.648671,
     "end_time": "2021-03-09T09:56:41.542674",
     "exception": false,
     "start_time": "2021-03-09T09:56:40.894003",
     "status": "completed"
    },
    "tags": []
   },
   "outputs": [
    {
     "name": "stderr",
     "output_type": "stream",
     "text": [
      "/opt/conda/lib/python3.7/site-packages/seaborn/_decorators.py:43: FutureWarning: Pass the following variable as a keyword arg: x. From version 0.12, the only valid positional argument will be `data`, and passing other arguments without an explicit keyword will result in an error or misinterpretation.\n",
      "  FutureWarning\n",
      "/opt/conda/lib/python3.7/site-packages/seaborn/_decorators.py:43: FutureWarning: Pass the following variable as a keyword arg: x. From version 0.12, the only valid positional argument will be `data`, and passing other arguments without an explicit keyword will result in an error or misinterpretation.\n",
      "  FutureWarning\n",
      "/opt/conda/lib/python3.7/site-packages/seaborn/_decorators.py:43: FutureWarning: Pass the following variable as a keyword arg: x. From version 0.12, the only valid positional argument will be `data`, and passing other arguments without an explicit keyword will result in an error or misinterpretation.\n",
      "  FutureWarning\n"
     ]
    },
    {
     "data": {
      "text/plain": [
       "<AxesSubplot:xlabel='heart_disease', ylabel='count'>"
      ]
     },
     "execution_count": 12,
     "metadata": {},
     "output_type": "execute_result"
    },
    {
     "data": {
      "image/png": "[encoded data removed]",
      "text/plain": [
       "<Figure size 720x576 with 4 Axes>"
      ]
     },
     "metadata": {
      "needs_background": "light"
     },
     "output_type": "display_data"
    }
   ],
   "source": [
    "fig, ax = plt.subplots(2,2, figsize=(10,8))\n",
    "sns.countplot(df['stroke'],hue=df['ever_married'],ax=ax[0,0])\n",
    "sns.countplot(df['hypertension'],hue=df['ever_married'],ax=ax[0,1])\n",
    "sns.countplot(df['heart_disease'],hue=df['ever_married'],ax=ax[1,0])"
   ]
  },
  {
   "cell_type": "code",
   "execution_count": 13,
   "metadata": {
    "execution": {
     "iopub.execute_input": "2021-03-09T09:56:41.671673Z",
     "iopub.status.busy": "2021-03-09T09:56:41.670894Z",
     "iopub.status.idle": "2021-03-09T09:56:42.370815Z",
     "shell.execute_reply": "2021-03-09T09:56:42.370105Z"
    },
    "papermill": {
     "duration": 0.776891,
     "end_time": "2021-03-09T09:56:42.370976",
     "exception": false,
     "start_time": "2021-03-09T09:56:41.594085",
     "status": "completed"
    },
    "tags": []
   },
   "outputs": [
    {
     "name": "stderr",
     "output_type": "stream",
     "text": [
      "/opt/conda/lib/python3.7/site-packages/seaborn/_decorators.py:43: FutureWarning: Pass the following variable as a keyword arg: x. From version 0.12, the only valid positional argument will be `data`, and passing other arguments without an explicit keyword will result in an error or misinterpretation.\n",
      "  FutureWarning\n",
      "/opt/conda/lib/python3.7/site-packages/seaborn/_decorators.py:43: FutureWarning: Pass the following variable as a keyword arg: x. From version 0.12, the only valid positional argument will be `data`, and passing other arguments without an explicit keyword will result in an error or misinterpretation.\n",
      "  FutureWarning\n",
      "/opt/conda/lib/python3.7/site-packages/seaborn/_decorators.py:43: FutureWarning: Pass the following variable as a keyword arg: x. From version 0.12, the only valid positional argument will be `data`, and passing other arguments without an explicit keyword will result in an error or misinterpretation.\n",
      "  FutureWarning\n"
     ]
    },
    {
     "data": {
      "text/plain": [
       "<AxesSubplot:xlabel='heart_disease', ylabel='count'>"
      ]
     },
     "execution_count": 13,
     "metadata": {},
     "output_type": "execute_result"
    },
    {
     "data": {
      "image/png": "[encoded data removed]",
      "text/plain": [
       "<Figure size 1080x720 with 4 Axes>"
      ]
     },
     "metadata": {
      "needs_background": "light"
     },
     "output_type": "display_data"
    }
   ],
   "source": [
    "fig, ax = plt.subplots(2,2, figsize=(15,10))\n",
    "sns.countplot(df['stroke'],hue=df['work_type'],ax=ax[0,0])\n",
    "sns.countplot(df['hypertension'],hue=df['work_type'],ax=ax[0,1])\n",
    "sns.countplot(df['heart_disease'],hue=df['work_type'],ax=ax[1,0])"
   ]
  },
  {
   "cell_type": "code",
   "execution_count": 14,
   "metadata": {
    "execution": {
     "iopub.execute_input": "2021-03-09T09:56:42.504072Z",
     "iopub.status.busy": "2021-03-09T09:56:42.502951Z",
     "iopub.status.idle": "2021-03-09T09:56:43.309355Z",
     "shell.execute_reply": "2021-03-09T09:56:43.308794Z"
    },
    "papermill": {
     "duration": 0.886966,
     "end_time": "2021-03-09T09:56:43.309499",
     "exception": false,
     "start_time": "2021-03-09T09:56:42.422533",
     "status": "completed"
    },
    "tags": []
   },
   "outputs": [
    {
     "name": "stderr",
     "output_type": "stream",
     "text": [
      "/opt/conda/lib/python3.7/site-packages/seaborn/_decorators.py:43: FutureWarning: Pass the following variable as a keyword arg: x. From version 0.12, the only valid positional argument will be `data`, and passing other arguments without an explicit keyword will result in an error or misinterpretation.\n",
      "  FutureWarning\n",
      "/opt/conda/lib/python3.7/site-packages/seaborn/_decorators.py:43: FutureWarning: Pass the following variable as a keyword arg: x. From version 0.12, the only valid positional argument will be `data`, and passing other arguments without an explicit keyword will result in an error or misinterpretation.\n",
      "  FutureWarning\n",
      "/opt/conda/lib/python3.7/site-packages/seaborn/_decorators.py:43: FutureWarning: Pass the following variable as a keyword arg: x. From version 0.12, the only valid positional argument will be `data`, and passing other arguments without an explicit keyword will result in an error or misinterpretation.\n",
      "  FutureWarning\n"
     ]
    },
    {
     "data": {
      "text/plain": [
       "<AxesSubplot:xlabel='heart_disease', ylabel='count'>"
      ]
     },
     "execution_count": 14,
     "metadata": {},
     "output_type": "execute_result"
    },
    {
     "data": {
      "image/png": "[encoded data removed]",
      "text/plain": [
       "<Figure size 1080x720 with 4 Axes>"
      ]
     },
     "metadata": {
      "needs_background": "light"
     },
     "output_type": "display_data"
    }
   ],
   "source": [
    "fig, ax = plt.subplots(2,2, figsize=(15,10))\n",
    "sns.countplot(df['stroke'],hue=df['smoking_status'],ax=ax[0,0])\n",
    "sns.countplot(df['hypertension'],hue=df['smoking_status'],ax=ax[0,1])\n",
    "sns.countplot(df['heart_disease'],hue=df['smoking_status'],ax=ax[1,0])"
   ]
  },
  {
   "cell_type": "code",
   "execution_count": 15,
   "metadata": {
    "execution": {
     "iopub.execute_input": "2021-03-09T09:56:43.456630Z",
     "iopub.status.busy": "2021-03-09T09:56:43.453469Z",
     "iopub.status.idle": "2021-03-09T09:56:43.973804Z",
     "shell.execute_reply": "2021-03-09T09:56:43.973152Z"
    },
    "papermill": {
     "duration": 0.606206,
     "end_time": "2021-03-09T09:56:43.974039",
     "exception": false,
     "start_time": "2021-03-09T09:56:43.367833",
     "status": "completed"
    },
    "tags": []
   },
   "outputs": [
    {
     "name": "stderr",
     "output_type": "stream",
     "text": [
      "/opt/conda/lib/python3.7/site-packages/seaborn/_decorators.py:43: FutureWarning: Pass the following variable as a keyword arg: x. From version 0.12, the only valid positional argument will be `data`, and passing other arguments without an explicit keyword will result in an error or misinterpretation.\n",
      "  FutureWarning\n",
      "/opt/conda/lib/python3.7/site-packages/seaborn/_decorators.py:43: FutureWarning: Pass the following variable as a keyword arg: x. From version 0.12, the only valid positional argument will be `data`, and passing other arguments without an explicit keyword will result in an error or misinterpretation.\n",
      "  FutureWarning\n",
      "/opt/conda/lib/python3.7/site-packages/seaborn/_decorators.py:43: FutureWarning: Pass the following variable as a keyword arg: x. From version 0.12, the only valid positional argument will be `data`, and passing other arguments without an explicit keyword will result in an error or misinterpretation.\n",
      "  FutureWarning\n"
     ]
    },
    {
     "data": {
      "text/plain": [
       "<AxesSubplot:xlabel='heart_disease', ylabel='count'>"
      ]
     },
     "execution_count": 15,
     "metadata": {},
     "output_type": "execute_result"
    },
    {
     "data": {
      "image/png": "[encoded data removed]",
      "text/plain": [
       "<Figure size 720x432 with 4 Axes>"
      ]
     },
     "metadata": {
      "needs_background": "light"
     },
     "output_type": "display_data"
    }
   ],
   "source": [
    "fig, ax = plt.subplots(2,2, figsize=(10,6))\n",
    "sns.countplot(df['stroke'],hue=df['Residence_type'],ax=ax[0,0])\n",
    "sns.countplot(df['hypertension'],hue=df['Residence_type'],ax=ax[0,1])\n",
    "sns.countplot(df['heart_disease'],hue=df['Residence_type'],ax=ax[1,0])"
   ]
  },
  {
   "cell_type": "code",
   "execution_count": 16,
   "metadata": {
    "execution": {
     "iopub.execute_input": "2021-03-09T09:56:44.095292Z",
     "iopub.status.busy": "2021-03-09T09:56:44.094187Z",
     "iopub.status.idle": "2021-03-09T09:56:44.503809Z",
     "shell.execute_reply": "2021-03-09T09:56:44.503261Z"
    },
    "papermill": {
     "duration": 0.474424,
     "end_time": "2021-03-09T09:56:44.503982",
     "exception": false,
     "start_time": "2021-03-09T09:56:44.029558",
     "status": "completed"
    },
    "tags": []
   },
   "outputs": [
    {
     "data": {
      "text/plain": [
       "<AxesSubplot:xlabel='avg_glucose_level', ylabel='bmi'>"
      ]
     },
     "execution_count": 16,
     "metadata": {},
     "output_type": "execute_result"
    },
    {
     "data": {
      "image/png": "[encoded data removed]",
      "text/plain": [
       "<Figure size 432x288 with 1 Axes>"
      ]
     },
     "metadata": {
      "needs_background": "light"
     },
     "output_type": "display_data"
    }
   ],
   "source": [
    "sns.scatterplot(y=df['bmi'],x=df['avg_glucose_level'],hue=df['hypertension'])"
   ]
  },
  {
   "cell_type": "code",
   "execution_count": 17,
   "metadata": {
    "execution": {
     "iopub.execute_input": "2021-03-09T09:56:44.633842Z",
     "iopub.status.busy": "2021-03-09T09:56:44.633073Z",
     "iopub.status.idle": "2021-03-09T09:56:45.011456Z",
     "shell.execute_reply": "2021-03-09T09:56:45.010749Z"
    },
    "papermill": {
     "duration": 0.447716,
     "end_time": "2021-03-09T09:56:45.011630",
     "exception": false,
     "start_time": "2021-03-09T09:56:44.563914",
     "status": "completed"
    },
    "tags": []
   },
   "outputs": [
    {
     "data": {
      "text/plain": [
       "<AxesSubplot:xlabel='avg_glucose_level', ylabel='bmi'>"
      ]
     },
     "execution_count": 17,
     "metadata": {},
     "output_type": "execute_result"
    },
    {
     "data": {
      "image/png": "[encoded data removed]",
      "text/plain": [
       "<Figure size 432x288 with 1 Axes>"
      ]
     },
     "metadata": {
      "needs_background": "light"
     },
     "output_type": "display_data"
    }
   ],
   "source": [
    "sns.scatterplot(y=df['bmi'],x=df['avg_glucose_level'],hue=df['heart_disease'])"
   ]
  },
  {
   "cell_type": "code",
   "execution_count": 18,
   "metadata": {
    "execution": {
     "iopub.execute_input": "2021-03-09T09:56:45.150516Z",
     "iopub.status.busy": "2021-03-09T09:56:45.149315Z",
     "iopub.status.idle": "2021-03-09T09:56:45.561669Z",
     "shell.execute_reply": "2021-03-09T09:56:45.562172Z"
    },
    "papermill": {
     "duration": 0.486183,
     "end_time": "2021-03-09T09:56:45.562375",
     "exception": false,
     "start_time": "2021-03-09T09:56:45.076192",
     "status": "completed"
    },
    "tags": []
   },
   "outputs": [
    {
     "data": {
      "text/plain": [
       "<AxesSubplot:xlabel='avg_glucose_level', ylabel='bmi'>"
      ]
     },
     "execution_count": 18,
     "metadata": {},
     "output_type": "execute_result"
    },
    {
     "data": {
      "image/png": "[encoded data removed]",
      "text/plain": [
       "<Figure size 432x288 with 1 Axes>"
      ]
     },
     "metadata": {
      "needs_background": "light"
     },
     "output_type": "display_data"
    }
   ],
   "source": [
    "sns.scatterplot(y=df['bmi'],x=df['avg_glucose_level'],hue=df['stroke'])"
   ]
  },
  {
   "cell_type": "code",
   "execution_count": 19,
   "metadata": {
    "execution": {
     "iopub.execute_input": "2021-03-09T09:56:45.728738Z",
     "iopub.status.busy": "2021-03-09T09:56:45.727885Z",
     "iopub.status.idle": "2021-03-09T09:56:45.736670Z",
     "shell.execute_reply": "2021-03-09T09:56:45.735921Z"
    },
    "papermill": {
     "duration": 0.107461,
     "end_time": "2021-03-09T09:56:45.736848",
     "exception": false,
     "start_time": "2021-03-09T09:56:45.629387",
     "status": "completed"
    },
    "tags": []
   },
   "outputs": [
    {
     "data": {
      "text/html": [
       "<div>\n",
       "<style scoped>\n",
       "    .dataframe tbody tr th:only-of-type {\n",
       "        vertical-align: middle;\n",
       "    }\n",
       "\n",
       "    .dataframe tbody tr th {\n",
       "        vertical-align: top;\n",
       "    }\n",
       "\n",
       "    .dataframe thead th {\n",
       "        text-align: right;\n",
       "    }\n",
       "</style>\n",
       "<table border=\"1\" class=\"dataframe\">\n",
       "  <thead>\n",
       "    <tr style=\"text-align: right;\">\n",
       "      <th></th>\n",
       "      <th>id</th>\n",
       "      <th>gender</th>\n",
       "      <th>age</th>\n",
       "      <th>hypertension</th>\n",
       "      <th>heart_disease</th>\n",
       "      <th>ever_married</th>\n",
       "      <th>work_type</th>\n",
       "      <th>Residence_type</th>\n",
       "      <th>avg_glucose_level</th>\n",
       "      <th>bmi</th>\n",
       "      <th>smoking_status</th>\n",
       "      <th>stroke</th>\n",
       "    </tr>\n",
       "  </thead>\n",
       "  <tbody>\n",
       "    <tr>\n",
       "      <th>0</th>\n",
       "      <td>9046</td>\n",
       "      <td>Male</td>\n",
       "      <td>67.0</td>\n",
       "      <td>0</td>\n",
       "      <td>1</td>\n",
       "      <td>Yes</td>\n",
       "      <td>Private</td>\n",
       "      <td>Urban</td>\n",
       "      <td>228.69</td>\n",
       "      <td>36.600000</td>\n",
       "      <td>formerly smoked</td>\n",
       "      <td>1</td>\n",
       "    </tr>\n",
       "    <tr>\n",
       "      <th>1</th>\n",
       "      <td>51676</td>\n",
       "      <td>Female</td>\n",
       "      <td>61.0</td>\n",
       "      <td>0</td>\n",
       "      <td>0</td>\n",
       "      <td>Yes</td>\n",
       "      <td>Self-employed</td>\n",
       "      <td>Rural</td>\n",
       "      <td>202.21</td>\n",
       "      <td>28.893237</td>\n",
       "      <td>never smoked</td>\n",
       "      <td>1</td>\n",
       "    </tr>\n",
       "    <tr>\n",
       "      <th>2</th>\n",
       "      <td>31112</td>\n",
       "      <td>Male</td>\n",
       "      <td>80.0</td>\n",
       "      <td>0</td>\n",
       "      <td>1</td>\n",
       "      <td>Yes</td>\n",
       "      <td>Private</td>\n",
       "      <td>Rural</td>\n",
       "      <td>105.92</td>\n",
       "      <td>32.500000</td>\n",
       "      <td>never smoked</td>\n",
       "      <td>1</td>\n",
       "    </tr>\n",
       "    <tr>\n",
       "      <th>3</th>\n",
       "      <td>60182</td>\n",
       "      <td>Female</td>\n",
       "      <td>49.0</td>\n",
       "      <td>0</td>\n",
       "      <td>0</td>\n",
       "      <td>Yes</td>\n",
       "      <td>Private</td>\n",
       "      <td>Urban</td>\n",
       "      <td>171.23</td>\n",
       "      <td>34.400000</td>\n",
       "      <td>smokes</td>\n",
       "      <td>1</td>\n",
       "    </tr>\n",
       "    <tr>\n",
       "      <th>4</th>\n",
       "      <td>1665</td>\n",
       "      <td>Female</td>\n",
       "      <td>79.0</td>\n",
       "      <td>1</td>\n",
       "      <td>0</td>\n",
       "      <td>Yes</td>\n",
       "      <td>Self-employed</td>\n",
       "      <td>Rural</td>\n",
       "      <td>174.12</td>\n",
       "      <td>24.000000</td>\n",
       "      <td>never smoked</td>\n",
       "      <td>1</td>\n",
       "    </tr>\n",
       "    <tr>\n",
       "      <th>...</th>\n",
       "      <td>...</td>\n",
       "      <td>...</td>\n",
       "      <td>...</td>\n",
       "      <td>...</td>\n",
       "      <td>...</td>\n",
       "      <td>...</td>\n",
       "      <td>...</td>\n",
       "      <td>...</td>\n",
       "      <td>...</td>\n",
       "      <td>...</td>\n",
       "      <td>...</td>\n",
       "      <td>...</td>\n",
       "    </tr>\n",
       "    <tr>\n",
       "      <th>5105</th>\n",
       "      <td>18234</td>\n",
       "      <td>Female</td>\n",
       "      <td>80.0</td>\n",
       "      <td>1</td>\n",
       "      <td>0</td>\n",
       "      <td>Yes</td>\n",
       "      <td>Private</td>\n",
       "      <td>Urban</td>\n",
       "      <td>83.75</td>\n",
       "      <td>28.893237</td>\n",
       "      <td>never smoked</td>\n",
       "      <td>0</td>\n",
       "    </tr>\n",
       "    <tr>\n",
       "      <th>5106</th>\n",
       "      <td>44873</td>\n",
       "      <td>Female</td>\n",
       "      <td>81.0</td>\n",
       "      <td>0</td>\n",
       "      <td>0</td>\n",
       "      <td>Yes</td>\n",
       "      <td>Self-employed</td>\n",
       "      <td>Urban</td>\n",
       "      <td>125.20</td>\n",
       "      <td>40.000000</td>\n",
       "      <td>never smoked</td>\n",
       "      <td>0</td>\n",
       "    </tr>\n",
       "    <tr>\n",
       "      <th>5107</th>\n",
       "      <td>19723</td>\n",
       "      <td>Female</td>\n",
       "      <td>35.0</td>\n",
       "      <td>0</td>\n",
       "      <td>0</td>\n",
       "      <td>Yes</td>\n",
       "      <td>Self-employed</td>\n",
       "      <td>Rural</td>\n",
       "      <td>82.99</td>\n",
       "      <td>30.600000</td>\n",
       "      <td>never smoked</td>\n",
       "      <td>0</td>\n",
       "    </tr>\n",
       "    <tr>\n",
       "      <th>5108</th>\n",
       "      <td>37544</td>\n",
       "      <td>Male</td>\n",
       "      <td>51.0</td>\n",
       "      <td>0</td>\n",
       "      <td>0</td>\n",
       "      <td>Yes</td>\n",
       "      <td>Private</td>\n",
       "      <td>Rural</td>\n",
       "      <td>166.29</td>\n",
       "      <td>25.600000</td>\n",
       "      <td>formerly smoked</td>\n",
       "      <td>0</td>\n",
       "    </tr>\n",
       "    <tr>\n",
       "      <th>5109</th>\n",
       "      <td>44679</td>\n",
       "      <td>Female</td>\n",
       "      <td>44.0</td>\n",
       "      <td>0</td>\n",
       "      <td>0</td>\n",
       "      <td>Yes</td>\n",
       "      <td>Govt_job</td>\n",
       "      <td>Urban</td>\n",
       "      <td>85.28</td>\n",
       "      <td>26.200000</td>\n",
       "      <td>Unknown</td>\n",
       "      <td>0</td>\n",
       "    </tr>\n",
       "  </tbody>\n",
       "</table>\n",
       "<p>5110 rows × 12 columns</p>\n",
       "</div>"
      ],
      "text/plain": [
       "         id  gender   age  hypertension  heart_disease ever_married  \\\n",
       "0      9046    Male  67.0             0              1          Yes   \n",
       "1     51676  Female  61.0             0              0          Yes   \n",
       "2     31112    Male  80.0             0              1          Yes   \n",
       "3     60182  Female  49.0             0              0          Yes   \n",
       "4      1665  Female  79.0             1              0          Yes   \n",
       "...     ...     ...   ...           ...            ...          ...   \n",
       "5105  18234  Female  80.0             1              0          Yes   \n",
       "5106  44873  Female  81.0             0              0          Yes   \n",
       "5107  19723  Female  35.0             0              0          Yes   \n",
       "5108  37544    Male  51.0             0              0          Yes   \n",
       "5109  44679  Female  44.0             0              0          Yes   \n",
       "\n",
       "          work_type Residence_type  avg_glucose_level        bmi  \\\n",
       "0           Private          Urban             228.69  36.600000   \n",
       "1     Self-employed          Rural             202.21  28.893237   \n",
       "2           Private          Rural             105.92  32.500000   \n",
       "3           Private          Urban             171.23  34.400000   \n",
       "4     Self-employed          Rural             174.12  24.000000   \n",
       "...             ...            ...                ...        ...   \n",
       "5105        Private          Urban              83.75  28.893237   \n",
       "5106  Self-employed          Urban             125.20  40.000000   \n",
       "5107  Self-employed          Rural              82.99  30.600000   \n",
       "5108        Private          Rural             166.29  25.600000   \n",
       "5109       Govt_job          Urban              85.28  26.200000   \n",
       "\n",
       "       smoking_status  stroke  \n",
       "0     formerly smoked       1  \n",
       "1        never smoked       1  \n",
       "2        never smoked       1  \n",
       "3              smokes       1  \n",
       "4        never smoked       1  \n",
       "...               ...     ...  \n",
       "5105     never smoked       0  \n",
       "5106     never smoked       0  \n",
       "5107     never smoked       0  \n",
       "5108  formerly smoked       0  \n",
       "5109          Unknown       0  \n",
       "\n",
       "[5110 rows x 12 columns]"
      ]
     },
     "execution_count": 19,
     "metadata": {},
     "output_type": "execute_result"
    }
   ],
   "source": [
    "df"
   ]
  },
  {
   "cell_type": "code",
   "execution_count": 20,
   "metadata": {
    "execution": {
     "iopub.execute_input": "2021-03-09T09:56:45.923951Z",
     "iopub.status.busy": "2021-03-09T09:56:45.922791Z",
     "iopub.status.idle": "2021-03-09T09:56:46.158428Z",
     "shell.execute_reply": "2021-03-09T09:56:46.156894Z"
    },
    "papermill": {
     "duration": 0.326335,
     "end_time": "2021-03-09T09:56:46.158614",
     "exception": false,
     "start_time": "2021-03-09T09:56:45.832279",
     "status": "completed"
    },
    "tags": []
   },
   "outputs": [
    {
     "name": "stderr",
     "output_type": "stream",
     "text": [
      "/opt/conda/lib/python3.7/site-packages/seaborn/_decorators.py:43: FutureWarning: Pass the following variables as keyword args: x, y. From version 0.12, the only valid positional argument will be `data`, and passing other arguments without an explicit keyword will result in an error or misinterpretation.\n",
      "  FutureWarning\n"
     ]
    },
    {
     "data": {
      "text/plain": [
       "<AxesSubplot:xlabel='smoking_status', ylabel='age'>"
      ]
     },
     "execution_count": 20,
     "metadata": {},
     "output_type": "execute_result"
    },
    {
     "data": {
      "image/png": "[encoded data removed]",
      "text/plain": [
       "<Figure size 432x288 with 1 Axes>"
      ]
     },
     "metadata": {
      "needs_background": "light"
     },
     "output_type": "display_data"
    }
   ],
   "source": [
    "sns.boxplot(df['smoking_status'],df['age'])"
   ]
  },
  {
   "cell_type": "code",
   "execution_count": 21,
   "metadata": {
    "execution": {
     "iopub.execute_input": "2021-03-09T09:56:46.310506Z",
     "iopub.status.busy": "2021-03-09T09:56:46.308997Z",
     "iopub.status.idle": "2021-03-09T09:56:46.528038Z",
     "shell.execute_reply": "2021-03-09T09:56:46.527230Z"
    },
    "papermill": {
     "duration": 0.297661,
     "end_time": "2021-03-09T09:56:46.528209",
     "exception": false,
     "start_time": "2021-03-09T09:56:46.230548",
     "status": "completed"
    },
    "tags": []
   },
   "outputs": [
    {
     "name": "stderr",
     "output_type": "stream",
     "text": [
      "/opt/conda/lib/python3.7/site-packages/seaborn/_decorators.py:43: FutureWarning: Pass the following variables as keyword args: x, y. From version 0.12, the only valid positional argument will be `data`, and passing other arguments without an explicit keyword will result in an error or misinterpretation.\n",
      "  FutureWarning\n"
     ]
    },
    {
     "data": {
      "text/plain": [
       "<AxesSubplot:xlabel='work_type', ylabel='age'>"
      ]
     },
     "execution_count": 21,
     "metadata": {},
     "output_type": "execute_result"
    },
    {
     "data": {
      "image/png": "[encoded data removed]",
      "text/plain": [
       "<Figure size 432x288 with 1 Axes>"
      ]
     },
     "metadata": {
      "needs_background": "light"
     },
     "output_type": "display_data"
    }
   ],
   "source": [
    "sns.boxplot(df['work_type'],df['age'])"
   ]
  },
  {
   "cell_type": "code",
   "execution_count": 22,
   "metadata": {
    "execution": {
     "iopub.execute_input": "2021-03-09T09:56:46.697690Z",
     "iopub.status.busy": "2021-03-09T09:56:46.696436Z",
     "iopub.status.idle": "2021-03-09T09:56:46.838420Z",
     "shell.execute_reply": "2021-03-09T09:56:46.837710Z"
    },
    "papermill": {
     "duration": 0.231573,
     "end_time": "2021-03-09T09:56:46.838574",
     "exception": false,
     "start_time": "2021-03-09T09:56:46.607001",
     "status": "completed"
    },
    "tags": []
   },
   "outputs": [
    {
     "name": "stderr",
     "output_type": "stream",
     "text": [
      "/opt/conda/lib/python3.7/site-packages/seaborn/_decorators.py:43: FutureWarning: Pass the following variables as keyword args: x, y. From version 0.12, the only valid positional argument will be `data`, and passing other arguments without an explicit keyword will result in an error or misinterpretation.\n",
      "  FutureWarning\n"
     ]
    },
    {
     "data": {
      "text/plain": [
       "<AxesSubplot:xlabel='ever_married', ylabel='age'>"
      ]
     },
     "execution_count": 22,
     "metadata": {},
     "output_type": "execute_result"
    },
    {
     "data": {
      "image/png": "[encoded data removed]",
      "text/plain": [
       "<Figure size 432x288 with 1 Axes>"
      ]
     },
     "metadata": {
      "needs_background": "light"
     },
     "output_type": "display_data"
    }
   ],
   "source": [
    "sns.boxplot(df['ever_married'],df['age'])"
   ]
  },
  {
   "cell_type": "code",
   "execution_count": 23,
   "metadata": {
    "execution": {
     "iopub.execute_input": "2021-03-09T09:56:47.000290Z",
     "iopub.status.busy": "2021-03-09T09:56:46.999316Z",
     "iopub.status.idle": "2021-03-09T09:56:47.004225Z",
     "shell.execute_reply": "2021-03-09T09:56:47.003441Z"
    },
    "papermill": {
     "duration": 0.090972,
     "end_time": "2021-03-09T09:56:47.004401",
     "exception": false,
     "start_time": "2021-03-09T09:56:46.913429",
     "status": "completed"
    },
    "tags": []
   },
   "outputs": [],
   "source": [
    "df['gender'] = df['gender'].map({'Female':1,'Male':0})\n",
    "df['ever_married'] = df['ever_married'].map({'Yes':1,'No':0})\n",
    "df['Residence_type'] = df['Residence_type'].map({'Urban':1,'Rural':0})"
   ]
  },
  {
   "cell_type": "code",
   "execution_count": 24,
   "metadata": {
    "execution": {
     "iopub.execute_input": "2021-03-09T09:56:47.158663Z",
     "iopub.status.busy": "2021-03-09T09:56:47.157694Z",
     "iopub.status.idle": "2021-03-09T09:56:47.161834Z",
     "shell.execute_reply": "2021-03-09T09:56:47.162537Z"
    },
    "papermill": {
     "duration": 0.085375,
     "end_time": "2021-03-09T09:56:47.162745",
     "exception": false,
     "start_time": "2021-03-09T09:56:47.077370",
     "status": "completed"
    },
    "tags": []
   },
   "outputs": [
    {
     "data": {
      "text/plain": [
       "array(['Private', 'Self-employed', 'Govt_job', 'children', 'Never_worked'],\n",
       "      dtype=object)"
      ]
     },
     "execution_count": 24,
     "metadata": {},
     "output_type": "execute_result"
    }
   ],
   "source": [
    "df['work_type'].unique()"
   ]
  },
  {
   "cell_type": "code",
   "execution_count": 25,
   "metadata": {
    "execution": {
     "iopub.execute_input": "2021-03-09T09:56:47.319470Z",
     "iopub.status.busy": "2021-03-09T09:56:47.318450Z",
     "iopub.status.idle": "2021-03-09T09:56:47.323208Z",
     "shell.execute_reply": "2021-03-09T09:56:47.322496Z"
    },
    "papermill": {
     "duration": 0.086721,
     "end_time": "2021-03-09T09:56:47.323361",
     "exception": false,
     "start_time": "2021-03-09T09:56:47.236640",
     "status": "completed"
    },
    "tags": []
   },
   "outputs": [],
   "source": [
    "df['work_type'] = df['work_type'].map({'Private':0,'Self-employed':1,'Govt_job':2,'children':3,'Never_worked':4})"
   ]
  },
  {
   "cell_type": "code",
   "execution_count": 26,
   "metadata": {
    "execution": {
     "iopub.execute_input": "2021-03-09T09:56:47.501883Z",
     "iopub.status.busy": "2021-03-09T09:56:47.490247Z",
     "iopub.status.idle": "2021-03-09T09:56:47.506971Z",
     "shell.execute_reply": "2021-03-09T09:56:47.506414Z"
    },
    "papermill": {
     "duration": 0.109499,
     "end_time": "2021-03-09T09:56:47.507125",
     "exception": false,
     "start_time": "2021-03-09T09:56:47.397626",
     "status": "completed"
    },
    "tags": []
   },
   "outputs": [
    {
     "data": {
      "text/html": [
       "<div>\n",
       "<style scoped>\n",
       "    .dataframe tbody tr th:only-of-type {\n",
       "        vertical-align: middle;\n",
       "    }\n",
       "\n",
       "    .dataframe tbody tr th {\n",
       "        vertical-align: top;\n",
       "    }\n",
       "\n",
       "    .dataframe thead th {\n",
       "        text-align: right;\n",
       "    }\n",
       "</style>\n",
       "<table border=\"1\" class=\"dataframe\">\n",
       "  <thead>\n",
       "    <tr style=\"text-align: right;\">\n",
       "      <th></th>\n",
       "      <th>id</th>\n",
       "      <th>gender</th>\n",
       "      <th>age</th>\n",
       "      <th>hypertension</th>\n",
       "      <th>heart_disease</th>\n",
       "      <th>ever_married</th>\n",
       "      <th>work_type</th>\n",
       "      <th>Residence_type</th>\n",
       "      <th>avg_glucose_level</th>\n",
       "      <th>bmi</th>\n",
       "      <th>smoking_status</th>\n",
       "      <th>stroke</th>\n",
       "    </tr>\n",
       "  </thead>\n",
       "  <tbody>\n",
       "    <tr>\n",
       "      <th>0</th>\n",
       "      <td>9046</td>\n",
       "      <td>0.0</td>\n",
       "      <td>67.0</td>\n",
       "      <td>0</td>\n",
       "      <td>1</td>\n",
       "      <td>1</td>\n",
       "      <td>0</td>\n",
       "      <td>1</td>\n",
       "      <td>228.69</td>\n",
       "      <td>36.600000</td>\n",
       "      <td>formerly smoked</td>\n",
       "      <td>1</td>\n",
       "    </tr>\n",
       "    <tr>\n",
       "      <th>1</th>\n",
       "      <td>51676</td>\n",
       "      <td>1.0</td>\n",
       "      <td>61.0</td>\n",
       "      <td>0</td>\n",
       "      <td>0</td>\n",
       "      <td>1</td>\n",
       "      <td>1</td>\n",
       "      <td>0</td>\n",
       "      <td>202.21</td>\n",
       "      <td>28.893237</td>\n",
       "      <td>never smoked</td>\n",
       "      <td>1</td>\n",
       "    </tr>\n",
       "    <tr>\n",
       "      <th>2</th>\n",
       "      <td>31112</td>\n",
       "      <td>0.0</td>\n",
       "      <td>80.0</td>\n",
       "      <td>0</td>\n",
       "      <td>1</td>\n",
       "      <td>1</td>\n",
       "      <td>0</td>\n",
       "      <td>0</td>\n",
       "      <td>105.92</td>\n",
       "      <td>32.500000</td>\n",
       "      <td>never smoked</td>\n",
       "      <td>1</td>\n",
       "    </tr>\n",
       "    <tr>\n",
       "      <th>3</th>\n",
       "      <td>60182</td>\n",
       "      <td>1.0</td>\n",
       "      <td>49.0</td>\n",
       "      <td>0</td>\n",
       "      <td>0</td>\n",
       "      <td>1</td>\n",
       "      <td>0</td>\n",
       "      <td>1</td>\n",
       "      <td>171.23</td>\n",
       "      <td>34.400000</td>\n",
       "      <td>smokes</td>\n",
       "      <td>1</td>\n",
       "    </tr>\n",
       "    <tr>\n",
       "      <th>4</th>\n",
       "      <td>1665</td>\n",
       "      <td>1.0</td>\n",
       "      <td>79.0</td>\n",
       "      <td>1</td>\n",
       "      <td>0</td>\n",
       "      <td>1</td>\n",
       "      <td>1</td>\n",
       "      <td>0</td>\n",
       "      <td>174.12</td>\n",
       "      <td>24.000000</td>\n",
       "      <td>never smoked</td>\n",
       "      <td>1</td>\n",
       "    </tr>\n",
       "    <tr>\n",
       "      <th>...</th>\n",
       "      <td>...</td>\n",
       "      <td>...</td>\n",
       "      <td>...</td>\n",
       "      <td>...</td>\n",
       "      <td>...</td>\n",
       "      <td>...</td>\n",
       "      <td>...</td>\n",
       "      <td>...</td>\n",
       "      <td>...</td>\n",
       "      <td>...</td>\n",
       "      <td>...</td>\n",
       "      <td>...</td>\n",
       "    </tr>\n",
       "    <tr>\n",
       "      <th>5105</th>\n",
       "      <td>18234</td>\n",
       "      <td>1.0</td>\n",
       "      <td>80.0</td>\n",
       "      <td>1</td>\n",
       "      <td>0</td>\n",
       "      <td>1</td>\n",
       "      <td>0</td>\n",
       "      <td>1</td>\n",
       "      <td>83.75</td>\n",
       "      <td>28.893237</td>\n",
       "      <td>never smoked</td>\n",
       "      <td>0</td>\n",
       "    </tr>\n",
       "    <tr>\n",
       "      <th>5106</th>\n",
       "      <td>44873</td>\n",
       "      <td>1.0</td>\n",
       "      <td>81.0</td>\n",
       "      <td>0</td>\n",
       "      <td>0</td>\n",
       "      <td>1</td>\n",
       "      <td>1</td>\n",
       "      <td>1</td>\n",
       "      <td>125.20</td>\n",
       "      <td>40.000000</td>\n",
       "      <td>never smoked</td>\n",
       "      <td>0</td>\n",
       "    </tr>\n",
       "    <tr>\n",
       "      <th>5107</th>\n",
       "      <td>19723</td>\n",
       "      <td>1.0</td>\n",
       "      <td>35.0</td>\n",
       "      <td>0</td>\n",
       "      <td>0</td>\n",
       "      <td>1</td>\n",
       "      <td>1</td>\n",
       "      <td>0</td>\n",
       "      <td>82.99</td>\n",
       "      <td>30.600000</td>\n",
       "      <td>never smoked</td>\n",
       "      <td>0</td>\n",
       "    </tr>\n",
       "    <tr>\n",
       "      <th>5108</th>\n",
       "      <td>37544</td>\n",
       "      <td>0.0</td>\n",
       "      <td>51.0</td>\n",
       "      <td>0</td>\n",
       "      <td>0</td>\n",
       "      <td>1</td>\n",
       "      <td>0</td>\n",
       "      <td>0</td>\n",
       "      <td>166.29</td>\n",
       "      <td>25.600000</td>\n",
       "      <td>formerly smoked</td>\n",
       "      <td>0</td>\n",
       "    </tr>\n",
       "    <tr>\n",
       "      <th>5109</th>\n",
       "      <td>44679</td>\n",
       "      <td>1.0</td>\n",
       "      <td>44.0</td>\n",
       "      <td>0</td>\n",
       "      <td>0</td>\n",
       "      <td>1</td>\n",
       "      <td>2</td>\n",
       "      <td>1</td>\n",
       "      <td>85.28</td>\n",
       "      <td>26.200000</td>\n",
       "      <td>Unknown</td>\n",
       "      <td>0</td>\n",
       "    </tr>\n",
       "  </tbody>\n",
       "</table>\n",
       "<p>5110 rows × 12 columns</p>\n",
       "</div>"
      ],
      "text/plain": [
       "         id  gender   age  hypertension  heart_disease  ever_married  \\\n",
       "0      9046     0.0  67.0             0              1             1   \n",
       "1     51676     1.0  61.0             0              0             1   \n",
       "2     31112     0.0  80.0             0              1             1   \n",
       "3     60182     1.0  49.0             0              0             1   \n",
       "4      1665     1.0  79.0             1              0             1   \n",
       "...     ...     ...   ...           ...            ...           ...   \n",
       "5105  18234     1.0  80.0             1              0             1   \n",
       "5106  44873     1.0  81.0             0              0             1   \n",
       "5107  19723     1.0  35.0             0              0             1   \n",
       "5108  37544     0.0  51.0             0              0             1   \n",
       "5109  44679     1.0  44.0             0              0             1   \n",
       "\n",
       "      work_type  Residence_type  avg_glucose_level        bmi  \\\n",
       "0             0               1             228.69  36.600000   \n",
       "1             1               0             202.21  28.893237   \n",
       "2             0               0             105.92  32.500000   \n",
       "3             0               1             171.23  34.400000   \n",
       "4             1               0             174.12  24.000000   \n",
       "...         ...             ...                ...        ...   \n",
       "5105          0               1              83.75  28.893237   \n",
       "5106          1               1             125.20  40.000000   \n",
       "5107          1               0              82.99  30.600000   \n",
       "5108          0               0             166.29  25.600000   \n",
       "5109          2               1              85.28  26.200000   \n",
       "\n",
       "       smoking_status  stroke  \n",
       "0     formerly smoked       1  \n",
       "1        never smoked       1  \n",
       "2        never smoked       1  \n",
       "3              smokes       1  \n",
       "4        never smoked       1  \n",
       "...               ...     ...  \n",
       "5105     never smoked       0  \n",
       "5106     never smoked       0  \n",
       "5107     never smoked       0  \n",
       "5108  formerly smoked       0  \n",
       "5109          Unknown       0  \n",
       "\n",
       "[5110 rows x 12 columns]"
      ]
     },
     "execution_count": 26,
     "metadata": {},
     "output_type": "execute_result"
    }
   ],
   "source": [
    "df"
   ]
  },
  {
   "cell_type": "code",
   "execution_count": 27,
   "metadata": {
    "execution": {
     "iopub.execute_input": "2021-03-09T09:56:47.666735Z",
     "iopub.status.busy": "2021-03-09T09:56:47.665989Z",
     "iopub.status.idle": "2021-03-09T09:56:47.672463Z",
     "shell.execute_reply": "2021-03-09T09:56:47.671869Z"
    },
    "papermill": {
     "duration": 0.085755,
     "end_time": "2021-03-09T09:56:47.672631",
     "exception": false,
     "start_time": "2021-03-09T09:56:47.586876",
     "status": "completed"
    },
    "tags": []
   },
   "outputs": [
    {
     "data": {
      "text/plain": [
       "array(['formerly smoked', 'never smoked', 'smokes', 'Unknown'],\n",
       "      dtype=object)"
      ]
     },
     "execution_count": 27,
     "metadata": {},
     "output_type": "execute_result"
    }
   ],
   "source": [
    "df['smoking_status'].unique()"
   ]
  },
  {
   "cell_type": "code",
   "execution_count": 28,
   "metadata": {
    "execution": {
     "iopub.execute_input": "2021-03-09T09:56:47.836193Z",
     "iopub.status.busy": "2021-03-09T09:56:47.835345Z",
     "iopub.status.idle": "2021-03-09T09:56:47.838873Z",
     "shell.execute_reply": "2021-03-09T09:56:47.838166Z"
    },
    "papermill": {
     "duration": 0.088798,
     "end_time": "2021-03-09T09:56:47.839043",
     "exception": false,
     "start_time": "2021-03-09T09:56:47.750245",
     "status": "completed"
    },
    "tags": []
   },
   "outputs": [],
   "source": [
    "df['smoking_status'] = df['smoking_status'].map({'never smoked':0,'Unknown':1,'formerly smoked':2,'smokes':3})"
   ]
  },
  {
   "cell_type": "code",
   "execution_count": 29,
   "metadata": {
    "execution": {
     "iopub.execute_input": "2021-03-09T09:56:48.001057Z",
     "iopub.status.busy": "2021-03-09T09:56:48.000256Z",
     "iopub.status.idle": "2021-03-09T09:56:48.028175Z",
     "shell.execute_reply": "2021-03-09T09:56:48.029094Z"
    },
    "papermill": {
     "duration": 0.111903,
     "end_time": "2021-03-09T09:56:48.029333",
     "exception": false,
     "start_time": "2021-03-09T09:56:47.917430",
     "status": "completed"
    },
    "tags": []
   },
   "outputs": [
    {
     "data": {
      "text/html": [
       "<div>\n",
       "<style scoped>\n",
       "    .dataframe tbody tr th:only-of-type {\n",
       "        vertical-align: middle;\n",
       "    }\n",
       "\n",
       "    .dataframe tbody tr th {\n",
       "        vertical-align: top;\n",
       "    }\n",
       "\n",
       "    .dataframe thead th {\n",
       "        text-align: right;\n",
       "    }\n",
       "</style>\n",
       "<table border=\"1\" class=\"dataframe\">\n",
       "  <thead>\n",
       "    <tr style=\"text-align: right;\">\n",
       "      <th></th>\n",
       "      <th>id</th>\n",
       "      <th>gender</th>\n",
       "      <th>age</th>\n",
       "      <th>hypertension</th>\n",
       "      <th>heart_disease</th>\n",
       "      <th>ever_married</th>\n",
       "      <th>work_type</th>\n",
       "      <th>Residence_type</th>\n",
       "      <th>avg_glucose_level</th>\n",
       "      <th>bmi</th>\n",
       "      <th>smoking_status</th>\n",
       "      <th>stroke</th>\n",
       "    </tr>\n",
       "  </thead>\n",
       "  <tbody>\n",
       "    <tr>\n",
       "      <th>0</th>\n",
       "      <td>9046</td>\n",
       "      <td>0.0</td>\n",
       "      <td>67.0</td>\n",
       "      <td>0</td>\n",
       "      <td>1</td>\n",
       "      <td>1</td>\n",
       "      <td>0</td>\n",
       "      <td>1</td>\n",
       "      <td>228.69</td>\n",
       "      <td>36.600000</td>\n",
       "      <td>2</td>\n",
       "      <td>1</td>\n",
       "    </tr>\n",
       "    <tr>\n",
       "      <th>1</th>\n",
       "      <td>51676</td>\n",
       "      <td>1.0</td>\n",
       "      <td>61.0</td>\n",
       "      <td>0</td>\n",
       "      <td>0</td>\n",
       "      <td>1</td>\n",
       "      <td>1</td>\n",
       "      <td>0</td>\n",
       "      <td>202.21</td>\n",
       "      <td>28.893237</td>\n",
       "      <td>0</td>\n",
       "      <td>1</td>\n",
       "    </tr>\n",
       "    <tr>\n",
       "      <th>2</th>\n",
       "      <td>31112</td>\n",
       "      <td>0.0</td>\n",
       "      <td>80.0</td>\n",
       "      <td>0</td>\n",
       "      <td>1</td>\n",
       "      <td>1</td>\n",
       "      <td>0</td>\n",
       "      <td>0</td>\n",
       "      <td>105.92</td>\n",
       "      <td>32.500000</td>\n",
       "      <td>0</td>\n",
       "      <td>1</td>\n",
       "    </tr>\n",
       "    <tr>\n",
       "      <th>3</th>\n",
       "      <td>60182</td>\n",
       "      <td>1.0</td>\n",
       "      <td>49.0</td>\n",
       "      <td>0</td>\n",
       "      <td>0</td>\n",
       "      <td>1</td>\n",
       "      <td>0</td>\n",
       "      <td>1</td>\n",
       "      <td>171.23</td>\n",
       "      <td>34.400000</td>\n",
       "      <td>3</td>\n",
       "      <td>1</td>\n",
       "    </tr>\n",
       "    <tr>\n",
       "      <th>4</th>\n",
       "      <td>1665</td>\n",
       "      <td>1.0</td>\n",
       "      <td>79.0</td>\n",
       "      <td>1</td>\n",
       "      <td>0</td>\n",
       "      <td>1</td>\n",
       "      <td>1</td>\n",
       "      <td>0</td>\n",
       "      <td>174.12</td>\n",
       "      <td>24.000000</td>\n",
       "      <td>0</td>\n",
       "      <td>1</td>\n",
       "    </tr>\n",
       "    <tr>\n",
       "      <th>...</th>\n",
       "      <td>...</td>\n",
       "      <td>...</td>\n",
       "      <td>...</td>\n",
       "      <td>...</td>\n",
       "      <td>...</td>\n",
       "      <td>...</td>\n",
       "      <td>...</td>\n",
       "      <td>...</td>\n",
       "      <td>...</td>\n",
       "      <td>...</td>\n",
       "      <td>...</td>\n",
       "      <td>...</td>\n",
       "    </tr>\n",
       "    <tr>\n",
       "      <th>5105</th>\n",
       "      <td>18234</td>\n",
       "      <td>1.0</td>\n",
       "      <td>80.0</td>\n",
       "      <td>1</td>\n",
       "      <td>0</td>\n",
       "      <td>1</td>\n",
       "      <td>0</td>\n",
       "      <td>1</td>\n",
       "      <td>83.75</td>\n",
       "      <td>28.893237</td>\n",
       "      <td>0</td>\n",
       "      <td>0</td>\n",
       "    </tr>\n",
       "    <tr>\n",
       "      <th>5106</th>\n",
       "      <td>44873</td>\n",
       "      <td>1.0</td>\n",
       "      <td>81.0</td>\n",
       "      <td>0</td>\n",
       "      <td>0</td>\n",
       "      <td>1</td>\n",
       "      <td>1</td>\n",
       "      <td>1</td>\n",
       "      <td>125.20</td>\n",
       "      <td>40.000000</td>\n",
       "      <td>0</td>\n",
       "      <td>0</td>\n",
       "    </tr>\n",
       "    <tr>\n",
       "      <th>5107</th>\n",
       "      <td>19723</td>\n",
       "      <td>1.0</td>\n",
       "      <td>35.0</td>\n",
       "      <td>0</td>\n",
       "      <td>0</td>\n",
       "      <td>1</td>\n",
       "      <td>1</td>\n",
       "      <td>0</td>\n",
       "      <td>82.99</td>\n",
       "      <td>30.600000</td>\n",
       "      <td>0</td>\n",
       "      <td>0</td>\n",
       "    </tr>\n",
       "    <tr>\n",
       "      <th>5108</th>\n",
       "      <td>37544</td>\n",
       "      <td>0.0</td>\n",
       "      <td>51.0</td>\n",
       "      <td>0</td>\n",
       "      <td>0</td>\n",
       "      <td>1</td>\n",
       "      <td>0</td>\n",
       "      <td>0</td>\n",
       "      <td>166.29</td>\n",
       "      <td>25.600000</td>\n",
       "      <td>2</td>\n",
       "      <td>0</td>\n",
       "    </tr>\n",
       "    <tr>\n",
       "      <th>5109</th>\n",
       "      <td>44679</td>\n",
       "      <td>1.0</td>\n",
       "      <td>44.0</td>\n",
       "      <td>0</td>\n",
       "      <td>0</td>\n",
       "      <td>1</td>\n",
       "      <td>2</td>\n",
       "      <td>1</td>\n",
       "      <td>85.28</td>\n",
       "      <td>26.200000</td>\n",
       "      <td>1</td>\n",
       "      <td>0</td>\n",
       "    </tr>\n",
       "  </tbody>\n",
       "</table>\n",
       "<p>5110 rows × 12 columns</p>\n",
       "</div>"
      ],
      "text/plain": [
       "         id  gender   age  hypertension  heart_disease  ever_married  \\\n",
       "0      9046     0.0  67.0             0              1             1   \n",
       "1     51676     1.0  61.0             0              0             1   \n",
       "2     31112     0.0  80.0             0              1             1   \n",
       "3     60182     1.0  49.0             0              0             1   \n",
       "4      1665     1.0  79.0             1              0             1   \n",
       "...     ...     ...   ...           ...            ...           ...   \n",
       "5105  18234     1.0  80.0             1              0             1   \n",
       "5106  44873     1.0  81.0             0              0             1   \n",
       "5107  19723     1.0  35.0             0              0             1   \n",
       "5108  37544     0.0  51.0             0              0             1   \n",
       "5109  44679     1.0  44.0             0              0             1   \n",
       "\n",
       "      work_type  Residence_type  avg_glucose_level        bmi  smoking_status  \\\n",
       "0             0               1             228.69  36.600000               2   \n",
       "1             1               0             202.21  28.893237               0   \n",
       "2             0               0             105.92  32.500000               0   \n",
       "3             0               1             171.23  34.400000               3   \n",
       "4             1               0             174.12  24.000000               0   \n",
       "...         ...             ...                ...        ...             ...   \n",
       "5105          0               1              83.75  28.893237               0   \n",
       "5106          1               1             125.20  40.000000               0   \n",
       "5107          1               0              82.99  30.600000               0   \n",
       "5108          0               0             166.29  25.600000               2   \n",
       "5109          2               1              85.28  26.200000               1   \n",
       "\n",
       "      stroke  \n",
       "0          1  \n",
       "1          1  \n",
       "2          1  \n",
       "3          1  \n",
       "4          1  \n",
       "...      ...  \n",
       "5105       0  \n",
       "5106       0  \n",
       "5107       0  \n",
       "5108       0  \n",
       "5109       0  \n",
       "\n",
       "[5110 rows x 12 columns]"
      ]
     },
     "execution_count": 29,
     "metadata": {},
     "output_type": "execute_result"
    }
   ],
   "source": [
    "df"
   ]
  },
  {
   "cell_type": "code",
   "execution_count": 30,
   "metadata": {
    "execution": {
     "iopub.execute_input": "2021-03-09T09:56:48.198338Z",
     "iopub.status.busy": "2021-03-09T09:56:48.197210Z",
     "iopub.status.idle": "2021-03-09T09:56:48.203762Z",
     "shell.execute_reply": "2021-03-09T09:56:48.204306Z"
    },
    "papermill": {
     "duration": 0.091001,
     "end_time": "2021-03-09T09:56:48.204517",
     "exception": false,
     "start_time": "2021-03-09T09:56:48.113516",
     "status": "completed"
    },
    "tags": []
   },
   "outputs": [],
   "source": [
    "df['gender'] = df['gender'].fillna(df['gender'].mean())"
   ]
  },
  {
   "cell_type": "code",
   "execution_count": 31,
   "metadata": {
    "execution": {
     "iopub.execute_input": "2021-03-09T09:56:48.364767Z",
     "iopub.status.busy": "2021-03-09T09:56:48.363675Z",
     "iopub.status.idle": "2021-03-09T09:56:48.375446Z",
     "shell.execute_reply": "2021-03-09T09:56:48.374646Z"
    },
    "papermill": {
     "duration": 0.092281,
     "end_time": "2021-03-09T09:56:48.375714",
     "exception": false,
     "start_time": "2021-03-09T09:56:48.283433",
     "status": "completed"
    },
    "tags": []
   },
   "outputs": [],
   "source": [
    "df['gender'] = df['gender'].astype(int)\n",
    "df['age'] = df['age'].astype(int)\n",
    "df['avg_glucose_level'] = df['avg_glucose_level'].astype(int)\n",
    "df['bmi'] = df['bmi'].astype(int)"
   ]
  },
  {
   "cell_type": "code",
   "execution_count": 32,
   "metadata": {
    "execution": {
     "iopub.execute_input": "2021-03-09T09:56:48.541764Z",
     "iopub.status.busy": "2021-03-09T09:56:48.541043Z",
     "iopub.status.idle": "2021-03-09T09:56:48.548823Z",
     "shell.execute_reply": "2021-03-09T09:56:48.547812Z"
    },
    "papermill": {
     "duration": 0.092354,
     "end_time": "2021-03-09T09:56:48.549010",
     "exception": false,
     "start_time": "2021-03-09T09:56:48.456656",
     "status": "completed"
    },
    "tags": []
   },
   "outputs": [],
   "source": [
    "y = df['stroke']\n",
    "X=df[['gender', 'age', 'hypertension', 'heart_disease', 'ever_married','work_type', 'Residence_type', 'avg_glucose_level', 'bmi','smoking_status']]"
   ]
  },
  {
   "cell_type": "code",
   "execution_count": 33,
   "metadata": {
    "execution": {
     "iopub.execute_input": "2021-03-09T09:56:48.712485Z",
     "iopub.status.busy": "2021-03-09T09:56:48.711284Z",
     "iopub.status.idle": "2021-03-09T09:56:48.717611Z",
     "shell.execute_reply": "2021-03-09T09:56:48.716929Z"
    },
    "papermill": {
     "duration": 0.090353,
     "end_time": "2021-03-09T09:56:48.717764",
     "exception": false,
     "start_time": "2021-03-09T09:56:48.627411",
     "status": "completed"
    },
    "tags": []
   },
   "outputs": [
    {
     "data": {
      "text/plain": [
       "id                   0\n",
       "gender               0\n",
       "age                  0\n",
       "hypertension         0\n",
       "heart_disease        0\n",
       "ever_married         0\n",
       "work_type            0\n",
       "Residence_type       0\n",
       "avg_glucose_level    0\n",
       "bmi                  0\n",
       "smoking_status       0\n",
       "stroke               0\n",
       "dtype: int64"
      ]
     },
     "execution_count": 33,
     "metadata": {},
     "output_type": "execute_result"
    }
   ],
   "source": [
    "df.isnull().sum()"
   ]
  },
  {
   "cell_type": "code",
   "execution_count": 34,
   "metadata": {
    "execution": {
     "iopub.execute_input": "2021-03-09T09:56:48.877890Z",
     "iopub.status.busy": "2021-03-09T09:56:48.877009Z",
     "iopub.status.idle": "2021-03-09T09:56:48.882103Z",
     "shell.execute_reply": "2021-03-09T09:56:48.881438Z"
    },
    "papermill": {
     "duration": 0.089663,
     "end_time": "2021-03-09T09:56:48.882351",
     "exception": false,
     "start_time": "2021-03-09T09:56:48.792688",
     "status": "completed"
    },
    "tags": []
   },
   "outputs": [
    {
     "data": {
      "text/plain": [
       "Series([], Name: gender, dtype: int64)"
      ]
     },
     "execution_count": 34,
     "metadata": {},
     "output_type": "execute_result"
    }
   ],
   "source": [
    "df['gender'][df['gender'].isnull()]"
   ]
  },
  {
   "cell_type": "code",
   "execution_count": 35,
   "metadata": {
    "execution": {
     "iopub.execute_input": "2021-03-09T09:56:49.050254Z",
     "iopub.status.busy": "2021-03-09T09:56:49.048360Z",
     "iopub.status.idle": "2021-03-09T09:56:49.181092Z",
     "shell.execute_reply": "2021-03-09T09:56:49.180408Z"
    },
    "papermill": {
     "duration": 0.21792,
     "end_time": "2021-03-09T09:56:49.181240",
     "exception": false,
     "start_time": "2021-03-09T09:56:48.963320",
     "status": "completed"
    },
    "tags": []
   },
   "outputs": [
    {
     "name": "stderr",
     "output_type": "stream",
     "text": [
      "/opt/conda/lib/python3.7/site-packages/seaborn/_decorators.py:43: FutureWarning: Pass the following variable as a keyword arg: x. From version 0.12, the only valid positional argument will be `data`, and passing other arguments without an explicit keyword will result in an error or misinterpretation.\n",
      "  FutureWarning\n"
     ]
    },
    {
     "data": {
      "text/plain": [
       "<AxesSubplot:xlabel='gender', ylabel='count'>"
      ]
     },
     "execution_count": 35,
     "metadata": {},
     "output_type": "execute_result"
    },
    {
     "data": {
      "image/png": "[encoded data removed]",
      "text/plain": [
       "<Figure size 432x288 with 1 Axes>"
      ]
     },
     "metadata": {
      "needs_background": "light"
     },
     "output_type": "display_data"
    }
   ],
   "source": [
    "sns.countplot(df['gender'])"
   ]
  },
  {
   "cell_type": "code",
   "execution_count": 36,
   "metadata": {
    "execution": {
     "iopub.execute_input": "2021-03-09T09:56:49.362307Z",
     "iopub.status.busy": "2021-03-09T09:56:49.361250Z",
     "iopub.status.idle": "2021-03-09T09:56:49.366848Z",
     "shell.execute_reply": "2021-03-09T09:56:49.366167Z"
    },
    "papermill": {
     "duration": 0.10151,
     "end_time": "2021-03-09T09:56:49.367021",
     "exception": false,
     "start_time": "2021-03-09T09:56:49.265511",
     "status": "completed"
    },
    "tags": []
   },
   "outputs": [
    {
     "data": {
      "text/html": [
       "<div>\n",
       "<style scoped>\n",
       "    .dataframe tbody tr th:only-of-type {\n",
       "        vertical-align: middle;\n",
       "    }\n",
       "\n",
       "    .dataframe tbody tr th {\n",
       "        vertical-align: top;\n",
       "    }\n",
       "\n",
       "    .dataframe thead th {\n",
       "        text-align: right;\n",
       "    }\n",
       "</style>\n",
       "<table border=\"1\" class=\"dataframe\">\n",
       "  <thead>\n",
       "    <tr style=\"text-align: right;\">\n",
       "      <th></th>\n",
       "      <th>id</th>\n",
       "      <th>gender</th>\n",
       "      <th>age</th>\n",
       "      <th>hypertension</th>\n",
       "      <th>heart_disease</th>\n",
       "      <th>ever_married</th>\n",
       "      <th>work_type</th>\n",
       "      <th>Residence_type</th>\n",
       "      <th>avg_glucose_level</th>\n",
       "      <th>bmi</th>\n",
       "      <th>smoking_status</th>\n",
       "      <th>stroke</th>\n",
       "    </tr>\n",
       "  </thead>\n",
       "  <tbody>\n",
       "    <tr>\n",
       "      <th>0</th>\n",
       "      <td>9046</td>\n",
       "      <td>0</td>\n",
       "      <td>67</td>\n",
       "      <td>0</td>\n",
       "      <td>1</td>\n",
       "      <td>1</td>\n",
       "      <td>0</td>\n",
       "      <td>1</td>\n",
       "      <td>228</td>\n",
       "      <td>36</td>\n",
       "      <td>2</td>\n",
       "      <td>1</td>\n",
       "    </tr>\n",
       "    <tr>\n",
       "      <th>1</th>\n",
       "      <td>51676</td>\n",
       "      <td>1</td>\n",
       "      <td>61</td>\n",
       "      <td>0</td>\n",
       "      <td>0</td>\n",
       "      <td>1</td>\n",
       "      <td>1</td>\n",
       "      <td>0</td>\n",
       "      <td>202</td>\n",
       "      <td>28</td>\n",
       "      <td>0</td>\n",
       "      <td>1</td>\n",
       "    </tr>\n",
       "    <tr>\n",
       "      <th>2</th>\n",
       "      <td>31112</td>\n",
       "      <td>0</td>\n",
       "      <td>80</td>\n",
       "      <td>0</td>\n",
       "      <td>1</td>\n",
       "      <td>1</td>\n",
       "      <td>0</td>\n",
       "      <td>0</td>\n",
       "      <td>105</td>\n",
       "      <td>32</td>\n",
       "      <td>0</td>\n",
       "      <td>1</td>\n",
       "    </tr>\n",
       "    <tr>\n",
       "      <th>3</th>\n",
       "      <td>60182</td>\n",
       "      <td>1</td>\n",
       "      <td>49</td>\n",
       "      <td>0</td>\n",
       "      <td>0</td>\n",
       "      <td>1</td>\n",
       "      <td>0</td>\n",
       "      <td>1</td>\n",
       "      <td>171</td>\n",
       "      <td>34</td>\n",
       "      <td>3</td>\n",
       "      <td>1</td>\n",
       "    </tr>\n",
       "    <tr>\n",
       "      <th>4</th>\n",
       "      <td>1665</td>\n",
       "      <td>1</td>\n",
       "      <td>79</td>\n",
       "      <td>1</td>\n",
       "      <td>0</td>\n",
       "      <td>1</td>\n",
       "      <td>1</td>\n",
       "      <td>0</td>\n",
       "      <td>174</td>\n",
       "      <td>24</td>\n",
       "      <td>0</td>\n",
       "      <td>1</td>\n",
       "    </tr>\n",
       "    <tr>\n",
       "      <th>...</th>\n",
       "      <td>...</td>\n",
       "      <td>...</td>\n",
       "      <td>...</td>\n",
       "      <td>...</td>\n",
       "      <td>...</td>\n",
       "      <td>...</td>\n",
       "      <td>...</td>\n",
       "      <td>...</td>\n",
       "      <td>...</td>\n",
       "      <td>...</td>\n",
       "      <td>...</td>\n",
       "      <td>...</td>\n",
       "    </tr>\n",
       "    <tr>\n",
       "      <th>5105</th>\n",
       "      <td>18234</td>\n",
       "      <td>1</td>\n",
       "      <td>80</td>\n",
       "      <td>1</td>\n",
       "      <td>0</td>\n",
       "      <td>1</td>\n",
       "      <td>0</td>\n",
       "      <td>1</td>\n",
       "      <td>83</td>\n",
       "      <td>28</td>\n",
       "      <td>0</td>\n",
       "      <td>0</td>\n",
       "    </tr>\n",
       "    <tr>\n",
       "      <th>5106</th>\n",
       "      <td>44873</td>\n",
       "      <td>1</td>\n",
       "      <td>81</td>\n",
       "      <td>0</td>\n",
       "      <td>0</td>\n",
       "      <td>1</td>\n",
       "      <td>1</td>\n",
       "      <td>1</td>\n",
       "      <td>125</td>\n",
       "      <td>40</td>\n",
       "      <td>0</td>\n",
       "      <td>0</td>\n",
       "    </tr>\n",
       "    <tr>\n",
       "      <th>5107</th>\n",
       "      <td>19723</td>\n",
       "      <td>1</td>\n",
       "      <td>35</td>\n",
       "      <td>0</td>\n",
       "      <td>0</td>\n",
       "      <td>1</td>\n",
       "      <td>1</td>\n",
       "      <td>0</td>\n",
       "      <td>82</td>\n",
       "      <td>30</td>\n",
       "      <td>0</td>\n",
       "      <td>0</td>\n",
       "    </tr>\n",
       "    <tr>\n",
       "      <th>5108</th>\n",
       "      <td>37544</td>\n",
       "      <td>0</td>\n",
       "      <td>51</td>\n",
       "      <td>0</td>\n",
       "      <td>0</td>\n",
       "      <td>1</td>\n",
       "      <td>0</td>\n",
       "      <td>0</td>\n",
       "      <td>166</td>\n",
       "      <td>25</td>\n",
       "      <td>2</td>\n",
       "      <td>0</td>\n",
       "    </tr>\n",
       "    <tr>\n",
       "      <th>5109</th>\n",
       "      <td>44679</td>\n",
       "      <td>1</td>\n",
       "      <td>44</td>\n",
       "      <td>0</td>\n",
       "      <td>0</td>\n",
       "      <td>1</td>\n",
       "      <td>2</td>\n",
       "      <td>1</td>\n",
       "      <td>85</td>\n",
       "      <td>26</td>\n",
       "      <td>1</td>\n",
       "      <td>0</td>\n",
       "    </tr>\n",
       "  </tbody>\n",
       "</table>\n",
       "<p>5110 rows × 12 columns</p>\n",
       "</div>"
      ],
      "text/plain": [
       "         id  gender  age  hypertension  heart_disease  ever_married  \\\n",
       "0      9046       0   67             0              1             1   \n",
       "1     51676       1   61             0              0             1   \n",
       "2     31112       0   80             0              1             1   \n",
       "3     60182       1   49             0              0             1   \n",
       "4      1665       1   79             1              0             1   \n",
       "...     ...     ...  ...           ...            ...           ...   \n",
       "5105  18234       1   80             1              0             1   \n",
       "5106  44873       1   81             0              0             1   \n",
       "5107  19723       1   35             0              0             1   \n",
       "5108  37544       0   51             0              0             1   \n",
       "5109  44679       1   44             0              0             1   \n",
       "\n",
       "      work_type  Residence_type  avg_glucose_level  bmi  smoking_status  \\\n",
       "0             0               1                228   36               2   \n",
       "1             1               0                202   28               0   \n",
       "2             0               0                105   32               0   \n",
       "3             0               1                171   34               3   \n",
       "4             1               0                174   24               0   \n",
       "...         ...             ...                ...  ...             ...   \n",
       "5105          0               1                 83   28               0   \n",
       "5106          1               1                125   40               0   \n",
       "5107          1               0                 82   30               0   \n",
       "5108          0               0                166   25               2   \n",
       "5109          2               1                 85   26               1   \n",
       "\n",
       "      stroke  \n",
       "0          1  \n",
       "1          1  \n",
       "2          1  \n",
       "3          1  \n",
       "4          1  \n",
       "...      ...  \n",
       "5105       0  \n",
       "5106       0  \n",
       "5107       0  \n",
       "5108       0  \n",
       "5109       0  \n",
       "\n",
       "[5110 rows x 12 columns]"
      ]
     },
     "execution_count": 36,
     "metadata": {},
     "output_type": "execute_result"
    }
   ],
   "source": [
    "df"
   ]
  },
  {
   "cell_type": "code",
   "execution_count": 37,
   "metadata": {
    "execution": {
     "iopub.execute_input": "2021-03-09T09:56:49.535889Z",
     "iopub.status.busy": "2021-03-09T09:56:49.535182Z",
     "iopub.status.idle": "2021-03-09T09:56:49.703987Z",
     "shell.execute_reply": "2021-03-09T09:56:49.703417Z"
    },
    "papermill": {
     "duration": 0.25621,
     "end_time": "2021-03-09T09:56:49.704141",
     "exception": false,
     "start_time": "2021-03-09T09:56:49.447931",
     "status": "completed"
    },
    "tags": []
   },
   "outputs": [],
   "source": [
    "from sklearn.model_selection import train_test_split"
   ]
  },
  {
   "cell_type": "code",
   "execution_count": 38,
   "metadata": {
    "execution": {
     "iopub.execute_input": "2021-03-09T09:56:49.870024Z",
     "iopub.status.busy": "2021-03-09T09:56:49.869105Z",
     "iopub.status.idle": "2021-03-09T09:56:49.877438Z",
     "shell.execute_reply": "2021-03-09T09:56:49.876552Z"
    },
    "papermill": {
     "duration": 0.093033,
     "end_time": "2021-03-09T09:56:49.877640",
     "exception": false,
     "start_time": "2021-03-09T09:56:49.784607",
     "status": "completed"
    },
    "tags": []
   },
   "outputs": [],
   "source": [
    "X_train, X_test, y_train, y_test = train_test_split(X, y, test_size=0.33, random_state=42)"
   ]
  },
  {
   "cell_type": "code",
   "execution_count": 39,
   "metadata": {
    "execution": {
     "iopub.execute_input": "2021-03-09T09:56:50.047952Z",
     "iopub.status.busy": "2021-03-09T09:56:50.047178Z",
     "iopub.status.idle": "2021-03-09T09:56:50.172069Z",
     "shell.execute_reply": "2021-03-09T09:56:50.171157Z"
    },
    "papermill": {
     "duration": 0.213469,
     "end_time": "2021-03-09T09:56:50.172257",
     "exception": false,
     "start_time": "2021-03-09T09:56:49.958788",
     "status": "completed"
    },
    "tags": []
   },
   "outputs": [],
   "source": [
    "from sklearn.linear_model import LinearRegression"
   ]
  },
  {
   "cell_type": "code",
   "execution_count": 40,
   "metadata": {
    "execution": {
     "iopub.execute_input": "2021-03-09T09:56:50.339982Z",
     "iopub.status.busy": "2021-03-09T09:56:50.339213Z",
     "iopub.status.idle": "2021-03-09T09:56:50.343232Z",
     "shell.execute_reply": "2021-03-09T09:56:50.342631Z"
    },
    "papermill": {
     "duration": 0.091045,
     "end_time": "2021-03-09T09:56:50.343391",
     "exception": false,
     "start_time": "2021-03-09T09:56:50.252346",
     "status": "completed"
    },
    "tags": []
   },
   "outputs": [],
   "source": [
    "reg = LinearRegression()"
   ]
  },
  {
   "cell_type": "code",
   "execution_count": 41,
   "metadata": {
    "execution": {
     "iopub.execute_input": "2021-03-09T09:56:50.511020Z",
     "iopub.status.busy": "2021-03-09T09:56:50.510317Z",
     "iopub.status.idle": "2021-03-09T09:56:50.539828Z",
     "shell.execute_reply": "2021-03-09T09:56:50.538572Z"
    },
    "papermill": {
     "duration": 0.115266,
     "end_time": "2021-03-09T09:56:50.540093",
     "exception": false,
     "start_time": "2021-03-09T09:56:50.424827",
     "status": "completed"
    },
    "tags": []
   },
   "outputs": [],
   "source": [
    "reg = reg.fit(X_train,y_train)"
   ]
  },
  {
   "cell_type": "code",
   "execution_count": 42,
   "metadata": {
    "execution": {
     "iopub.execute_input": "2021-03-09T09:56:50.781313Z",
     "iopub.status.busy": "2021-03-09T09:56:50.780141Z",
     "iopub.status.idle": "2021-03-09T09:56:50.790545Z",
     "shell.execute_reply": "2021-03-09T09:56:50.789695Z"
    },
    "papermill": {
     "duration": 0.118289,
     "end_time": "2021-03-09T09:56:50.790761",
     "exception": false,
     "start_time": "2021-03-09T09:56:50.672472",
     "status": "completed"
    },
    "tags": []
   },
   "outputs": [
    {
     "data": {
      "text/plain": [
       "array([ 0.02417933, -0.0014179 , -0.01246453, ...,  0.01055215,\n",
       "       -0.00231148, -0.01941683])"
      ]
     },
     "execution_count": 42,
     "metadata": {},
     "output_type": "execute_result"
    }
   ],
   "source": [
    "prediction = reg.predict(X_test)\n",
    "prediction"
   ]
  },
  {
   "cell_type": "code",
   "execution_count": 43,
   "metadata": {
    "execution": {
     "iopub.execute_input": "2021-03-09T09:56:50.989685Z",
     "iopub.status.busy": "2021-03-09T09:56:50.988790Z",
     "iopub.status.idle": "2021-03-09T09:56:50.998171Z",
     "shell.execute_reply": "2021-03-09T09:56:50.999005Z"
    },
    "papermill": {
     "duration": 0.106225,
     "end_time": "2021-03-09T09:56:50.999382",
     "exception": false,
     "start_time": "2021-03-09T09:56:50.893157",
     "status": "completed"
    },
    "tags": []
   },
   "outputs": [
    {
     "data": {
      "text/plain": [
       "0.07422387730218116"
      ]
     },
     "execution_count": 43,
     "metadata": {},
     "output_type": "execute_result"
    }
   ],
   "source": [
    "reg.score(X_train,y_train)"
   ]
  },
  {
   "cell_type": "code",
   "execution_count": 44,
   "metadata": {
    "execution": {
     "iopub.execute_input": "2021-03-09T09:56:51.166996Z",
     "iopub.status.busy": "2021-03-09T09:56:51.166181Z",
     "iopub.status.idle": "2021-03-09T09:56:51.338759Z",
     "shell.execute_reply": "2021-03-09T09:56:51.338001Z"
    },
    "papermill": {
     "duration": 0.259805,
     "end_time": "2021-03-09T09:56:51.338919",
     "exception": false,
     "start_time": "2021-03-09T09:56:51.079114",
     "status": "completed"
    },
    "tags": []
   },
   "outputs": [],
   "source": [
    "from sklearn.ensemble import RandomForestClassifier"
   ]
  },
  {
   "cell_type": "code",
   "execution_count": 45,
   "metadata": {
    "execution": {
     "iopub.execute_input": "2021-03-09T09:56:51.502436Z",
     "iopub.status.busy": "2021-03-09T09:56:51.501683Z",
     "iopub.status.idle": "2021-03-09T09:56:51.504886Z",
     "shell.execute_reply": "2021-03-09T09:56:51.505752Z"
    },
    "papermill": {
     "duration": 0.086664,
     "end_time": "2021-03-09T09:56:51.505970",
     "exception": false,
     "start_time": "2021-03-09T09:56:51.419306",
     "status": "completed"
    },
    "tags": []
   },
   "outputs": [],
   "source": [
    "rf = RandomForestClassifier()"
   ]
  },
  {
   "cell_type": "code",
   "execution_count": 46,
   "metadata": {
    "execution": {
     "iopub.execute_input": "2021-03-09T09:56:51.673391Z",
     "iopub.status.busy": "2021-03-09T09:56:51.672699Z",
     "iopub.status.idle": "2021-03-09T09:56:52.069280Z",
     "shell.execute_reply": "2021-03-09T09:56:52.068638Z"
    },
    "papermill": {
     "duration": 0.480437,
     "end_time": "2021-03-09T09:56:52.069453",
     "exception": false,
     "start_time": "2021-03-09T09:56:51.589016",
     "status": "completed"
    },
    "tags": []
   },
   "outputs": [],
   "source": [
    "rf = rf.fit(X_train,y_train)"
   ]
  },
  {
   "cell_type": "code",
   "execution_count": 47,
   "metadata": {
    "execution": {
     "iopub.execute_input": "2021-03-09T09:56:52.236033Z",
     "iopub.status.busy": "2021-03-09T09:56:52.235286Z",
     "iopub.status.idle": "2021-03-09T09:56:52.271411Z",
     "shell.execute_reply": "2021-03-09T09:56:52.270788Z"
    },
    "papermill": {
     "duration": 0.124008,
     "end_time": "2021-03-09T09:56:52.271580",
     "exception": false,
     "start_time": "2021-03-09T09:56:52.147572",
     "status": "completed"
    },
    "tags": []
   },
   "outputs": [],
   "source": [
    "predict = rf.predict(X_test)"
   ]
  },
  {
   "cell_type": "code",
   "execution_count": 48,
   "metadata": {
    "execution": {
     "iopub.execute_input": "2021-03-09T09:56:52.443981Z",
     "iopub.status.busy": "2021-03-09T09:56:52.443238Z",
     "iopub.status.idle": "2021-03-09T09:56:52.495753Z",
     "shell.execute_reply": "2021-03-09T09:56:52.495157Z"
    },
    "papermill": {
     "duration": 0.143046,
     "end_time": "2021-03-09T09:56:52.495903",
     "exception": false,
     "start_time": "2021-03-09T09:56:52.352857",
     "status": "completed"
    },
    "tags": []
   },
   "outputs": [
    {
     "data": {
      "text/plain": [
       "1.0"
      ]
     },
     "execution_count": 48,
     "metadata": {},
     "output_type": "execute_result"
    }
   ],
   "source": [
    "rf.score(X_train,y_train)"
   ]
  },
  {
   "cell_type": "code",
   "execution_count": 49,
   "metadata": {
    "execution": {
     "iopub.execute_input": "2021-03-09T09:56:52.686036Z",
     "iopub.status.busy": "2021-03-09T09:56:52.685307Z",
     "iopub.status.idle": "2021-03-09T09:56:52.690182Z",
     "shell.execute_reply": "2021-03-09T09:56:52.689622Z"
    },
    "papermill": {
     "duration": 0.112898,
     "end_time": "2021-03-09T09:56:52.690326",
     "exception": false,
     "start_time": "2021-03-09T09:56:52.577428",
     "status": "completed"
    },
    "tags": []
   },
   "outputs": [
    {
     "data": {
      "text/html": [
       "<div>\n",
       "<style scoped>\n",
       "    .dataframe tbody tr th:only-of-type {\n",
       "        vertical-align: middle;\n",
       "    }\n",
       "\n",
       "    .dataframe tbody tr th {\n",
       "        vertical-align: top;\n",
       "    }\n",
       "\n",
       "    .dataframe thead th {\n",
       "        text-align: right;\n",
       "    }\n",
       "</style>\n",
       "<table border=\"1\" class=\"dataframe\">\n",
       "  <thead>\n",
       "    <tr style=\"text-align: right;\">\n",
       "      <th></th>\n",
       "      <th>id</th>\n",
       "      <th>gender</th>\n",
       "      <th>age</th>\n",
       "      <th>hypertension</th>\n",
       "      <th>heart_disease</th>\n",
       "      <th>ever_married</th>\n",
       "      <th>work_type</th>\n",
       "      <th>Residence_type</th>\n",
       "      <th>avg_glucose_level</th>\n",
       "      <th>bmi</th>\n",
       "      <th>smoking_status</th>\n",
       "      <th>stroke</th>\n",
       "    </tr>\n",
       "  </thead>\n",
       "  <tbody>\n",
       "    <tr>\n",
       "      <th>0</th>\n",
       "      <td>9046</td>\n",
       "      <td>0</td>\n",
       "      <td>67</td>\n",
       "      <td>0</td>\n",
       "      <td>1</td>\n",
       "      <td>1</td>\n",
       "      <td>0</td>\n",
       "      <td>1</td>\n",
       "      <td>228</td>\n",
       "      <td>36</td>\n",
       "      <td>2</td>\n",
       "      <td>1</td>\n",
       "    </tr>\n",
       "    <tr>\n",
       "      <th>1</th>\n",
       "      <td>51676</td>\n",
       "      <td>1</td>\n",
       "      <td>61</td>\n",
       "      <td>0</td>\n",
       "      <td>0</td>\n",
       "      <td>1</td>\n",
       "      <td>1</td>\n",
       "      <td>0</td>\n",
       "      <td>202</td>\n",
       "      <td>28</td>\n",
       "      <td>0</td>\n",
       "      <td>1</td>\n",
       "    </tr>\n",
       "    <tr>\n",
       "      <th>2</th>\n",
       "      <td>31112</td>\n",
       "      <td>0</td>\n",
       "      <td>80</td>\n",
       "      <td>0</td>\n",
       "      <td>1</td>\n",
       "      <td>1</td>\n",
       "      <td>0</td>\n",
       "      <td>0</td>\n",
       "      <td>105</td>\n",
       "      <td>32</td>\n",
       "      <td>0</td>\n",
       "      <td>1</td>\n",
       "    </tr>\n",
       "    <tr>\n",
       "      <th>3</th>\n",
       "      <td>60182</td>\n",
       "      <td>1</td>\n",
       "      <td>49</td>\n",
       "      <td>0</td>\n",
       "      <td>0</td>\n",
       "      <td>1</td>\n",
       "      <td>0</td>\n",
       "      <td>1</td>\n",
       "      <td>171</td>\n",
       "      <td>34</td>\n",
       "      <td>3</td>\n",
       "      <td>1</td>\n",
       "    </tr>\n",
       "    <tr>\n",
       "      <th>4</th>\n",
       "      <td>1665</td>\n",
       "      <td>1</td>\n",
       "      <td>79</td>\n",
       "      <td>1</td>\n",
       "      <td>0</td>\n",
       "      <td>1</td>\n",
       "      <td>1</td>\n",
       "      <td>0</td>\n",
       "      <td>174</td>\n",
       "      <td>24</td>\n",
       "      <td>0</td>\n",
       "      <td>1</td>\n",
       "    </tr>\n",
       "    <tr>\n",
       "      <th>...</th>\n",
       "      <td>...</td>\n",
       "      <td>...</td>\n",
       "      <td>...</td>\n",
       "      <td>...</td>\n",
       "      <td>...</td>\n",
       "      <td>...</td>\n",
       "      <td>...</td>\n",
       "      <td>...</td>\n",
       "      <td>...</td>\n",
       "      <td>...</td>\n",
       "      <td>...</td>\n",
       "      <td>...</td>\n",
       "    </tr>\n",
       "    <tr>\n",
       "      <th>5105</th>\n",
       "      <td>18234</td>\n",
       "      <td>1</td>\n",
       "      <td>80</td>\n",
       "      <td>1</td>\n",
       "      <td>0</td>\n",
       "      <td>1</td>\n",
       "      <td>0</td>\n",
       "      <td>1</td>\n",
       "      <td>83</td>\n",
       "      <td>28</td>\n",
       "      <td>0</td>\n",
       "      <td>0</td>\n",
       "    </tr>\n",
       "    <tr>\n",
       "      <th>5106</th>\n",
       "      <td>44873</td>\n",
       "      <td>1</td>\n",
       "      <td>81</td>\n",
       "      <td>0</td>\n",
       "      <td>0</td>\n",
       "      <td>1</td>\n",
       "      <td>1</td>\n",
       "      <td>1</td>\n",
       "      <td>125</td>\n",
       "      <td>40</td>\n",
       "      <td>0</td>\n",
       "      <td>0</td>\n",
       "    </tr>\n",
       "    <tr>\n",
       "      <th>5107</th>\n",
       "      <td>19723</td>\n",
       "      <td>1</td>\n",
       "      <td>35</td>\n",
       "      <td>0</td>\n",
       "      <td>0</td>\n",
       "      <td>1</td>\n",
       "      <td>1</td>\n",
       "      <td>0</td>\n",
       "      <td>82</td>\n",
       "      <td>30</td>\n",
       "      <td>0</td>\n",
       "      <td>0</td>\n",
       "    </tr>\n",
       "    <tr>\n",
       "      <th>5108</th>\n",
       "      <td>37544</td>\n",
       "      <td>0</td>\n",
       "      <td>51</td>\n",
       "      <td>0</td>\n",
       "      <td>0</td>\n",
       "      <td>1</td>\n",
       "      <td>0</td>\n",
       "      <td>0</td>\n",
       "      <td>166</td>\n",
       "      <td>25</td>\n",
       "      <td>2</td>\n",
       "      <td>0</td>\n",
       "    </tr>\n",
       "    <tr>\n",
       "      <th>5109</th>\n",
       "      <td>44679</td>\n",
       "      <td>1</td>\n",
       "      <td>44</td>\n",
       "      <td>0</td>\n",
       "      <td>0</td>\n",
       "      <td>1</td>\n",
       "      <td>2</td>\n",
       "      <td>1</td>\n",
       "      <td>85</td>\n",
       "      <td>26</td>\n",
       "      <td>1</td>\n",
       "      <td>0</td>\n",
       "    </tr>\n",
       "  </tbody>\n",
       "</table>\n",
       "<p>5110 rows × 12 columns</p>\n",
       "</div>"
      ],
      "text/plain": [
       "         id  gender  age  hypertension  heart_disease  ever_married  \\\n",
       "0      9046       0   67             0              1             1   \n",
       "1     51676       1   61             0              0             1   \n",
       "2     31112       0   80             0              1             1   \n",
       "3     60182       1   49             0              0             1   \n",
       "4      1665       1   79             1              0             1   \n",
       "...     ...     ...  ...           ...            ...           ...   \n",
       "5105  18234       1   80             1              0             1   \n",
       "5106  44873       1   81             0              0             1   \n",
       "5107  19723       1   35             0              0             1   \n",
       "5108  37544       0   51             0              0             1   \n",
       "5109  44679       1   44             0              0             1   \n",
       "\n",
       "      work_type  Residence_type  avg_glucose_level  bmi  smoking_status  \\\n",
       "0             0               1                228   36               2   \n",
       "1             1               0                202   28               0   \n",
       "2             0               0                105   32               0   \n",
       "3             0               1                171   34               3   \n",
       "4             1               0                174   24               0   \n",
       "...         ...             ...                ...  ...             ...   \n",
       "5105          0               1                 83   28               0   \n",
       "5106          1               1                125   40               0   \n",
       "5107          1               0                 82   30               0   \n",
       "5108          0               0                166   25               2   \n",
       "5109          2               1                 85   26               1   \n",
       "\n",
       "      stroke  \n",
       "0          1  \n",
       "1          1  \n",
       "2          1  \n",
       "3          1  \n",
       "4          1  \n",
       "...      ...  \n",
       "5105       0  \n",
       "5106       0  \n",
       "5107       0  \n",
       "5108       0  \n",
       "5109       0  \n",
       "\n",
       "[5110 rows x 12 columns]"
      ]
     },
     "execution_count": 49,
     "metadata": {},
     "output_type": "execute_result"
    }
   ],
   "source": [
    "df"
   ]
  },
  {
   "cell_type": "code",
   "execution_count": 50,
   "metadata": {
    "execution": {
     "iopub.execute_input": "2021-03-09T09:56:52.860953Z",
     "iopub.status.busy": "2021-03-09T09:56:52.860246Z",
     "iopub.status.idle": "2021-03-09T09:56:52.864056Z",
     "shell.execute_reply": "2021-03-09T09:56:52.863474Z"
    },
    "papermill": {
     "duration": 0.092763,
     "end_time": "2021-03-09T09:56:52.864200",
     "exception": false,
     "start_time": "2021-03-09T09:56:52.771437",
     "status": "completed"
    },
    "tags": []
   },
   "outputs": [],
   "source": [
    "from sklearn.tree import DecisionTreeClassifier"
   ]
  },
  {
   "cell_type": "code",
   "execution_count": 51,
   "metadata": {
    "execution": {
     "iopub.execute_input": "2021-03-09T09:56:53.037268Z",
     "iopub.status.busy": "2021-03-09T09:56:53.035899Z",
     "iopub.status.idle": "2021-03-09T09:56:53.039860Z",
     "shell.execute_reply": "2021-03-09T09:56:53.039077Z"
    },
    "papermill": {
     "duration": 0.090981,
     "end_time": "2021-03-09T09:56:53.040191",
     "exception": false,
     "start_time": "2021-03-09T09:56:52.949210",
     "status": "completed"
    },
    "tags": []
   },
   "outputs": [],
   "source": [
    "dt = DecisionTreeClassifier()"
   ]
  },
  {
   "cell_type": "code",
   "execution_count": 52,
   "metadata": {
    "execution": {
     "iopub.execute_input": "2021-03-09T09:56:53.235257Z",
     "iopub.status.busy": "2021-03-09T09:56:53.234158Z",
     "iopub.status.idle": "2021-03-09T09:56:53.250672Z",
     "shell.execute_reply": "2021-03-09T09:56:53.249540Z"
    },
    "papermill": {
     "duration": 0.117124,
     "end_time": "2021-03-09T09:56:53.250877",
     "exception": false,
     "start_time": "2021-03-09T09:56:53.133753",
     "status": "completed"
    },
    "tags": []
   },
   "outputs": [],
   "source": [
    "dt = dt.fit(X_train,y_train)"
   ]
  },
  {
   "cell_type": "code",
   "execution_count": 53,
   "metadata": {
    "execution": {
     "iopub.execute_input": "2021-03-09T09:56:53.429805Z",
     "iopub.status.busy": "2021-03-09T09:56:53.428783Z",
     "iopub.status.idle": "2021-03-09T09:56:53.437259Z",
     "shell.execute_reply": "2021-03-09T09:56:53.436655Z"
    },
    "papermill": {
     "duration": 0.098661,
     "end_time": "2021-03-09T09:56:53.437435",
     "exception": false,
     "start_time": "2021-03-09T09:56:53.338774",
     "status": "completed"
    },
    "tags": []
   },
   "outputs": [],
   "source": [
    "dt_predict = dt.predict(X_test)"
   ]
  },
  {
   "cell_type": "code",
   "execution_count": 54,
   "metadata": {
    "execution": {
     "iopub.execute_input": "2021-03-09T09:56:53.620915Z",
     "iopub.status.busy": "2021-03-09T09:56:53.619925Z",
     "iopub.status.idle": "2021-03-09T09:56:53.626909Z",
     "shell.execute_reply": "2021-03-09T09:56:53.626308Z"
    },
    "papermill": {
     "duration": 0.101329,
     "end_time": "2021-03-09T09:56:53.627082",
     "exception": false,
     "start_time": "2021-03-09T09:56:53.525753",
     "status": "completed"
    },
    "tags": []
   },
   "outputs": [
    {
     "data": {
      "text/plain": [
       "1.0"
      ]
     },
     "execution_count": 54,
     "metadata": {},
     "output_type": "execute_result"
    }
   ],
   "source": [
    "dt.score(X_train,y_train)"
   ]
  },
  {
   "cell_type": "code",
   "execution_count": 55,
   "metadata": {
    "execution": {
     "iopub.execute_input": "2021-03-09T09:56:53.799236Z",
     "iopub.status.busy": "2021-03-09T09:56:53.798236Z",
     "iopub.status.idle": "2021-03-09T09:56:53.801330Z",
     "shell.execute_reply": "2021-03-09T09:56:53.800808Z"
    },
    "papermill": {
     "duration": 0.090954,
     "end_time": "2021-03-09T09:56:53.801486",
     "exception": false,
     "start_time": "2021-03-09T09:56:53.710532",
     "status": "completed"
    },
    "tags": []
   },
   "outputs": [],
   "source": [
    "from sklearn.metrics import classification_report, confusion_matrix"
   ]
  },
  {
   "cell_type": "code",
   "execution_count": 56,
   "metadata": {
    "execution": {
     "iopub.execute_input": "2021-03-09T09:56:53.974555Z",
     "iopub.status.busy": "2021-03-09T09:56:53.973902Z",
     "iopub.status.idle": "2021-03-09T09:56:53.992231Z",
     "shell.execute_reply": "2021-03-09T09:56:53.992833Z"
    },
    "papermill": {
     "duration": 0.108381,
     "end_time": "2021-03-09T09:56:53.993023",
     "exception": false,
     "start_time": "2021-03-09T09:56:53.884642",
     "status": "completed"
    },
    "tags": []
   },
   "outputs": [
    {
     "name": "stdout",
     "output_type": "stream",
     "text": [
      "              precision    recall  f1-score   support\n",
      "\n",
      "           0       0.95      0.94      0.95      1591\n",
      "           1       0.16      0.18      0.17        96\n",
      "\n",
      "    accuracy                           0.90      1687\n",
      "   macro avg       0.56      0.56      0.56      1687\n",
      "weighted avg       0.91      0.90      0.90      1687\n",
      "\n",
      "[[1503   88]\n",
      " [  79   17]]\n"
     ]
    }
   ],
   "source": [
    "print(classification_report(y_test,dt_predict))\n",
    "print(confusion_matrix(y_test,dt_predict))"
   ]
  },
  {
   "cell_type": "code",
   "execution_count": 57,
   "metadata": {
    "execution": {
     "iopub.execute_input": "2021-03-09T09:56:54.171101Z",
     "iopub.status.busy": "2021-03-09T09:56:54.170398Z",
     "iopub.status.idle": "2021-03-09T09:56:54.175067Z",
     "shell.execute_reply": "2021-03-09T09:56:54.173987Z"
    },
    "papermill": {
     "duration": 0.094136,
     "end_time": "2021-03-09T09:56:54.175245",
     "exception": false,
     "start_time": "2021-03-09T09:56:54.081109",
     "status": "completed"
    },
    "tags": []
   },
   "outputs": [],
   "source": [
    "from sklearn.linear_model import LogisticRegression"
   ]
  },
  {
   "cell_type": "code",
   "execution_count": 58,
   "metadata": {
    "execution": {
     "iopub.execute_input": "2021-03-09T09:56:54.349847Z",
     "iopub.status.busy": "2021-03-09T09:56:54.348613Z",
     "iopub.status.idle": "2021-03-09T09:56:54.352316Z",
     "shell.execute_reply": "2021-03-09T09:56:54.351704Z"
    },
    "papermill": {
     "duration": 0.092277,
     "end_time": "2021-03-09T09:56:54.352475",
     "exception": false,
     "start_time": "2021-03-09T09:56:54.260198",
     "status": "completed"
    },
    "tags": []
   },
   "outputs": [],
   "source": [
    "lr = LogisticRegression()"
   ]
  },
  {
   "cell_type": "code",
   "execution_count": 59,
   "metadata": {
    "execution": {
     "iopub.execute_input": "2021-03-09T09:56:54.527576Z",
     "iopub.status.busy": "2021-03-09T09:56:54.526770Z",
     "iopub.status.idle": "2021-03-09T09:56:54.602838Z",
     "shell.execute_reply": "2021-03-09T09:56:54.602122Z"
    },
    "papermill": {
     "duration": 0.167517,
     "end_time": "2021-03-09T09:56:54.602996",
     "exception": false,
     "start_time": "2021-03-09T09:56:54.435479",
     "status": "completed"
    },
    "tags": []
   },
   "outputs": [
    {
     "name": "stderr",
     "output_type": "stream",
     "text": [
      "/opt/conda/lib/python3.7/site-packages/sklearn/linear_model/_logistic.py:765: ConvergenceWarning: lbfgs failed to converge (status=1):\n",
      "STOP: TOTAL NO. of ITERATIONS REACHED LIMIT.\n",
      "\n",
      "Increase the number of iterations (max_iter) or scale the data as shown in:\n",
      "    https://scikit-learn.org/stable/modules/preprocessing.html\n",
      "Please also refer to the documentation for alternative solver options:\n",
      "    https://scikit-learn.org/stable/modules/linear_model.html#logistic-regression\n",
      "  extra_warning_msg=_LOGISTIC_SOLVER_CONVERGENCE_MSG)\n"
     ]
    }
   ],
   "source": [
    "lr = lr.fit(X_train,y_train)"
   ]
  },
  {
   "cell_type": "code",
   "execution_count": 60,
   "metadata": {
    "execution": {
     "iopub.execute_input": "2021-03-09T09:56:54.777261Z",
     "iopub.status.busy": "2021-03-09T09:56:54.776367Z",
     "iopub.status.idle": "2021-03-09T09:56:54.781486Z",
     "shell.execute_reply": "2021-03-09T09:56:54.780826Z"
    },
    "papermill": {
     "duration": 0.095283,
     "end_time": "2021-03-09T09:56:54.781699",
     "exception": false,
     "start_time": "2021-03-09T09:56:54.686416",
     "status": "completed"
    },
    "tags": []
   },
   "outputs": [],
   "source": [
    "lr_predict = lr.predict(X_test)"
   ]
  },
  {
   "cell_type": "code",
   "execution_count": 61,
   "metadata": {
    "execution": {
     "iopub.execute_input": "2021-03-09T09:56:54.963207Z",
     "iopub.status.busy": "2021-03-09T09:56:54.962282Z",
     "iopub.status.idle": "2021-03-09T09:56:54.969709Z",
     "shell.execute_reply": "2021-03-09T09:56:54.969048Z"
    },
    "papermill": {
     "duration": 0.101038,
     "end_time": "2021-03-09T09:56:54.969870",
     "exception": false,
     "start_time": "2021-03-09T09:56:54.868832",
     "status": "completed"
    },
    "tags": []
   },
   "outputs": [
    {
     "data": {
      "text/plain": [
       "0.955594507741747"
      ]
     },
     "execution_count": 61,
     "metadata": {},
     "output_type": "execute_result"
    }
   ],
   "source": [
    "lr.score(X_train,y_train)"
   ]
  },
  {
   "cell_type": "code",
   "execution_count": 62,
   "metadata": {
    "execution": {
     "iopub.execute_input": "2021-03-09T09:56:55.145832Z",
     "iopub.status.busy": "2021-03-09T09:56:55.144838Z",
     "iopub.status.idle": "2021-03-09T09:56:55.148554Z",
     "shell.execute_reply": "2021-03-09T09:56:55.147886Z"
    },
    "papermill": {
     "duration": 0.092216,
     "end_time": "2021-03-09T09:56:55.148742",
     "exception": false,
     "start_time": "2021-03-09T09:56:55.056526",
     "status": "completed"
    },
    "tags": []
   },
   "outputs": [],
   "source": [
    "from sklearn.metrics import classification_report, confusion_matrix"
   ]
  },
  {
   "cell_type": "code",
   "execution_count": 63,
   "metadata": {
    "execution": {
     "iopub.execute_input": "2021-03-09T09:56:55.321753Z",
     "iopub.status.busy": "2021-03-09T09:56:55.320712Z",
     "iopub.status.idle": "2021-03-09T09:56:55.344748Z",
     "shell.execute_reply": "2021-03-09T09:56:55.345237Z"
    },
    "papermill": {
     "duration": 0.112866,
     "end_time": "2021-03-09T09:56:55.345431",
     "exception": false,
     "start_time": "2021-03-09T09:56:55.232565",
     "status": "completed"
    },
    "tags": []
   },
   "outputs": [
    {
     "name": "stdout",
     "output_type": "stream",
     "text": [
      "              precision    recall  f1-score   support\n",
      "\n",
      "           0       0.94      1.00      0.97      1591\n",
      "           1       0.00      0.00      0.00        96\n",
      "\n",
      "    accuracy                           0.94      1687\n",
      "   macro avg       0.47      0.50      0.49      1687\n",
      "weighted avg       0.89      0.94      0.92      1687\n",
      "\n",
      "[[1591    0]\n",
      " [  96    0]]\n"
     ]
    },
    {
     "name": "stderr",
     "output_type": "stream",
     "text": [
      "/opt/conda/lib/python3.7/site-packages/sklearn/metrics/_classification.py:1245: UndefinedMetricWarning: Precision and F-score are ill-defined and being set to 0.0 in labels with no predicted samples. Use `zero_division` parameter to control this behavior.\n",
      "  _warn_prf(average, modifier, msg_start, len(result))\n",
      "/opt/conda/lib/python3.7/site-packages/sklearn/metrics/_classification.py:1245: UndefinedMetricWarning: Precision and F-score are ill-defined and being set to 0.0 in labels with no predicted samples. Use `zero_division` parameter to control this behavior.\n",
      "  _warn_prf(average, modifier, msg_start, len(result))\n",
      "/opt/conda/lib/python3.7/site-packages/sklearn/metrics/_classification.py:1245: UndefinedMetricWarning: Precision and F-score are ill-defined and being set to 0.0 in labels with no predicted samples. Use `zero_division` parameter to control this behavior.\n",
      "  _warn_prf(average, modifier, msg_start, len(result))\n"
     ]
    }
   ],
   "source": [
    "print(classification_report(y_test,lr_predict))\n",
    "print(confusion_matrix(y_test,lr_predict))"
   ]
  },
  {
   "cell_type": "code",
   "execution_count": 64,
   "metadata": {
    "execution": {
     "iopub.execute_input": "2021-03-09T09:56:55.522935Z",
     "iopub.status.busy": "2021-03-09T09:56:55.522127Z",
     "iopub.status.idle": "2021-03-09T09:56:55.526147Z",
     "shell.execute_reply": "2021-03-09T09:56:55.525391Z"
    },
    "papermill": {
     "duration": 0.093928,
     "end_time": "2021-03-09T09:56:55.526320",
     "exception": false,
     "start_time": "2021-03-09T09:56:55.432392",
     "status": "completed"
    },
    "tags": []
   },
   "outputs": [],
   "source": [
    "from sklearn.neighbors import KNeighborsClassifier"
   ]
  },
  {
   "cell_type": "code",
   "execution_count": 65,
   "metadata": {
    "execution": {
     "iopub.execute_input": "2021-03-09T09:56:55.702521Z",
     "iopub.status.busy": "2021-03-09T09:56:55.701607Z",
     "iopub.status.idle": "2021-03-09T09:56:55.705483Z",
     "shell.execute_reply": "2021-03-09T09:56:55.704880Z"
    },
    "papermill": {
     "duration": 0.094248,
     "end_time": "2021-03-09T09:56:55.705681",
     "exception": false,
     "start_time": "2021-03-09T09:56:55.611433",
     "status": "completed"
    },
    "tags": []
   },
   "outputs": [],
   "source": [
    "kn = KNeighborsClassifier()"
   ]
  },
  {
   "cell_type": "code",
   "execution_count": 66,
   "metadata": {
    "execution": {
     "iopub.execute_input": "2021-03-09T09:56:55.886548Z",
     "iopub.status.busy": "2021-03-09T09:56:55.885845Z",
     "iopub.status.idle": "2021-03-09T09:56:55.894040Z",
     "shell.execute_reply": "2021-03-09T09:56:55.893283Z"
    },
    "papermill": {
     "duration": 0.101649,
     "end_time": "2021-03-09T09:56:55.894194",
     "exception": false,
     "start_time": "2021-03-09T09:56:55.792545",
     "status": "completed"
    },
    "tags": []
   },
   "outputs": [],
   "source": [
    "kn = kn.fit(X_train,y_train)"
   ]
  },
  {
   "cell_type": "code",
   "execution_count": 67,
   "metadata": {
    "execution": {
     "iopub.execute_input": "2021-03-09T09:56:56.077544Z",
     "iopub.status.busy": "2021-03-09T09:56:56.076804Z",
     "iopub.status.idle": "2021-03-09T09:56:56.149197Z",
     "shell.execute_reply": "2021-03-09T09:56:56.148540Z"
    },
    "papermill": {
     "duration": 0.165741,
     "end_time": "2021-03-09T09:56:56.149360",
     "exception": false,
     "start_time": "2021-03-09T09:56:55.983619",
     "status": "completed"
    },
    "tags": []
   },
   "outputs": [],
   "source": [
    "kn_predict = kn.predict(X_test)"
   ]
  },
  {
   "cell_type": "code",
   "execution_count": 68,
   "metadata": {
    "execution": {
     "iopub.execute_input": "2021-03-09T09:56:56.330221Z",
     "iopub.status.busy": "2021-03-09T09:56:56.329488Z",
     "iopub.status.idle": "2021-03-09T09:56:56.482653Z",
     "shell.execute_reply": "2021-03-09T09:56:56.481876Z"
    },
    "papermill": {
     "duration": 0.24685,
     "end_time": "2021-03-09T09:56:56.482810",
     "exception": false,
     "start_time": "2021-03-09T09:56:56.235960",
     "status": "completed"
    },
    "tags": []
   },
   "outputs": [
    {
     "data": {
      "text/plain": [
       "0.9582237803096699"
      ]
     },
     "execution_count": 68,
     "metadata": {},
     "output_type": "execute_result"
    }
   ],
   "source": [
    "kn.score(X_train,y_train)"
   ]
  },
  {
   "cell_type": "code",
   "execution_count": 69,
   "metadata": {
    "execution": {
     "iopub.execute_input": "2021-03-09T09:56:56.665884Z",
     "iopub.status.busy": "2021-03-09T09:56:56.664257Z",
     "iopub.status.idle": "2021-03-09T09:56:56.680987Z",
     "shell.execute_reply": "2021-03-09T09:56:56.680302Z"
    },
    "papermill": {
     "duration": 0.11138,
     "end_time": "2021-03-09T09:56:56.681142",
     "exception": false,
     "start_time": "2021-03-09T09:56:56.569762",
     "status": "completed"
    },
    "tags": []
   },
   "outputs": [
    {
     "name": "stdout",
     "output_type": "stream",
     "text": [
      "              precision    recall  f1-score   support\n",
      "\n",
      "           0       0.94      0.99      0.97      1591\n",
      "           1       0.09      0.01      0.02        96\n",
      "\n",
      "    accuracy                           0.94      1687\n",
      "   macro avg       0.52      0.50      0.49      1687\n",
      "weighted avg       0.89      0.94      0.91      1687\n",
      "\n",
      "[[1581   10]\n",
      " [  95    1]]\n"
     ]
    }
   ],
   "source": [
    "print(classification_report(y_test,kn_predict))\n",
    "print(confusion_matrix(y_test,kn_predict))"
   ]
  },
  {
   "cell_type": "code",
   "execution_count": 70,
   "metadata": {
    "execution": {
     "iopub.execute_input": "2021-03-09T09:56:56.864765Z",
     "iopub.status.busy": "2021-03-09T09:56:56.863697Z",
     "iopub.status.idle": "2021-03-09T09:56:56.866419Z",
     "shell.execute_reply": "2021-03-09T09:56:56.866913Z"
    },
    "papermill": {
     "duration": 0.098665,
     "end_time": "2021-03-09T09:56:56.867101",
     "exception": false,
     "start_time": "2021-03-09T09:56:56.768436",
     "status": "completed"
    },
    "tags": []
   },
   "outputs": [],
   "source": [
    "from sklearn.svm import LinearSVC"
   ]
  },
  {
   "cell_type": "code",
   "execution_count": 71,
   "metadata": {
    "execution": {
     "iopub.execute_input": "2021-03-09T09:56:57.052664Z",
     "iopub.status.busy": "2021-03-09T09:56:57.051654Z",
     "iopub.status.idle": "2021-03-09T09:56:57.055761Z",
     "shell.execute_reply": "2021-03-09T09:56:57.056324Z"
    },
    "papermill": {
     "duration": 0.099614,
     "end_time": "2021-03-09T09:56:57.056505",
     "exception": false,
     "start_time": "2021-03-09T09:56:56.956891",
     "status": "completed"
    },
    "tags": []
   },
   "outputs": [],
   "source": [
    "svc = LinearSVC()"
   ]
  },
  {
   "cell_type": "code",
   "execution_count": 72,
   "metadata": {
    "execution": {
     "iopub.execute_input": "2021-03-09T09:56:57.237114Z",
     "iopub.status.busy": "2021-03-09T09:56:57.236442Z",
     "iopub.status.idle": "2021-03-09T09:56:57.413925Z",
     "shell.execute_reply": "2021-03-09T09:56:57.413200Z"
    },
    "papermill": {
     "duration": 0.269404,
     "end_time": "2021-03-09T09:56:57.414082",
     "exception": false,
     "start_time": "2021-03-09T09:56:57.144678",
     "status": "completed"
    },
    "tags": []
   },
   "outputs": [
    {
     "name": "stderr",
     "output_type": "stream",
     "text": [
      "/opt/conda/lib/python3.7/site-packages/sklearn/svm/_base.py:986: ConvergenceWarning: Liblinear failed to converge, increase the number of iterations.\n",
      "  \"the number of iterations.\", ConvergenceWarning)\n"
     ]
    }
   ],
   "source": [
    "svc = svc.fit(X_train,y_train)"
   ]
  },
  {
   "cell_type": "code",
   "execution_count": 73,
   "metadata": {
    "execution": {
     "iopub.execute_input": "2021-03-09T09:56:57.606908Z",
     "iopub.status.busy": "2021-03-09T09:56:57.605910Z",
     "iopub.status.idle": "2021-03-09T09:56:57.610801Z",
     "shell.execute_reply": "2021-03-09T09:56:57.610150Z"
    },
    "papermill": {
     "duration": 0.10621,
     "end_time": "2021-03-09T09:56:57.610985",
     "exception": false,
     "start_time": "2021-03-09T09:56:57.504775",
     "status": "completed"
    },
    "tags": []
   },
   "outputs": [],
   "source": [
    "svc_predict = svc.predict(X_test)"
   ]
  },
  {
   "cell_type": "code",
   "execution_count": 74,
   "metadata": {
    "execution": {
     "iopub.execute_input": "2021-03-09T09:56:57.807612Z",
     "iopub.status.busy": "2021-03-09T09:56:57.806857Z",
     "iopub.status.idle": "2021-03-09T09:56:57.814679Z",
     "shell.execute_reply": "2021-03-09T09:56:57.813950Z"
    },
    "papermill": {
     "duration": 0.114176,
     "end_time": "2021-03-09T09:56:57.814850",
     "exception": false,
     "start_time": "2021-03-09T09:56:57.700674",
     "status": "completed"
    },
    "tags": []
   },
   "outputs": [
    {
     "data": {
      "text/plain": [
       "0.9553023663453112"
      ]
     },
     "execution_count": 74,
     "metadata": {},
     "output_type": "execute_result"
    }
   ],
   "source": [
    "svc.score(X_train,y_train)"
   ]
  },
  {
   "cell_type": "code",
   "execution_count": 75,
   "metadata": {
    "execution": {
     "iopub.execute_input": "2021-03-09T09:56:58.002879Z",
     "iopub.status.busy": "2021-03-09T09:56:58.002178Z",
     "iopub.status.idle": "2021-03-09T09:56:58.017687Z",
     "shell.execute_reply": "2021-03-09T09:56:58.018194Z"
    },
    "papermill": {
     "duration": 0.111559,
     "end_time": "2021-03-09T09:56:58.018368",
     "exception": false,
     "start_time": "2021-03-09T09:56:57.906809",
     "status": "completed"
    },
    "tags": []
   },
   "outputs": [
    {
     "name": "stdout",
     "output_type": "stream",
     "text": [
      "              precision    recall  f1-score   support\n",
      "\n",
      "           0       0.94      1.00      0.97      1591\n",
      "           1       0.00      0.00      0.00        96\n",
      "\n",
      "    accuracy                           0.94      1687\n",
      "   macro avg       0.47      0.50      0.49      1687\n",
      "weighted avg       0.89      0.94      0.92      1687\n",
      "\n",
      "[[1591    0]\n",
      " [  96    0]]\n"
     ]
    },
    {
     "name": "stderr",
     "output_type": "stream",
     "text": [
      "/opt/conda/lib/python3.7/site-packages/sklearn/metrics/_classification.py:1245: UndefinedMetricWarning: Precision and F-score are ill-defined and being set to 0.0 in labels with no predicted samples. Use `zero_division` parameter to control this behavior.\n",
      "  _warn_prf(average, modifier, msg_start, len(result))\n",
      "/opt/conda/lib/python3.7/site-packages/sklearn/metrics/_classification.py:1245: UndefinedMetricWarning: Precision and F-score are ill-defined and being set to 0.0 in labels with no predicted samples. Use `zero_division` parameter to control this behavior.\n",
      "  _warn_prf(average, modifier, msg_start, len(result))\n",
      "/opt/conda/lib/python3.7/site-packages/sklearn/metrics/_classification.py:1245: UndefinedMetricWarning: Precision and F-score are ill-defined and being set to 0.0 in labels with no predicted samples. Use `zero_division` parameter to control this behavior.\n",
      "  _warn_prf(average, modifier, msg_start, len(result))\n"
     ]
    }
   ],
   "source": [
    "print(classification_report(y_test,svc_predict))\n",
    "print(confusion_matrix(y_test,svc_predict))"
   ]
  }
 ],
 "metadata": {
  "kernelspec": {
   "display_name": "Python 3",
   "language": "python",
   "name": "python3"
  },
  "language_info": {
   "codemirror_mode": {
    "name": "ipython",
    "version": 3
   },
   "file_extension": ".py",
   "mimetype": "text/x-python",
   "name": "python",
   "nbconvert_exporter": "python",
   "pygments_lexer": "ipython3",
   "version": "3.7.9"
  },
  "papermill": {
   "default_parameters": {},
   "duration": 28.793265,
   "end_time": "2021-03-09T09:56:59.021348",
   "environment_variables": {},
   "exception": null,
   "input_path": "__notebook__.ipynb",
   "output_path": "__notebook__.ipynb",
   "parameters": {},
   "start_time": "2021-03-09T09:56:30.228083",
   "version": "2.2.2"
  }
 },
 "nbformat": 4,
 "nbformat_minor": 4
}
