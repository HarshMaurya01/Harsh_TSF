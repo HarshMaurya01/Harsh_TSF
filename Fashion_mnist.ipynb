{
  "nbformat": 4,
  "nbformat_minor": 0,
  "metadata": {
    "colab": {
      "name": "Fashion_mnist.ipynb",
      "provenance": []
    },
    "kernelspec": {
      "name": "python3",
      "display_name": "Python 3"
    },
    "language_info": {
      "name": "python"
    }
  },
  "cells": [
    {
      "cell_type": "code",
      "metadata": {
        "id": "X_wmyUT6xDwJ"
      },
      "source": [
        "import tensorflow as tf\n",
        "from keras.layers import Dense, Flatten, BatchNormalization, Dropout"
      ],
      "execution_count": 2,
      "outputs": []
    },
    {
      "cell_type": "code",
      "metadata": {
        "id": "4xpPiSMhxW5_"
      },
      "source": [
        "mnist = tf.keras.datasets.fashion_mnist"
      ],
      "execution_count": 3,
      "outputs": []
    },
    {
      "cell_type": "code",
      "metadata": {
        "id": "WKE2NWONxW8q"
      },
      "source": [
        "(train_image, train_labels), (test_image, test_labels) = mnist.load_data()"
      ],
      "execution_count": 4,
      "outputs": []
    },
    {
      "cell_type": "code",
      "metadata": {
        "colab": {
          "base_uri": "https://localhost:8080/",
          "height": 282
        },
        "id": "j2ikl1-qxW_F",
        "outputId": "c13687e1-eca8-4a66-c6f5-71ccc3221bab"
      },
      "source": [
        "import matplotlib.pyplot as plt\n",
        "plt.imshow(train_image[0])\n"
      ],
      "execution_count": 5,
      "outputs": [
        {
          "output_type": "execute_result",
          "data": {
            "text/plain": [
              "<matplotlib.image.AxesImage at 0x7f820929d450>"
            ]
          },
          "metadata": {
            "tags": []
          },
          "execution_count": 5
        },
        {
          "output_type": "display_data",
          "data": {
            "image/png": "[encoded data removed]",
            "text/plain": [
              "<Figure size 432x288 with 1 Axes>"
            ]
          },
          "metadata": {
            "tags": [],
            "needs_background": "light"
          }
        }
      ]
    },
    {
      "cell_type": "code",
      "metadata": {
        "colab": {
          "base_uri": "https://localhost:8080/"
        },
        "id": "23os-brIxXBi",
        "outputId": "9b736c0c-ce2e-4384-eec1-bbd799865c65"
      },
      "source": [
        "print(train_labels[0])\n",
        "print(train_image[0])"
      ],
      "execution_count": 6,
      "outputs": [
        {
          "output_type": "stream",
          "text": [
            "9\n",
            "[[  0   0   0   0   0   0   0   0   0   0   0   0   0   0   0   0   0   0\n",
            "    0   0   0   0   0   0   0   0   0   0]\n",
            " [  0   0   0   0   0   0   0   0   0   0   0   0   0   0   0   0   0   0\n",
            "    0   0   0   0   0   0   0   0   0   0]\n",
            " [  0   0   0   0   0   0   0   0   0   0   0   0   0   0   0   0   0   0\n",
            "    0   0   0   0   0   0   0   0   0   0]\n",
            " [  0   0   0   0   0   0   0   0   0   0   0   0   1   0   0  13  73   0\n",
            "    0   1   4   0   0   0   0   1   1   0]\n",
            " [  0   0   0   0   0   0   0   0   0   0   0   0   3   0  36 136 127  62\n",
            "   54   0   0   0   1   3   4   0   0   3]\n",
            " [  0   0   0   0   0   0   0   0   0   0   0   0   6   0 102 204 176 134\n",
            "  144 123  23   0   0   0   0  12  10   0]\n",
            " [  0   0   0   0   0   0   0   0   0   0   0   0   0   0 155 236 207 178\n",
            "  107 156 161 109  64  23  77 130  72  15]\n",
            " [  0   0   0   0   0   0   0   0   0   0   0   1   0  69 207 223 218 216\n",
            "  216 163 127 121 122 146 141  88 172  66]\n",
            " [  0   0   0   0   0   0   0   0   0   1   1   1   0 200 232 232 233 229\n",
            "  223 223 215 213 164 127 123 196 229   0]\n",
            " [  0   0   0   0   0   0   0   0   0   0   0   0   0 183 225 216 223 228\n",
            "  235 227 224 222 224 221 223 245 173   0]\n",
            " [  0   0   0   0   0   0   0   0   0   0   0   0   0 193 228 218 213 198\n",
            "  180 212 210 211 213 223 220 243 202   0]\n",
            " [  0   0   0   0   0   0   0   0   0   1   3   0  12 219 220 212 218 192\n",
            "  169 227 208 218 224 212 226 197 209  52]\n",
            " [  0   0   0   0   0   0   0   0   0   0   6   0  99 244 222 220 218 203\n",
            "  198 221 215 213 222 220 245 119 167  56]\n",
            " [  0   0   0   0   0   0   0   0   0   4   0   0  55 236 228 230 228 240\n",
            "  232 213 218 223 234 217 217 209  92   0]\n",
            " [  0   0   1   4   6   7   2   0   0   0   0   0 237 226 217 223 222 219\n",
            "  222 221 216 223 229 215 218 255  77   0]\n",
            " [  0   3   0   0   0   0   0   0   0  62 145 204 228 207 213 221 218 208\n",
            "  211 218 224 223 219 215 224 244 159   0]\n",
            " [  0   0   0   0  18  44  82 107 189 228 220 222 217 226 200 205 211 230\n",
            "  224 234 176 188 250 248 233 238 215   0]\n",
            " [  0  57 187 208 224 221 224 208 204 214 208 209 200 159 245 193 206 223\n",
            "  255 255 221 234 221 211 220 232 246   0]\n",
            " [  3 202 228 224 221 211 211 214 205 205 205 220 240  80 150 255 229 221\n",
            "  188 154 191 210 204 209 222 228 225   0]\n",
            " [ 98 233 198 210 222 229 229 234 249 220 194 215 217 241  65  73 106 117\n",
            "  168 219 221 215 217 223 223 224 229  29]\n",
            " [ 75 204 212 204 193 205 211 225 216 185 197 206 198 213 240 195 227 245\n",
            "  239 223 218 212 209 222 220 221 230  67]\n",
            " [ 48 203 183 194 213 197 185 190 194 192 202 214 219 221 220 236 225 216\n",
            "  199 206 186 181 177 172 181 205 206 115]\n",
            " [  0 122 219 193 179 171 183 196 204 210 213 207 211 210 200 196 194 191\n",
            "  195 191 198 192 176 156 167 177 210  92]\n",
            " [  0   0  74 189 212 191 175 172 175 181 185 188 189 188 193 198 204 209\n",
            "  210 210 211 188 188 194 192 216 170   0]\n",
            " [  2   0   0   0  66 200 222 237 239 242 246 243 244 221 220 193 191 179\n",
            "  182 182 181 176 166 168  99  58   0   0]\n",
            " [  0   0   0   0   0   0   0  40  61  44  72  41  35   0   0   0   0   0\n",
            "    0   0   0   0   0   0   0   0   0   0]\n",
            " [  0   0   0   0   0   0   0   0   0   0   0   0   0   0   0   0   0   0\n",
            "    0   0   0   0   0   0   0   0   0   0]\n",
            " [  0   0   0   0   0   0   0   0   0   0   0   0   0   0   0   0   0   0\n",
            "    0   0   0   0   0   0   0   0   0   0]]\n"
          ],
          "name": "stdout"
        }
      ]
    },
    {
      "cell_type": "code",
      "metadata": {
        "colab": {
          "base_uri": "https://localhost:8080/"
        },
        "id": "tVBlC42Sy49G",
        "outputId": "e779d19e-dd46-427c-e3c5-443a833e0cb3"
      },
      "source": [
        "train_image.shape"
      ],
      "execution_count": 7,
      "outputs": [
        {
          "output_type": "execute_result",
          "data": {
            "text/plain": [
              "(60000, 28, 28)"
            ]
          },
          "metadata": {
            "tags": []
          },
          "execution_count": 7
        }
      ]
    },
    {
      "cell_type": "code",
      "metadata": {
        "id": "s9gJJ_9sxXEx"
      },
      "source": [
        "train_image = train_image / 255\n",
        "test_image = test_image / 255"
      ],
      "execution_count": 8,
      "outputs": []
    },
    {
      "cell_type": "code",
      "metadata": {
        "id": "BYMzyAqgxXIE"
      },
      "source": [
        "from keras.models import Sequential"
      ],
      "execution_count": 9,
      "outputs": []
    },
    {
      "cell_type": "code",
      "metadata": {
        "id": "sjbNwX6DxXLQ"
      },
      "source": [
        "model = Sequential()"
      ],
      "execution_count": 10,
      "outputs": []
    },
    {
      "cell_type": "code",
      "metadata": {
        "id": "6ZosUPnuxXOL"
      },
      "source": [
        "model = tf.keras.models.Sequential([tf.keras.layers.Flatten(),\n",
        "                                   tf.keras.layers.Dense(128, activation=tf.nn.relu),\n",
        "                                   tf.keras.layers.Dense(10,activation=tf.nn.softmax)])"
      ],
      "execution_count": 11,
      "outputs": []
    },
    {
      "cell_type": "code",
      "metadata": {
        "id": "pdwRtxW8xXQu"
      },
      "source": [
        "model.compile(optimizer='Adam',loss='sparse_categorical_crossentropy')"
      ],
      "execution_count": 12,
      "outputs": []
    },
    {
      "cell_type": "code",
      "metadata": {
        "colab": {
          "base_uri": "https://localhost:8080/"
        },
        "id": "s_ScnwO0xXTq",
        "outputId": "fe6d70e7-c82e-497e-f7fb-464096f5bc1b"
      },
      "source": [
        "model.fit(train_image,train_labels,epochs=10,validation_data=(test_image,test_labels))"
      ],
      "execution_count": 13,
      "outputs": [
        {
          "output_type": "stream",
          "text": [
            "Epoch 1/10\n",
            "1875/1875 [==============================] - 4s 2ms/step - loss: 0.5010 - val_loss: 0.4388\n",
            "Epoch 2/10\n",
            "1875/1875 [==============================] - 4s 2ms/step - loss: 0.3744 - val_loss: 0.3814\n",
            "Epoch 3/10\n",
            "1875/1875 [==============================] - 4s 2ms/step - loss: 0.3375 - val_loss: 0.3915\n",
            "Epoch 4/10\n",
            "1875/1875 [==============================] - 3s 2ms/step - loss: 0.3128 - val_loss: 0.3571\n",
            "Epoch 5/10\n",
            "1875/1875 [==============================] - 4s 2ms/step - loss: 0.2944 - val_loss: 0.3590\n",
            "Epoch 6/10\n",
            "1875/1875 [==============================] - 4s 2ms/step - loss: 0.2812 - val_loss: 0.3369\n",
            "Epoch 7/10\n",
            "1875/1875 [==============================] - 4s 2ms/step - loss: 0.2682 - val_loss: 0.3292\n",
            "Epoch 8/10\n",
            "1875/1875 [==============================] - 4s 2ms/step - loss: 0.2566 - val_loss: 0.3397\n",
            "Epoch 9/10\n",
            "1875/1875 [==============================] - 4s 2ms/step - loss: 0.2465 - val_loss: 0.3664\n",
            "Epoch 10/10\n",
            "1875/1875 [==============================] - 4s 2ms/step - loss: 0.2382 - val_loss: 0.3367\n"
          ],
          "name": "stdout"
        },
        {
          "output_type": "execute_result",
          "data": {
            "text/plain": [
              "<tensorflow.python.keras.callbacks.History at 0x7f8204d5ad50>"
            ]
          },
          "metadata": {
            "tags": []
          },
          "execution_count": 13
        }
      ]
    },
    {
      "cell_type": "code",
      "metadata": {
        "colab": {
          "base_uri": "https://localhost:8080/"
        },
        "id": "COuNk8ULxXWp",
        "outputId": "7ae1ea96-107a-495f-fc22-327453cdf102"
      },
      "source": [
        "model.evaluate(test_image,test_labels)"
      ],
      "execution_count": 14,
      "outputs": [
        {
          "output_type": "stream",
          "text": [
            "313/313 [==============================] - 0s 1ms/step - loss: 0.3367\n"
          ],
          "name": "stdout"
        },
        {
          "output_type": "execute_result",
          "data": {
            "text/plain": [
              "0.3366950452327728"
            ]
          },
          "metadata": {
            "tags": []
          },
          "execution_count": 14
        }
      ]
    },
    {
      "cell_type": "code",
      "metadata": {
        "id": "TNHG7g0zxXZf"
      },
      "source": [
        "model = Sequential()"
      ],
      "execution_count": 31,
      "outputs": []
    },
    {
      "cell_type": "code",
      "metadata": {
        "id": "0-qUMVs29-bg"
      },
      "source": [
        "from keras.layers import Conv2D, MaxPooling2D"
      ],
      "execution_count": 32,
      "outputs": []
    },
    {
      "cell_type": "code",
      "metadata": {
        "id": "Mq0fSpK3Acm1"
      },
      "source": [
        "train_image = train_image.reshape(60000, 28, 28, 1)\n",
        "test_image = test_image.reshape(10000, 28, 28, 1)"
      ],
      "execution_count": 33,
      "outputs": []
    },
    {
      "cell_type": "code",
      "metadata": {
        "id": "I7aalUzgxXb5"
      },
      "source": [
        "model.add(Conv2D(64, (3,3),input_shape=(28,28,1), activation='relu'))\n",
        "model.add(MaxPooling2D(2,2))\n",
        "model.add(Conv2D(64, (3,3), activation='relu'))\n",
        "model.add(Flatten())\n",
        "model.add(Dense(128, activation='relu'))\n",
        "model.add(Dense(10, activation='softmax'))\n"
      ],
      "execution_count": 34,
      "outputs": []
    },
    {
      "cell_type": "code",
      "metadata": {
        "id": "BhQ-Aw4NxXek"
      },
      "source": [
        "model.compile(optimizer='adam',loss='sparse_categorical_crossentropy',metrics=['accuracy'])"
      ],
      "execution_count": 35,
      "outputs": []
    },
    {
      "cell_type": "code",
      "metadata": {
        "colab": {
          "base_uri": "https://localhost:8080/"
        },
        "id": "_7XncJP7xXhS",
        "outputId": "96563854-c660-48e2-d50f-987b1ee2cc45"
      },
      "source": [
        "model.fit(train_image,train_labels,epochs=10,validation_data=(test_image,test_labels))"
      ],
      "execution_count": 36,
      "outputs": [
        {
          "output_type": "stream",
          "text": [
            "Epoch 1/10\n",
            "1875/1875 [==============================] - 102s 49ms/step - loss: 0.5317 - accuracy: 0.8052 - val_loss: 0.3130 - val_accuracy: 0.8816\n",
            "Epoch 2/10\n",
            "1875/1875 [==============================] - 90s 48ms/step - loss: 0.2487 - accuracy: 0.9087 - val_loss: 0.2654 - val_accuracy: 0.9035\n",
            "Epoch 3/10\n",
            "1875/1875 [==============================] - 89s 48ms/step - loss: 0.1993 - accuracy: 0.9253 - val_loss: 0.2337 - val_accuracy: 0.9165\n",
            "Epoch 4/10\n",
            "1875/1875 [==============================] - 89s 48ms/step - loss: 0.1553 - accuracy: 0.9423 - val_loss: 0.2336 - val_accuracy: 0.9201\n",
            "Epoch 5/10\n",
            "1875/1875 [==============================] - 89s 47ms/step - loss: 0.1269 - accuracy: 0.9526 - val_loss: 0.2711 - val_accuracy: 0.9139\n",
            "Epoch 6/10\n",
            "1875/1875 [==============================] - 89s 47ms/step - loss: 0.1018 - accuracy: 0.9619 - val_loss: 0.2556 - val_accuracy: 0.9223\n",
            "Epoch 7/10\n",
            "1875/1875 [==============================] - 88s 47ms/step - loss: 0.0786 - accuracy: 0.9710 - val_loss: 0.3050 - val_accuracy: 0.9112\n",
            "Epoch 8/10\n",
            "1875/1875 [==============================] - 89s 47ms/step - loss: 0.0618 - accuracy: 0.9774 - val_loss: 0.3121 - val_accuracy: 0.9202\n",
            "Epoch 9/10\n",
            "1875/1875 [==============================] - 88s 47ms/step - loss: 0.0488 - accuracy: 0.9815 - val_loss: 0.3824 - val_accuracy: 0.9231\n",
            "Epoch 10/10\n",
            "1875/1875 [==============================] - 88s 47ms/step - loss: 0.0393 - accuracy: 0.9858 - val_loss: 0.3973 - val_accuracy: 0.9176\n"
          ],
          "name": "stdout"
        },
        {
          "output_type": "execute_result",
          "data": {
            "text/plain": [
              "<keras.callbacks.History at 0x7f8200f3a0d0>"
            ]
          },
          "metadata": {
            "tags": []
          },
          "execution_count": 36
        }
      ]
    },
    {
      "cell_type": "code",
      "metadata": {
        "colab": {
          "base_uri": "https://localhost:8080/"
        },
        "id": "xJIUTSbqxXjs",
        "outputId": "0ac6c9c2-9103-4f61-88a2-6c0ad6c9908e"
      },
      "source": [
        "model.weights"
      ],
      "execution_count": 37,
      "outputs": [
        {
          "output_type": "execute_result",
          "data": {
            "text/plain": [
              "[<tf.Variable 'conv2d_5/kernel:0' shape=(3, 3, 1, 64) dtype=float32, numpy=\n",
              " array([[[[-0.24522416, -0.31838754,  0.02769954, -0.12941235,\n",
              "            0.22332217, -0.0357094 ,  0.24185061, -0.18646158,\n",
              "           -0.64859694,  0.1325973 ,  0.2761215 ,  0.03192893,\n",
              "            0.05129325, -0.00885922,  0.05997406, -0.23564534,\n",
              "            0.07434704, -0.33899012, -0.6059987 ,  0.21149933,\n",
              "           -0.15560484, -0.01671687, -0.14554763, -0.22972882,\n",
              "           -0.18367724, -0.39506435, -0.47503954,  0.08591288,\n",
              "           -0.17183676,  0.19277284,  0.00869038, -0.17868476,\n",
              "           -0.07043044,  0.12487245,  0.16760202, -0.22830063,\n",
              "           -0.18246488,  0.09390239,  0.11540724,  0.07676736,\n",
              "            0.2389802 , -0.09404229, -0.36331165,  0.03064422,\n",
              "           -0.04083219, -0.2840129 ,  0.1729806 , -0.3057385 ,\n",
              "           -0.27869457,  0.08322686, -0.11230604,  0.15773773,\n",
              "            0.20512365, -0.17658049, -0.35235775, -0.08284006,\n",
              "            0.24679336,  0.14654484,  0.09642649,  0.24562588,\n",
              "            0.29938278, -0.21383236,  0.09163152, -0.14585418]],\n",
              " \n",
              "         [[ 0.12282778,  0.00949141,  0.09431164, -0.00329791,\n",
              "            0.02793161,  0.11694689, -0.15965046, -1.1737661 ,\n",
              "           -0.5928462 , -0.22244267, -0.19731374, -0.23607521,\n",
              "           -0.28729042, -0.150924  ,  0.1364415 ,  0.17077976,\n",
              "            0.15471931, -0.00824905, -0.8176346 , -0.0404741 ,\n",
              "            0.15854193, -0.17515147, -0.29842058, -0.05154099,\n",
              "            0.09359288, -0.841137  , -0.8290687 ,  0.14350183,\n",
              "            0.2279727 ,  0.02074347, -0.14721774,  0.00789972,\n",
              "            0.26510477,  0.09104966,  0.21474618,  0.13503765,\n",
              "           -0.26265717,  0.26914307, -0.00585723, -0.28107002,\n",
              "            0.20281804,  0.04795018,  0.06838626,  0.03441013,\n",
              "            0.21622477,  0.07796866,  0.12447584, -0.29184607,\n",
              "            0.29614684,  0.23296908, -0.00328315,  0.08132868,\n",
              "           -0.1018612 ,  0.1416037 , -0.11915983, -0.05754827,\n",
              "            0.10863834, -0.02785455, -0.24604921, -0.33110166,\n",
              "            0.25684243,  0.11350422,  0.10519724, -0.05277334]],\n",
              " \n",
              "         [[ 0.18206169,  0.12607679, -0.14537153, -0.2304935 ,\n",
              "           -0.20606714,  0.14223196, -0.13156472,  0.01102376,\n",
              "           -0.5577514 ,  0.08205523,  0.08296506,  0.24626365,\n",
              "           -0.23475574,  0.23166727, -0.42831314,  0.04204315,\n",
              "            0.15116683, -0.1620185 ,  0.0482184 , -0.16533065,\n",
              "            0.02282182,  0.09943932,  0.16203648,  0.05557009,\n",
              "            0.20775323, -0.19828756, -0.28683895,  0.03679343,\n",
              "            0.01293442, -0.13314088,  0.26110256, -0.23804349,\n",
              "           -0.19233698, -0.2528102 ,  0.01121664,  0.1581616 ,\n",
              "           -0.04269655,  0.18526101,  0.02712483, -0.2507617 ,\n",
              "            0.10346902, -0.21196526,  0.10581192,  0.17243814,\n",
              "           -0.17371133,  0.3459313 , -0.23732625,  0.00987144,\n",
              "           -0.08562022, -0.25606653, -0.30146024, -0.26318103,\n",
              "           -0.09839331,  0.15854076,  0.41078943,  0.07731379,\n",
              "           -0.34303546, -0.03048255,  0.19500136,  0.09982792,\n",
              "           -0.15680768,  0.1231067 ,  0.13912934,  0.28712767]]],\n",
              " \n",
              " \n",
              "        [[[-0.05207127, -0.25567627,  0.2921394 ,  0.19227819,\n",
              "            0.02140978, -0.1013499 ,  0.28006634, -0.02592373,\n",
              "           -0.561681  , -0.14135244, -0.23377159, -0.04371683,\n",
              "           -0.07017116, -0.12168103, -0.08122724,  0.16064139,\n",
              "            0.01891181,  0.08764236,  0.05863712,  0.18181965,\n",
              "           -0.23744148, -0.17212234, -0.08639896, -0.09497909,\n",
              "            0.22495994, -0.11911926, -0.62766117,  0.27294412,\n",
              "           -0.23052403, -0.21241733, -0.2013696 , -0.4046758 ,\n",
              "            0.11674429, -0.22747853,  0.04636654, -0.4665185 ,\n",
              "            0.12135045, -0.19845377,  0.05269752,  0.14695056,\n",
              "           -0.07505389,  0.05412218,  0.09755537, -0.45175645,\n",
              "            0.18922186, -0.49008805,  0.08471544,  0.06764489,\n",
              "            0.20093003, -0.04042225, -0.00450718, -0.0447977 ,\n",
              "            0.20959254,  0.3055288 , -1.1739248 ,  0.0769105 ,\n",
              "           -0.00512401,  0.13363986,  0.11641967,  0.24022928,\n",
              "           -0.06225622, -0.3151102 , -0.1958469 , -0.698709  ]],\n",
              " \n",
              "         [[ 0.01967811,  0.2742353 , -0.2456949 , -0.03188075,\n",
              "            0.1500096 , -0.30424294, -0.472026  , -0.49503866,\n",
              "           -0.3745742 ,  0.15705605,  0.1158456 , -0.24320476,\n",
              "            0.08949024, -0.14565894,  0.05046706,  0.15525381,\n",
              "           -0.11312959,  0.17977831,  0.0405437 ,  0.00314492,\n",
              "            0.19034211,  0.08248661, -0.02656445,  0.04731262,\n",
              "            0.01298945, -0.33464915, -0.46980134,  0.23778825,\n",
              "            0.13304624, -0.17838973, -0.11025281, -0.01191564,\n",
              "            0.22394814,  0.13971668,  0.14931217, -0.40794235,\n",
              "            0.2396391 , -0.5712351 ,  0.18928996, -0.01654538,\n",
              "           -0.17624602,  0.13540071,  0.2712935 ,  0.05688505,\n",
              "            0.1226662 , -0.4026704 , -0.08439502,  0.20647752,\n",
              "           -0.23622712,  0.17942175,  0.07840321,  0.11601301,\n",
              "           -0.20334205,  0.01018716,  0.01372689, -0.18776317,\n",
              "           -0.15235622, -0.25596094, -0.2990634 , -0.03581782,\n",
              "           -0.18905379,  0.23831603, -0.02954775,  0.12390734]],\n",
              " \n",
              "         [[ 0.19113368, -0.19320846, -0.34055874, -0.04691508,\n",
              "           -0.15939483, -0.28017715, -0.29305005,  0.10530168,\n",
              "           -0.41119817, -0.13837047,  0.05455326,  0.27418897,\n",
              "            0.08568233,  0.24899295,  0.11676606, -0.21126145,\n",
              "           -0.03390785, -0.22137825,  0.0622742 , -0.16120116,\n",
              "            0.02627761,  0.05132804,  0.06611965, -0.06022456,\n",
              "           -0.31859   ,  0.1447528 , -0.04802786,  0.08360354,\n",
              "            0.02485388, -0.23751032,  0.30694053,  0.23308842,\n",
              "           -0.31544527,  0.21413635,  0.03266167, -0.21456327,\n",
              "           -0.02280298, -0.42945656,  0.11169724,  0.01641335,\n",
              "            0.0510451 , -0.01897437, -0.1527679 ,  0.11632486,\n",
              "           -0.27604222,  0.33243775, -0.12354714,  0.20407912,\n",
              "            0.2115072 ,  0.17883718, -0.13576   , -0.01937546,\n",
              "            0.15243189, -0.39567974,  0.04270333,  0.25976014,\n",
              "            0.03776939,  0.11910957,  0.17055051, -0.23965062,\n",
              "           -0.07663512,  0.07465058, -0.05825758, -0.15149626]]],\n",
              " \n",
              " \n",
              "        [[[-0.07201911,  0.27701002, -0.09746206, -0.07133393,\n",
              "            0.04251365,  0.0727045 , -0.04242517,  0.37264305,\n",
              "           -0.53533804, -0.15922068, -0.21525536, -0.0566238 ,\n",
              "            0.04358795, -0.04346041, -0.24558464,  0.09401195,\n",
              "            0.05524424,  0.22017473,  0.22266904,  0.21749215,\n",
              "           -0.2311419 , -0.12770616, -0.07346386,  0.04920153,\n",
              "           -0.1980024 ,  0.19140893,  0.02694636, -0.3504681 ,\n",
              "            0.13811809,  0.03221665, -0.1793327 ,  0.11118538,\n",
              "           -0.03145736, -0.65185905, -0.2441958 ,  0.22648816,\n",
              "           -0.03236033, -0.11160243, -0.02255475, -0.03101844,\n",
              "           -0.30600208, -0.07403397, -0.03983721, -0.20470372,\n",
              "            0.10638918, -0.72101605, -0.32725617,  0.13180047,\n",
              "            0.16147673, -0.20404838,  0.08271989, -0.27983257,\n",
              "            0.06809318, -0.19923872, -0.5872797 , -0.00664836,\n",
              "           -0.36653367, -0.09597875,  0.10711466, -0.29239538,\n",
              "           -0.29391986,  0.03015421, -0.22244038,  0.04772784]],\n",
              " \n",
              "         [[-0.11170451,  0.02254988, -0.62761194, -0.29200348,\n",
              "            0.02756283,  0.16116367, -0.14315312,  0.04408184,\n",
              "           -0.5052894 ,  0.33559743,  0.11511109, -0.06533699,\n",
              "            0.26100153, -0.17905289,  0.1438557 , -0.40153116,\n",
              "           -0.0238413 , -0.07944176, -0.0280729 , -0.07398544,\n",
              "            0.33048096,  0.16565841,  0.3066892 ,  0.0427461 ,\n",
              "            0.06440629,  0.0636057 , -0.00452464, -0.36774135,\n",
              "            0.01977568,  0.1141688 ,  0.06473069,  0.09437115,\n",
              "            0.12445422, -0.14744431, -0.4384548 ,  0.16227837,\n",
              "            0.19867142, -0.85679513, -0.00586952,  0.21465375,\n",
              "           -1.0766779 , -0.3051188 , -0.11989807,  0.10093346,\n",
              "            0.00981051, -0.93196535,  0.09315922, -0.06014138,\n",
              "           -0.6277456 , -0.13075654,  0.15063909, -0.03336346,\n",
              "           -0.0113263 , -0.19302268,  0.04349586, -0.13743944,\n",
              "            0.15365109, -0.14759988, -0.24294896,  0.19695963,\n",
              "           -0.01555376,  0.10142607, -0.14307827,  0.0404526 ]],\n",
              " \n",
              "         [[ 0.18723148, -0.29352275, -0.51883495,  0.16992326,\n",
              "           -0.05597439,  0.15102021, -0.4112599 , -0.07407942,\n",
              "           -0.5714149 , -0.25331664, -0.03600568,  0.11366274,\n",
              "            0.14917393,  0.21754913, -0.02113753, -0.253503  ,\n",
              "           -0.16414541, -0.15806253, -0.1698328 , -0.13499853,\n",
              "           -0.10467162, -0.07172114, -0.28617156, -0.00537362,\n",
              "           -0.10495772,  0.05136881,  0.11409824, -0.1250994 ,\n",
              "           -0.20913881,  0.13940938,  0.06896913, -0.20349093,\n",
              "           -0.09572907,  0.3029914 , -0.06955309,  0.07115076,\n",
              "           -0.06971273, -0.68469584,  0.03068019,  0.03437245,\n",
              "           -0.7299775 ,  0.07387128, -0.224889  ,  0.0911091 ,\n",
              "           -0.10890203, -0.11817543,  0.24482471, -0.02771843,\n",
              "           -0.05712527,  0.22494638,  0.18304448, -0.03077116,\n",
              "            0.07805052,  0.19129744, -0.57729065,  0.06160661,\n",
              "           -0.00493547,  0.00980755,  0.09886464,  0.09772482,\n",
              "            0.22988163, -0.16090894, -0.18392216, -0.16267854]]]],\n",
              "       dtype=float32)>,\n",
              " <tf.Variable 'conv2d_5/bias:0' shape=(64,) dtype=float32, numpy=\n",
              " array([-0.19345042,  0.01194321,  0.02349965, -0.0230084 , -0.0237529 ,\n",
              "        -0.04645699,  0.0487804 ,  0.03223512,  0.24315695,  0.01308633,\n",
              "        -0.08090827, -0.01225763,  0.00258695, -0.03839493, -0.0109717 ,\n",
              "         0.0068372 , -0.20953812, -0.00542785,  0.05416783,  0.0079838 ,\n",
              "         0.01073619, -0.05940799, -0.00977551, -0.13545948, -0.00896221,\n",
              "         0.04627038,  0.12743303,  0.00178519, -0.01347792, -0.12424483,\n",
              "        -0.05253836,  0.01149213,  0.0080763 , -0.00656126,  0.01023624,\n",
              "         0.01110204, -0.00692397,  0.11582547, -0.27148312, -0.04098415,\n",
              "         0.09691464, -0.03820875, -0.00753897, -0.12990522, -0.00358441,\n",
              "         0.08278004, -0.01830916, -0.00085861, -0.00403571, -0.20022891,\n",
              "        -0.03009368,  0.00035747, -0.21795893, -0.003722  ,  0.05814261,\n",
              "        -0.08945643, -0.00937165, -0.03786051, -0.00437609, -0.00343915,\n",
              "        -0.01225282, -0.01394363, -0.15659271, -0.00540213], dtype=float32)>,\n",
              " <tf.Variable 'conv2d_6/kernel:0' shape=(3, 3, 64, 64) dtype=float32, numpy=\n",
              " array([[[[-1.53444886e-01, -9.39833522e-02, -4.96477783e-02, ...,\n",
              "            1.66601911e-01, -1.43172771e-01, -3.18312138e-01],\n",
              "          [-2.22502872e-01,  2.23575667e-01,  1.07863680e-01, ...,\n",
              "           -2.45762110e-01,  2.11832747e-01,  2.03704625e-01],\n",
              "          [ 2.33267590e-01, -3.93906310e-02, -1.09162316e-01, ...,\n",
              "            1.32218108e-01, -3.35666448e-01,  9.58562568e-02],\n",
              "          ...,\n",
              "          [-3.21885109e-01, -2.48907328e-01, -3.22644934e-02, ...,\n",
              "            6.73631802e-02,  1.26782477e-01, -3.22595477e-01],\n",
              "          [-6.93908483e-02,  1.19498879e-01, -1.40144061e-02, ...,\n",
              "           -3.37100960e-02, -4.12427783e-02, -1.67677505e-03],\n",
              "          [-4.25408870e-01,  7.00969696e-02,  4.50744741e-02, ...,\n",
              "           -1.75931334e-01,  8.46529901e-02, -2.64672607e-01]],\n",
              " \n",
              "         [[ 1.65502563e-01, -6.61342144e-02, -1.12060033e-01, ...,\n",
              "            1.28589481e-01,  2.31859833e-02, -1.09744025e-02],\n",
              "          [ 3.56921703e-01,  2.53012776e-01,  1.55528933e-01, ...,\n",
              "            3.08333963e-01,  9.35753360e-02,  1.74733922e-01],\n",
              "          [-2.87945330e-01, -2.14217260e-01, -5.54727241e-02, ...,\n",
              "            9.18346122e-02, -1.53272524e-01, -1.27372459e-01],\n",
              "          ...,\n",
              "          [ 2.85769194e-01, -3.08417752e-02,  5.59831597e-02, ...,\n",
              "           -6.62989840e-02,  1.61465764e-01,  1.06439091e-01],\n",
              "          [-6.53960779e-02, -7.55193597e-03,  4.79530841e-02, ...,\n",
              "           -7.30251372e-02,  8.31033289e-03,  1.48576847e-03],\n",
              "          [ 7.11210445e-02, -1.54858679e-01, -2.17617795e-01, ...,\n",
              "            1.80616394e-01, -1.65147617e-01,  2.23631024e-01]],\n",
              " \n",
              "         [[-2.71842271e-01, -2.29645833e-01,  1.08870424e-01, ...,\n",
              "            1.40891476e-02, -5.74081317e-02,  1.83130547e-01],\n",
              "          [-6.70555532e-02,  6.87629962e-03, -1.64918706e-01, ...,\n",
              "            8.06580782e-02, -7.11115450e-02,  3.94704551e-01],\n",
              "          [ 1.07616797e-01, -3.28034684e-02,  9.00096726e-03, ...,\n",
              "            1.07105158e-01, -5.41364066e-02,  2.28177439e-02],\n",
              "          ...,\n",
              "          [-3.34090650e-01, -2.37518266e-01, -5.03946580e-02, ...,\n",
              "            2.42160331e-03, -1.95436433e-01,  2.56835729e-01],\n",
              "          [ 9.01785642e-02, -1.08570211e-01, -1.52054206e-02, ...,\n",
              "           -1.72673557e-02,  8.87254104e-02, -1.50245741e-01],\n",
              "          [-2.86549926e-01, -3.24479759e-01, -1.51206791e-01, ...,\n",
              "            7.73137948e-03,  7.40379021e-02,  3.13767850e-01]]],\n",
              " \n",
              " \n",
              "        [[[ 2.89913602e-02,  3.03208199e-03, -1.86181039e-01, ...,\n",
              "           -1.52866617e-01,  1.06791504e-01, -9.44542438e-02],\n",
              "          [-2.08530590e-01,  2.75156438e-01,  3.28905024e-02, ...,\n",
              "           -1.13424651e-01, -1.91666782e-01,  4.03664671e-02],\n",
              "          [ 2.10177973e-01,  7.49005228e-02, -8.67372826e-02, ...,\n",
              "            2.38160267e-02, -2.14860305e-01,  3.53472419e-02],\n",
              "          ...,\n",
              "          [-1.58176586e-01,  1.90113746e-02, -6.02976680e-02, ...,\n",
              "           -6.34436160e-02,  1.74130052e-01, -2.62933403e-01],\n",
              "          [-4.20450978e-02, -8.77997130e-02,  1.86939891e-02, ...,\n",
              "           -1.36668831e-01, -5.26374485e-03,  2.46451423e-01],\n",
              "          [-1.93204373e-01,  2.33641699e-01, -1.62521511e-01, ...,\n",
              "           -1.58670530e-01,  1.07793786e-01, -2.65816212e-01]],\n",
              " \n",
              "         [[ 5.17295226e-02, -5.03989942e-02,  3.62842297e-03, ...,\n",
              "           -2.13283710e-02, -2.29410112e-01, -5.29892482e-02],\n",
              "          [-8.02388266e-02, -3.35730761e-02, -1.08146235e-01, ...,\n",
              "            2.49522529e-03, -6.91824481e-02,  1.00969627e-01],\n",
              "          [-2.98743278e-01,  4.50764634e-02, -2.29859073e-02, ...,\n",
              "           -6.08439147e-02, -2.74058074e-01, -3.05544436e-02],\n",
              "          ...,\n",
              "          [ 2.34781161e-01, -1.07764572e-01, -4.46398221e-02, ...,\n",
              "           -1.58086754e-02, -9.46734473e-02,  2.42333338e-02],\n",
              "          [ 1.01084061e-01, -1.42836303e-01, -1.09040596e-01, ...,\n",
              "           -1.51578143e-01, -4.69786972e-02,  2.06114382e-01],\n",
              "          [ 7.24526048e-02,  3.13989222e-02, -1.74175233e-01, ...,\n",
              "            2.86385752e-02, -2.00015739e-01,  2.54112929e-02]],\n",
              " \n",
              "         [[-6.23115338e-02,  4.40627038e-02,  6.17171219e-03, ...,\n",
              "           -2.43592001e-02, -2.80890852e-01, -1.24365136e-01],\n",
              "          [-1.93779603e-01, -6.17848337e-02, -8.38913769e-02, ...,\n",
              "            2.48348325e-01,  9.91828460e-03,  4.15523171e-01],\n",
              "          [ 1.55144870e-01, -1.13140851e-01,  2.20683292e-02, ...,\n",
              "           -1.22119617e-02, -1.13470063e-01, -1.69740766e-01],\n",
              "          ...,\n",
              "          [-2.21415043e-01,  1.51510432e-01,  1.36371749e-02, ...,\n",
              "            8.97128433e-02, -1.46374598e-01,  1.06425710e-01],\n",
              "          [-3.71544026e-02,  7.60540217e-02, -2.53125995e-01, ...,\n",
              "            4.27899323e-02,  1.26814723e-01, -7.49093220e-02],\n",
              "          [-2.71145374e-01,  1.78964332e-01,  5.23810880e-03, ...,\n",
              "            2.95220036e-02,  1.57350391e-01,  5.27933575e-02]]],\n",
              " \n",
              " \n",
              "        [[[ 1.66406911e-02,  4.75290641e-02, -1.51252672e-01, ...,\n",
              "           -2.81162143e-01,  1.82925850e-01, -1.15541145e-01],\n",
              "          [-2.87841320e-01,  3.69471550e-01, -1.55873850e-01, ...,\n",
              "            1.73126131e-01, -2.59089112e-01, -8.14307034e-02],\n",
              "          [ 2.04722360e-01,  3.86268437e-01,  7.91622698e-02, ...,\n",
              "           -1.78429425e-01,  6.52435049e-02,  1.17548227e-01],\n",
              "          ...,\n",
              "          [-1.61723450e-01, -3.49012436e-03,  6.53704032e-02, ...,\n",
              "            8.01421106e-02,  5.22904471e-02, -2.34203532e-01],\n",
              "          [ 1.11373939e-01, -1.79018881e-02,  2.25884348e-01, ...,\n",
              "           -2.83295155e-01, -1.47733897e-01, -1.01633795e-01],\n",
              "          [-1.67136103e-01,  3.33490297e-02, -1.73957929e-01, ...,\n",
              "           -1.21558182e-01, -1.81053102e-01, -1.93409473e-01]],\n",
              " \n",
              "         [[-2.09319666e-02, -1.36169404e-01, -1.80268571e-01, ...,\n",
              "           -4.01833415e-01, -9.39824283e-02, -1.52345747e-01],\n",
              "          [-4.72420901e-01,  1.73917428e-01,  5.09659760e-02, ...,\n",
              "            1.72199264e-01,  7.69015625e-02,  1.00801550e-01],\n",
              "          [-1.95423290e-01,  3.66755091e-02,  1.07196182e-01, ...,\n",
              "            3.02647073e-02, -6.12115189e-02, -3.80541921e-01],\n",
              "          ...,\n",
              "          [ 9.06136632e-02, -7.28840530e-02,  6.65035471e-02, ...,\n",
              "           -1.39192820e-01, -2.34301135e-01,  1.86959188e-02],\n",
              "          [ 1.98295820e-04, -1.32863477e-01,  3.98499053e-03, ...,\n",
              "           -8.98348615e-02,  5.30350246e-02, -1.70638204e-01],\n",
              "          [-2.51914382e-01,  2.68249482e-01, -1.66258514e-01, ...,\n",
              "            3.69038023e-02, -2.34141722e-01,  1.17047608e-01]],\n",
              " \n",
              "         [[ 3.14726047e-02, -5.08021861e-02,  1.05526440e-01, ...,\n",
              "           -1.23822995e-01,  1.37553755e-02, -6.88726604e-02],\n",
              "          [-3.87327135e-01, -2.55004853e-01,  6.72023669e-02, ...,\n",
              "            4.37042564e-02,  2.93896973e-01,  3.10576800e-02],\n",
              "          [ 1.17345326e-01, -2.95192122e-01, -2.93146037e-02, ...,\n",
              "            1.63597867e-01,  5.93300276e-02, -2.90406018e-01],\n",
              "          ...,\n",
              "          [-8.58905837e-02, -4.61249389e-02,  2.27183238e-01, ...,\n",
              "           -3.77964526e-02, -8.83095711e-02, -1.41563877e-01],\n",
              "          [ 9.26580131e-02, -4.83712554e-02, -5.18116355e-02, ...,\n",
              "           -6.96710274e-02, -1.20775336e-02, -8.54745433e-02],\n",
              "          [-1.65565029e-01,  2.35217698e-02,  1.28376216e-01, ...,\n",
              "            2.25476086e-01, -1.96151599e-01, -2.36775205e-01]]]],\n",
              "       dtype=float32)>,\n",
              " <tf.Variable 'conv2d_6/bias:0' shape=(64,) dtype=float32, numpy=\n",
              " array([ 0.07367183, -0.19378929, -0.06075127,  0.02461653,  0.13937384,\n",
              "         0.13104612,  0.235701  ,  0.18822637, -0.01551542,  0.12386584,\n",
              "         0.05147723, -0.07598475,  0.03139956,  0.10470577, -0.04491556,\n",
              "         0.12871513, -0.1093896 ,  0.06379559,  0.07203054, -0.16699986,\n",
              "        -0.07018425,  0.04020985,  0.1114346 , -0.0256787 ,  0.00453616,\n",
              "         0.2813347 ,  0.1986339 ,  0.31411743,  0.0313262 , -0.0219031 ,\n",
              "         0.06404843, -0.20198226, -0.04903772, -0.03465362, -0.20696774,\n",
              "         0.07413344,  0.06844117, -0.15563685,  0.02744505,  0.04275297,\n",
              "        -0.06712784, -0.09259992,  0.12398651, -0.04048283, -0.11148342,\n",
              "        -0.06308188, -0.07506741,  0.12178488, -0.00402755, -0.06051399,\n",
              "         0.13741568, -0.13345586,  0.02263645,  0.04945567,  0.15488015,\n",
              "         0.13648933, -0.02216376, -0.00400828, -0.01160126, -0.03075338,\n",
              "        -0.0262176 , -0.02383964, -0.03894162, -0.13377918], dtype=float32)>,\n",
              " <tf.Variable 'dense_4/kernel:0' shape=(7744, 128) dtype=float32, numpy=\n",
              " array([[-0.0151856 ,  0.36013338, -0.00955392, ...,  0.17455405,\n",
              "          0.5774728 ,  0.15425038],\n",
              "        [ 0.00246982,  0.23006682, -0.02282522, ...,  0.22372235,\n",
              "         -0.14634034, -0.13805945],\n",
              "        [ 0.00430634,  0.14257318, -0.02766591, ...,  0.01739128,\n",
              "          0.10741357, -0.10070761],\n",
              "        ...,\n",
              "        [ 0.01814529,  0.19148003, -0.0021541 , ..., -0.10051356,\n",
              "          0.01564091, -0.13520627],\n",
              "        [-0.03167166,  0.43101832, -0.00781176, ...,  0.2854086 ,\n",
              "          0.31226256,  0.14711927],\n",
              "        [ 0.02038707, -0.07397509, -0.00134346, ...,  0.04309697,\n",
              "         -0.14829908, -0.01246417]], dtype=float32)>,\n",
              " <tf.Variable 'dense_4/bias:0' shape=(128,) dtype=float32, numpy=\n",
              " array([-0.01512049,  0.05542781, -0.00823916,  0.0530046 , -0.06481802,\n",
              "         0.04260583, -0.01710507, -0.01245121, -0.0060055 , -0.00835385,\n",
              "         0.05252977, -0.02655865, -0.0060048 , -0.05320235, -0.00613927,\n",
              "        -0.04305557, -0.10112209,  0.08142618, -0.02452143, -0.04247423,\n",
              "        -0.0084031 , -0.00600134, -0.00600478,  0.02678093, -0.04384338,\n",
              "        -0.00943276,  0.01636728,  0.0774495 , -0.00600325,  0.06425785,\n",
              "         0.05503692, -0.02366017,  0.00910268, -0.00600463,  0.03531032,\n",
              "        -0.15619911,  0.10294811, -0.01783966, -0.030449  , -0.10562538,\n",
              "        -0.04289154,  0.00410074, -0.03751183, -0.09193443,  0.06783172,\n",
              "        -0.00600377, -0.02359627, -0.0568503 , -0.04548831,  0.00801148,\n",
              "        -0.00773013,  0.05850234, -0.00842445, -0.0814352 , -0.00355137,\n",
              "         0.04089356,  0.01736577, -0.01337436,  0.08667488, -0.00921756,\n",
              "         0.0189419 , -0.00527382, -0.01806997,  0.0180866 ,  0.02481301,\n",
              "         0.02244255,  0.00649925, -0.0296666 ,  0.02061505, -0.06832783,\n",
              "         0.00311512,  0.01794513,  0.02297313,  0.06899074,  0.01372408,\n",
              "        -0.01251218, -0.01546669, -0.06438987, -0.08586008, -0.01037447,\n",
              "         0.00132872, -0.03744035,  0.0378863 ,  0.05145263,  0.05550387,\n",
              "         0.02832194, -0.01722894, -0.00600445, -0.03053423, -0.01381868,\n",
              "        -0.00600445,  0.03996497, -0.0260152 ,  0.05397771, -0.0292618 ,\n",
              "        -0.01596067, -0.00597645, -0.13959663, -0.01203296, -0.06362703,\n",
              "        -0.02368195,  0.10177953, -0.06162433, -0.03655804, -0.03180467,\n",
              "         0.06115407, -0.04413746,  0.05884471, -0.02221962,  0.09330413,\n",
              "        -0.11858688, -0.03080548,  0.1078058 , -0.03072871, -0.05649663,\n",
              "        -0.02013272, -0.00600431, -0.07036416, -0.05501039,  0.05441317,\n",
              "        -0.01638499, -0.05752565,  0.0618419 ,  0.01835218,  0.05179335,\n",
              "        -0.03633281,  0.03250572, -0.06640431], dtype=float32)>,\n",
              " <tf.Variable 'dense_5/kernel:0' shape=(128, 10) dtype=float32, numpy=\n",
              " array([[ 0.08744665, -0.10642377,  0.15497303, ..., -0.06558885,\n",
              "          0.06375897,  0.07780151],\n",
              "        [-0.29010904, -0.02620385, -0.31358337, ..., -0.32658285,\n",
              "          0.27743933, -0.29031193],\n",
              "        [ 0.0287102 ,  0.08123095,  0.01884602, ..., -0.16781107,\n",
              "          0.08186162,  0.14057375],\n",
              "        ...,\n",
              "        [ 0.15277529, -0.6371264 ,  0.09113431, ...,  0.0691918 ,\n",
              "         -0.21610117,  0.01641903],\n",
              "        [-0.1801952 , -0.29369938,  0.1893992 , ..., -0.2567442 ,\n",
              "         -0.31057993,  0.16126569],\n",
              "        [-0.03943603, -0.20394571, -0.23351593, ..., -0.09099496,\n",
              "         -0.09336541,  0.10592844]], dtype=float32)>,\n",
              " <tf.Variable 'dense_5/bias:0' shape=(10,) dtype=float32, numpy=\n",
              " array([-0.07233116, -0.14172474,  0.05987995,  0.07238211, -0.09873635,\n",
              "        -0.03216169,  0.06531414,  0.06907152,  0.01378498, -0.05647963],\n",
              "       dtype=float32)>]"
            ]
          },
          "metadata": {
            "tags": []
          },
          "execution_count": 37
        }
      ]
    },
    {
      "cell_type": "code",
      "metadata": {
        "id": "8eeF8MO-xYWs"
      },
      "source": [
        ""
      ],
      "execution_count": null,
      "outputs": []
    },
    {
      "cell_type": "code",
      "metadata": {
        "id": "QRV3eqT5xYaF"
      },
      "source": [
        ""
      ],
      "execution_count": null,
      "outputs": []
    }
  ]
}